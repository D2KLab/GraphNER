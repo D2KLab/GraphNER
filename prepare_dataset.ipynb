{
 "cells": [
  {
   "cell_type": "markdown",
   "metadata": {},
   "source": [
    "# CoNLL 2003"
   ]
  },
  {
   "cell_type": "code",
   "execution_count": 2,
   "metadata": {},
   "outputs": [],
   "source": [
    "paths = {'train': 'data/eng.train', 'dev': 'data/eng.testa', 'test': 'data/eng.testb'}"
   ]
  },
  {
   "cell_type": "code",
   "execution_count": 8,
   "metadata": {},
   "outputs": [
    {
     "name": "stdout",
     "output_type": "stream",
     "text": [
      "train\n",
      "dev\n",
      "test\n"
     ]
    }
   ],
   "source": [
    "data, vocabulary = {}, {}\n",
    "\n",
    "for split, path in paths.items():\n",
    "    print(split)\n",
    "    data[split] = []\n",
    "    vocabulary[split] = set()\n",
    "    \n",
    "    with open(path) as file:\n",
    "        tokens, labels = [], []\n",
    "        \n",
    "        for line in file:\n",
    "            if line.startswith('-DOCSTART-'):\n",
    "                continue\n",
    "            elif line.strip():\n",
    "                token, _, _, label = line.split(' ')\n",
    "                vocabulary[split].add(token)\n",
    "                tokens.append(token)\n",
    "                labels.append(label)\n",
    "                \n",
    "            elif tokens and labels:\n",
    "                data[split].append((tokens, labels))\n",
    "                tokens, labels = [], []"
   ]
  },
  {
   "cell_type": "code",
   "execution_count": 10,
   "metadata": {},
   "outputs": [
    {
     "name": "stdout",
     "output_type": "stream",
     "text": [
      "train 23623 21009\n",
      "dev 9966 9002\n",
      "test 9488 8548\n"
     ]
    }
   ],
   "source": [
    "for s in vocabulary:\n",
    "    print(s, len(vocabulary[s]), len(set([t.lower() for t in vocabulary[s]])))"
   ]
  },
  {
   "cell_type": "code",
   "execution_count": 14,
   "metadata": {},
   "outputs": [
    {
     "name": "stdout",
     "output_type": "stream",
     "text": [
      "Number of tokens unique to the devset: 3260\n",
      "Number of tokens unique to the testset: 3693\n"
     ]
    }
   ],
   "source": [
    "print('Number of tokens unique to the devset:',len(set([t for t in vocabulary['dev'] if t not in vocabulary['train']])))\n",
    "print('Number of tokens unique to the testset:', len(set([t for t in vocabulary['test'] if t not in vocabulary['train']])))"
   ]
  },
  {
   "cell_type": "code",
   "execution_count": null,
   "metadata": {},
   "outputs": [],
   "source": []
  }
 ],
 "metadata": {
  "kernelspec": {
   "display_name": "Python 3",
   "language": "python",
   "name": "python3"
  },
  "language_info": {
   "codemirror_mode": {
    "name": "ipython",
    "version": 3
   },
   "file_extension": ".py",
   "mimetype": "text/x-python",
   "name": "python",
   "nbconvert_exporter": "python",
   "pygments_lexer": "ipython3",
   "version": "3.8.2"
  }
 },
 "nbformat": 4,
 "nbformat_minor": 4
}
