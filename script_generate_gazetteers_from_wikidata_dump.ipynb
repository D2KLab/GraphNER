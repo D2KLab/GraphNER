{
 "cells": [
  {
   "cell_type": "code",
   "execution_count": 1,
   "metadata": {},
   "outputs": [],
   "source": [
    "import time\n",
    "\n",
    "from qwikidata.entity import WikidataItem\n",
    "from qwikidata.json_dump import WikidataJsonDump\n",
    "from qwikidata.utils import dump_entities_to_json"
   ]
  },
  {
   "cell_type": "code",
   "execution_count": 2,
   "metadata": {},
   "outputs": [],
   "source": [
    "# create an instance of WikidataJsonDump\n",
    "wjd_dump_path = \"/data/wikidata_dump_202012/latest-all.json.bz2\"\n",
    "wjd = WikidataJsonDump(wjd_dump_path)"
   ]
  },
  {
   "cell_type": "code",
   "execution_count": 3,
   "metadata": {},
   "outputs": [],
   "source": [
    "classes = {\n",
    "    \"Organization\": \"Q43229\", #includes companies\n",
    "    \"Name\": \"Q82799\",\n",
    "    \"Artist\": \"Q483501\",\n",
    "    \"Geolocation\": \"Q2221906\",\n",
    "    \"City\": \"Q515\",\n",
    "    \"Capital\": \"Q5119\",\n",
    "    \"Town\": \"Q3957\",\n",
    "    \"Demonym\": \"Q217438\",\n",
    "    \"Product\": \"Q2424752\",\n",
    "    \"Brand\": \"Q431289\",\n",
    "    \"Georegion\": \"Q82794\",\n",
    "    \"Country\": \"Q6256\",\n",
    "}"
   ]
  },
  {
   "cell_type": "code",
   "execution_count": null,
   "metadata": {},
   "outputs": [],
   "source": [
    "P_OCCUPATION = \"P106\"\n",
    "Q_POLITICIAN = \"Q82955\"\n",
    "\n",
    "def has_occupation_politician(item: WikidataItem, truthy: bool = True) -> bool:\n",
    "    \"\"\"Return True if the Wikidata Item has occupation politician.\"\"\"\n",
    "    if truthy:\n",
    "        claim_group = item.get_truthy_claim_group(P_OCCUPATION)\n",
    "    else:\n",
    "        claim_group = item.get_claim_group(P_OCCUPATION)\n",
    "\n",
    "    occupation_qids = [\n",
    "        claim.mainsnak.datavalue.value[\"id\"]\n",
    "        for claim in claim_group\n",
    "        if claim.mainsnak.snaktype == \"value\"\n",
    "    ]\n",
    "    return Q_POLITICIAN in occupation_qids\n",
    "\n",
    "\n",
    "# create an iterable of WikidataItem representing politicians\n",
    "politicians = []\n",
    "t1 = time.time()\n",
    "for ii, entity_dict in enumerate(wjd):\n",
    "\n",
    "    if entity_dict[\"type\"] == \"item\":\n",
    "        entity = WikidataItem(entity_dict)\n",
    "        if has_occupation_politician(entity):\n",
    "            politicians.append(entity)\n",
    "\n",
    "    if ii % 1000 == 0:\n",
    "        t2 = time.time()\n",
    "        dt = t2 - t1\n",
    "        print(\n",
    "            \"found {} politicians among {} entities [entities/s: {:.2f}]\".format(\n",
    "                len(politicians), ii, ii / dt\n",
    "            )\n",
    "        )\n",
    "\n",
    "    if ii > 10000:\n",
    "        break\n",
    "\n",
    "# write the iterable of WikidataItem to disk as JSON\n",
    "out_fname = \"filtered_entities.json\"\n",
    "dump_entities_to_json(politicians, out_fname)\n",
    "wjd_filtered = WikidataJsonDump(out_fname)\n",
    "\n",
    "# load filtered entities and create instances of WikidataItem\n",
    "for ii, entity_dict in enumerate(wjd_filtered):\n",
    "    item = WikidataItem(entity_dict)\n"
   ]
  }
 ],
 "metadata": {
  "kernelspec": {
   "display_name": "Python 3",
   "language": "python",
   "name": "python3"
  },
  "language_info": {
   "codemirror_mode": {
    "name": "ipython",
    "version": 3
   },
   "file_extension": ".py",
   "mimetype": "text/x-python",
   "name": "python",
   "nbconvert_exporter": "python",
   "pygments_lexer": "ipython3",
   "version": "3.8.2"
  }
 },
 "nbformat": 4,
 "nbformat_minor": 4
}
