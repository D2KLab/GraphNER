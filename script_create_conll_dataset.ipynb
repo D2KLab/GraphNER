{
 "cells": [
  {
   "cell_type": "code",
   "execution_count": null,
   "metadata": {},
   "outputs": [],
   "source": [
    "import re\n",
    "import time\n",
    "import string\n",
    "import pickle\n",
    "import numpy as np\n",
    "import pandas as pd\n",
    "\n",
    "from datasets import load_dataset\n",
    "\n",
    "from tqdm.notebook import tqdm\n",
    "from collections import Counter\n",
    "\n",
    "from sklearn import metrics\n",
    "from sklearn.metrics import classification_report, f1_score"
   ]
  },
  {
   "cell_type": "code",
   "execution_count": null,
   "metadata": {},
   "outputs": [],
   "source": [
    "import torch\n",
    "from torch import nn\n",
    "from torch.nn import functional as F\n",
    "from torch.utils import data\n",
    "\n",
    "from torch.utils.data import DataLoader\n",
    "from torch.utils.tensorboard import SummaryWriter"
   ]
  },
  {
   "cell_type": "code",
   "execution_count": null,
   "metadata": {},
   "outputs": [],
   "source": [
    "dataset = pickle.load(open('conll_graph_all.pickle', 'rb'))\n",
    "print(', '.join([split + f' : {len(dataset[split])}' for split in dataset]))"
   ]
  },
  {
   "cell_type": "code",
   "execution_count": null,
   "metadata": {},
   "outputs": [],
   "source": [
    "word2labels = {}\n",
    "for split in dataset:\n",
    "    for doc in dataset[split]:\n",
    "        if doc['word'][0] not in word2labels:\n",
    "            word2labels[doc['word'][0]] = []\n",
    "        word2labels[doc['word'][0]].append(doc['label'])"
   ]
  },
  {
   "cell_type": "code",
   "execution_count": null,
   "metadata": {},
   "outputs": [],
   "source": [
    "word2labels"
   ]
  },
  {
   "cell_type": "code",
   "execution_count": null,
   "metadata": {
    "scrolled": true
   },
   "outputs": [],
   "source": [
    "counter = 0\n",
    "anticounter = 0\n",
    "for w in word2labels:\n",
    "    if len(set(word2labels[w])) > 1:\n",
    "        print(w, Counter(word2labels[w]).most_common())\n",
    "        counter += 1\n",
    "    else:\n",
    "        anticounter += 1"
   ]
  },
  {
   "cell_type": "code",
   "execution_count": null,
   "metadata": {},
   "outputs": [],
   "source": [
    "counter"
   ]
  },
  {
   "cell_type": "code",
   "execution_count": null,
   "metadata": {},
   "outputs": [],
   "source": [
    "word2categories = pickle.load(open('word2categories.pickle', 'rb'))"
   ]
  },
  {
   "cell_type": "code",
   "execution_count": null,
   "metadata": {},
   "outputs": [],
   "source": [
    "cn = pd.read_csv('../conceptnet_en.csv')\n",
    "cn_words = set([str(w).replace('_', '-') for w in cn.subject.unique().tolist()])"
   ]
  },
  {
   "cell_type": "code",
   "execution_count": null,
   "metadata": {},
   "outputs": [],
   "source": [
    "conll_dataset = load_dataset(\"conll2003\")"
   ]
  },
  {
   "cell_type": "code",
   "execution_count": null,
   "metadata": {},
   "outputs": [],
   "source": []
  },
  {
   "cell_type": "code",
   "execution_count": null,
   "metadata": {},
   "outputs": [],
   "source": [
    "all_tokens = []\n",
    "all_pos = []\n",
    "all_chunks = []\n",
    "\n",
    "for split in conll_dataset:\n",
    "    for doc in tqdm(conll_dataset[split], desc=f'Loading split {split}'):\n",
    "            for i, (token, pos, chunk, label) in enumerate(zip(doc['words'], doc['pos'], doc['chunk'], doc['ner'])):\n",
    "                all_tokens.append(token)\n",
    "                all_pos.append(pos)\n",
    "                all_chunks.append(chunk)"
   ]
  },
  {
   "cell_type": "code",
   "execution_count": null,
   "metadata": {},
   "outputs": [],
   "source": [
    "def replace_nums(s):\n",
    "    numbers = '0123456789'\n",
    "    nums = []\n",
    "    for c in s:\n",
    "        if c in numbers:\n",
    "            nums.append(c)\n",
    "        else:\n",
    "            break\n",
    "    if len(nums) < len(s):\n",
    "        return '<NUM>' + s[len(nums):]\n",
    "    else:\n",
    "        return s"
   ]
  },
  {
   "cell_type": "code",
   "execution_count": null,
   "metadata": {},
   "outputs": [],
   "source": [
    "replace_nums('1990s')"
   ]
  },
  {
   "cell_type": "code",
   "execution_count": null,
   "metadata": {},
   "outputs": [],
   "source": [
    "train_words = []\n",
    "all_words = []\n",
    "for split in conll_dataset:\n",
    "    for doc in tqdm(conll_dataset[split], desc=f'Loading split ' + split):\n",
    "        if split == 'train':\n",
    "            train_words.extend(doc['words'])\n",
    "        all_words.extend(doc['words'])"
   ]
  },
  {
   "cell_type": "code",
   "execution_count": null,
   "metadata": {},
   "outputs": [],
   "source": [
    "train_words_counter = Counter([w.lower() for w in train_words])\n",
    "all_words_counter = Counter([w.lower() for w in all_words])"
   ]
  },
  {
   "cell_type": "code",
   "execution_count": null,
   "metadata": {},
   "outputs": [],
   "source": [
    "[w for w in all_words_counter if w not in train_words_counter][:100]"
   ]
  },
  {
   "cell_type": "code",
   "execution_count": null,
   "metadata": {
    "scrolled": false
   },
   "outputs": [],
   "source": [
    "graph_dataset = {}\n",
    "\n",
    "non_alpha = ['!', '\"', '#', '$', '%', '&', \"'\", '(', ')', '*', '+', ',', '-', '.', '/', '`',\n",
    "             '0', '1', '2', '3', '4', '5', '6', '7', '8', '9', ':', ';', '=', '?', '@', '[', ']']\n",
    "\n",
    "vocabulary = {'word':set(), 'chunk': set(), 'pos':set(), 'classes':set(), 'extra':set()}\n",
    "labels = set()\n",
    "ignored = list()\n",
    "\n",
    "for split in conll_dataset:\n",
    "    graph_dataset[split] = []\n",
    "    print(split.upper())\n",
    "    for doc in tqdm(conll_dataset[split], desc=f'Loading split {split}'):\n",
    "        graph = []\n",
    "        doc = zip(doc['words'], doc['pos'], doc['chunk'], doc['ner'])\n",
    "        for i, (word, pos, chunk, label) in enumerate(doc):\n",
    "\n",
    "            if pos in [\":\", \"''\", ')', '.', '\"', '(', ',']:\n",
    "                continue\n",
    "            \n",
    "            for pos_prefix in ['WP', 'NN', 'VB', 'PR', 'JJ']:\n",
    "                pos = pos_prefix if pos.startswith(pos_prefix) else pos\n",
    "                    \n",
    "            pos = '<' + pos.upper() + '>'\n",
    "            chunk = '<' + chunk.split('-')[-1].upper() + '>'\n",
    "            gt_label = label\n",
    "            label = gt_label.split('-')[-1]\n",
    "\n",
    "            surface = word\n",
    "            word = surface.lower().replace('`', \"'\")\n",
    "            \n",
    "            if word.endswith('='):\n",
    "                word = word[:-1]\n",
    "\n",
    "            while word and word[0] in \"!$%&'*+,-.:;<=>?@`\":\n",
    "                word = word[1:]\n",
    "\n",
    "            \n",
    "            if all([c in non_alpha for c in word]):\n",
    "                word = '<NUM>'\n",
    "\n",
    "            if word not in cn_words and \\\n",
    "               word not in word2categories and \\\n",
    "               all_words_counter[word] < 3:\n",
    "                word = '<UNK>'\n",
    "                ignored.append(word)\n",
    "                        \n",
    "            if word[0] in '0123456789':\n",
    "                word = replace_nums(word)\n",
    "            \n",
    "            extra = []\n",
    "            if word.count('.') > 0 and (word.count('.') + 1) == len(word.split('.')): # C.J or C.J.\n",
    "                extra.append('<ACRONYM>')\n",
    "            if surface == surface.upper():\n",
    "                extra.append('<ALL CAPS>')\n",
    "            if surface[0] == surface[0].upper() and surface[1:] == surface[1:].lower(): \n",
    "                extra.append('<CAPITALIZED>')\n",
    "            \n",
    "            classes = []\n",
    "            # add classes only when the word is uppercased\n",
    "            if surface[0] == surface[0].upper() and word in word2categories:\n",
    "                classes = ['<'+l.upper()+'>' for l in word2categories[word]]\n",
    "            \n",
    "            graph.append({'word': [word], \n",
    "                          'label': label,\n",
    "                          'gt_label': gt_label,\n",
    "                          'surface': surface, \n",
    "                          'pos': [pos], \n",
    "                          'chunk': [chunk], \n",
    "                          'classes': classes,\n",
    "                          'extra': extra})\n",
    "            \n",
    "            labels.add(label)\n",
    "            vocabulary['word'].add(word)\n",
    "            vocabulary['pos'].add(pos)\n",
    "            vocabulary['chunk'].add(chunk)\n",
    "            for tag in classes: vocabulary['classes'].add(tag)\n",
    "            for tag in extra: vocabulary['extra'].add(tag)\n",
    "        \n",
    "        for i, node in enumerate(graph):\n",
    "            graph[i]['left_context'] = [n['word'][0] for n in graph[:i]]\n",
    "            graph[i]['right_context'] = [n['word'][0] for n in graph[i+1:]]\n",
    "        \n",
    "        graph_dataset[split].extend(graph)"
   ]
  },
  {
   "cell_type": "code",
   "execution_count": null,
   "metadata": {},
   "outputs": [],
   "source": [
    "graph_dataset['train'][2]"
   ]
  },
  {
   "cell_type": "code",
   "execution_count": null,
   "metadata": {},
   "outputs": [],
   "source": [
    "len(vocabulary['word'])"
   ]
  },
  {
   "cell_type": "code",
   "execution_count": null,
   "metadata": {},
   "outputs": [],
   "source": [
    "len(ignored)"
   ]
  },
  {
   "cell_type": "code",
   "execution_count": null,
   "metadata": {},
   "outputs": [],
   "source": [
    "len(vocabulary['word'])"
   ]
  },
  {
   "cell_type": "code",
   "execution_count": null,
   "metadata": {},
   "outputs": [],
   "source": [
    "pickle.dump(graph_dataset, open('conll_graph_all.pickle', 'wb'))"
   ]
  },
  {
   "cell_type": "code",
   "execution_count": null,
   "metadata": {},
   "outputs": [],
   "source": [
    "for key in vocabulary:\n",
    "    vocabulary[key] = sorted(vocabulary[key])"
   ]
  },
  {
   "cell_type": "code",
   "execution_count": null,
   "metadata": {},
   "outputs": [],
   "source": [
    "pickle.dump(vocabulary, open('vocabulary_all.pickle', 'wb'))"
   ]
  },
  {
   "cell_type": "code",
   "execution_count": null,
   "metadata": {},
   "outputs": [],
   "source": [
    "sorted(labels)"
   ]
  },
  {
   "cell_type": "code",
   "execution_count": null,
   "metadata": {},
   "outputs": [],
   "source": [
    "pickle.dump(sorted(labels), open('labels.pickle', 'wb'))"
   ]
  },
  {
   "cell_type": "code",
   "execution_count": null,
   "metadata": {},
   "outputs": [],
   "source": [
    "len(set(rare_words['test']).intersection(set(rare_words['train'])))"
   ]
  },
  {
   "cell_type": "code",
   "execution_count": null,
   "metadata": {},
   "outputs": [],
   "source": []
  },
  {
   "cell_type": "code",
   "execution_count": null,
   "metadata": {},
   "outputs": [],
   "source": [
    "len(set(all_tokens)), len(set(all_pos)), len(set(all_chunks))"
   ]
  },
  {
   "cell_type": "code",
   "execution_count": null,
   "metadata": {},
   "outputs": [],
   "source": [
    "print(set(all_pos))"
   ]
  },
  {
   "cell_type": "code",
   "execution_count": null,
   "metadata": {},
   "outputs": [],
   "source": [
    "Counter(all_pos).most_common()"
   ]
  },
  {
   "cell_type": "code",
   "execution_count": null,
   "metadata": {},
   "outputs": [],
   "source": [
    "print(set(all_chunks))"
   ]
  },
  {
   "cell_type": "code",
   "execution_count": null,
   "metadata": {},
   "outputs": [],
   "source": [
    "raw_voc = set([w.lower() for w in all_tokens])\n",
    "len(raw_voc)"
   ]
  },
  {
   "cell_type": "code",
   "execution_count": null,
   "metadata": {},
   "outputs": [],
   "source": [
    "oov_words = []\n",
    "non_alpha = ['!', '\"', '#', '$', '%', '&', \"'\", '(', ')', '*', '+', ',', '-', '.', '/', '`',\n",
    "             '0', '1', '2', '3', '4', '5', '6', '7', '8', '9', ':', ';', '=', '?', '@', '[', ']']\n",
    "probably_numbers = []\n",
    "\n",
    "for word in tqdm(raw_voc):\n",
    "    if word not in cn_words and word not in word2categories:\n",
    "        if all([c in non_alpha for c in word]):\n",
    "            probably_numbers.append(word)\n",
    "        else:\n",
    "            oov_words.append(word)"
   ]
  },
  {
   "cell_type": "code",
   "execution_count": null,
   "metadata": {},
   "outputs": [],
   "source": [
    "len(oov_words)"
   ]
  },
  {
   "cell_type": "code",
   "execution_count": null,
   "metadata": {},
   "outputs": [],
   "source": [
    "probably_numbers"
   ]
  },
  {
   "cell_type": "code",
   "execution_count": null,
   "metadata": {
    "scrolled": true
   },
   "outputs": [],
   "source": [
    "print(sorted(set([c for w in oov_words for c in w])))"
   ]
  },
  {
   "cell_type": "code",
   "execution_count": null,
   "metadata": {},
   "outputs": [],
   "source": [
    "print(sorted(set([c for w in oov_words for c in w])))"
   ]
  },
  {
   "cell_type": "code",
   "execution_count": null,
   "metadata": {},
   "outputs": [],
   "source": []
  },
  {
   "cell_type": "code",
   "execution_count": null,
   "metadata": {
    "scrolled": false
   },
   "outputs": [],
   "source": [
    "not_accounted = 0\n",
    "for w in sorted(oov_words):\n",
    "    if words_counter[w] > 10:\n",
    "        print(w, '\\t', words_counter[w])\n",
    "    else:\n",
    "        not_accounted +=1"
   ]
  }
 ],
 "metadata": {
  "kernelspec": {
   "display_name": "Python 3",
   "language": "python",
   "name": "python3"
  },
  "language_info": {
   "codemirror_mode": {
    "name": "ipython",
    "version": 3
   },
   "file_extension": ".py",
   "mimetype": "text/x-python",
   "name": "python",
   "nbconvert_exporter": "python",
   "pygments_lexer": "ipython3",
   "version": "3.8.2"
  }
 },
 "nbformat": 4,
 "nbformat_minor": 4
}
