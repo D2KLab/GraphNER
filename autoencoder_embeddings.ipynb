{
 "cells": [
  {
   "cell_type": "code",
   "execution_count": null,
   "metadata": {},
   "outputs": [],
   "source": [
    "import os\n",
    "import pickle\n",
    "import torch\n",
    "from torch import nn\n",
    "import torch.nn.functional as F\n",
    "from torchvision.datasets import MNIST\n",
    "from torch.utils.data import DataLoader, random_split\n",
    "from torchvision import transforms\n",
    "import pytorch_lightning as pl\n",
    "from tqdm.notebook import tqdm\n",
    "import numpy as np"
   ]
  },
  {
   "cell_type": "code",
   "execution_count": null,
   "metadata": {},
   "outputs": [],
   "source": [
    "import os\n",
    "os.environ[\"CUDA_VISIBLE_DEVICES\"]=\"0,1\""
   ]
  },
  {
   "cell_type": "code",
   "execution_count": null,
   "metadata": {},
   "outputs": [],
   "source": [
    "dataset = pickle.load(open('conll_graph_all.pickle', 'rb'))\n",
    "print(', '.join([split + f' : {len(dataset[split])}' for split in dataset]))\n",
    "vocabulary = pickle.load(open('vocabulary_all.pickle', 'rb'))\n",
    "print(', '.join([key + f' : {len(vocabulary[key])}' for key in vocabulary]))\n",
    "voc2id = {}\n",
    "for key in vocabulary:\n",
    "    voc2id[key] = {l: i for i, l in enumerate(vocabulary[key])}\n",
    "print('Ismail ID: ',voc2id['word']['ismail'], )\n",
    "labels = pickle.load(open('labels.pickle', 'rb'))\n",
    "label2id = {l: i for i, l in enumerate(labels)}\n",
    "print(label2id)"
   ]
  },
  {
   "cell_type": "code",
   "execution_count": null,
   "metadata": {},
   "outputs": [],
   "source": [
    "class Dataset(torch.utils.data.Dataset):\n",
    "    def __init__(self, dataset, split, voc2id=voc2id, label2id=label2id, context='all'):\n",
    "        X = []\n",
    "        Y = []\n",
    "        \n",
    "        for doc in tqdm(dataset[split], desc=split.upper()):\n",
    "            # Create the graph one-hot embedding\n",
    "            onehot = {}\n",
    "            for key in voc2id:\n",
    "                onehot[key] = np.zeros(len(voc2id[key]))\n",
    "                for v in doc[key]:\n",
    "                    onehot[key][voc2id[key][v]] = 1.\n",
    "            \n",
    "            onehot['left'] = np.zeros(len(voc2id['word']))\n",
    "            onehot['right'] = np.zeros(len(voc2id['word']))\n",
    "            \n",
    "            if context == 'all':\n",
    "                context = max(len(doc['left_context']), len(doc['right_context']))\n",
    "            \n",
    "            for w in doc['left_context'][-context:]:\n",
    "                onehot['left'][voc2id['word'][w]] = 1.\n",
    "            for w in doc['right_context'][:context]:\n",
    "                onehot['right'][voc2id['word'][w]] = 1.\n",
    "            \n",
    "            doc_embedding = np.concatenate([onehot['word'], onehot['left'], onehot['right'],\n",
    "                                            onehot['pos'], onehot['chunk'], onehot['extra'], onehot['classes']])\n",
    "            X.append(torch.tensor(doc_embedding))\n",
    "            Y.append(label2id[doc['label']])\n",
    "\n",
    "        self.X = X\n",
    "        self.Y = Y\n",
    "        self.X_len = len(X)\n",
    "        self.voc2id = voc2id\n",
    "        self.labels = sorted(label2id.keys())\n",
    "        self.label2id = label2id\n",
    "\n",
    "    def __len__(self):\n",
    "        return self.X_len\n",
    "\n",
    "    def __getitem__(self, index):\n",
    "        x = torch.tensor(self.X[index])\n",
    "        y = torch.tensor(self.Y[index])\n",
    "        \n",
    "        return x, y\n",
    "\n",
    "\n",
    "    def voc(self, key):\n",
    "        return self.voc2id[key]"
   ]
  },
  {
   "cell_type": "code",
   "execution_count": null,
   "metadata": {},
   "outputs": [],
   "source": [
    "train_set = Dataset(dataset, 'train', context=3)\n",
    "dev_set = Dataset(dataset, 'validation', context=3)\n",
    "test_set = Dataset(dataset, 'test', context=3)"
   ]
  },
  {
   "cell_type": "code",
   "execution_count": null,
   "metadata": {},
   "outputs": [],
   "source": [
    "len(train_set) - 50000"
   ]
  },
  {
   "cell_type": "code",
   "execution_count": null,
   "metadata": {},
   "outputs": [],
   "source": [
    "input_dim = train_set[0][0].numpy().shape[0]\n",
    "print(input_dim)"
   ]
  },
  {
   "cell_type": "code",
   "execution_count": null,
   "metadata": {},
   "outputs": [],
   "source": [
    "train, val = random_split(train_set, [128610, 50000], generator=torch.Generator().manual_seed(42))"
   ]
  },
  {
   "cell_type": "code",
   "execution_count": null,
   "metadata": {},
   "outputs": [],
   "source": [
    "train_data = train_set + dev_set + test_set"
   ]
  },
  {
   "cell_type": "code",
   "execution_count": null,
   "metadata": {},
   "outputs": [],
   "source": [
    "class LitAutoEncoder(pl.LightningModule):\n",
    "\n",
    "    def __init__(self, input_dim, embedding_dim=300):\n",
    "        super().__init__()\n",
    "        self.encoder = nn.Sequential(nn.Linear(input_dim, embedding_dim), \n",
    "                                     nn.ReLU(), \n",
    "                                     nn.Linear(embedding_dim, embedding_dim))\n",
    "        self.decoder = nn.Sequential(nn.Linear(embedding_dim, embedding_dim), \n",
    "                                     nn.ReLU(), \n",
    "                                     nn.Linear(embedding_dim, input_dim))\n",
    "    \n",
    "    def forward(self, x):\n",
    "        # in lightning, forward defines the prediction/inference actions\n",
    "        embedding = self.encoder(x)\n",
    "        return embedding\n",
    "\n",
    "    def training_step(self, batch, batch_idx):\n",
    "        # training_step defined the train loop. It is independent of forward\n",
    "        x, y = batch\n",
    "        x = x.float()\n",
    "        z = self.encoder(x)\n",
    "        x_hat = self.decoder(z)\n",
    "        loss = F.mse_loss(x_hat, x)\n",
    "        self.log('train_loss', loss)\n",
    "        return loss\n",
    "\n",
    "    def configure_optimizers(self):\n",
    "        optimizer = torch.optim.Adam(self.parameters(), lr=1e-3)\n",
    "        return optimizer"
   ]
  },
  {
   "cell_type": "code",
   "execution_count": null,
   "metadata": {},
   "outputs": [],
   "source": [
    "embedding_dim = 2000"
   ]
  },
  {
   "cell_type": "code",
   "execution_count": null,
   "metadata": {
    "scrolled": false
   },
   "outputs": [],
   "source": [
    "autoencoder = LitAutoEncoder(input_dim=input_dim, embedding_dim=embedding_dim)\n",
    "\n",
    "trainer = pl.Trainer(max_epochs=15, gpus=1)\n",
    "\n",
    "train_loader = DataLoader(train_data, batch_size=16)\n",
    "val_loader = DataLoader(val, batch_size=1)\n",
    "\n",
    "trainer.fit(autoencoder, train_loader, train_loader)"
   ]
  },
  {
   "cell_type": "code",
   "execution_count": null,
   "metadata": {},
   "outputs": [],
   "source": [
    "! ls /data/graphner_embeddings/ae_emb_npy_{embedding_dim}_15epochs/"
   ]
  },
  {
   "cell_type": "code",
   "execution_count": null,
   "metadata": {},
   "outputs": [],
   "source": [
    "! mkdir /data/graphner_embeddings/ae_emb_npy_{embedding_dim}_15epochs/\n",
    "! mkdir /data/graphner_embeddings/ae_emb_npy_{embedding_dim}_15epochs/train\n",
    "! mkdir /data/graphner_embeddings/ae_emb_npy_{embedding_dim}_15epochs/validation\n",
    "! mkdir /data/graphner_embeddings/ae_emb_npy_{embedding_dim}_15epochs/test"
   ]
  },
  {
   "cell_type": "code",
   "execution_count": null,
   "metadata": {},
   "outputs": [],
   "source": [
    "! ls /data/graphner_embeddings/ae_emb_npy_{embedding_dim}_15epochs/"
   ]
  },
  {
   "cell_type": "code",
   "execution_count": null,
   "metadata": {},
   "outputs": [],
   "source": [
    "%%time\n",
    "\n",
    "for split, dataset in {'train': train_set, 'validation': dev_set, 'test': test_set}.items():\n",
    "    for i, example in tqdm(enumerate(dataset), total=len(dataset)):\n",
    "        embedding = autoencoder(example[0].float()).detach().numpy()\n",
    "        label = example[1].item()\n",
    "        # print(embedding.shape, label)\n",
    "        pickle.dump((embedding, label), open(f'/data/graphner_embeddings/ae_emb_npy_{embedding_dim}_15epochs/{split}/{i}.pickle', 'wb'))"
   ]
  },
  {
   "cell_type": "code",
   "execution_count": null,
   "metadata": {},
   "outputs": [],
   "source": [
    "! ls -lsh /data/graphner_embeddings/autoencoder_embeddings_100_2epochs/"
   ]
  },
  {
   "cell_type": "code",
   "execution_count": null,
   "metadata": {},
   "outputs": [],
   "source": [
    "! ls /data/graphner_embeddings"
   ]
  },
  {
   "cell_type": "code",
   "execution_count": null,
   "metadata": {},
   "outputs": [],
   "source": [
    "! mkdir /data/graphner_embeddings/train"
   ]
  },
  {
   "cell_type": "code",
   "execution_count": null,
   "metadata": {},
   "outputs": [],
   "source": [
    "! mkdir /data/graphner_embeddings/evaluation"
   ]
  },
  {
   "cell_type": "code",
   "execution_count": null,
   "metadata": {},
   "outputs": [],
   "source": [
    "! mkdir /data/graphner_embeddings/test"
   ]
  },
  {
   "cell_type": "code",
   "execution_count": null,
   "metadata": {},
   "outputs": [],
   "source": []
  }
 ],
 "metadata": {
  "kernelspec": {
   "display_name": "Python 3",
   "language": "python",
   "name": "python3"
  },
  "language_info": {
   "codemirror_mode": {
    "name": "ipython",
    "version": 3
   },
   "file_extension": ".py",
   "mimetype": "text/x-python",
   "name": "python",
   "nbconvert_exporter": "python",
   "pygments_lexer": "ipython3",
   "version": "3.8.2"
  }
 },
 "nbformat": 4,
 "nbformat_minor": 4
}
