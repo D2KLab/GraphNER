{
 "cells": [
  {
   "cell_type": "code",
   "execution_count": 1,
   "metadata": {},
   "outputs": [],
   "source": [
    "# ! pip install sklearn"
   ]
  },
  {
   "cell_type": "code",
   "execution_count": 2,
   "metadata": {},
   "outputs": [],
   "source": [
    "# Batchsize = 1024, 5 epochs in "
   ]
  },
  {
   "cell_type": "code",
   "execution_count": 1,
   "metadata": {},
   "outputs": [],
   "source": [
    "import pandas as pd\n",
    "import numpy as np\n",
    "\n",
    "import torch\n",
    "import torch.nn as nn\n",
    "import matplotlib.pyplot as plt\n",
    "import torch.nn.functional as F\n",
    "\n",
    "from sklearn import preprocessing\n",
    "from sklearn.metrics import accuracy_score as accuracy\n",
    "from sklearn.metrics import f1_score as f1_score\n",
    "\n",
    "from tqdm.notebook import tqdm\n",
    "from matplotlib.pyplot import figure\n",
    "\n",
    "from sklearn.model_selection import train_test_split\n",
    "from sklearn.linear_model import LogisticRegression\n",
    "\n",
    "import os\n",
    "# os.environ[\"CUDA_DEVICE_ORDER\"]=\"PCI_BUS_ID\"   # see issue #152\n",
    "os.environ[\"CUDA_VISIBLE_DEVICES\"]=\"3\""
   ]
  },
  {
   "cell_type": "code",
   "execution_count": 2,
   "metadata": {},
   "outputs": [
    {
     "name": "stdout",
     "output_type": "stream",
     "text": [
      "Sun Jun 14 13:43:32 2020       \n",
      "+-----------------------------------------------------------------------------+\n",
      "| NVIDIA-SMI 440.82       Driver Version: 440.82       CUDA Version: 10.2     |\n",
      "|-------------------------------+----------------------+----------------------+\n",
      "| GPU  Name        Persistence-M| Bus-Id        Disp.A | Volatile Uncorr. ECC |\n",
      "| Fan  Temp  Perf  Pwr:Usage/Cap|         Memory-Usage | GPU-Util  Compute M. |\n",
      "|===============================+======================+======================|\n",
      "|   0  Tesla K80           Off  | 00000000:05:00.0 Off |                    0 |\n",
      "| N/A   26C    P0    56W / 149W |      0MiB / 11441MiB |      0%      Default |\n",
      "+-------------------------------+----------------------+----------------------+\n",
      "|   1  Tesla K80           Off  | 00000000:06:00.0 Off |                    0 |\n",
      "| N/A   28C    P0    70W / 149W |      0MiB / 11441MiB |      0%      Default |\n",
      "+-------------------------------+----------------------+----------------------+\n",
      "|   2  Tesla K80           Off  | 00000000:09:00.0 Off |                    0 |\n",
      "| N/A   23C    P0    57W / 149W |      0MiB / 11441MiB |      0%      Default |\n",
      "+-------------------------------+----------------------+----------------------+\n",
      "|   3  Tesla K80           Off  | 00000000:0A:00.0 Off |                    0 |\n",
      "| N/A   27C    P0    72W / 149W |      0MiB / 11441MiB |    100%      Default |\n",
      "+-------------------------------+----------------------+----------------------+\n",
      "                                                                               \n",
      "+-----------------------------------------------------------------------------+\n",
      "| Processes:                                                       GPU Memory |\n",
      "|  GPU       PID   Type   Process name                             Usage      |\n",
      "|=============================================================================|\n",
      "|  No running processes found                                                 |\n",
      "+-----------------------------------------------------------------------------+\n"
     ]
    }
   ],
   "source": [
    "! nvidia-smi"
   ]
  },
  {
   "cell_type": "code",
   "execution_count": 3,
   "metadata": {},
   "outputs": [],
   "source": [
    "from sklearn.metrics import precision_recall_curve, auc, log_loss\n",
    "\n",
    "def softmax(x):\n",
    "    return np.exp(x) / np.exp(x).sum(axis=1, keepdims=True)\n",
    "\n",
    "def compute_prauc(pred, gt):\n",
    "    prec, recall, thresh = precision_recall_curve(gt, pred)\n",
    "    prauc = auc(recall, prec)\n",
    "    return prauc\n",
    "def calculate_ctr(gt):\n",
    "    positive = len([x for x in gt if x == 1])\n",
    "    ctr = positive/float(len(gt))\n",
    "    return ctr\n",
    "def compute_rce(pred, gt):\n",
    "    cross_entropy = log_loss(gt, pred)\n",
    "    data_ctr = calculate_ctr(gt)\n",
    "    strawman_cross_entropy = log_loss(gt, [data_ctr for _ in range(len(gt))])\n",
    "    return (1.0 - cross_entropy/strawman_cross_entropy)*100.0"
   ]
  },
  {
   "cell_type": "code",
   "execution_count": 4,
   "metadata": {},
   "outputs": [],
   "source": [
    "np.random.seed(42)"
   ]
  },
  {
   "cell_type": "code",
   "execution_count": 6,
   "metadata": {},
   "outputs": [],
   "source": [
    "data_path = '/opt/recsys20_challenge/dataset/Training_20_M_Data.tsv'\n",
    "columns   = [\"text_tokens\", \"hashtags\", \"tweet_id\", \"present_media\", \"present_links\", \"present_domains\",\n",
    "             \"tweet_type\",\"language\", \"tweet_timestamp\", \"engaged_with_user_id\", \"engaged_with_user_follower_count\",\n",
    "             \"engaged_with_user_following_count\", \"engaged_with_user_is_verified\", \"engaged_with_user_account_creation\",\n",
    "             \"engaging_user_id\", \"engaging_user_follower_count\", \"engaging_user_following_count\", \"engaging_user_is_verified\",\n",
    "             \"engaging_user_account_creation\", \"engagee_follows_engager\", \"reply_timestamp\", \"retweet_timestamp\", \n",
    "             \"retweet_with_comment_timestamp\", \"like_timestamp\"]"
   ]
  },
  {
   "cell_type": "code",
   "execution_count": 7,
   "metadata": {},
   "outputs": [
    {
     "data": {
      "text/plain": [
       "24"
      ]
     },
     "execution_count": 7,
     "metadata": {},
     "output_type": "execute_result"
    }
   ],
   "source": [
    "len(columns)"
   ]
  },
  {
   "cell_type": "code",
   "execution_count": 8,
   "metadata": {},
   "outputs": [
    {
     "name": "stdout",
     "output_type": "stream",
     "text": [
      "CPU times: user 38.2 s, sys: 2.3 s, total: 40.5 s\n",
      "Wall time: 40.5 s\n"
     ]
    }
   ],
   "source": [
    "%%time\n",
    "colnames = [\"reply_timestamp\", \"retweet_timestamp\", \"retweet_with_comment_timestamp\", \"like_timestamp\"]\n",
    "df = pd.read_csv(data_path, sep='\\x01', encoding='utf-8', header=None, usecols=[20, 21, 22, 23], names=colnames)"
   ]
  },
  {
   "cell_type": "code",
   "execution_count": 9,
   "metadata": {},
   "outputs": [
    {
     "data": {
      "text/plain": [
       "20000000"
      ]
     },
     "execution_count": 9,
     "metadata": {},
     "output_type": "execute_result"
    }
   ],
   "source": [
    "len(df)"
   ]
  },
  {
   "cell_type": "code",
   "execution_count": 10,
   "metadata": {},
   "outputs": [],
   "source": [
    "labels_df = pd.DataFrame(index=df.index, columns=['id', 'like', 'reply', 'retweet', 'quote'])"
   ]
  },
  {
   "cell_type": "code",
   "execution_count": 11,
   "metadata": {},
   "outputs": [],
   "source": [
    "labels_df['id'] = df.index\n",
    "labels_df['like'] = 1 - np.isnan(df.like_timestamp).astype(int)\n",
    "labels_df['quote'] = 1 - np.isnan(df.retweet_with_comment_timestamp).astype(int)\n",
    "labels_df['retweet'] = 1 - np.isnan(df.retweet_timestamp).astype(int)\n",
    "labels_df['reply'] = 1 - np.isnan(df.reply_timestamp).astype(int)"
   ]
  },
  {
   "cell_type": "code",
   "execution_count": 12,
   "metadata": {},
   "outputs": [
    {
     "data": {
      "text/html": [
       "<div>\n",
       "<style scoped>\n",
       "    .dataframe tbody tr th:only-of-type {\n",
       "        vertical-align: middle;\n",
       "    }\n",
       "\n",
       "    .dataframe tbody tr th {\n",
       "        vertical-align: top;\n",
       "    }\n",
       "\n",
       "    .dataframe thead th {\n",
       "        text-align: right;\n",
       "    }\n",
       "</style>\n",
       "<table border=\"1\" class=\"dataframe\">\n",
       "  <thead>\n",
       "    <tr style=\"text-align: right;\">\n",
       "      <th></th>\n",
       "      <th>id</th>\n",
       "      <th>like</th>\n",
       "      <th>reply</th>\n",
       "      <th>retweet</th>\n",
       "      <th>quote</th>\n",
       "    </tr>\n",
       "  </thead>\n",
       "  <tbody>\n",
       "    <tr>\n",
       "      <th>0</th>\n",
       "      <td>0</td>\n",
       "      <td>1</td>\n",
       "      <td>0</td>\n",
       "      <td>0</td>\n",
       "      <td>0</td>\n",
       "    </tr>\n",
       "    <tr>\n",
       "      <th>1</th>\n",
       "      <td>1</td>\n",
       "      <td>0</td>\n",
       "      <td>0</td>\n",
       "      <td>0</td>\n",
       "      <td>0</td>\n",
       "    </tr>\n",
       "    <tr>\n",
       "      <th>2</th>\n",
       "      <td>2</td>\n",
       "      <td>1</td>\n",
       "      <td>0</td>\n",
       "      <td>0</td>\n",
       "      <td>0</td>\n",
       "    </tr>\n",
       "    <tr>\n",
       "      <th>3</th>\n",
       "      <td>3</td>\n",
       "      <td>1</td>\n",
       "      <td>0</td>\n",
       "      <td>0</td>\n",
       "      <td>0</td>\n",
       "    </tr>\n",
       "    <tr>\n",
       "      <th>4</th>\n",
       "      <td>4</td>\n",
       "      <td>1</td>\n",
       "      <td>0</td>\n",
       "      <td>0</td>\n",
       "      <td>0</td>\n",
       "    </tr>\n",
       "  </tbody>\n",
       "</table>\n",
       "</div>"
      ],
      "text/plain": [
       "   id  like  reply  retweet  quote\n",
       "0   0     1      0        0      0\n",
       "1   1     0      0        0      0\n",
       "2   2     1      0        0      0\n",
       "3   3     1      0        0      0\n",
       "4   4     1      0        0      0"
      ]
     },
     "execution_count": 12,
     "metadata": {},
     "output_type": "execute_result"
    }
   ],
   "source": [
    "labels_df.head()"
   ]
  },
  {
   "cell_type": "code",
   "execution_count": 13,
   "metadata": {},
   "outputs": [
    {
     "data": {
      "text/plain": [
       "id         1.000000e+07\n",
       "like       4.357225e-01\n",
       "reply      2.590265e-02\n",
       "retweet    1.099657e-01\n",
       "quote      7.356200e-03\n",
       "Name: mean, dtype: float64"
      ]
     },
     "execution_count": 13,
     "metadata": {},
     "output_type": "execute_result"
    }
   ],
   "source": [
    "labels_df.describe().loc['mean']"
   ]
  },
  {
   "cell_type": "code",
   "execution_count": 36,
   "metadata": {},
   "outputs": [
    {
     "name": "stdout",
     "output_type": "stream",
     "text": [
      "CPU times: user 0 ns, sys: 2.16 s, total: 2.16 s\n",
      "Wall time: 2.16 s\n"
     ]
    }
   ],
   "source": [
    "%%time\n",
    "tweet_features_train = np.load('/opt/recsys20_challenge/dataset/Data_Likes/XGBoost_Data/X_train_20_M.npy')\n",
    "tweet_features_test = np.load('/opt/recsys20_challenge/dataset/Data_Likes/XGBoost_Data/X_test_20_M.npy')\n",
    "l = ['present_domains', 'tweet_type', 'language',\n",
    "       'present_media', 'engagee_follows_engager', 'hashtags',\n",
    "       'engaging_user_follower_count', 'engaging_user_following_count',\n",
    "       'engaged_with_user_follower_count', 'engaged_with_user_following_count',\n",
    "       'users_int', 'authors_int',\n",
    "       'nb_likes', 'nb_reply', 'nb_retweet', 'nb_retweet_C',\n",
    "       'nb_likes_author', 'nb_reply_author', 'nb_retweet_author', 'nb_retweet_C_author',\n",
    "       'author_class',\n",
    "       'engaging_user_account_creation', 'engaged_with_user_account_creation',\n",
    "       'engaged_with_user_is_verified', 'engaging_user_is_verified']"
   ]
  },
  {
   "cell_type": "code",
   "execution_count": 42,
   "metadata": {},
   "outputs": [
    {
     "data": {
      "text/plain": [
       "(18000000, 28)"
      ]
     },
     "execution_count": 42,
     "metadata": {},
     "output_type": "execute_result"
    }
   ],
   "source": [
    "tweet_features_train.shape"
   ]
  },
  {
   "cell_type": "code",
   "execution_count": 28,
   "metadata": {},
   "outputs": [
    {
     "name": "stdout",
     "output_type": "stream",
     "text": [
      "CPU times: user 26.8 s, sys: 2.64 s, total: 29.4 s\n",
      "Wall time: 29.4 s\n"
     ]
    }
   ],
   "source": [
    "%%time\n",
    "tfidf_preds = pd.concat([pd.read_csv('~/recsys20_challenge/code_ismail/predictions/likes_20M_sgdc_tfidf.csv'),\n",
    "                         pd.read_csv('~/recsys20_challenge/code_ismail/predictions/quotes_20M_sgdc_tfidf.csv'),\n",
    "                         pd.read_csv('~/recsys20_challenge/code_ismail/predictions/replys_20M_sgdc_tfidf.csv'),\n",
    "                         pd.read_csv('~/recsys20_challenge/code_ismail/predictions/retweets_20M_sgdc_tfidf.csv')], axis=1)"
   ]
  },
  {
   "cell_type": "code",
   "execution_count": 29,
   "metadata": {},
   "outputs": [
    {
     "data": {
      "text/plain": [
       "(20000000, 16)"
      ]
     },
     "execution_count": 29,
     "metadata": {},
     "output_type": "execute_result"
    }
   ],
   "source": [
    "tfidf_preds.shape"
   ]
  },
  {
   "cell_type": "code",
   "execution_count": 355,
   "metadata": {},
   "outputs": [],
   "source": [
    "action = 'quote'"
   ]
  },
  {
   "cell_type": "code",
   "execution_count": 356,
   "metadata": {},
   "outputs": [],
   "source": [
    "tfidf_preds_cols = tfidf_preds[['no_'+action+'_softmax', action+'_softmax', action+'_prediction']]"
   ]
  },
  {
   "cell_type": "code",
   "execution_count": 357,
   "metadata": {},
   "outputs": [
    {
     "data": {
      "text/html": [
       "<div>\n",
       "<style scoped>\n",
       "    .dataframe tbody tr th:only-of-type {\n",
       "        vertical-align: middle;\n",
       "    }\n",
       "\n",
       "    .dataframe tbody tr th {\n",
       "        vertical-align: top;\n",
       "    }\n",
       "\n",
       "    .dataframe thead th {\n",
       "        text-align: right;\n",
       "    }\n",
       "</style>\n",
       "<table border=\"1\" class=\"dataframe\">\n",
       "  <thead>\n",
       "    <tr style=\"text-align: right;\">\n",
       "      <th></th>\n",
       "      <th>no_quote_softmax</th>\n",
       "      <th>quote_softmax</th>\n",
       "      <th>quote_prediction</th>\n",
       "    </tr>\n",
       "  </thead>\n",
       "  <tbody>\n",
       "    <tr>\n",
       "      <th>0</th>\n",
       "      <td>0.993613</td>\n",
       "      <td>0.006387</td>\n",
       "      <td>0</td>\n",
       "    </tr>\n",
       "    <tr>\n",
       "      <th>1</th>\n",
       "      <td>0.986777</td>\n",
       "      <td>0.013223</td>\n",
       "      <td>0</td>\n",
       "    </tr>\n",
       "    <tr>\n",
       "      <th>2</th>\n",
       "      <td>0.986925</td>\n",
       "      <td>0.013075</td>\n",
       "      <td>0</td>\n",
       "    </tr>\n",
       "    <tr>\n",
       "      <th>3</th>\n",
       "      <td>0.980357</td>\n",
       "      <td>0.019643</td>\n",
       "      <td>0</td>\n",
       "    </tr>\n",
       "    <tr>\n",
       "      <th>4</th>\n",
       "      <td>0.988843</td>\n",
       "      <td>0.011157</td>\n",
       "      <td>0</td>\n",
       "    </tr>\n",
       "  </tbody>\n",
       "</table>\n",
       "</div>"
      ],
      "text/plain": [
       "   no_quote_softmax  quote_softmax  quote_prediction\n",
       "0          0.993613       0.006387                 0\n",
       "1          0.986777       0.013223                 0\n",
       "2          0.986925       0.013075                 0\n",
       "3          0.980357       0.019643                 0\n",
       "4          0.988843       0.011157                 0"
      ]
     },
     "execution_count": 357,
     "metadata": {},
     "output_type": "execute_result"
    }
   ],
   "source": [
    "tfidf_preds_cols.head()"
   ]
  },
  {
   "cell_type": "code",
   "execution_count": 358,
   "metadata": {},
   "outputs": [
    {
     "data": {
      "text/plain": [
       "(20000000, 3)"
      ]
     },
     "execution_count": 358,
     "metadata": {},
     "output_type": "execute_result"
    }
   ],
   "source": [
    "tfidf_preds_cols.shape"
   ]
  },
  {
   "cell_type": "code",
   "execution_count": 359,
   "metadata": {},
   "outputs": [],
   "source": [
    "min_max_scaler = preprocessing.MinMaxScaler()\n",
    "tweet_features = np.concatenate([tweet_features_test, tweet_features_train])\n",
    "tweet_features = min_max_scaler.fit_transform(tweet_features).astype(float)\n",
    "tweet_features = np.nan_to_num(tweet_features)"
   ]
  },
  {
   "cell_type": "code",
   "execution_count": 360,
   "metadata": {},
   "outputs": [],
   "source": [
    "tweet_features = np.concatenate([tweet_features, tfidf_preds_cols.values], axis=1)"
   ]
  },
  {
   "cell_type": "code",
   "execution_count": 361,
   "metadata": {},
   "outputs": [
    {
     "data": {
      "text/plain": [
       "(20000000, 31)"
      ]
     },
     "execution_count": 361,
     "metadata": {},
     "output_type": "execute_result"
    }
   ],
   "source": [
    "tweet_features.shape"
   ]
  },
  {
   "cell_type": "code",
   "execution_count": 362,
   "metadata": {},
   "outputs": [
    {
     "data": {
      "text/html": [
       "<div>\n",
       "<style scoped>\n",
       "    .dataframe tbody tr th:only-of-type {\n",
       "        vertical-align: middle;\n",
       "    }\n",
       "\n",
       "    .dataframe tbody tr th {\n",
       "        vertical-align: top;\n",
       "    }\n",
       "\n",
       "    .dataframe thead th {\n",
       "        text-align: right;\n",
       "    }\n",
       "</style>\n",
       "<table border=\"1\" class=\"dataframe\">\n",
       "  <thead>\n",
       "    <tr style=\"text-align: right;\">\n",
       "      <th></th>\n",
       "      <th>0</th>\n",
       "      <th>1</th>\n",
       "      <th>2</th>\n",
       "      <th>3</th>\n",
       "      <th>4</th>\n",
       "      <th>5</th>\n",
       "      <th>6</th>\n",
       "      <th>7</th>\n",
       "      <th>8</th>\n",
       "      <th>9</th>\n",
       "      <th>...</th>\n",
       "      <th>21</th>\n",
       "      <th>22</th>\n",
       "      <th>23</th>\n",
       "      <th>24</th>\n",
       "      <th>25</th>\n",
       "      <th>26</th>\n",
       "      <th>27</th>\n",
       "      <th>28</th>\n",
       "      <th>29</th>\n",
       "      <th>30</th>\n",
       "    </tr>\n",
       "  </thead>\n",
       "  <tbody>\n",
       "    <tr>\n",
       "      <th>count</th>\n",
       "      <td>2.000000e+07</td>\n",
       "      <td>2.000000e+07</td>\n",
       "      <td>2.000000e+07</td>\n",
       "      <td>2.000000e+07</td>\n",
       "      <td>2.000000e+07</td>\n",
       "      <td>2.000000e+07</td>\n",
       "      <td>2.000000e+07</td>\n",
       "      <td>2.000000e+07</td>\n",
       "      <td>2.000000e+07</td>\n",
       "      <td>2.000000e+07</td>\n",
       "      <td>...</td>\n",
       "      <td>2.000000e+07</td>\n",
       "      <td>2.000000e+07</td>\n",
       "      <td>2.000000e+07</td>\n",
       "      <td>2.000000e+07</td>\n",
       "      <td>2.000000e+07</td>\n",
       "      <td>2.000000e+07</td>\n",
       "      <td>2.000000e+07</td>\n",
       "      <td>2.000000e+07</td>\n",
       "      <td>2.000000e+07</td>\n",
       "      <td>2.000000e+07</td>\n",
       "    </tr>\n",
       "    <tr>\n",
       "      <th>mean</th>\n",
       "      <td>5.163856e-01</td>\n",
       "      <td>6.531042e-01</td>\n",
       "      <td>4.481485e-01</td>\n",
       "      <td>3.762195e-01</td>\n",
       "      <td>3.330120e-01</td>\n",
       "      <td>4.855545e-01</td>\n",
       "      <td>1.228323e-05</td>\n",
       "      <td>3.273889e-04</td>\n",
       "      <td>1.309609e-02</td>\n",
       "      <td>1.270787e-03</td>\n",
       "      <td>...</td>\n",
       "      <td>6.483333e-05</td>\n",
       "      <td>5.854350e-04</td>\n",
       "      <td>1.360000e-05</td>\n",
       "      <td>9.179390e-01</td>\n",
       "      <td>8.800913e-01</td>\n",
       "      <td>2.761560e-01</td>\n",
       "      <td>2.224650e-03</td>\n",
       "      <td>9.920965e-01</td>\n",
       "      <td>7.903522e-03</td>\n",
       "      <td>1.000000e-06</td>\n",
       "    </tr>\n",
       "    <tr>\n",
       "      <th>std</th>\n",
       "      <td>9.915331e-02</td>\n",
       "      <td>4.647267e-01</td>\n",
       "      <td>1.106916e-01</td>\n",
       "      <td>2.128824e-01</td>\n",
       "      <td>4.712908e-01</td>\n",
       "      <td>7.968203e-02</td>\n",
       "      <td>4.739525e-04</td>\n",
       "      <td>9.999019e-04</td>\n",
       "      <td>6.324873e-02</td>\n",
       "      <td>1.067131e-02</td>\n",
       "      <td>...</td>\n",
       "      <td>4.835772e-03</td>\n",
       "      <td>1.002032e-02</td>\n",
       "      <td>2.250885e-03</td>\n",
       "      <td>6.447714e-02</td>\n",
       "      <td>7.270879e-02</td>\n",
       "      <td>4.470949e-01</td>\n",
       "      <td>4.711370e-02</td>\n",
       "      <td>5.803932e-03</td>\n",
       "      <td>5.803932e-03</td>\n",
       "      <td>9.999995e-04</td>\n",
       "    </tr>\n",
       "    <tr>\n",
       "      <th>min</th>\n",
       "      <td>0.000000e+00</td>\n",
       "      <td>0.000000e+00</td>\n",
       "      <td>0.000000e+00</td>\n",
       "      <td>0.000000e+00</td>\n",
       "      <td>0.000000e+00</td>\n",
       "      <td>0.000000e+00</td>\n",
       "      <td>0.000000e+00</td>\n",
       "      <td>0.000000e+00</td>\n",
       "      <td>0.000000e+00</td>\n",
       "      <td>0.000000e+00</td>\n",
       "      <td>...</td>\n",
       "      <td>0.000000e+00</td>\n",
       "      <td>0.000000e+00</td>\n",
       "      <td>0.000000e+00</td>\n",
       "      <td>0.000000e+00</td>\n",
       "      <td>0.000000e+00</td>\n",
       "      <td>0.000000e+00</td>\n",
       "      <td>0.000000e+00</td>\n",
       "      <td>4.642419e-01</td>\n",
       "      <td>1.910529e-04</td>\n",
       "      <td>0.000000e+00</td>\n",
       "    </tr>\n",
       "    <tr>\n",
       "      <th>25%</th>\n",
       "      <td>5.488460e-01</td>\n",
       "      <td>0.000000e+00</td>\n",
       "      <td>4.333993e-01</td>\n",
       "      <td>2.223074e-01</td>\n",
       "      <td>0.000000e+00</td>\n",
       "      <td>4.941370e-01</td>\n",
       "      <td>5.718904e-07</td>\n",
       "      <td>6.682946e-05</td>\n",
       "      <td>1.208472e-05</td>\n",
       "      <td>4.452404e-05</td>\n",
       "      <td>...</td>\n",
       "      <td>0.000000e+00</td>\n",
       "      <td>0.000000e+00</td>\n",
       "      <td>0.000000e+00</td>\n",
       "      <td>8.661187e-01</td>\n",
       "      <td>8.145096e-01</td>\n",
       "      <td>0.000000e+00</td>\n",
       "      <td>0.000000e+00</td>\n",
       "      <td>9.902614e-01</td>\n",
       "      <td>4.762428e-03</td>\n",
       "      <td>0.000000e+00</td>\n",
       "    </tr>\n",
       "    <tr>\n",
       "      <th>50%</th>\n",
       "      <td>5.488460e-01</td>\n",
       "      <td>1.000000e+00</td>\n",
       "      <td>4.333993e-01</td>\n",
       "      <td>2.223074e-01</td>\n",
       "      <td>0.000000e+00</td>\n",
       "      <td>4.941370e-01</td>\n",
       "      <td>2.173183e-06</td>\n",
       "      <td>1.495707e-04</td>\n",
       "      <td>1.547873e-04</td>\n",
       "      <td>1.241276e-04</td>\n",
       "      <td>...</td>\n",
       "      <td>0.000000e+00</td>\n",
       "      <td>0.000000e+00</td>\n",
       "      <td>0.000000e+00</td>\n",
       "      <td>9.329136e-01</td>\n",
       "      <td>8.769896e-01</td>\n",
       "      <td>0.000000e+00</td>\n",
       "      <td>0.000000e+00</td>\n",
       "      <td>9.931014e-01</td>\n",
       "      <td>6.898592e-03</td>\n",
       "      <td>0.000000e+00</td>\n",
       "    </tr>\n",
       "    <tr>\n",
       "      <th>75%</th>\n",
       "      <td>5.488460e-01</td>\n",
       "      <td>1.000000e+00</td>\n",
       "      <td>5.083510e-01</td>\n",
       "      <td>5.708352e-01</td>\n",
       "      <td>1.000000e+00</td>\n",
       "      <td>4.941370e-01</td>\n",
       "      <td>6.505253e-06</td>\n",
       "      <td>3.235395e-04</td>\n",
       "      <td>2.134868e-03</td>\n",
       "      <td>3.310070e-04</td>\n",
       "      <td>...</td>\n",
       "      <td>0.000000e+00</td>\n",
       "      <td>0.000000e+00</td>\n",
       "      <td>0.000000e+00</td>\n",
       "      <td>9.760732e-01</td>\n",
       "      <td>9.479869e-01</td>\n",
       "      <td>1.000000e+00</td>\n",
       "      <td>0.000000e+00</td>\n",
       "      <td>9.952376e-01</td>\n",
       "      <td>9.738621e-03</td>\n",
       "      <td>0.000000e+00</td>\n",
       "    </tr>\n",
       "    <tr>\n",
       "      <th>max</th>\n",
       "      <td>1.000000e+00</td>\n",
       "      <td>1.000000e+00</td>\n",
       "      <td>1.000000e+00</td>\n",
       "      <td>1.000000e+00</td>\n",
       "      <td>1.000000e+00</td>\n",
       "      <td>1.000000e+00</td>\n",
       "      <td>1.000000e+00</td>\n",
       "      <td>1.000000e+00</td>\n",
       "      <td>1.000000e+00</td>\n",
       "      <td>1.000000e+00</td>\n",
       "      <td>...</td>\n",
       "      <td>1.000000e+00</td>\n",
       "      <td>1.000000e+00</td>\n",
       "      <td>1.000000e+00</td>\n",
       "      <td>1.000000e+00</td>\n",
       "      <td>1.000000e+00</td>\n",
       "      <td>1.000000e+00</td>\n",
       "      <td>1.000000e+00</td>\n",
       "      <td>9.998089e-01</td>\n",
       "      <td>5.357581e-01</td>\n",
       "      <td>1.000000e+00</td>\n",
       "    </tr>\n",
       "  </tbody>\n",
       "</table>\n",
       "<p>8 rows × 31 columns</p>\n",
       "</div>"
      ],
      "text/plain": [
       "                 0             1             2             3             4   \\\n",
       "count  2.000000e+07  2.000000e+07  2.000000e+07  2.000000e+07  2.000000e+07   \n",
       "mean   5.163856e-01  6.531042e-01  4.481485e-01  3.762195e-01  3.330120e-01   \n",
       "std    9.915331e-02  4.647267e-01  1.106916e-01  2.128824e-01  4.712908e-01   \n",
       "min    0.000000e+00  0.000000e+00  0.000000e+00  0.000000e+00  0.000000e+00   \n",
       "25%    5.488460e-01  0.000000e+00  4.333993e-01  2.223074e-01  0.000000e+00   \n",
       "50%    5.488460e-01  1.000000e+00  4.333993e-01  2.223074e-01  0.000000e+00   \n",
       "75%    5.488460e-01  1.000000e+00  5.083510e-01  5.708352e-01  1.000000e+00   \n",
       "max    1.000000e+00  1.000000e+00  1.000000e+00  1.000000e+00  1.000000e+00   \n",
       "\n",
       "                 5             6             7             8             9   \\\n",
       "count  2.000000e+07  2.000000e+07  2.000000e+07  2.000000e+07  2.000000e+07   \n",
       "mean   4.855545e-01  1.228323e-05  3.273889e-04  1.309609e-02  1.270787e-03   \n",
       "std    7.968203e-02  4.739525e-04  9.999019e-04  6.324873e-02  1.067131e-02   \n",
       "min    0.000000e+00  0.000000e+00  0.000000e+00  0.000000e+00  0.000000e+00   \n",
       "25%    4.941370e-01  5.718904e-07  6.682946e-05  1.208472e-05  4.452404e-05   \n",
       "50%    4.941370e-01  2.173183e-06  1.495707e-04  1.547873e-04  1.241276e-04   \n",
       "75%    4.941370e-01  6.505253e-06  3.235395e-04  2.134868e-03  3.310070e-04   \n",
       "max    1.000000e+00  1.000000e+00  1.000000e+00  1.000000e+00  1.000000e+00   \n",
       "\n",
       "       ...            21            22            23            24  \\\n",
       "count  ...  2.000000e+07  2.000000e+07  2.000000e+07  2.000000e+07   \n",
       "mean   ...  6.483333e-05  5.854350e-04  1.360000e-05  9.179390e-01   \n",
       "std    ...  4.835772e-03  1.002032e-02  2.250885e-03  6.447714e-02   \n",
       "min    ...  0.000000e+00  0.000000e+00  0.000000e+00  0.000000e+00   \n",
       "25%    ...  0.000000e+00  0.000000e+00  0.000000e+00  8.661187e-01   \n",
       "50%    ...  0.000000e+00  0.000000e+00  0.000000e+00  9.329136e-01   \n",
       "75%    ...  0.000000e+00  0.000000e+00  0.000000e+00  9.760732e-01   \n",
       "max    ...  1.000000e+00  1.000000e+00  1.000000e+00  1.000000e+00   \n",
       "\n",
       "                 25            26            27            28            29  \\\n",
       "count  2.000000e+07  2.000000e+07  2.000000e+07  2.000000e+07  2.000000e+07   \n",
       "mean   8.800913e-01  2.761560e-01  2.224650e-03  9.920965e-01  7.903522e-03   \n",
       "std    7.270879e-02  4.470949e-01  4.711370e-02  5.803932e-03  5.803932e-03   \n",
       "min    0.000000e+00  0.000000e+00  0.000000e+00  4.642419e-01  1.910529e-04   \n",
       "25%    8.145096e-01  0.000000e+00  0.000000e+00  9.902614e-01  4.762428e-03   \n",
       "50%    8.769896e-01  0.000000e+00  0.000000e+00  9.931014e-01  6.898592e-03   \n",
       "75%    9.479869e-01  1.000000e+00  0.000000e+00  9.952376e-01  9.738621e-03   \n",
       "max    1.000000e+00  1.000000e+00  1.000000e+00  9.998089e-01  5.357581e-01   \n",
       "\n",
       "                 30  \n",
       "count  2.000000e+07  \n",
       "mean   1.000000e-06  \n",
       "std    9.999995e-04  \n",
       "min    0.000000e+00  \n",
       "25%    0.000000e+00  \n",
       "50%    0.000000e+00  \n",
       "75%    0.000000e+00  \n",
       "max    1.000000e+00  \n",
       "\n",
       "[8 rows x 31 columns]"
      ]
     },
     "execution_count": 362,
     "metadata": {},
     "output_type": "execute_result"
    }
   ],
   "source": [
    "pd.DataFrame(tweet_features).describe()"
   ]
  },
  {
   "cell_type": "code",
   "execution_count": 363,
   "metadata": {},
   "outputs": [],
   "source": [
    "import torch\n",
    "from torch.utils import data\n",
    "\n",
    "class Dataset(data.Dataset):\n",
    "    'Characterizes a dataset for PyTorch'\n",
    "    def __init__(self, list_IDs, extra_features, labels):\n",
    "        'Initialization'\n",
    "        self.labels = labels\n",
    "        self.list_IDs = list_IDs\n",
    "        self.extra_features = extra_features\n",
    "        assert(len(labels) == len(extra_features))\n",
    "\n",
    "    def __len__(self):\n",
    "        'Denotes the total number of samples'\n",
    "        return len(self.list_IDs)\n",
    "\n",
    "    def __getitem__(self, index):\n",
    "        'Generates one sample of data'\n",
    "        # Select sample\n",
    "        ID = self.list_IDs[index]\n",
    "\n",
    "        # Load data and get label\n",
    "        # X = np.load(f'/opt/recsys20_challenge/bert_embeddings/train_2M/avg/{ID}_avg.npy')\n",
    "        # if np.sum(np.isnan(X)) > 0:  X = np.zeros(X.shape, X.dtype)\n",
    "        # X = torch.tensor(X) # .to('cuda')\n",
    "        T = torch.tensor(self.extra_features[ID]).float()\n",
    "        y = self.labels[ID]\n",
    "\n",
    "        return T, y"
   ]
  },
  {
   "cell_type": "code",
   "execution_count": null,
   "metadata": {},
   "outputs": [],
   "source": []
  },
  {
   "cell_type": "code",
   "execution_count": 364,
   "metadata": {},
   "outputs": [
    {
     "name": "stdout",
     "output_type": "stream",
     "text": [
      "Device: cuda\n"
     ]
    }
   ],
   "source": [
    "# CUDA for PyTorch\n",
    "use_cuda = torch.cuda.is_available()\n",
    "device = torch.device(\"cuda\" if use_cuda else \"cpu\")\n",
    "print('Device:', device)\n",
    "torch.backends.cudnn.benchmark = True"
   ]
  },
  {
   "cell_type": "code",
   "execution_count": 365,
   "metadata": {},
   "outputs": [
    {
     "data": {
      "text/plain": [
       "array([1, 0, 1, ..., 1, 1, 1])"
      ]
     },
     "execution_count": 365,
     "metadata": {},
     "output_type": "execute_result"
    }
   ],
   "source": [
    "labels_df.values[:, 1]"
   ]
  },
  {
   "cell_type": "code",
   "execution_count": 366,
   "metadata": {},
   "outputs": [
    {
     "data": {
      "text/plain": [
       "array([0, 0, 0, ..., 0, 0, 0])"
      ]
     },
     "execution_count": 366,
     "metadata": {},
     "output_type": "execute_result"
    }
   ],
   "source": [
    "labels_df[action].values"
   ]
  },
  {
   "cell_type": "code",
   "execution_count": 367,
   "metadata": {},
   "outputs": [],
   "source": [
    "# from tqdm.notebook import tqdm \n",
    "params = {'batch_size': 512,\n",
    "          'shuffle': True,\n",
    "          'num_workers': 16}\n",
    "\n",
    "# Datasets\n",
    "list_IDs  = labels_df.values[:, 0]\n",
    "labels    = labels_df[action].values\n",
    "oh_labels = np.eye(2)[labels].astype(int)\n",
    "\n",
    "test_len = int(0.1*len(labels_df))\n",
    "train_IDs, val_IDs = list_IDs[test_len:], list_IDs[:test_len]\n",
    "train_df = labels_df.iloc[train_IDs]\n",
    "\n",
    "pos = list(train_df[train_df[action] == 1].index)\n",
    "neg = list(np.random.choice(train_df[train_df[action] == 0].index, len(pos), replace=False))\n",
    "train_balanced_IDs = pos + neg\n",
    "small_IDs = train_IDs[:10000]\n",
    "partition = {'train': train_IDs, 'validation': val_IDs, 'balanced': train_balanced_IDs, 'small': small_IDs}\n",
    "\n",
    "# Generators\n",
    "training_set = Dataset(partition['train'], tweet_features, labels)\n",
    "training_generator = data.DataLoader(training_set, **params)\n",
    "\n",
    "validation_set = Dataset(partition['validation'], tweet_features, labels)\n",
    "validation_generator = data.DataLoader(validation_set, **params)"
   ]
  },
  {
   "cell_type": "code",
   "execution_count": 368,
   "metadata": {},
   "outputs": [],
   "source": [
    "training_eval_set = Dataset(partition['train'], tweet_features, labels)\n",
    "training_eval_generator = data.DataLoader(training_set, **{'batch_size': 1024,\n",
    "                                                          'shuffle': False,\n",
    "                                                          'num_workers': 32})"
   ]
  },
  {
   "cell_type": "code",
   "execution_count": 369,
   "metadata": {},
   "outputs": [
    {
     "name": "stdout",
     "output_type": "stream",
     "text": [
      "0 :\t 19852876\n",
      "1 :\t 147124\n"
     ]
    }
   ],
   "source": [
    "print(0, ':\\t', len(labels) - np.count_nonzero(labels))\n",
    "print(1, ':\\t', np.count_nonzero(labels))"
   ]
  },
  {
   "cell_type": "code",
   "execution_count": 370,
   "metadata": {
    "scrolled": false
   },
   "outputs": [
    {
     "name": "stdout",
     "output_type": "stream",
     "text": [
      "torch.Size([512, 31])\n",
      "torch.Size([512])\n",
      "tensor([ 0.0609, -0.5045, -0.1694,  0.0894,  0.5763,  0.0122, -0.1973,  0.4256,\n",
      "        -0.2736, -0.1927])\n",
      "tensor([5.4885e-01, 1.0000e+00, 4.1039e-01, 2.2231e-01, 1.0000e+00, 0.0000e+00,\n",
      "        2.4162e-06, 1.5700e-04, 4.7807e-05, 6.9664e-04])\n"
     ]
    }
   ],
   "source": [
    "# Training\n",
    "for local_features, local_labels in validation_generator:\n",
    "    # Transfer to GPU\n",
    "    # print(local_emnbeddings.shape)\n",
    "    print(local_features.shape)\n",
    "    print(local_labels.shape)\n",
    "    print(local_emnbeddings[0][:10])\n",
    "    print(local_features[0][:10])\n",
    "    break"
   ]
  },
  {
   "cell_type": "markdown",
   "metadata": {},
   "source": [
    "# fc with MeanSquareLoss"
   ]
  },
  {
   "cell_type": "markdown",
   "metadata": {},
   "source": [
    "Following this example: https://github.com/pytorch/examples/blob/master/mnist/main.py"
   ]
  },
  {
   "cell_type": "code",
   "execution_count": 371,
   "metadata": {},
   "outputs": [],
   "source": [
    "def backprop(T, y, model, optimizer, loss_fn):\n",
    "    # print(X[0][:10])\n",
    "    # print(output.shape, y.shape)\n",
    "    # print(output[0], y[0])\n",
    "\n",
    "    output = model(T)\n",
    "    loss = loss_fn(output, y)\n",
    "    loss.backward()\n",
    "    optimizer.step()\n",
    "    \n",
    "    return loss.item()"
   ]
  },
  {
   "cell_type": "code",
   "execution_count": 372,
   "metadata": {},
   "outputs": [],
   "source": [
    "class FeedForwardNetwork(nn.Module):\n",
    "    def __init__(self, tweet_dim, hidden_dim, output_dim, dropout_rate=0.2):\n",
    "        super().__init__()\n",
    "        torch.manual_seed(42)\n",
    "        self.fc1 = nn.Linear(tweet_dim, hidden_dim)\n",
    "        self.fc2 = nn.Linear(hidden_dim, output_dim)\n",
    "        self.relu = nn.ReLU()\n",
    "\n",
    "        # extra layers layers\n",
    "        self.dropout = nn.Dropout(p=dropout_rate)\n",
    "        self.batchnorm1 = nn.BatchNorm1d(hidden_dim)\n",
    "        self.batchnorm2 = nn.BatchNorm1d(hidden_dim)\n",
    "\n",
    "        \n",
    "    def forward(self, t):\n",
    "        x = self.fc1(t)\n",
    "        x = self.dropout(x)\n",
    "        x = self.relu(x)\n",
    "        \n",
    "        logits = self.fc2(x)\n",
    "\n",
    "        return logits"
   ]
  },
  {
   "cell_type": "code",
   "execution_count": 392,
   "metadata": {},
   "outputs": [
    {
     "name": "stdout",
     "output_type": "stream",
     "text": [
      "CPU times: user 69.4 ms, sys: 23.7 ms, total: 93.1 ms\n",
      "Wall time: 90 ms\n"
     ]
    }
   ],
   "source": [
    "%%time\n",
    "model_params = {'tweet_dim': 31,\n",
    "                'hidden_dim': 100,\n",
    "                'dropout_rate': 0.2,\n",
    "                'output_dim': 2}\n",
    "\n",
    "train_losses = {}\n",
    "val_results  = {}\n",
    "\n",
    "log_interval = 10000\n",
    "\n",
    "ffnet     = FeedForwardNetwork(**model_params).to('cuda')"
   ]
  },
  {
   "cell_type": "code",
   "execution_count": 393,
   "metadata": {},
   "outputs": [],
   "source": [
    "weights = np.power(labels_df.iloc[train_IDs][action].value_counts().values, 1)\n",
    "weights = max(weights) * 1 / weights\n",
    "weights = torch.Tensor(weights).to('cuda')\n",
    "weights = torch.Tensor([1, 5.]).to('cuda')"
   ]
  },
  {
   "cell_type": "code",
   "execution_count": 394,
   "metadata": {},
   "outputs": [],
   "source": [
    "optimizer_params = {'lr': 1.,\n",
    "                    #'momentum': 0.9,}\n",
    "                    'weight_decay': 1e-6}\n",
    "\n",
    "loss_fn   = nn.CrossEntropyLoss() #(weight=weights) \n",
    "optimizer = torch.optim.SGD(ffnet.parameters(), **optimizer_params)\n",
    "# optimizer = torch.optim.SGD(ffnet.parameters(), lr=learning_rate)#, momentum=0.9)"
   ]
  },
  {
   "cell_type": "code",
   "execution_count": 395,
   "metadata": {},
   "outputs": [],
   "source": [
    "# learning_rate = 0.001 #3e-4"
   ]
  },
  {
   "cell_type": "code",
   "execution_count": 396,
   "metadata": {
    "scrolled": false
   },
   "outputs": [
    {
     "name": "stdout",
     "output_type": "stream",
     "text": [
      "Epoch 0\n"
     ]
    },
    {
     "data": {
      "application/vnd.jupyter.widget-view+json": {
       "model_id": "e877524e666c4fb5a54c9202d3938efa",
       "version_major": 2,
       "version_minor": 0
      },
      "text/plain": [
       "HBox(children=(FloatProgress(value=0.0, max=35157.0), HTML(value='')))"
      ]
     },
     "metadata": {},
     "output_type": "display_data"
    },
    {
     "name": "stdout",
     "output_type": "stream",
     "text": [
      "Train Epoch: 0 [0/18000000 (0%)]\tLoss: 0.657161\n",
      "Train Epoch: 0 [5120000/18000000 (28%)]\tLoss: 0.015991\n",
      "Train Epoch: 0 [10240000/18000000 (57%)]\tLoss: 0.031710\n",
      "Train Epoch: 0 [15360000/18000000 (85%)]\tLoss: 0.026430\n",
      "\n",
      "Average loss on epoch 0: 0.04175445936234085\n"
     ]
    },
    {
     "data": {
      "application/vnd.jupyter.widget-view+json": {
       "model_id": "80a17cd13d6848548b9186932869c3f4",
       "version_major": 2,
       "version_minor": 0
      },
      "text/plain": [
       "HBox(children=(FloatProgress(value=0.0, max=3907.0), HTML(value='')))"
      ]
     },
     "metadata": {},
     "output_type": "display_data"
    },
    {
     "name": "stdout",
     "output_type": "stream",
     "text": [
      "\n",
      "PRAUC: 5.015661853912621\n",
      "RCE: -27.794818690326917\n",
      "Epoch 1\n"
     ]
    },
    {
     "data": {
      "application/vnd.jupyter.widget-view+json": {
       "model_id": "b946ff8393c949438d3ba98c3d3a1ed6",
       "version_major": 2,
       "version_minor": 0
      },
      "text/plain": [
       "HBox(children=(FloatProgress(value=0.0, max=35157.0), HTML(value='')))"
      ]
     },
     "metadata": {},
     "output_type": "display_data"
    },
    {
     "name": "stdout",
     "output_type": "stream",
     "text": [
      "Train Epoch: 1 [0/18000000 (0%)]\tLoss: 0.048488\n",
      "Train Epoch: 1 [5120000/18000000 (28%)]\tLoss: 0.086476\n",
      "Train Epoch: 1 [10240000/18000000 (57%)]\tLoss: 0.026735\n",
      "Train Epoch: 1 [15360000/18000000 (85%)]\tLoss: 0.013907\n",
      "\n",
      "Average loss on epoch 1: 0.03968061428668443\n"
     ]
    },
    {
     "data": {
      "application/vnd.jupyter.widget-view+json": {
       "model_id": "160ff2b8319644b8b645f09a72a3d2cb",
       "version_major": 2,
       "version_minor": 0
      },
      "text/plain": [
       "HBox(children=(FloatProgress(value=0.0, max=3907.0), HTML(value='')))"
      ]
     },
     "metadata": {},
     "output_type": "display_data"
    },
    {
     "name": "stdout",
     "output_type": "stream",
     "text": [
      "\n",
      "PRAUC: 5.821182040100561\n",
      "RCE: -0.35925864443779876\n",
      "Epoch 2\n"
     ]
    },
    {
     "data": {
      "application/vnd.jupyter.widget-view+json": {
       "model_id": "406342682ec048ce803bb5d527ae1c24",
       "version_major": 2,
       "version_minor": 0
      },
      "text/plain": [
       "HBox(children=(FloatProgress(value=0.0, max=35157.0), HTML(value='')))"
      ]
     },
     "metadata": {},
     "output_type": "display_data"
    },
    {
     "name": "stdout",
     "output_type": "stream",
     "text": [
      "Train Epoch: 2 [0/18000000 (0%)]\tLoss: 0.036898\n",
      "Train Epoch: 2 [5120000/18000000 (28%)]\tLoss: 0.028129\n",
      "Train Epoch: 2 [10240000/18000000 (57%)]\tLoss: 0.068539\n",
      "Train Epoch: 2 [15360000/18000000 (85%)]\tLoss: 0.012300\n",
      "\n",
      "Average loss on epoch 2: 0.03868282060859552\n"
     ]
    },
    {
     "data": {
      "application/vnd.jupyter.widget-view+json": {
       "model_id": "65013f196a6048e0b1c9e609965e6340",
       "version_major": 2,
       "version_minor": 0
      },
      "text/plain": [
       "HBox(children=(FloatProgress(value=0.0, max=3907.0), HTML(value='')))"
      ]
     },
     "metadata": {},
     "output_type": "display_data"
    },
    {
     "name": "stdout",
     "output_type": "stream",
     "text": [
      "\n",
      "PRAUC: 6.25670596705325\n",
      "RCE: 3.202074311800407\n",
      "Epoch 3\n"
     ]
    },
    {
     "data": {
      "application/vnd.jupyter.widget-view+json": {
       "model_id": "c9498975cf6d4a02a4e95d652278aa2c",
       "version_major": 2,
       "version_minor": 0
      },
      "text/plain": [
       "HBox(children=(FloatProgress(value=0.0, max=35157.0), HTML(value='')))"
      ]
     },
     "metadata": {},
     "output_type": "display_data"
    },
    {
     "name": "stdout",
     "output_type": "stream",
     "text": [
      "Train Epoch: 3 [0/18000000 (0%)]\tLoss: 0.047885\n",
      "Train Epoch: 3 [5120000/18000000 (28%)]\tLoss: 0.026299\n",
      "Train Epoch: 3 [10240000/18000000 (57%)]\tLoss: 0.054550\n",
      "Train Epoch: 3 [15360000/18000000 (85%)]\tLoss: 0.066492\n",
      "\n",
      "Average loss on epoch 3: 0.03815612466332198\n"
     ]
    },
    {
     "data": {
      "application/vnd.jupyter.widget-view+json": {
       "model_id": "259723f8bbb5460f9cfded61a0441f3e",
       "version_major": 2,
       "version_minor": 0
      },
      "text/plain": [
       "HBox(children=(FloatProgress(value=0.0, max=3907.0), HTML(value='')))"
      ]
     },
     "metadata": {},
     "output_type": "display_data"
    },
    {
     "name": "stdout",
     "output_type": "stream",
     "text": [
      "\n",
      "PRAUC: 7.101957968384712\n",
      "RCE: -36.19887651610887\n",
      "Epoch 4\n"
     ]
    },
    {
     "data": {
      "application/vnd.jupyter.widget-view+json": {
       "model_id": "b75a0eb18cf543078d2db858bf48961d",
       "version_major": 2,
       "version_minor": 0
      },
      "text/plain": [
       "HBox(children=(FloatProgress(value=0.0, max=35157.0), HTML(value='')))"
      ]
     },
     "metadata": {},
     "output_type": "display_data"
    },
    {
     "name": "stdout",
     "output_type": "stream",
     "text": [
      "Train Epoch: 4 [0/18000000 (0%)]\tLoss: 0.048097\n",
      "Train Epoch: 4 [5120000/18000000 (28%)]\tLoss: 0.033674\n",
      "Train Epoch: 4 [10240000/18000000 (57%)]\tLoss: 0.062215\n",
      "Train Epoch: 4 [15360000/18000000 (85%)]\tLoss: 0.028394\n",
      "\n",
      "Average loss on epoch 4: 0.0378407609317833\n"
     ]
    },
    {
     "data": {
      "application/vnd.jupyter.widget-view+json": {
       "model_id": "673a4577731b419683a64ef99fd0c987",
       "version_major": 2,
       "version_minor": 0
      },
      "text/plain": [
       "HBox(children=(FloatProgress(value=0.0, max=3907.0), HTML(value='')))"
      ]
     },
     "metadata": {},
     "output_type": "display_data"
    },
    {
     "name": "stdout",
     "output_type": "stream",
     "text": [
      "\n",
      "PRAUC: 6.867512471822411\n",
      "RCE: 2.1653948056407413\n",
      "Epoch 5\n"
     ]
    },
    {
     "data": {
      "application/vnd.jupyter.widget-view+json": {
       "model_id": "8f08a6d53e8d4190b917ed96571d3424",
       "version_major": 2,
       "version_minor": 0
      },
      "text/plain": [
       "HBox(children=(FloatProgress(value=0.0, max=35157.0), HTML(value='')))"
      ]
     },
     "metadata": {},
     "output_type": "display_data"
    },
    {
     "name": "stdout",
     "output_type": "stream",
     "text": [
      "Train Epoch: 5 [0/18000000 (0%)]\tLoss: 0.041038\n",
      "Train Epoch: 5 [5120000/18000000 (28%)]\tLoss: 0.046677\n",
      "Train Epoch: 5 [10240000/18000000 (57%)]\tLoss: 0.043556\n",
      "Train Epoch: 5 [15360000/18000000 (85%)]\tLoss: 0.045407\n",
      "\n",
      "Average loss on epoch 5: 0.037622065584918055\n"
     ]
    },
    {
     "data": {
      "application/vnd.jupyter.widget-view+json": {
       "model_id": "80c883ddd08d414ea25811e6da4491c3",
       "version_major": 2,
       "version_minor": 0
      },
      "text/plain": [
       "HBox(children=(FloatProgress(value=0.0, max=3907.0), HTML(value='')))"
      ]
     },
     "metadata": {},
     "output_type": "display_data"
    },
    {
     "name": "stdout",
     "output_type": "stream",
     "text": [
      "\n",
      "PRAUC: 7.142428972401261\n",
      "RCE: 7.828156825763733\n",
      "Epoch 6\n"
     ]
    },
    {
     "data": {
      "application/vnd.jupyter.widget-view+json": {
       "model_id": "36b02639aca34835ac1413519f4d576a",
       "version_major": 2,
       "version_minor": 0
      },
      "text/plain": [
       "HBox(children=(FloatProgress(value=0.0, max=35157.0), HTML(value='')))"
      ]
     },
     "metadata": {},
     "output_type": "display_data"
    },
    {
     "name": "stdout",
     "output_type": "stream",
     "text": [
      "Train Epoch: 6 [0/18000000 (0%)]\tLoss: 0.022364\n",
      "Train Epoch: 6 [5120000/18000000 (28%)]\tLoss: 0.040226\n",
      "Train Epoch: 6 [10240000/18000000 (57%)]\tLoss: 0.026331\n",
      "Train Epoch: 6 [15360000/18000000 (85%)]\tLoss: 0.045369\n",
      "\n",
      "Average loss on epoch 6: 0.03747488118414528\n"
     ]
    },
    {
     "data": {
      "application/vnd.jupyter.widget-view+json": {
       "model_id": "7874ee9b0a7f40ce8e1793f194320944",
       "version_major": 2,
       "version_minor": 0
      },
      "text/plain": [
       "HBox(children=(FloatProgress(value=0.0, max=3907.0), HTML(value='')))"
      ]
     },
     "metadata": {},
     "output_type": "display_data"
    },
    {
     "name": "stdout",
     "output_type": "stream",
     "text": [
      "\n",
      "PRAUC: 7.293219967138742\n",
      "RCE: 7.973309393624373\n",
      "CPU times: user 14min 42s, sys: 3min 2s, total: 17min 45s\n",
      "Wall time: 18min 27s\n"
     ]
    }
   ],
   "source": [
    "%%time\n",
    "max_epochs = 7\n",
    "for epoch in range(len(val_results), len(val_results) + max_epochs):\n",
    "    # Training\n",
    "    ffnet.train()\n",
    "    print('Epoch', epoch)\n",
    "    train_losses[epoch] = []\n",
    "\n",
    "    for batch, (batch_features, batch_labels) in enumerate(tqdm(training_generator)):\n",
    "        # tranfer to GPU\n",
    "        batch_features, batch_labels = batch_features.to(device), batch_labels.to(device)\n",
    "        \n",
    "        optimizer.zero_grad()\n",
    "        l = backprop(batch_features, batch_labels, ffnet, optimizer, loss_fn)\n",
    "        train_losses[epoch].append(l)\n",
    "        \n",
    "        if batch % log_interval == 0:\n",
    "            print('Train Epoch: {} [{}/{} ({:.0f}%)]\\tLoss: {:.6f}'.format(\n",
    "                epoch, batch * len(batch_features), len(training_generator.dataset),\n",
    "                100. * batch / len(training_generator), l))    \n",
    "    print(f'Average loss on epoch {epoch}: {np.mean(train_losses[epoch])}')\n",
    "    \n",
    "    # Validation\n",
    "    ffnet.eval()\n",
    "    with torch.no_grad():\n",
    "        val_results[epoch] = {'out':[], 'gt':[]}\n",
    "        for batch, (batch_features, batch_labels) in enumerate(tqdm(validation_generator)):\n",
    "            # Transfer to GPU\n",
    "            batch_features, batch_labels = batch_features.to(device), batch_labels.to(device)\n",
    "            logits_output = ffnet(batch_features)\n",
    "            val_results[epoch]['out'].append(logits_output.cpu())\n",
    "            val_results[epoch]['gt'].append(batch_labels.cpu())\n",
    "    \n",
    "        all_out = [l for batch in val_results[epoch]['out'] for l in batch.numpy()]\n",
    "        all_gt  = [l for batch in val_results[epoch]['gt'] for l in batch.numpy()]\n",
    "        \n",
    "        y_pred = softmax(all_out)[:, 1]\n",
    "        y_pred[y_pred == 1] = 0.99\n",
    "        # print('NaN elements: ', len(np.where(np.isnan(all_out))[0]))\n",
    "        print('PRAUC:', compute_prauc(y_pred, all_gt) * 100)\n",
    "        print('RCE:', compute_rce(y_pred, all_gt))"
   ]
  },
  {
   "cell_type": "code",
   "execution_count": 340,
   "metadata": {},
   "outputs": [
    {
     "name": "stdout",
     "output_type": "stream",
     "text": [
      "\n",
      "EPOCH 0\n",
      "PRAUC 11.762930644700951\n",
      "RCE 9.434550772406347\n"
     ]
    }
   ],
   "source": [
    "metrics = ['Accuracy', 'F1-score', 'PRAUC', 'RCE']\n",
    "scores  = {m: [] for m in metrics}\n",
    "scores_rand =  {m: [] for m in metrics}\n",
    "\n",
    "for epoch in val_results:\n",
    "    scores[epoch] = {}\n",
    "    scores_rand[epoch] = {}\n",
    "    \n",
    "    all_out = [l for batch in val_results[epoch]['out'] for l in batch.numpy()]\n",
    "    all_gt  = [l for batch in val_results[epoch]['gt'] for l in batch.numpy()]\n",
    "    all_rand = np.random.rand(len(all_gt), 2)\n",
    "    \n",
    "    all_out = np.nan_to_num(all_out)\n",
    "    y_pred = softmax(all_out)[:, 1]\n",
    "    y_pred[y_pred == 1] = 0.99\n",
    "\n",
    "    scores['PRAUC'].append(compute_prauc(y_pred, all_gt) * 100)\n",
    "    scores['RCE'].append(compute_rce(y_pred, all_gt))\n",
    "    scores_rand['PRAUC'].append(compute_prauc(softmax(all_rand)[:, 1], all_gt) * 100)\n",
    "    scores_rand['RCE'].append(compute_rce(softmax(all_rand)[:, 1], all_gt) * 100)\n",
    "    \n",
    "    print('\\nEPOCH', epoch)\n",
    "    # print('Accuracy', scores['Accuracy'][-1])\n",
    "    print('PRAUC', scores['PRAUC'][-1])\n",
    "    print('RCE', scores['RCE'][-1])\n"
   ]
  },
  {
   "cell_type": "code",
   "execution_count": 129,
   "metadata": {},
   "outputs": [
    {
     "data": {
      "text/plain": [
       "<Figure size 640x480 with 0 Axes>"
      ]
     },
     "metadata": {},
     "output_type": "display_data"
    },
    {
     "data": {
      "image/png": "[encoded data removed]",
      "text/plain": [
       "<Figure size 640x480 with 1 Axes>"
      ]
     },
     "metadata": {
      "needs_background": "light"
     },
     "output_type": "display_data"
    },
    {
     "data": {
      "image/png": "[encoded data removed]",
      "text/plain": [
       "<Figure size 640x480 with 1 Axes>"
      ]
     },
     "metadata": {
      "needs_background": "light"
     },
     "output_type": "display_data"
    }
   ],
   "source": [
    "figure(figsize=(8, 6), dpi=80)\n",
    "\n",
    "epochs = range(len(val_results))\n",
    "figure(figsize=(8, 6), dpi=80)\n",
    "# plt.plot(epochs, scores['Accuracy'],     'r^', label='Pred Acc')\n",
    "\n",
    "# plt.plot(epochs, scores['F1-score'], 'r-', label='Pred F1')\n",
    "# plt.plot(epochs, scores_rand['F1-score'], 'b-', label='Rand F1')\n",
    "plt.plot(epochs, scores['PRAUC'], 'r--', label='Pred PRAUC')\n",
    "plt.plot(epochs, scores_rand['PRAUC'], 'b--', label='Rand PRAUC')\n",
    "plt.legend(bbox_to_anchor=(1.05, 1), loc='upper left')\n",
    "plt.show()\n",
    "\n",
    "figure(figsize=(8, 6), dpi=80)\n",
    "\n",
    "plt.plot(epochs, scores['RCE'], 'r-', label='Pred RCE')\n",
    "plt.plot(epochs, scores_rand['RCE'],'b-', label='Rand RCE')\n",
    "plt.legend(bbox_to_anchor=(1.05, 1), loc='upper left')\n",
    "plt.show()"
   ]
  },
  {
   "cell_type": "code",
   "execution_count": 37,
   "metadata": {},
   "outputs": [],
   "source": [
    "\"\"\" Outputting results with logit scores\n",
    "\n",
    "df_out = pd.DataFrame(columns=['id', 'no_like_score', 'like_score', 'no_like_softmax', 'like_softmax', 'like_prediction', 'like_gt'])\n",
    "df_out['id'] = val_IDs\n",
    "df_out = df_out.set_index('id')\n",
    "\n",
    "df_out[['no_like_score', 'like_score']] = all_out\n",
    "df_out[['no_like_softmax', 'like_softmax']] = softmax(all_out)\n",
    "\n",
    "df_out['like_prediction'] = np.argmax(all_out, axis=1)\n",
    "df_out['like_gt'] = all_gt\n",
    "\"\"\""
   ]
  },
  {
   "cell_type": "code",
   "execution_count": 51,
   "metadata": {},
   "outputs": [
    {
     "data": {
      "application/vnd.jupyter.widget-view+json": {
       "model_id": "508829bb56194669a967ef6fa276f2a5",
       "version_major": 2,
       "version_minor": 0
      },
      "text/plain": [
       "HBox(children=(FloatProgress(value=0.0, max=1758.0), HTML(value='')))"
      ]
     },
     "metadata": {},
     "output_type": "display_data"
    },
    {
     "name": "stdout",
     "output_type": "stream",
     "text": [
      "\n",
      "PRAUC: 53.22577980474714\n",
      "RCE: 1.6421294450501\n"
     ]
    }
   ],
   "source": [
    "\"\"\"\n",
    "ffnet.eval()\n",
    "with torch.no_grad():\n",
    "    train_results = {'out':[], 'gt':[]}\n",
    "    for local_batch, local_labels in tqdm(training_eval_generator):\n",
    "        # Transfer to GPU\n",
    "        local_batch, local_labels = local_batch.to(device), local_labels.to(device)\n",
    "        logits_output = ffnet(local_batch) #.float()\n",
    "        train_results['out'].append(logits_output.cpu())\n",
    "        train_results['gt'].append(local_labels.cpu())\n",
    "\n",
    "    all_out = [l for batch in train_results['out'] for l in batch.numpy()]\n",
    "    all_gt  = [l for batch in train_results['gt'] for l in batch.numpy()]\n",
    "\n",
    "    print('PRAUC:', compute_prauc(softmax(all_out)[:, 1], all_gt) * 100)\n",
    "    print('RCE:', compute_rce(softmax(all_out)[:, 1], all_gt))\n",
    "\"\"\""
   ]
  },
  {
   "cell_type": "markdown",
   "metadata": {},
   "source": [
    "# Generating output for Eval Set"
   ]
  },
  {
   "cell_type": "code",
   "execution_count": 130,
   "metadata": {},
   "outputs": [
    {
     "name": "stdout",
     "output_type": "stream",
     "text": [
      "CPU times: user 46.6 s, sys: 2.36 s, total: 49 s\n",
      "Wall time: 49.1 s\n"
     ]
    }
   ],
   "source": [
    "%%time\n",
    "# eval_df = pd.read_csv('/opt/recsys20_challenge/dataset/eval.tsv', sep='\\x01', encoding='utf-8', header=None, names=[\"tweet_id\", 'engaging_id'], usecols=[2, 14])"
   ]
  },
  {
   "cell_type": "code",
   "execution_count": 134,
   "metadata": {},
   "outputs": [
    {
     "data": {
      "text/html": [
       "<div>\n",
       "<style scoped>\n",
       "    .dataframe tbody tr th:only-of-type {\n",
       "        vertical-align: middle;\n",
       "    }\n",
       "\n",
       "    .dataframe tbody tr th {\n",
       "        vertical-align: top;\n",
       "    }\n",
       "\n",
       "    .dataframe thead th {\n",
       "        text-align: right;\n",
       "    }\n",
       "</style>\n",
       "<table border=\"1\" class=\"dataframe\">\n",
       "  <thead>\n",
       "    <tr style=\"text-align: right;\">\n",
       "      <th></th>\n",
       "      <th>tweet_id</th>\n",
       "      <th>engaging_id</th>\n",
       "    </tr>\n",
       "  </thead>\n",
       "  <tbody>\n",
       "    <tr>\n",
       "      <th>0</th>\n",
       "      <td>7647B4E9DAF4C1D8973397DC2A04F3E3</td>\n",
       "      <td>0000006C3074607050F1339DDCB890BB</td>\n",
       "    </tr>\n",
       "    <tr>\n",
       "      <th>1</th>\n",
       "      <td>408DB1803264B5FF55F73EC06BE9BD77</td>\n",
       "      <td>000013315386492275CCBF7AEF293EF0</td>\n",
       "    </tr>\n",
       "    <tr>\n",
       "      <th>2</th>\n",
       "      <td>2EE951379C47E8BF62EABB8FA027F753</td>\n",
       "      <td>00001569CB28972FC8173122D9DA162F</td>\n",
       "    </tr>\n",
       "    <tr>\n",
       "      <th>3</th>\n",
       "      <td>2135F24B05DAE3EF213F9CE80FDC6DAF</td>\n",
       "      <td>00001607209C5774DF9207A2AC0EED5F</td>\n",
       "    </tr>\n",
       "    <tr>\n",
       "      <th>4</th>\n",
       "      <td>09143FEDE9BD494A6EA9A7EE160565E3</td>\n",
       "      <td>0000177705514C315F2FC6DFA3872712</td>\n",
       "    </tr>\n",
       "  </tbody>\n",
       "</table>\n",
       "</div>"
      ],
      "text/plain": [
       "                           tweet_id                       engaging_id\n",
       "0  7647B4E9DAF4C1D8973397DC2A04F3E3  0000006C3074607050F1339DDCB890BB\n",
       "1  408DB1803264B5FF55F73EC06BE9BD77  000013315386492275CCBF7AEF293EF0\n",
       "2  2EE951379C47E8BF62EABB8FA027F753  00001569CB28972FC8173122D9DA162F\n",
       "3  2135F24B05DAE3EF213F9CE80FDC6DAF  00001607209C5774DF9207A2AC0EED5F\n",
       "4  09143FEDE9BD494A6EA9A7EE160565E3  0000177705514C315F2FC6DFA3872712"
      ]
     },
     "execution_count": 134,
     "metadata": {},
     "output_type": "execute_result"
    }
   ],
   "source": [
    "eval_df.head()"
   ]
  },
  {
   "cell_type": "code",
   "execution_count": 397,
   "metadata": {},
   "outputs": [
    {
     "name": "stdout",
     "output_type": "stream",
     "text": [
      "(12434735, 28)\n",
      "CPU times: user 0 ns, sys: 1.35 s, total: 1.35 s\n",
      "Wall time: 1.35 s\n"
     ]
    }
   ],
   "source": [
    "%%time\n",
    "tweet_features_eval = np.load('/opt/recsys20_challenge/dataset/Data_Likes/XGBoost_Data/X_eval.npy')\n",
    "print(tweet_features_eval.shape)"
   ]
  },
  {
   "cell_type": "code",
   "execution_count": 398,
   "metadata": {},
   "outputs": [
    {
     "name": "stdout",
     "output_type": "stream",
     "text": [
      "(12434735, 24)\n",
      "CPU times: user 0 ns, sys: 125 µs, total: 125 µs\n",
      "Wall time: 132 µs\n"
     ]
    }
   ],
   "source": [
    "%%time\n",
    "#tfidf_preds_eval = pd.concat([pd.read_csv('~/recsys20_challenge/code_ismail/predictions/likes_eval_sgdc_tfidf.csv'),\n",
    "#                         pd.read_csv('~/recsys20_challenge/code_ismail/predictions/quotes_eval_sgdc_tfidf.csv'),\n",
    "#                         pd.read_csv('~/recsys20_challenge/code_ismail/predictions/replys_eval_sgdc_tfidf.csv'),\n",
    "#                         pd.read_csv('~/recsys20_challenge/code_ismail/predictions/retweets_eval_sgdc_tfidf.csv')], axis=1)\n",
    "\n",
    "print(tfidf_preds_eval.shape)"
   ]
  },
  {
   "cell_type": "code",
   "execution_count": 399,
   "metadata": {},
   "outputs": [
    {
     "name": "stdout",
     "output_type": "stream",
     "text": [
      "(12434735, 3)\n"
     ]
    }
   ],
   "source": [
    "tfidf_preds_eval_cols = tfidf_preds_eval[['no_'+action+'_softmax', action+'_softmax', action+'_prediction']]\n",
    "\n",
    "print(tfidf_preds_eval_cols.shape)"
   ]
  },
  {
   "cell_type": "code",
   "execution_count": 400,
   "metadata": {},
   "outputs": [
    {
     "data": {
      "text/html": [
       "<div>\n",
       "<style scoped>\n",
       "    .dataframe tbody tr th:only-of-type {\n",
       "        vertical-align: middle;\n",
       "    }\n",
       "\n",
       "    .dataframe tbody tr th {\n",
       "        vertical-align: top;\n",
       "    }\n",
       "\n",
       "    .dataframe thead th {\n",
       "        text-align: right;\n",
       "    }\n",
       "</style>\n",
       "<table border=\"1\" class=\"dataframe\">\n",
       "  <thead>\n",
       "    <tr style=\"text-align: right;\">\n",
       "      <th></th>\n",
       "      <th>no_quote_softmax</th>\n",
       "      <th>quote_softmax</th>\n",
       "      <th>quote_prediction</th>\n",
       "    </tr>\n",
       "  </thead>\n",
       "  <tbody>\n",
       "    <tr>\n",
       "      <th>0</th>\n",
       "      <td>0.991463</td>\n",
       "      <td>0.008537</td>\n",
       "      <td>0</td>\n",
       "    </tr>\n",
       "    <tr>\n",
       "      <th>1</th>\n",
       "      <td>0.993935</td>\n",
       "      <td>0.006065</td>\n",
       "      <td>0</td>\n",
       "    </tr>\n",
       "    <tr>\n",
       "      <th>2</th>\n",
       "      <td>0.990609</td>\n",
       "      <td>0.009391</td>\n",
       "      <td>0</td>\n",
       "    </tr>\n",
       "    <tr>\n",
       "      <th>3</th>\n",
       "      <td>0.991152</td>\n",
       "      <td>0.008848</td>\n",
       "      <td>0</td>\n",
       "    </tr>\n",
       "    <tr>\n",
       "      <th>4</th>\n",
       "      <td>0.993629</td>\n",
       "      <td>0.006371</td>\n",
       "      <td>0</td>\n",
       "    </tr>\n",
       "  </tbody>\n",
       "</table>\n",
       "</div>"
      ],
      "text/plain": [
       "   no_quote_softmax  quote_softmax  quote_prediction\n",
       "0          0.991463       0.008537                 0\n",
       "1          0.993935       0.006065                 0\n",
       "2          0.990609       0.009391                 0\n",
       "3          0.991152       0.008848                 0\n",
       "4          0.993629       0.006371                 0"
      ]
     },
     "execution_count": 400,
     "metadata": {},
     "output_type": "execute_result"
    }
   ],
   "source": [
    "tfidf_preds_eval_cols.head()"
   ]
  },
  {
   "cell_type": "code",
   "execution_count": 401,
   "metadata": {},
   "outputs": [
    {
     "name": "stdout",
     "output_type": "stream",
     "text": [
      "(12434735, 31)\n"
     ]
    }
   ],
   "source": [
    "min_max_scaler = preprocessing.MinMaxScaler()\n",
    "tweet_features_eval = min_max_scaler.fit_transform(tweet_features_eval).astype(float)\n",
    "tweet_features_eval = np.nan_to_num(tweet_features_eval)\n",
    "tweet_features_eval = np.concatenate([tweet_features_eval, tfidf_preds_eval_cols.values], axis=1)\n",
    "\n",
    "print(tweet_features_eval.shape)"
   ]
  },
  {
   "cell_type": "code",
   "execution_count": 402,
   "metadata": {},
   "outputs": [],
   "source": [
    "class EvalDataset(data.Dataset):\n",
    "    'Characterizes a dataset for PyTorch'\n",
    "    def __init__(self, list_IDs, extra_features):\n",
    "        'Initialization'\n",
    "        self.list_IDs = list_IDs\n",
    "        self.extra_features = extra_features\n",
    "\n",
    "    def __len__(self):\n",
    "        'Denotes the total number of samples'\n",
    "        return len(self.list_IDs)\n",
    "\n",
    "    def __getitem__(self, index):\n",
    "        'Generates one sample of data'\n",
    "        # Select sample\n",
    "        ID = self.list_IDs[index]\n",
    "        T = torch.tensor(self.extra_features[ID]).float()\n",
    "        return T"
   ]
  },
  {
   "cell_type": "code",
   "execution_count": 403,
   "metadata": {},
   "outputs": [],
   "source": [
    "eval_set = EvalDataset(eval_df.index, tweet_features_eval)\n",
    "eval_generator = data.DataLoader(eval_set, shuffle=False, batch_size=85, num_workers=16)"
   ]
  },
  {
   "cell_type": "code",
   "execution_count": 404,
   "metadata": {},
   "outputs": [
    {
     "name": "stdout",
     "output_type": "stream",
     "text": [
      "torch.Size([85, 31])\n",
      "tensor([0.0000e+00, 1.0000e+00, 4.3340e-01, 6.0791e-01, 1.0000e+00, 0.0000e+00,\n",
      "        2.5237e-04, 3.7861e-04, 1.2340e-04, 2.7361e-04, 0.0000e+00, 1.5152e-04,\n",
      "        0.0000e+00, 0.0000e+00, 0.0000e+00, 0.0000e+00, 1.6989e-04, 0.0000e+00,\n",
      "        0.0000e+00, 0.0000e+00, 0.0000e+00, 0.0000e+00, 0.0000e+00, 0.0000e+00,\n",
      "        9.6298e-01, 9.1697e-01, 0.0000e+00, 0.0000e+00, 9.9146e-01, 8.5374e-03,\n",
      "        0.0000e+00])\n"
     ]
    }
   ],
   "source": [
    "for local_batch in eval_generator:\n",
    "    # Transfer to GPU\n",
    "    print(local_batch.shape)\n",
    "    print(local_batch[0])\n",
    "    break"
   ]
  },
  {
   "cell_type": "code",
   "execution_count": 405,
   "metadata": {},
   "outputs": [
    {
     "data": {
      "application/vnd.jupyter.widget-view+json": {
       "model_id": "e91d25d792384c86b5482d0763bf2a36",
       "version_major": 2,
       "version_minor": 0
      },
      "text/plain": [
       "HBox(children=(FloatProgress(value=0.0, max=146291.0), HTML(value='')))"
      ]
     },
     "metadata": {},
     "output_type": "display_data"
    },
    {
     "name": "stdout",
     "output_type": "stream",
     "text": [
      "\n",
      "CPU times: user 2min 15s, sys: 29.3 s, total: 2min 44s\n",
      "Wall time: 2min 51s\n"
     ]
    }
   ],
   "source": [
    "%%time\n",
    "like_logits = []\n",
    "like_scores = []\n",
    "with torch.no_grad():\n",
    "    for local_batch in tqdm(eval_generator):\n",
    "        # Transfer to GPU\n",
    "        local_batch = local_batch.to(device)\n",
    "        logits_output = ffnet(local_batch) #.float()\n",
    "        like_logits.append(logits_output.cpu())"
   ]
  },
  {
   "cell_type": "code",
   "execution_count": 406,
   "metadata": {},
   "outputs": [
    {
     "data": {
      "text/plain": [
       "146291"
      ]
     },
     "execution_count": 406,
     "metadata": {},
     "output_type": "execute_result"
    }
   ],
   "source": [
    "len(like_logits)"
   ]
  },
  {
   "cell_type": "code",
   "execution_count": 298,
   "metadata": {},
   "outputs": [],
   "source": [
    "logits = np.concatenate([l.numpy() for l in like_logits])"
   ]
  },
  {
   "cell_type": "code",
   "execution_count": 299,
   "metadata": {
    "scrolled": true
   },
   "outputs": [
    {
     "data": {
      "text/plain": [
       "(12434735, 2)"
      ]
     },
     "execution_count": 299,
     "metadata": {},
     "output_type": "execute_result"
    }
   ],
   "source": [
    "logits.shape"
   ]
  },
  {
   "cell_type": "code",
   "execution_count": 407,
   "metadata": {},
   "outputs": [],
   "source": [
    "all_out = [l for batch in like_logits for l in batch.numpy()]\n",
    "\n",
    "y_pred = softmax(all_out)[:, 1]\n",
    "y_pred[y_pred == 1] = 0.99"
   ]
  },
  {
   "cell_type": "code",
   "execution_count": 408,
   "metadata": {},
   "outputs": [
    {
     "data": {
      "text/plain": [
       "(12434735,)"
      ]
     },
     "execution_count": 408,
     "metadata": {},
     "output_type": "execute_result"
    }
   ],
   "source": [
    "y_pred.shape"
   ]
  },
  {
   "cell_type": "code",
   "execution_count": 409,
   "metadata": {},
   "outputs": [],
   "source": [
    "eval_df['predictions'] = y_pred"
   ]
  },
  {
   "cell_type": "code",
   "execution_count": 410,
   "metadata": {},
   "outputs": [
    {
     "data": {
      "text/html": [
       "<div>\n",
       "<style scoped>\n",
       "    .dataframe tbody tr th:only-of-type {\n",
       "        vertical-align: middle;\n",
       "    }\n",
       "\n",
       "    .dataframe tbody tr th {\n",
       "        vertical-align: top;\n",
       "    }\n",
       "\n",
       "    .dataframe thead th {\n",
       "        text-align: right;\n",
       "    }\n",
       "</style>\n",
       "<table border=\"1\" class=\"dataframe\">\n",
       "  <thead>\n",
       "    <tr style=\"text-align: right;\">\n",
       "      <th></th>\n",
       "      <th>tweet_id</th>\n",
       "      <th>engaging_id</th>\n",
       "      <th>predictions</th>\n",
       "    </tr>\n",
       "  </thead>\n",
       "  <tbody>\n",
       "    <tr>\n",
       "      <th>12434730</th>\n",
       "      <td>9ABED4B0AB2CAA18BD6248064C2502C5</td>\n",
       "      <td>FFFFF11D9F54702F82D4386907FA1EB4</td>\n",
       "      <td>0.004304</td>\n",
       "    </tr>\n",
       "    <tr>\n",
       "      <th>12434731</th>\n",
       "      <td>EFCAC0A88CC0B00C382E7D0C6B524C91</td>\n",
       "      <td>FFFFF41EF74BC4EA75C33EC85FE16513</td>\n",
       "      <td>0.001432</td>\n",
       "    </tr>\n",
       "    <tr>\n",
       "      <th>12434732</th>\n",
       "      <td>BE3AF4D2D7F17451A9BB6959019F4316</td>\n",
       "      <td>FFFFF785504753651FF3EF40B304840E</td>\n",
       "      <td>0.005167</td>\n",
       "    </tr>\n",
       "    <tr>\n",
       "      <th>12434733</th>\n",
       "      <td>4A5F639729D6DDB69BA5DD2B334728C4</td>\n",
       "      <td>FFFFFB2D8B6FD1034804A4B740CB16BC</td>\n",
       "      <td>0.003246</td>\n",
       "    </tr>\n",
       "    <tr>\n",
       "      <th>12434734</th>\n",
       "      <td>B1AFB06AB12B2B261C7D35F67D654742</td>\n",
       "      <td>FFFFFE97AA06327403491D71E2ED52DA</td>\n",
       "      <td>0.000871</td>\n",
       "    </tr>\n",
       "  </tbody>\n",
       "</table>\n",
       "</div>"
      ],
      "text/plain": [
       "                                  tweet_id                       engaging_id  \\\n",
       "12434730  9ABED4B0AB2CAA18BD6248064C2502C5  FFFFF11D9F54702F82D4386907FA1EB4   \n",
       "12434731  EFCAC0A88CC0B00C382E7D0C6B524C91  FFFFF41EF74BC4EA75C33EC85FE16513   \n",
       "12434732  BE3AF4D2D7F17451A9BB6959019F4316  FFFFF785504753651FF3EF40B304840E   \n",
       "12434733  4A5F639729D6DDB69BA5DD2B334728C4  FFFFFB2D8B6FD1034804A4B740CB16BC   \n",
       "12434734  B1AFB06AB12B2B261C7D35F67D654742  FFFFFE97AA06327403491D71E2ED52DA   \n",
       "\n",
       "          predictions  \n",
       "12434730     0.004304  \n",
       "12434731     0.001432  \n",
       "12434732     0.005167  \n",
       "12434733     0.003246  \n",
       "12434734     0.000871  "
      ]
     },
     "execution_count": 410,
     "metadata": {},
     "output_type": "execute_result"
    }
   ],
   "source": [
    "eval_df.tail()"
   ]
  },
  {
   "cell_type": "code",
   "execution_count": 411,
   "metadata": {},
   "outputs": [],
   "source": [
    "eval_df.to_csv('predictions/'+action+'s_eval_nn_tfidf_tweet.csv', header=False, index=False)"
   ]
  },
  {
   "cell_type": "code",
   "execution_count": null,
   "metadata": {},
   "outputs": [],
   "source": []
  }
 ],
 "metadata": {
  "kernelspec": {
   "display_name": "Python 3",
   "language": "python",
   "name": "python3"
  },
  "language_info": {
   "codemirror_mode": {
    "name": "ipython",
    "version": 3
   },
   "file_extension": ".py",
   "mimetype": "text/x-python",
   "name": "python",
   "nbconvert_exporter": "python",
   "pygments_lexer": "ipython3",
   "version": "3.8.2"
  }
 },
 "nbformat": 4,
 "nbformat_minor": 4
}
