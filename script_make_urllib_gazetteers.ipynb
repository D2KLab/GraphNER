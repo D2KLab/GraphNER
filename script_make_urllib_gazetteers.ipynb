{
 "cells": [
  {
   "cell_type": "code",
   "execution_count": null,
   "metadata": {},
   "outputs": [],
   "source": [
    "%load_ex signature"
   ]
  },
  {
   "cell_type": "code",
   "execution_count": 5,
   "metadata": {},
   "outputs": [
    {
     "name": "stdout",
     "output_type": "stream",
     "text": [
      "Collecting helpers\n",
      "  Downloading helpers-0.2.0-py3-none-any.whl (2.3 kB)\n",
      "Installing collected packages: helpers\n",
      "Successfully installed helpers-0.2.0\n"
     ]
    }
   ],
   "source": [
    "! pip install helpers"
   ]
  },
  {
   "cell_type": "code",
   "execution_count": 74,
   "metadata": {},
   "outputs": [],
   "source": [
    "%matplotlib inline\n",
    "\n",
    "import json\n",
    "import time\n",
    " \n",
    "import requests\n",
    "import helpers\n",
    "\n",
    "from tqdm.notebook import tqdm\n",
    "\n",
    "import pandas as pd"
   ]
  },
  {
   "cell_type": "code",
   "execution_count": 23,
   "metadata": {},
   "outputs": [],
   "source": [
    "classes = {\n",
    "    \"Organization\": \"Q43229\", #includes companies\n",
    "    \"Name\": \"Q82799\",\n",
    "    \"Artist\": \"Q483501\",\n",
    "    \"Geolocation\": \"Q2221906\",\n",
    "    \"City\": \"Q515\",\n",
    "    \"Capital\": \"Q5119\",\n",
    "    \"Town\": \"Q3957\",\n",
    "    \"Demonym\": \"Q217438\",\n",
    "    \"Product\": \"Q2424752\",\n",
    "    \"Brand\": \"Q431289\",\n",
    "    \"Georegion\": \"Q82794\",\n",
    "    \"Country\": \"Q6256\",\n",
    "}"
   ]
  },
  {
   "cell_type": "code",
   "execution_count": 114,
   "metadata": {},
   "outputs": [
    {
     "data": {
      "application/vnd.jupyter.widget-view+json": {
       "model_id": "f586429866f84084ab0b2281238a4bfe",
       "version_major": 2,
       "version_minor": 0
      },
      "text/plain": [
       "HBox(children=(FloatProgress(value=0.0, max=12.0), HTML(value='')))"
      ]
     },
     "metadata": {},
     "output_type": "display_data"
    },
    {
     "name": "stdout",
     "output_type": "stream",
     "text": [
      "Organization Q43229\n",
      "Name Q82799\n",
      "Artist Q483501\n",
      "Geolocation Q2221906\n",
      "City Q515\n",
      "Capital Q5119\n",
      "Town Q3957\n",
      "Demonym Q217438\n",
      "Product Q2424752\n",
      "Brand Q431289\n",
      "Georegion Q82794\n",
      "Country Q6256\n",
      "\n"
     ]
    }
   ],
   "source": [
    "url = 'https://query.wikidata.org/bigdata/namespace/wdq/sparql'\n",
    "subclasses = {}\n",
    "\n",
    "for label, wikidata_code in tqdm(classes.items()):\n",
    "    try:\n",
    "        print(label, wikidata_code)\n",
    "        query = \"SELECT distinct ?class ?classLabel \" + \\\n",
    "                \"WHERE { ?class wdt:P279|wdt:P279/wdt:P279 wd:\" + wikidata_code + \". \" + \\\n",
    "                \"        SERVICE wikibase:label { bd:serviceParam wikibase:language 'en' } }\"\n",
    "        data = requests.get(url, params={'query': query, 'format': 'json'}).json()\n",
    "        time.sleep(1)\n",
    "        subclasses[label] = data\n",
    "        # print(len(results[label]), 'of results returned.')\n",
    "    except Exception as e:\n",
    "        print(str(e))"
   ]
  },
  {
   "cell_type": "code",
   "execution_count": null,
   "metadata": {},
   "outputs": [],
   "source": [
    "url = 'https://query.wikidata.org/bigdata/namespace/wdq/sparql'\n",
    "subclasses = {}\n",
    "\n",
    "for label, wikidata_code in tqdm(classes.items()):\n",
    "    try:\n",
    "        print(label, wikidata_code)\n",
    "        query = \"SELECT distinct ?class ?classLabel \" + \\\n",
    "                \"WHERE { ?class wdt:P279|wdt:P279/wdt:P279 wd:\" + wikidata_code + \". \" + \\\n",
    "                \"        SERVICE wikibase:label { bd:serviceParam wikibase:language 'en' } }\"\n",
    "        data = requests.get(url, params={'query': query, 'format': 'json'}).json()\n",
    "        time.sleep(1)\n",
    "        subclasses[label] = data\n",
    "        # print(len(results[label]), 'of results returned.')\n",
    "    except Exception as e:\n",
    "        print(str(e))"
   ]
  },
  {
   "cell_type": "code",
   "execution_count": 175,
   "metadata": {},
   "outputs": [],
   "source": [
    "import pickle\n",
    "pickle.dump(subclasses, open('subclasses.pickle', 'wb'))"
   ]
  },
  {
   "cell_type": "code",
   "execution_count": 116,
   "metadata": {},
   "outputs": [
    {
     "name": "stdout",
     "output_type": "stream",
     "text": [
      "Organization\n",
      "3528 subclasses\n",
      "Name\n",
      "308 subclasses\n",
      "Artist\n",
      "350 subclasses\n",
      "Geolocation\n",
      "1324 subclasses\n",
      "City\n",
      "190 subclasses\n",
      "Capital\n",
      "15 subclasses\n",
      "Town\n",
      "39 subclasses\n",
      "Demonym\n",
      "6 subclasses\n",
      "Product\n",
      "3838 subclasses\n",
      "Brand\n",
      "42 subclasses\n",
      "Georegion\n",
      "978 subclasses\n",
      "Country\n",
      "51 subclasses\n"
     ]
    }
   ],
   "source": [
    "for label in classes:\n",
    "    print(label)\n",
    "    print(len(subclasses[label]['results']['bindings']), 'subclasses')"
   ]
  },
  {
   "cell_type": "code",
   "execution_count": 134,
   "metadata": {},
   "outputs": [
    {
     "data": {
      "text/plain": [
       "{'class': {'type': 'uri', 'value': 'http://www.wikidata.org/entity/Q79751'},\n",
       " 'classLabel': {'xml:lang': 'en', 'type': 'literal', 'value': 'oligarchy'}}"
      ]
     },
     "execution_count": 134,
     "metadata": {},
     "output_type": "execute_result"
    }
   ],
   "source": [
    "subclasses['Organization']['results']['bindings'][0]"
   ]
  },
  {
   "cell_type": "code",
   "execution_count": 170,
   "metadata": {},
   "outputs": [
    {
     "name": "stdout",
     "output_type": "stream",
     "text": [
      "1971\n"
     ]
    }
   ],
   "source": [
    "subclasses_data = []\n",
    "unused_classes = []\n",
    "\n",
    "for class_label in subclasses:\n",
    "    for result in subclasses[class_label]['results']['bindings']:\n",
    "        subclass, subclass_label = result['class']['value'], result['classLabel']['value']\n",
    "        if subclass_label.split('Q')[-1].isnumeric():\n",
    "            counter += 1\n",
    "            unused_classes.append(subclass_label)\n",
    "            continue\n",
    "        \n",
    "        subclasses_data.append({ # 'class_uri': subclass,\n",
    "                                'class_qid': subclass.split('/')[-1],\n",
    "                                'class_label': class_label,\n",
    "                                'subclass_label': subclass_label.lower()})\n",
    "\n",
    "print(len(unused_classes))"
   ]
  },
  {
   "cell_type": "code",
   "execution_count": 166,
   "metadata": {},
   "outputs": [],
   "source": [
    "subclasses_df = pd.DataFrame(subclasses_data)"
   ]
  },
  {
   "cell_type": "code",
   "execution_count": 167,
   "metadata": {},
   "outputs": [
    {
     "data": {
      "text/html": [
       "<div>\n",
       "<style scoped>\n",
       "    .dataframe tbody tr th:only-of-type {\n",
       "        vertical-align: middle;\n",
       "    }\n",
       "\n",
       "    .dataframe tbody tr th {\n",
       "        vertical-align: top;\n",
       "    }\n",
       "\n",
       "    .dataframe thead th {\n",
       "        text-align: right;\n",
       "    }\n",
       "</style>\n",
       "<table border=\"1\" class=\"dataframe\">\n",
       "  <thead>\n",
       "    <tr style=\"text-align: right;\">\n",
       "      <th></th>\n",
       "      <th>class_qid</th>\n",
       "      <th>class_label</th>\n",
       "      <th>subclass_label</th>\n",
       "    </tr>\n",
       "  </thead>\n",
       "  <tbody>\n",
       "    <tr>\n",
       "      <th>0</th>\n",
       "      <td>Q79751</td>\n",
       "      <td>Organization</td>\n",
       "      <td>oligarchy</td>\n",
       "    </tr>\n",
       "    <tr>\n",
       "      <th>1</th>\n",
       "      <td>Q163740</td>\n",
       "      <td>Organization</td>\n",
       "      <td>nonprofit organization</td>\n",
       "    </tr>\n",
       "    <tr>\n",
       "      <th>2</th>\n",
       "      <td>Q193622</td>\n",
       "      <td>Organization</td>\n",
       "      <td>order</td>\n",
       "    </tr>\n",
       "    <tr>\n",
       "      <th>3</th>\n",
       "      <td>Q194195</td>\n",
       "      <td>Organization</td>\n",
       "      <td>amusement park</td>\n",
       "    </tr>\n",
       "    <tr>\n",
       "      <th>4</th>\n",
       "      <td>Q196776</td>\n",
       "      <td>Organization</td>\n",
       "      <td>certificate authority</td>\n",
       "    </tr>\n",
       "  </tbody>\n",
       "</table>\n",
       "</div>"
      ],
      "text/plain": [
       "  class_qid   class_label          subclass_label\n",
       "0    Q79751  Organization               oligarchy\n",
       "1   Q163740  Organization  nonprofit organization\n",
       "2   Q193622  Organization                   order\n",
       "3   Q194195  Organization          amusement park\n",
       "4   Q196776  Organization   certificate authority"
      ]
     },
     "execution_count": 167,
     "metadata": {},
     "output_type": "execute_result"
    }
   ],
   "source": [
    "subclasses_df.head()"
   ]
  },
  {
   "cell_type": "code",
   "execution_count": 172,
   "metadata": {},
   "outputs": [
    {
     "data": {
      "text/html": [
       "<div>\n",
       "<style scoped>\n",
       "    .dataframe tbody tr th:only-of-type {\n",
       "        vertical-align: middle;\n",
       "    }\n",
       "\n",
       "    .dataframe tbody tr th {\n",
       "        vertical-align: top;\n",
       "    }\n",
       "\n",
       "    .dataframe thead th {\n",
       "        text-align: right;\n",
       "    }\n",
       "</style>\n",
       "<table border=\"1\" class=\"dataframe\">\n",
       "  <thead>\n",
       "    <tr style=\"text-align: right;\">\n",
       "      <th></th>\n",
       "      <th>0</th>\n",
       "    </tr>\n",
       "  </thead>\n",
       "  <tbody>\n",
       "    <tr>\n",
       "      <th>0</th>\n",
       "      <td>Q228353</td>\n",
       "    </tr>\n",
       "    <tr>\n",
       "      <th>1</th>\n",
       "      <td>Q230717</td>\n",
       "    </tr>\n",
       "    <tr>\n",
       "      <th>2</th>\n",
       "      <td>Q396010</td>\n",
       "    </tr>\n",
       "    <tr>\n",
       "      <th>3</th>\n",
       "      <td>Q832115</td>\n",
       "    </tr>\n",
       "    <tr>\n",
       "      <th>4</th>\n",
       "      <td>Q1020406</td>\n",
       "    </tr>\n",
       "  </tbody>\n",
       "</table>\n",
       "</div>"
      ],
      "text/plain": [
       "          0\n",
       "0   Q228353\n",
       "1   Q230717\n",
       "2   Q396010\n",
       "3   Q832115\n",
       "4  Q1020406"
      ]
     },
     "execution_count": 172,
     "metadata": {},
     "output_type": "execute_result"
    }
   ],
   "source": [
    "pd.DataFrame(unused_classes).to_csv('csv/unused_subclasses.csv', index=False)\n",
    "pd.DataFrame(unused_classes).head()"
   ]
  },
  {
   "cell_type": "code",
   "execution_count": 168,
   "metadata": {},
   "outputs": [
    {
     "name": "stdout",
     "output_type": "stream",
     "text": [
      "mkdir: impossible de créer le répertoire « csv »: Le fichier existe\r\n"
     ]
    }
   ],
   "source": [
    "! mkdir csv"
   ]
  },
  {
   "cell_type": "code",
   "execution_count": null,
   "metadata": {},
   "outputs": [],
   "source": []
  },
  {
   "cell_type": "code",
   "execution_count": 169,
   "metadata": {},
   "outputs": [],
   "source": [
    "labels_df.to_csv('csv/subclasses_df.csv', index=False)"
   ]
  },
  {
   "cell_type": "code",
   "execution_count": 117,
   "metadata": {},
   "outputs": [
    {
     "name": "stdout",
     "output_type": "stream",
     "text": [
      "\n",
      "Subclasses{1,2}\n",
      "===============\n",
      "Organization\n",
      "3528 subclasses\n",
      "Name\n",
      "308 subclasses\n",
      "Artist\n",
      "350 subclasses\n",
      "Geolocation\n",
      "1324 subclasses\n",
      "City\n",
      "190 subclasses\n",
      "Capital\n",
      "15 subclasses\n",
      "Town\n",
      "39 subclasses\n",
      "Demonym\n",
      "6 subclasses\n",
      "Product\n",
      "3838 subclasses\n",
      "Brand\n",
      "42 subclasses\n",
      "Georegion\n",
      "978 subclasses\n",
      "Country\n",
      "51 subclasses\n",
      "\n"
     ]
    }
   ],
   "source": [
    "print('''\n",
    "Subclasses{1,2}\n",
    "===============\n",
    "Organization\n",
    "3528 subclasses\n",
    "Name\n",
    "308 subclasses\n",
    "Artist\n",
    "350 subclasses\n",
    "Geolocation\n",
    "1324 subclasses\n",
    "City\n",
    "190 subclasses\n",
    "Capital\n",
    "15 subclasses\n",
    "Town\n",
    "39 subclasses\n",
    "Demonym\n",
    "6 subclasses\n",
    "Product\n",
    "3838 subclasses\n",
    "Brand\n",
    "42 subclasses\n",
    "Georegion\n",
    "978 subclasses\n",
    "Country\n",
    "51 subclasses\n",
    "''')"
   ]
  },
  {
   "cell_type": "code",
   "execution_count": null,
   "metadata": {},
   "outputs": [],
   "source": []
  },
  {
   "cell_type": "code",
   "execution_count": 118,
   "metadata": {},
   "outputs": [
    {
     "name": "stdout",
     "output_type": "stream",
     "text": [
      "\n",
      "Subclasses*\n",
      "===========\n",
      "Organization\n",
      "18170 subclasses\n",
      "Name\n",
      "4133 subclasses\n",
      "Artist\n",
      "1250 subclasses\n",
      "Geolocation\n",
      "21131 subclasses\n",
      "City\n",
      "206 subclasses\n",
      "Capital\n",
      "16 subclasses\n",
      "Town\n",
      "41 subclasses\n",
      "Demonym\n",
      "7 subclasses\n",
      "Product\n",
      "125171 subclasses\n",
      "Brand\n",
      "90 subclasses\n",
      "Georegion\n",
      "11293 subclasses\n",
      "Country\n",
      "68 subclasses\n",
      "\n"
     ]
    }
   ],
   "source": [
    "print('''\n",
    "Subclasses*\n",
    "===========\n",
    "Organization\n",
    "18170 subclasses\n",
    "Name\n",
    "4133 subclasses\n",
    "Artist\n",
    "1250 subclasses\n",
    "Geolocation\n",
    "21131 subclasses\n",
    "City\n",
    "206 subclasses\n",
    "Capital\n",
    "16 subclasses\n",
    "Town\n",
    "41 subclasses\n",
    "Demonym\n",
    "7 subclasses\n",
    "Product\n",
    "125171 subclasses\n",
    "Brand\n",
    "90 subclasses\n",
    "Georegion\n",
    "11293 subclasses\n",
    "Country\n",
    "68 subclasses\n",
    "''')"
   ]
  },
  {
   "cell_type": "code",
   "execution_count": 109,
   "metadata": {
    "scrolled": true
   },
   "outputs": [
    {
     "data": {
      "application/vnd.jupyter.widget-view+json": {
       "model_id": "d78273bfa6fc46a3beb317648d2d3e41",
       "version_major": 2,
       "version_minor": 0
      },
      "text/plain": [
       "HBox(children=(FloatProgress(value=0.0, max=12.0), HTML(value='')))"
      ]
     },
     "metadata": {},
     "output_type": "display_data"
    },
    {
     "name": "stdout",
     "output_type": "stream",
     "text": [
      "Organization Q43229\n",
      "Name Q82799\n",
      "Artist Q483501\n",
      "Geolocation Q2221906\n",
      "City Q515\n",
      "Capital Q5119\n",
      "Town Q3957\n",
      "Demonym Q217438\n",
      "Product Q2424752\n",
      "Brand Q431289\n",
      "Georegion Q82794\n",
      "Country Q6256\n",
      "\n"
     ]
    }
   ],
   "source": [
    "url = 'https://query.wikidata.org/bigdata/namespace/wdq/sparql'\n",
    "instances = {}\n",
    "\n",
    "for label, wikidata_code in tqdm(classes.items()):\n",
    "    try:\n",
    "        print(label, wikidata_code)\n",
    "        query = \"SELECT ?entity \" + \\\n",
    "                \"WHERE { ?entity wdt:P31/wdt:P279* wd:\" + wikidata_code + \". \" + \\\n",
    "                \"        SERVICE wikibase:label { bd:serviceParam wikibase:language 'en' } }\"\n",
    "        data = requests.get(url, params={'query': query, 'format': 'json'}).json()\n",
    "        instances[label] = data['results']['bindings']\n",
    "        # print(len(results[label]), 'of results returned.')\n",
    "    except Exception as e:\n",
    "        print(str(e))"
   ]
  },
  {
   "cell_type": "code",
   "execution_count": 111,
   "metadata": {},
   "outputs": [
    {
     "name": "stdout",
     "output_type": "stream",
     "text": [
      "Organization\n",
      "2906668 results\n",
      "Name\n",
      "542138 results\n",
      "Artist\n",
      "436 results\n",
      "Geolocation\n",
      "10584664 results\n",
      "City\n",
      "33101 results\n",
      "Capital\n",
      "602 results\n",
      "Town\n",
      "44858 results\n",
      "Demonym\n",
      "620 results\n",
      "Product\n",
      "722076 results\n",
      "Brand\n",
      "8194 results\n",
      "Georegion\n",
      "6164118 results\n",
      "Country\n",
      "699 results\n"
     ]
    }
   ],
   "source": [
    "for label in classes:\n",
    "    print(label)\n",
    "    print(len(instances[label]), 'results')"
   ]
  },
  {
   "cell_type": "code",
   "execution_count": 125,
   "metadata": {},
   "outputs": [
    {
     "data": {
      "text/plain": [
       "'http://www.wikidata.org/entity/Q16'"
      ]
     },
     "execution_count": 125,
     "metadata": {},
     "output_type": "execute_result"
    }
   ],
   "source": [
    "instances[label][0]['entity']['value']"
   ]
  },
  {
   "cell_type": "code",
   "execution_count": null,
   "metadata": {},
   "outputs": [],
   "source": []
  }
 ],
 "metadata": {
  "kernelspec": {
   "display_name": "Python 3",
   "language": "python",
   "name": "python3"
  },
  "language_info": {
   "codemirror_mode": {
    "name": "ipython",
    "version": 3
   },
   "file_extension": ".py",
   "mimetype": "text/x-python",
   "name": "python",
   "nbconvert_exporter": "python",
   "pygments_lexer": "ipython3",
   "version": "3.8.2"
  }
 },
 "nbformat": 4,
 "nbformat_minor": 4
}
