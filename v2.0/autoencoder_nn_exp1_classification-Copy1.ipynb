{
 "cells": [
  {
   "cell_type": "markdown",
   "metadata": {},
   "source": [
    "# Setup"
   ]
  },
  {
   "cell_type": "code",
   "execution_count": 1,
   "metadata": {},
   "outputs": [],
   "source": [
    "import os\n",
    "os.environ[\"CUDA_VISIBLE_DEVICES\"]=\"2,3\""
   ]
  },
  {
   "cell_type": "code",
   "execution_count": 2,
   "metadata": {},
   "outputs": [],
   "source": [
    "import torch\n",
    "from torch import nn\n",
    "from torch.nn import functional as F\n",
    "from torch.utils import data\n",
    "from torch.utils.data import DataLoader\n",
    "from torch.utils.tensorboard import SummaryWriter\n",
    "\n",
    "import re\n",
    "import time\n",
    "import pickle\n",
    "\n",
    "import numpy as np\n",
    "import pandas as pd\n",
    "from tqdm.notebook import tqdm\n",
    "from collections import Counter\n",
    "\n",
    "from sklearn import metrics\n",
    "from sklearn.metrics import classification_report, f1_score"
   ]
  },
  {
   "cell_type": "code",
   "execution_count": 3,
   "metadata": {},
   "outputs": [
    {
     "data": {
      "text/plain": [
       "<torch._C.Generator at 0x7f546a49c2b0>"
      ]
     },
     "execution_count": 3,
     "metadata": {},
     "output_type": "execute_result"
    }
   ],
   "source": [
    "seed = 42\n",
    "np.random.seed(seed)\n",
    "torch.manual_seed(seed)"
   ]
  },
  {
   "cell_type": "code",
   "execution_count": 4,
   "metadata": {},
   "outputs": [
    {
     "data": {
      "text/plain": [
       "device(type='cuda')"
      ]
     },
     "execution_count": 4,
     "metadata": {},
     "output_type": "execute_result"
    }
   ],
   "source": [
    "device = torch.device(\"cuda\" if torch.cuda.is_available() else \"cpu\")\n",
    "device"
   ]
  },
  {
   "cell_type": "code",
   "execution_count": 40,
   "metadata": {},
   "outputs": [
    {
     "data": {
      "application/vnd.jupyter.widget-view+json": {
       "model_id": "7072dcffae304bd0a2015aa4d1bdfd6b",
       "version_major": 2,
       "version_minor": 0
      },
      "text/plain": [
       "HBox(children=(FloatProgress(value=0.0, max=178610.0), HTML(value='')))"
      ]
     },
     "metadata": {},
     "output_type": "display_data"
    },
    {
     "name": "stdout",
     "output_type": "stream",
     "text": [
      "\n"
     ]
    },
    {
     "data": {
      "application/vnd.jupyter.widget-view+json": {
       "model_id": "6ef05ae556404f6b82021a44a6e4de8e",
       "version_major": 2,
       "version_minor": 0
      },
      "text/plain": [
       "HBox(children=(FloatProgress(value=0.0, max=44900.0), HTML(value='')))"
      ]
     },
     "metadata": {},
     "output_type": "display_data"
    },
    {
     "name": "stdout",
     "output_type": "stream",
     "text": [
      "\n"
     ]
    },
    {
     "data": {
      "application/vnd.jupyter.widget-view+json": {
       "model_id": "bd2b9f0919dc4a3da41b81cec0671d5b",
       "version_major": 2,
       "version_minor": 0
      },
      "text/plain": [
       "HBox(children=(FloatProgress(value=0.0, max=40760.0), HTML(value='')))"
      ]
     },
     "metadata": {},
     "output_type": "display_data"
    },
    {
     "name": "stdout",
     "output_type": "stream",
     "text": [
      "\n"
     ]
    }
   ],
   "source": [
    "dataset = {'train': [], 'validation': [], 'test': []}\n",
    "dataset_path = '/data/graphner_embeddings/autoencoder_embeddings_500_2epochs/'\n",
    "\n",
    "for split in dataset:\n",
    "    files_list = os.listdir(dataset_path+split)\n",
    "    for i, filename in tqdm(enumerate(sorted(files_list)), total=len(files_list)):\n",
    "        dataset[split].append(pickle.load(open(dataset_path+split+'/'+str(i)+'.pickle', 'rb')))"
   ]
  },
  {
   "cell_type": "code",
   "execution_count": 7,
   "metadata": {},
   "outputs": [
    {
     "name": "stdout",
     "output_type": "stream",
     "text": [
      "{'LOC': 0, 'MISC': 1, 'O': 2, 'ORG': 3, 'PER': 4}\n"
     ]
    }
   ],
   "source": [
    "labels = pickle.load(open('labels.pickle', 'rb'))\n",
    "label2id = {l: i for i, l in enumerate(labels)}\n",
    "print(label2id)"
   ]
  },
  {
   "cell_type": "markdown",
   "metadata": {},
   "source": [
    "# Dataset"
   ]
  },
  {
   "cell_type": "code",
   "execution_count": 8,
   "metadata": {},
   "outputs": [
    {
     "data": {
      "text/plain": [
       "(array([-0.01436732,  0.04050591, -0.00089871,  0.00945008,  0.02446665,\n",
       "        -0.01244789,  0.01709336, -0.02142077,  0.01187329,  0.01046528,\n",
       "        -0.021883  , -0.00136595,  0.00600611, -0.01329236,  0.00486688,\n",
       "         0.02181063, -0.00594544, -0.02839023,  0.02226341,  0.0151037 ,\n",
       "        -0.0096951 , -0.02007345, -0.00057336, -0.01848148,  0.00721815,\n",
       "         0.00165754,  0.04607863,  0.06198069, -0.02297092,  0.02197368,\n",
       "         0.01691943,  0.01164624,  0.00712457, -0.00355437,  0.01439966,\n",
       "        -0.00907129,  0.00530745, -0.00834707, -0.0026083 ,  0.01280503,\n",
       "         0.00142022,  0.02363534, -0.03480102, -0.01278157,  0.00336421,\n",
       "         0.00258736,  0.02497259,  0.00027705, -0.05701809, -0.01597444,\n",
       "         0.00752685,  0.05145542,  0.01890014,  0.03247196,  0.01299692,\n",
       "        -0.01778115, -0.00883749, -0.01173777, -0.05013476,  0.01755121,\n",
       "         0.00861797,  0.00312549, -0.02273303,  0.02541528, -0.05910432,\n",
       "        -0.0291328 ,  0.00334541,  0.04204424, -0.01044459, -0.02113933,\n",
       "         0.01347197,  0.00128064,  0.02487892,  0.01370504,  0.00421011,\n",
       "        -0.05049748,  0.01615922,  0.00709277,  0.06450297, -0.01467529,\n",
       "        -0.00653053, -0.01353981,  0.04762831,  0.01984323,  0.02382691,\n",
       "         0.00949728, -0.01929056, -0.00172628, -0.00695488, -0.0021713 ,\n",
       "        -0.01083649,  0.01106528, -0.02183146,  0.01399177,  0.04419112,\n",
       "         0.04335982,  0.02181264,  0.01610149, -0.05161913, -0.0227374 ],\n",
       "       dtype=float32),\n",
       " array([-0.01917569,  0.04771179,  0.00485892,  0.01390268,  0.02829424,\n",
       "         0.01589059, -0.00286148, -0.01491133, -0.010479  , -0.02783929,\n",
       "        -0.0479333 ,  0.00693408, -0.01635283, -0.00351508, -0.04800835,\n",
       "         0.06085267,  0.02067868, -0.00981375, -0.01869173,  0.00435428,\n",
       "        -0.01510583, -0.02316767,  0.0329866 ,  0.01593705, -0.01142739,\n",
       "        -0.01377697,  0.05732867,  0.00083542, -0.05592344, -0.01584338,\n",
       "        -0.02851371,  0.02911383, -0.00012272, -0.0022298 , -0.0040642 ,\n",
       "         0.02143811, -0.00167844,  0.02468594, -0.00591915, -0.02011386,\n",
       "         0.01930366, -0.00779271, -0.05816623, -0.01378848,  0.00103191,\n",
       "        -0.00753396,  0.0371111 ,  0.00390483, -0.043047  ,  0.00621324,\n",
       "         0.0101429 ,  0.07450184,  0.01466969, -0.01441283,  0.01117642,\n",
       "        -0.0085429 ,  0.02140882,  0.00021518, -0.06209982, -0.01968094,\n",
       "         0.01826865,  0.02189183,  0.01712247,  0.06088943, -0.04015265,\n",
       "        -0.00373718,  0.02864338,  0.08610339, -0.0521441 , -0.03208834,\n",
       "        -0.00360581, -0.01640801,  0.0166745 ,  0.012815  ,  0.0617812 ,\n",
       "        -0.05562921, -0.02701945, -0.00093228,  0.07225795, -0.05063361,\n",
       "        -0.00767274, -0.01550023,  0.0696874 ,  0.02233309,  0.05181769,\n",
       "         0.02977587, -0.04584254,  0.01122629,  0.01952809, -0.0176998 ,\n",
       "        -0.02394732,  0.03841984, -0.03018438,  0.01954942,  0.04755312,\n",
       "         0.01535388,  0.07315195,  0.00399058, -0.03632822, -0.02310365],\n",
       "       dtype=float32),\n",
       " array([-0.01998528,  0.06140406, -0.01689734,  0.01086774,  0.00043644,\n",
       "         0.02974329,  0.00428142,  0.03337275, -0.01299167, -0.02324954,\n",
       "         0.01579398,  0.00036821,  0.04762214, -0.00334917, -0.03503066,\n",
       "         0.01313418, -0.02974389, -0.00380381, -0.0348433 ,  0.0053069 ,\n",
       "        -0.02677554, -0.02050266, -0.03241744, -0.00261099,  0.00613597,\n",
       "         0.0221622 , -0.05615589,  0.03370778, -0.0034384 , -0.06131897,\n",
       "        -0.00141562,  0.04299732, -0.00612831, -0.00212215,  0.00473498,\n",
       "         0.00944516, -0.00319361,  0.01348259, -0.01390363,  0.03778455,\n",
       "         0.00012469, -0.03860153, -0.0215433 ,  0.03108594, -0.00942145,\n",
       "         0.00816347,  0.02579814,  0.00025645,  0.01023007,  0.0007512 ,\n",
       "        -0.10531318,  0.04205637,  0.02571388, -0.00357242,  0.00420629,\n",
       "        -0.01332401,  0.01837829, -0.01426626,  0.07179295,  0.02337685,\n",
       "         0.02673718,  0.01600922, -0.01571298,  0.0100863 , -0.04866321,\n",
       "        -0.05490866,  0.01190434,  0.03053717,  0.00647812,  0.00300356,\n",
       "         0.02363003,  0.00710592, -0.01928756,  0.0115346 , -0.04605401,\n",
       "         0.03955933, -0.02038191, -0.01767027,  0.04356902, -0.01236155,\n",
       "        -0.03900416, -0.01031336,  0.02444361, -0.01188769, -0.05189015,\n",
       "        -0.04432634, -0.05405087,  0.0144925 , -0.03462966, -0.00819284,\n",
       "         0.00479684,  0.00298729,  0.0125651 ,  0.00673919,  0.03753633,\n",
       "         0.02270783,  0.02704328, -0.03908682,  0.01587725, -0.02070899],\n",
       "       dtype=float32),\n",
       " array([ 0.01401266, -0.00084656, -0.00423335, -0.00254201, -0.01083706,\n",
       "        -0.06405899, -0.0145183 , -0.0230698 ,  0.05569806, -0.00109469,\n",
       "        -0.00914568,  0.0156364 ,  0.07494706, -0.07619634, -0.04195499,\n",
       "        -0.00242084, -0.02469837,  0.04774392,  0.02369795, -0.04432754,\n",
       "         0.05249836, -0.0405385 ,  0.02750217, -0.0699283 , -0.01800011,\n",
       "         0.02910647,  0.04028557,  0.08318532,  0.01014808,  0.01546253,\n",
       "        -0.04294683, -0.0755002 ,  0.00706534,  0.04303781, -0.02613031,\n",
       "         0.00339295,  0.00967593,  0.05374794, -0.02339805,  0.13101014,\n",
       "         0.03654256, -0.04338969, -0.00812581, -0.01648654, -0.00035797,\n",
       "         0.04618622, -0.0356916 ,  0.00696938, -0.07530594, -0.03097433,\n",
       "        -0.03014098,  0.00885556,  0.03570158,  0.02398523,  0.01691537,\n",
       "        -0.03912086,  0.02179383, -0.01995742, -0.07632768, -0.05008879,\n",
       "         0.03050174,  0.040692  , -0.00751139, -0.00048595, -0.06520132,\n",
       "        -0.04147507,  0.01803616,  0.02329545,  0.01247906, -0.01558404,\n",
       "        -0.01674441, -0.00715629,  0.03147133, -0.05792258,  0.04417064,\n",
       "         0.02601556,  0.05398833, -0.00890156,  0.04229205, -0.07445784,\n",
       "         0.03936414,  0.0507979 ,  0.04926785,  0.04334425,  0.11092927,\n",
       "        -0.0094538 , -0.02036751, -0.01025363,  0.00359898, -0.03725953,\n",
       "        -0.0123837 , -0.00174945, -0.07149419,  0.02616425,  0.0139759 ,\n",
       "         0.01343286, -0.02808333, -0.06149055, -0.00375873,  0.01893982],\n",
       "       dtype=float32),\n",
       " array([ 1.3813581e-02,  1.0590914e-02, -1.0882699e-02, -3.0441619e-03,\n",
       "        -1.4674999e-03, -3.5532787e-02, -2.9600143e-02, -1.1847083e-02,\n",
       "         3.3588618e-02, -2.6680939e-02, -4.1325003e-02,  2.3496017e-02,\n",
       "         4.8693724e-02, -6.8562701e-02, -8.3678707e-02,  3.3077531e-02,\n",
       "         5.6445152e-03,  5.8414042e-02, -1.8047094e-03, -5.1054548e-02,\n",
       "         4.7772251e-02, -4.5148343e-02,  5.3704470e-02, -3.9683633e-02,\n",
       "        -2.4540130e-02,  6.7581451e-03,  4.3519717e-02,  3.1688616e-02,\n",
       "        -1.7271839e-02, -5.1283576e-03, -6.8889983e-02, -5.2872531e-02,\n",
       "        -6.8686903e-05,  4.0361233e-02, -3.7139893e-02,  2.7055718e-02,\n",
       "         7.1362350e-03,  7.3001325e-02, -2.3766352e-02,  1.0056857e-01,\n",
       "         3.7252426e-02, -6.3646130e-02, -2.8096110e-02, -1.8640250e-02,\n",
       "        -2.9628146e-03,  3.1961232e-02, -1.2514256e-02,  1.2978699e-02,\n",
       "        -5.8820967e-02, -1.1338035e-02, -2.1759361e-02,  2.7869452e-02,\n",
       "         3.7193552e-02, -1.4962242e-02,  1.6818391e-02, -3.3709195e-02,\n",
       "         4.4814296e-02, -4.3530799e-03, -9.1879308e-02, -6.6727117e-02,\n",
       "         4.4121340e-02,  6.2851593e-02,  1.7674278e-02,  3.3046857e-02,\n",
       "        -4.7395781e-02, -2.6387965e-02,  3.9790232e-02,  6.0654581e-02,\n",
       "        -2.4150141e-02, -3.1962976e-02, -2.6465353e-02, -1.5875505e-02,\n",
       "         2.0340547e-02, -4.6837475e-02,  9.3713343e-02,  2.3418892e-02,\n",
       "         1.2332037e-02, -4.9817748e-03,  4.5751888e-02, -9.3875274e-02,\n",
       "         2.7700517e-02,  3.3828609e-02,  6.8345137e-02,  3.9388206e-02,\n",
       "         1.2316143e-01,  5.6736395e-03, -3.7627038e-02,  1.9251043e-03,\n",
       "         2.1659426e-02, -4.0382318e-02, -1.2040060e-02,  2.4727661e-02,\n",
       "        -8.1161678e-02,  2.3616254e-02,  1.9962601e-02, -1.1205786e-02,\n",
       "         1.1755517e-02, -6.5858439e-02,  4.0894775e-03,  4.9669887e-03],\n",
       "       dtype=float32),\n",
       " array([ 0.0025639 ,  0.0093865 , -0.01995236,  0.0238725 ,  0.03323576,\n",
       "        -0.00686146, -0.02869068,  0.00449981,  0.04483229, -0.01914429,\n",
       "        -0.02708744,  0.0279142 ,  0.06006771, -0.09794185, -0.05822096,\n",
       "        -0.04507488, -0.02632475,  0.03072066,  0.02318176, -0.00628474,\n",
       "         0.0636991 , -0.00768011,  0.07152362, -0.06333718, -0.00368957,\n",
       "         0.02434427,  0.01175905,  0.07787015,  0.03761063, -0.02362948,\n",
       "        -0.00121158, -0.12565544,  0.00839053,  0.0535506 ,  0.03029168,\n",
       "         0.02778254,  0.00544805,  0.06032103, -0.03874768,  0.18130538,\n",
       "        -0.0055778 , -0.08311068, -0.0364015 ,  0.00633573,  0.00491537,\n",
       "         0.02835852, -0.07278129,  0.03346081,  0.00144311, -0.01554857,\n",
       "        -0.03321972, -0.03709712,  0.03773865,  0.01731795, -0.00576715,\n",
       "         0.02528962,  0.01652026, -0.00975567, -0.14990768, -0.04787942,\n",
       "        -0.0216136 ,  0.03289624,  0.0327422 , -0.01810521, -0.06695408,\n",
       "        -0.07748066,  0.05161206,  0.06727775,  0.05041945,  0.06753377,\n",
       "        -0.00481687,  0.02936193, -0.02295365, -0.02863821,  0.0373153 ,\n",
       "        -0.00925123,  0.01189732, -0.00144206,  0.06266619, -0.04493693,\n",
       "        -0.0391411 ,  0.02251083, -0.01317519,  0.04769213,  0.05396869,\n",
       "        -0.07187262, -0.03456346, -0.00454291,  0.00211939, -0.02162071,\n",
       "        -0.02423604, -0.03613065, -0.06493726, -0.01329351,  0.02649769,\n",
       "        -0.0063525 ,  0.00071327, -0.00900025,  0.01936885,  0.00420025],\n",
       "       dtype=float32),\n",
       " array([ 0.08235991, -0.0375344 ,  0.01088648,  0.06483221, -0.05761697,\n",
       "        -0.02327378,  0.01389576, -0.00203393,  0.05833596, -0.02819575,\n",
       "        -0.00450432, -0.03200903,  0.06689771,  0.001777  , -0.06299014,\n",
       "        -0.02235633,  0.05457356,  0.03095271,  0.02919629, -0.01907063,\n",
       "         0.00661315,  0.00650121,  0.06339071, -0.03770275,  0.01671355,\n",
       "         0.03202705, -0.04195943,  0.09455004, -0.03127047, -0.07161921,\n",
       "         0.01375658,  0.00046045,  0.0293862 , -0.01073051, -0.01909219,\n",
       "         0.01133266, -0.01470197,  0.00447979, -0.00216763,  0.03602723,\n",
       "         0.01955645, -0.05503713, -0.02646879, -0.02241815, -0.05138325,\n",
       "         0.0076077 ,  0.04494727,  0.00972735, -0.03004136, -0.04547533,\n",
       "        -0.14005248, -0.06932753,  0.0079123 ,  0.10300184,  0.01129582,\n",
       "        -0.03513483, -0.0204249 , -0.03035079,  0.01642589, -0.04347907,\n",
       "         0.00879503,  0.00439167, -0.03572002, -0.00919388, -0.02670889,\n",
       "        -0.02201853, -0.03586985, -0.00483294, -0.02237116, -0.01423111,\n",
       "        -0.00654227, -0.02164675, -0.01008788, -0.00454377, -0.01049046,\n",
       "         0.09811391, -0.00395551, -0.02023746,  0.01080842, -0.02693624,\n",
       "        -0.00980113,  0.05769791,  0.05518822, -0.02941492,  0.12687737,\n",
       "        -0.03209963, -0.00894123,  0.03180036,  0.01373584,  0.00274435,\n",
       "        -0.03721201,  0.01120189,  0.01378929,  0.03077462, -0.06359081,\n",
       "        -0.00298452, -0.05601264,  0.0202151 ,  0.11987758, -0.03793644],\n",
       "       dtype=float32),\n",
       " array([-0.0137297 , -0.01988689, -0.07222091,  0.05598229, -0.00490603,\n",
       "         0.02112747,  0.02455111, -0.01321434, -0.00932913, -0.02768221,\n",
       "         0.00204411, -0.03544607,  0.01159806,  0.03113475, -0.05265163,\n",
       "        -0.01537408,  0.03415193,  0.00711791, -0.03398971, -0.00908026,\n",
       "         0.01755281, -0.009772  ,  0.0359715 , -0.04487849,  0.05071199,\n",
       "         0.01144676,  0.02135213,  0.11704494,  0.05425685, -0.03829013,\n",
       "        -0.07775992, -0.02183059, -0.01635545, -0.07455821,  0.04379357,\n",
       "        -0.00347815,  0.02815918, -0.00163754,  0.00411801,  0.11719439,\n",
       "        -0.03806707, -0.05088531, -0.03497383,  0.03690692,  0.04538157,\n",
       "         0.00657731,  0.07850303,  0.02241996,  0.04987518, -0.09138199,\n",
       "         0.02157591, -0.07375078,  0.00193645,  0.07693881,  0.01693003,\n",
       "         0.01123876, -0.02068589, -0.0282202 , -0.08174533,  0.00632741,\n",
       "        -0.03790976, -0.03182513,  0.0881298 , -0.00485982, -0.0478706 ,\n",
       "        -0.07617814, -0.00243232,  0.05811603,  0.05675521,  0.03765133,\n",
       "         0.02258485, -0.00345317, -0.08495345,  0.00237899,  0.00114277,\n",
       "         0.002964  , -0.01502853, -0.00150119,  0.00648823, -0.01931319,\n",
       "         0.03032473,  0.00874083, -0.01010248,  0.04039577, -0.0630272 ,\n",
       "        -0.07089972,  0.00594546, -0.01991021,  0.01235053,  0.00560151,\n",
       "        -0.00172751, -0.00910347, -0.0336848 , -0.03250688, -0.03716622,\n",
       "         0.13121489,  0.03804534, -0.02774924,  0.02479723,  0.01324329],\n",
       "       dtype=float32),\n",
       " array([-0.05382786,  0.05210398, -0.00423511,  0.03290009,  0.03010475,\n",
       "         0.023738  ,  0.02891207, -0.0284251 , -0.00568575, -0.00544547,\n",
       "         0.00718753, -0.00473133, -0.02260931,  0.00859397, -0.02072665,\n",
       "         0.01833217, -0.00836578, -0.01137445,  0.01962386,  0.0190929 ,\n",
       "        -0.01509506, -0.03484124, -0.00272283,  0.00219589, -0.00612273,\n",
       "        -0.00780636,  0.05098629,  0.06696487, -0.01268072,  0.0330563 ,\n",
       "         0.00301467,  0.02307781, -0.00171711, -0.05799812, -0.01717597,\n",
       "         0.01044664,  0.00784746, -0.03063816,  0.01142802,  0.06841908,\n",
       "         0.00312409,  0.03318363, -0.00527264, -0.01576998, -0.00071715,\n",
       "        -0.00807078,  0.04614865, -0.02081246, -0.04867059, -0.04330236,\n",
       "         0.02806781,  0.01994309, -0.00675301,  0.06263913,  0.017092  ,\n",
       "        -0.03871561, -0.00577732, -0.01606317, -0.04531239, -0.01315444,\n",
       "        -0.00087373, -0.02196473,  0.03134166,  0.01465699, -0.05491833,\n",
       "        -0.02934735,  0.01545028,  0.04811308, -0.00929443,  0.00062877,\n",
       "        -0.00606575, -0.00564755,  0.01720985,  0.00755053, -0.03057114,\n",
       "        -0.05439839,  0.02333932,  0.00112087,  0.05394778, -0.01340621,\n",
       "         0.06916338, -0.01983719,  0.04780283,  0.05457246,  0.01643561,\n",
       "        -0.00200347, -0.02063766, -0.01981087, -0.0113257 , -0.01668584,\n",
       "         0.00378671, -0.01744654, -0.02170747,  0.01237171, -0.00596029,\n",
       "         0.06319761,  0.01553406,  0.00155971, -0.04192061,  0.03131547],\n",
       "       dtype=float32),\n",
       " array([ 0.07675488,  0.0128963 ,  0.04073356, -0.01323415, -0.04076463,\n",
       "        -0.05780236, -0.00255085,  0.00918539,  0.00398804,  0.01725849,\n",
       "        -0.00415011,  0.01200105, -0.00192555, -0.01051583,  0.01700033,\n",
       "         0.02248272, -0.00115575,  0.04678962, -0.01838282, -0.00648022,\n",
       "         0.04207475, -0.00949672,  0.0242523 , -0.02849274, -0.02132628,\n",
       "         0.00762204,  0.01256962,  0.06757277,  0.00820348, -0.04371841,\n",
       "        -0.013129  , -0.08304124,  0.01510209,  0.01683781, -0.03842037,\n",
       "         0.03705377, -0.00231345,  0.00935952,  0.00126217,  0.08338975,\n",
       "         0.02644923,  0.02445065,  0.06299759, -0.01997175, -0.01724127,\n",
       "         0.01458162, -0.03488073, -0.01333657, -0.02363366, -0.03566668,\n",
       "         0.08854325, -0.0153837 , -0.00017171, -0.00498026, -0.00595833,\n",
       "        -0.02555311, -0.00012706, -0.00011563,  0.00113374,  0.0128394 ,\n",
       "         0.02727373,  0.01068895, -0.04050687, -0.01957204, -0.00871907,\n",
       "         0.03827823, -0.00437308, -0.0305567 ,  0.01484037, -0.02937608,\n",
       "        -0.02059597, -0.00671256,  0.03001582, -0.03865609,  0.03659345,\n",
       "         0.00611199,  0.04131443, -0.01939751, -0.04449543, -0.00174902,\n",
       "         0.03178574,  0.03399481, -0.00423758,  0.00322511,  0.0757327 ,\n",
       "         0.00903358,  0.03033047,  0.00396252,  0.03901112, -0.01619632,\n",
       "        -0.00066874, -0.00495905, -0.00389322,  0.0145622 ,  0.00384667,\n",
       "        -0.04616179, -0.01839113, -0.00928163,  0.0772725 ,  0.02488018],\n",
       "       dtype=float32))"
      ]
     },
     "execution_count": 8,
     "metadata": {},
     "output_type": "execute_result"
    }
   ],
   "source": [
    "x = list(zip(*dataset[split][:10]))\n",
    "x[0]"
   ]
  },
  {
   "cell_type": "code",
   "execution_count": 41,
   "metadata": {},
   "outputs": [],
   "source": [
    "class Dataset(torch.utils.data.Dataset):\n",
    "    def __init__(self, dataset, split, label2id=label2id):\n",
    "        X, Y = zip(*dataset[split])\n",
    "\n",
    "        self.X = [torch.tensor(x) for x in X]\n",
    "        self.Y = [torch.tensor(y) for y in Y]\n",
    "        self.X_len = len(X)\n",
    "        self.labels = sorted(label2id.keys())\n",
    "        self.label2id = label2id\n",
    "\n",
    "    def __len__(self):\n",
    "        return self.X_len\n",
    "\n",
    "    def __getitem__(self, index):\n",
    "        x = self.X[index]\n",
    "        y = self.Y[index]\n",
    "        \n",
    "        return x, y\n",
    "\n",
    "    def labels(self):\n",
    "        return self.labels\n",
    "    \n",
    "    def Y(self):\n",
    "        return self.Y"
   ]
  },
  {
   "cell_type": "code",
   "execution_count": 12,
   "metadata": {},
   "outputs": [],
   "source": [
    "train_set = Dataset(dataset, 'train')\n",
    "dev_set = Dataset(dataset, 'validation')\n",
    "test_set = Dataset(dataset, 'test')"
   ]
  },
  {
   "cell_type": "code",
   "execution_count": 13,
   "metadata": {},
   "outputs": [],
   "source": [
    "batch_size = 256\n",
    "num_workers = 4\n",
    "\n",
    "train_loader = torch.utils.data.DataLoader(train_set, batch_size=batch_size, num_workers=num_workers, shuffle=True)\n",
    "dev_loader = torch.utils.data.DataLoader(dev_set, batch_size=batch_size, num_workers=num_workers, shuffle=False)\n",
    "test_loader = torch.utils.data.DataLoader(test_set, batch_size=batch_size, num_workers=num_workers, shuffle=False)"
   ]
  },
  {
   "cell_type": "code",
   "execution_count": 14,
   "metadata": {},
   "outputs": [
    {
     "name": "stdout",
     "output_type": "stream",
     "text": [
      "torch.Size([256, 100])\n",
      "torch.Size([256])\n"
     ]
    }
   ],
   "source": [
    "input_dim = 0\n",
    "for local_features, local_labels in train_loader:\n",
    "    input_dim = local_features.shape[1]\n",
    "    print(local_features.shape)\n",
    "    print(local_labels.shape)\n",
    "    break"
   ]
  },
  {
   "cell_type": "code",
   "execution_count": 15,
   "metadata": {},
   "outputs": [
    {
     "data": {
      "text/plain": [
       "100"
      ]
     },
     "execution_count": 15,
     "metadata": {},
     "output_type": "execute_result"
    }
   ],
   "source": [
    "input_dim"
   ]
  },
  {
   "cell_type": "code",
   "execution_count": 16,
   "metadata": {},
   "outputs": [
    {
     "name": "stdout",
     "output_type": "stream",
     "text": [
      "Counter({2: 144631, 4: 11124, 3: 9984, 0: 8288, 1: 4583})\n"
     ]
    }
   ],
   "source": [
    "training_counter = Counter([y.item() for y in train_set.Y])\n",
    "print(training_counter)"
   ]
  },
  {
   "cell_type": "code",
   "execution_count": 17,
   "metadata": {},
   "outputs": [
    {
     "data": {
      "text/plain": [
       "['LOC', 'MISC', 'O', 'ORG', 'PER']"
      ]
     },
     "execution_count": 17,
     "metadata": {},
     "output_type": "execute_result"
    }
   ],
   "source": [
    "labels"
   ]
  },
  {
   "cell_type": "markdown",
   "metadata": {},
   "source": [
    "# The Model"
   ]
  },
  {
   "cell_type": "code",
   "execution_count": 30,
   "metadata": {},
   "outputs": [],
   "source": [
    "def backprop(batch_X, batch_Y, model, optimizer, loss_fn):\n",
    "    Y_hat = model(batch_X)\n",
    "    loss = loss_fn(Y_hat, batch_Y)\n",
    "    loss.backward()\n",
    "    optimizer.step()\n",
    "    \n",
    "    return loss.item()\n",
    "\n",
    "class FeedForwardNetwork(nn.Module):\n",
    "    def __init__(self, input_dim=input_dim, hidden_dim=1024, output_dim=5, dropout_rate=0.2):\n",
    "        super().__init__()\n",
    "        self.fc1 = nn.Linear(input_dim, hidden_dim)\n",
    "        self.fch = nn.Linear(hidden_dim, hidden_dim)\n",
    "        self.fc2 = nn.Linear(hidden_dim, output_dim)\n",
    "        self.relu = nn.ReLU()\n",
    "\n",
    "        # extra layers layers\n",
    "        self.dropout = nn.Dropout(p=dropout_rate)\n",
    "        \n",
    "    def forward(self, x):\n",
    "        x = self.fc1(x)\n",
    "        x = self.relu(x)\n",
    "        x = self.dropout(x)\n",
    "        x = self.fch(x)\n",
    "        x = self.relu(x)\n",
    "        x = self.dropout(x)\n",
    "        logits = self.fc2(x)\n",
    "\n",
    "        return logits"
   ]
  },
  {
   "cell_type": "code",
   "execution_count": 31,
   "metadata": {},
   "outputs": [],
   "source": [
    "ffnet = FeedForwardNetwork(dropout_rate=0.2).to(device)"
   ]
  },
  {
   "cell_type": "code",
   "execution_count": 32,
   "metadata": {},
   "outputs": [],
   "source": [
    "logs = {'loss/train': {}, 'dev': {}}\n",
    "writer = SummaryWriter(comment='xp5-autoreg-wei2-lr1e3-mom0.9-wd5e4-hd1024-dr0.2-bs64-dim100', log_dir=None,)"
   ]
  },
  {
   "cell_type": "code",
   "execution_count": 33,
   "metadata": {},
   "outputs": [
    {
     "name": "stdout",
     "output_type": "stream",
     "text": [
      "tensor([0.7436, 1.0000, 0.1780, 0.6775, 0.6419], device='cuda:0')\n"
     ]
    }
   ],
   "source": [
    "label_counter   = Counter([y.item() for y in train_set.Y])\n",
    "labels_freqs    = [label_counter[label] / sum(label_counter.values()) for label in range(len(labels))]\n",
    "labels_weights1 = [min(label_counter.values()) / label_counter[label] for label in range(len(labels))]\n",
    "labels_weights2 = [np.sqrt(min(label_counter.values())) / np.sqrt(label_counter[label]) for label in range(len(labels))]\n",
    "\n",
    "weights = torch.Tensor(labels_weights2).to(device)\n",
    "print(weights)"
   ]
  },
  {
   "cell_type": "code",
   "execution_count": 34,
   "metadata": {},
   "outputs": [],
   "source": [
    "optimizer_params = {'lr': 1e-3, \n",
    "                    'momentum': 0.9, \n",
    "                    'weight_decay': 5e-4,\n",
    "                   }\n",
    "\n",
    "log_interval = int(len(train_loader) / 2)\n",
    "\n",
    "loss_fn = nn.CrossEntropyLoss(weight=weights)\n",
    "optimizer = torch.optim.SGD(ffnet.parameters(), **optimizer_params)"
   ]
  },
  {
   "cell_type": "code",
   "execution_count": 37,
   "metadata": {
    "scrolled": false
   },
   "outputs": [
    {
     "name": "stdout",
     "output_type": "stream",
     "text": [
      "Epoch 20\n"
     ]
    },
    {
     "data": {
      "application/vnd.jupyter.widget-view+json": {
       "model_id": "4f52d51b4b15479f815c3cee5d73b1c2",
       "version_major": 2,
       "version_minor": 0
      },
      "text/plain": [
       "HBox(children=(FloatProgress(value=0.0, max=698.0), HTML(value='')))"
      ]
     },
     "metadata": {},
     "output_type": "display_data"
    },
    {
     "name": "stdout",
     "output_type": "stream",
     "text": [
      "Train Epoch: 20 [0/178610 (0%)]\tLoss: 0.704399\n",
      "Train Epoch: 20 [89344/178610 (50%)]\tLoss: 0.675723\n",
      "\n",
      "Average loss on epoch 20: 0.7226199455623299\n"
     ]
    },
    {
     "data": {
      "application/vnd.jupyter.widget-view+json": {
       "model_id": "48d3adf38f54467d825011a87064b13a",
       "version_major": 2,
       "version_minor": 0
      },
      "text/plain": [
       "HBox(children=(FloatProgress(value=0.0, max=176.0), HTML(value='')))"
      ]
     },
     "metadata": {},
     "output_type": "display_data"
    },
    {
     "name": "stdout",
     "output_type": "stream",
     "text": [
      "\n",
      "              precision    recall  f1-score   support\n",
      "\n",
      "           0     0.5258    0.4653    0.4937      2366\n",
      "           1     0.3047    0.5026    0.3794       768\n",
      "           2     0.9491    0.9773    0.9630     35290\n",
      "           3     0.2674    0.2451    0.2558      2252\n",
      "           4     0.7922    0.5883    0.6752      4224\n",
      "\n",
      "    accuracy                         0.8689     44900\n",
      "   macro avg     0.5678    0.5557    0.5534     44900\n",
      "weighted avg     0.8669    0.8689    0.8658     44900\n",
      "\n",
      "Epoch 21\n"
     ]
    },
    {
     "data": {
      "application/vnd.jupyter.widget-view+json": {
       "model_id": "5058143c893744baa0aef5b88efe2d11",
       "version_major": 2,
       "version_minor": 0
      },
      "text/plain": [
       "HBox(children=(FloatProgress(value=0.0, max=698.0), HTML(value='')))"
      ]
     },
     "metadata": {},
     "output_type": "display_data"
    },
    {
     "name": "stdout",
     "output_type": "stream",
     "text": [
      "Train Epoch: 21 [0/178610 (0%)]\tLoss: 0.603451\n",
      "Train Epoch: 21 [89344/178610 (50%)]\tLoss: 0.722879\n",
      "\n",
      "Average loss on epoch 21: 0.7166048536840346\n"
     ]
    },
    {
     "data": {
      "application/vnd.jupyter.widget-view+json": {
       "model_id": "e7d4d49f4a424c00aa1840090bdefda0",
       "version_major": 2,
       "version_minor": 0
      },
      "text/plain": [
       "HBox(children=(FloatProgress(value=0.0, max=176.0), HTML(value='')))"
      ]
     },
     "metadata": {},
     "output_type": "display_data"
    },
    {
     "name": "stdout",
     "output_type": "stream",
     "text": [
      "\n",
      "              precision    recall  f1-score   support\n",
      "\n",
      "           0     0.5277    0.4720    0.4983      2341\n",
      "           1     0.3181    0.5088    0.3915       792\n",
      "           2     0.9484    0.9783    0.9631     35228\n",
      "           3     0.2626    0.2501    0.2562      2167\n",
      "           4     0.8135    0.5837    0.6797      4372\n",
      "\n",
      "    accuracy                         0.8700     44900\n",
      "   macro avg     0.5741    0.5586    0.5578     44900\n",
      "weighted avg     0.8691    0.8700    0.8671     44900\n",
      "\n",
      "Epoch 22\n"
     ]
    },
    {
     "data": {
      "application/vnd.jupyter.widget-view+json": {
       "model_id": "abf980e847494b82aeca4e277bcb13cd",
       "version_major": 2,
       "version_minor": 0
      },
      "text/plain": [
       "HBox(children=(FloatProgress(value=0.0, max=698.0), HTML(value='')))"
      ]
     },
     "metadata": {},
     "output_type": "display_data"
    },
    {
     "name": "stdout",
     "output_type": "stream",
     "text": [
      "Train Epoch: 22 [0/178610 (0%)]\tLoss: 0.723439\n",
      "Train Epoch: 22 [89344/178610 (50%)]\tLoss: 0.729772\n",
      "\n",
      "Average loss on epoch 22: 0.7118285242414748\n"
     ]
    },
    {
     "data": {
      "application/vnd.jupyter.widget-view+json": {
       "model_id": "e77346f1ad40489e8d814f8e27a41970",
       "version_major": 2,
       "version_minor": 0
      },
      "text/plain": [
       "HBox(children=(FloatProgress(value=0.0, max=176.0), HTML(value='')))"
      ]
     },
     "metadata": {},
     "output_type": "display_data"
    },
    {
     "name": "stdout",
     "output_type": "stream",
     "text": [
      "\n",
      "              precision    recall  f1-score   support\n",
      "\n",
      "           0     0.5554    0.4577    0.5018      2541\n",
      "           1     0.3418    0.4849    0.4009       893\n",
      "           2     0.9475    0.9794    0.9632     35157\n",
      "           3     0.2263    0.2385    0.2322      1958\n",
      "           4     0.8122    0.5856    0.6806      4351\n",
      "\n",
      "    accuracy                         0.8696     44900\n",
      "   macro avg     0.5766    0.5492    0.5557     44900\n",
      "weighted avg     0.8687    0.8696    0.8666     44900\n",
      "\n",
      "Epoch 23\n"
     ]
    },
    {
     "data": {
      "application/vnd.jupyter.widget-view+json": {
       "model_id": "c5b70e83bdfb49afb4fc76c7c5059327",
       "version_major": 2,
       "version_minor": 0
      },
      "text/plain": [
       "HBox(children=(FloatProgress(value=0.0, max=698.0), HTML(value='')))"
      ]
     },
     "metadata": {},
     "output_type": "display_data"
    },
    {
     "name": "stdout",
     "output_type": "stream",
     "text": [
      "Train Epoch: 23 [0/178610 (0%)]\tLoss: 0.658424\n",
      "Train Epoch: 23 [89344/178610 (50%)]\tLoss: 0.790565\n",
      "\n",
      "Average loss on epoch 23: 0.707787119343151\n"
     ]
    },
    {
     "data": {
      "application/vnd.jupyter.widget-view+json": {
       "model_id": "38fe45c46bd0479084444736c792f2f8",
       "version_major": 2,
       "version_minor": 0
      },
      "text/plain": [
       "HBox(children=(FloatProgress(value=0.0, max=176.0), HTML(value='')))"
      ]
     },
     "metadata": {},
     "output_type": "display_data"
    },
    {
     "name": "stdout",
     "output_type": "stream",
     "text": [
      "\n",
      "              precision    recall  f1-score   support\n",
      "\n",
      "           0     0.5439    0.4613    0.4992      2469\n",
      "           1     0.3418    0.4983    0.4054       869\n",
      "           2     0.9464    0.9812    0.9635     35049\n",
      "           3     0.2578    0.2474    0.2525      2150\n",
      "           4     0.8138    0.5851    0.6808      4363\n",
      "\n",
      "    accuracy                         0.8696     44900\n",
      "   macro avg     0.5807    0.5547    0.5603     44900\n",
      "weighted avg     0.8667    0.8696    0.8656     44900\n",
      "\n",
      "Epoch 24\n"
     ]
    },
    {
     "data": {
      "application/vnd.jupyter.widget-view+json": {
       "model_id": "86d69629d2c04f5dbc87cbea12264b73",
       "version_major": 2,
       "version_minor": 0
      },
      "text/plain": [
       "HBox(children=(FloatProgress(value=0.0, max=698.0), HTML(value='')))"
      ]
     },
     "metadata": {},
     "output_type": "display_data"
    },
    {
     "name": "stdout",
     "output_type": "stream",
     "text": [
      "Train Epoch: 24 [0/178610 (0%)]\tLoss: 0.733771\n",
      "Train Epoch: 24 [89344/178610 (50%)]\tLoss: 0.715452\n",
      "\n",
      "Average loss on epoch 24: 0.7030690791869915\n"
     ]
    },
    {
     "data": {
      "application/vnd.jupyter.widget-view+json": {
       "model_id": "3c6defe03cbe45c59174b327d36c1e63",
       "version_major": 2,
       "version_minor": 0
      },
      "text/plain": [
       "HBox(children=(FloatProgress(value=0.0, max=176.0), HTML(value='')))"
      ]
     },
     "metadata": {},
     "output_type": "display_data"
    },
    {
     "name": "stdout",
     "output_type": "stream",
     "text": [
      "\n",
      "              precision    recall  f1-score   support\n",
      "\n",
      "           0     0.5277    0.4753    0.5001      2325\n",
      "           1     0.3788    0.4598    0.4154      1044\n",
      "           2     0.9469    0.9799    0.9631     35112\n",
      "           3     0.2175    0.2426    0.2294      1851\n",
      "           4     0.8352    0.5736    0.6801      4568\n",
      "\n",
      "    accuracy                         0.8700     44900\n",
      "   macro avg     0.5812    0.5462    0.5576     44900\n",
      "weighted avg     0.8705    0.8700    0.8674     44900\n",
      "\n",
      "Epoch 25\n"
     ]
    },
    {
     "data": {
      "application/vnd.jupyter.widget-view+json": {
       "model_id": "5f7a5b1a302d4075828bb141f7fea1f0",
       "version_major": 2,
       "version_minor": 0
      },
      "text/plain": [
       "HBox(children=(FloatProgress(value=0.0, max=698.0), HTML(value='')))"
      ]
     },
     "metadata": {},
     "output_type": "display_data"
    },
    {
     "name": "stdout",
     "output_type": "stream",
     "text": [
      "Train Epoch: 25 [0/178610 (0%)]\tLoss: 0.709563\n",
      "Train Epoch: 25 [89344/178610 (50%)]\tLoss: 0.710468\n",
      "\n",
      "Average loss on epoch 25: 0.7001936905363569\n"
     ]
    },
    {
     "data": {
      "application/vnd.jupyter.widget-view+json": {
       "model_id": "9472a01516904a9aabee589073ae2f3f",
       "version_major": 2,
       "version_minor": 0
      },
      "text/plain": [
       "HBox(children=(FloatProgress(value=0.0, max=176.0), HTML(value='')))"
      ]
     },
     "metadata": {},
     "output_type": "display_data"
    },
    {
     "name": "stdout",
     "output_type": "stream",
     "text": [
      "\n",
      "              precision    recall  f1-score   support\n",
      "\n",
      "           0     0.5349    0.4684    0.4994      2391\n",
      "           1     0.3686    0.4717    0.4138       990\n",
      "           2     0.9461    0.9817    0.9636     35022\n",
      "           3     0.2364    0.2440    0.2402      2000\n",
      "           4     0.8304    0.5793    0.6825      4497\n",
      "\n",
      "    accuracy                         0.8699     44900\n",
      "   macro avg     0.5833    0.5490    0.5599     44900\n",
      "weighted avg     0.8683    0.8699    0.8664     44900\n",
      "\n",
      "Epoch 26\n"
     ]
    },
    {
     "data": {
      "application/vnd.jupyter.widget-view+json": {
       "model_id": "64e2d9548e5e4e2a8b02000edd461458",
       "version_major": 2,
       "version_minor": 0
      },
      "text/plain": [
       "HBox(children=(FloatProgress(value=0.0, max=698.0), HTML(value='')))"
      ]
     },
     "metadata": {},
     "output_type": "display_data"
    },
    {
     "name": "stdout",
     "output_type": "stream",
     "text": [
      "Train Epoch: 26 [0/178610 (0%)]\tLoss: 0.866231\n",
      "Train Epoch: 26 [89344/178610 (50%)]\tLoss: 0.715912\n",
      "\n",
      "Average loss on epoch 26: 0.6978298189988451\n"
     ]
    },
    {
     "data": {
      "application/vnd.jupyter.widget-view+json": {
       "model_id": "e9337b19c6a64da18daa88056a2d6c1b",
       "version_major": 2,
       "version_minor": 0
      },
      "text/plain": [
       "HBox(children=(FloatProgress(value=0.0, max=176.0), HTML(value='')))"
      ]
     },
     "metadata": {},
     "output_type": "display_data"
    },
    {
     "name": "stdout",
     "output_type": "stream",
     "text": [
      "\n",
      "              precision    recall  f1-score   support\n",
      "\n",
      "           0     0.5525    0.4507    0.4965      2567\n",
      "           1     0.3954    0.4571    0.4240      1096\n",
      "           2     0.9466    0.9808    0.9634     35072\n",
      "           3     0.1996    0.2231    0.2107      1847\n",
      "           4     0.8161    0.5929    0.6868      4318\n",
      "\n",
      "    accuracy                         0.8692     44900\n",
      "   macro avg     0.5820    0.5409    0.5563     44900\n",
      "weighted avg     0.8673    0.8692    0.8660     44900\n",
      "\n",
      "Epoch 27\n"
     ]
    },
    {
     "data": {
      "application/vnd.jupyter.widget-view+json": {
       "model_id": "a35b9f8085ed4620944eb42b4baaf461",
       "version_major": 2,
       "version_minor": 0
      },
      "text/plain": [
       "HBox(children=(FloatProgress(value=0.0, max=698.0), HTML(value='')))"
      ]
     },
     "metadata": {},
     "output_type": "display_data"
    },
    {
     "name": "stdout",
     "output_type": "stream",
     "text": [
      "Train Epoch: 27 [0/178610 (0%)]\tLoss: 0.775656\n",
      "Train Epoch: 27 [89344/178610 (50%)]\tLoss: 0.617493\n",
      "\n",
      "Average loss on epoch 27: 0.6947774482746862\n"
     ]
    },
    {
     "data": {
      "application/vnd.jupyter.widget-view+json": {
       "model_id": "708c4ed939f54cd39cf8cb96c6659d20",
       "version_major": 2,
       "version_minor": 0
      },
      "text/plain": [
       "HBox(children=(FloatProgress(value=0.0, max=176.0), HTML(value='')))"
      ]
     },
     "metadata": {},
     "output_type": "display_data"
    },
    {
     "name": "stdout",
     "output_type": "stream",
     "text": [
      "\n",
      "              precision    recall  f1-score   support\n",
      "\n",
      "           0     0.5401    0.4650    0.4998      2432\n",
      "           1     0.3954    0.4580    0.4244      1094\n",
      "           2     0.9455    0.9826    0.9637     34968\n",
      "           3     0.2171    0.2369    0.2265      1891\n",
      "           4     0.8339    0.5794    0.6837      4515\n",
      "\n",
      "    accuracy                         0.8698     44900\n",
      "   macro avg     0.5864    0.5444    0.5596     44900\n",
      "weighted avg     0.8683    0.8698    0.8662     44900\n",
      "\n",
      "Epoch 28\n"
     ]
    },
    {
     "data": {
      "application/vnd.jupyter.widget-view+json": {
       "model_id": "1ab063870d984b5491a4aeec068b32dc",
       "version_major": 2,
       "version_minor": 0
      },
      "text/plain": [
       "HBox(children=(FloatProgress(value=0.0, max=698.0), HTML(value='')))"
      ]
     },
     "metadata": {},
     "output_type": "display_data"
    },
    {
     "name": "stdout",
     "output_type": "stream",
     "text": [
      "Train Epoch: 28 [0/178610 (0%)]\tLoss: 0.564832\n",
      "Train Epoch: 28 [89344/178610 (50%)]\tLoss: 0.691435\n",
      "\n",
      "Average loss on epoch 28: 0.6934531385287173\n"
     ]
    },
    {
     "data": {
      "application/vnd.jupyter.widget-view+json": {
       "model_id": "75f837f4ae7148a381de1e8eb1faac35",
       "version_major": 2,
       "version_minor": 0
      },
      "text/plain": [
       "HBox(children=(FloatProgress(value=0.0, max=176.0), HTML(value='')))"
      ]
     },
     "metadata": {},
     "output_type": "display_data"
    },
    {
     "name": "stdout",
     "output_type": "stream",
     "text": [
      "\n",
      "              precision    recall  f1-score   support\n",
      "\n",
      "           0     0.5420    0.4619    0.4988      2457\n",
      "           1     0.4033    0.4494    0.4251      1137\n",
      "           2     0.9461    0.9817    0.9636     35021\n",
      "           3     0.2074    0.2281    0.2173      1876\n",
      "           4     0.8272    0.5886    0.6878      4409\n",
      "\n",
      "    accuracy                         0.8697     44900\n",
      "   macro avg     0.5852    0.5420    0.5585     44900\n",
      "weighted avg     0.8677    0.8697    0.8663     44900\n",
      "\n",
      "Epoch 29\n"
     ]
    },
    {
     "data": {
      "application/vnd.jupyter.widget-view+json": {
       "model_id": "edab096dabfc4468bf76732edd9e781a",
       "version_major": 2,
       "version_minor": 0
      },
      "text/plain": [
       "HBox(children=(FloatProgress(value=0.0, max=698.0), HTML(value='')))"
      ]
     },
     "metadata": {},
     "output_type": "display_data"
    },
    {
     "name": "stdout",
     "output_type": "stream",
     "text": [
      "Train Epoch: 29 [0/178610 (0%)]\tLoss: 0.728446\n",
      "Train Epoch: 29 [89344/178610 (50%)]\tLoss: 0.493641\n",
      "\n",
      "Average loss on epoch 29: 0.6897697806529124\n"
     ]
    },
    {
     "data": {
      "application/vnd.jupyter.widget-view+json": {
       "model_id": "ad64d009d48e45bd96c108bc6dac3e52",
       "version_major": 2,
       "version_minor": 0
      },
      "text/plain": [
       "HBox(children=(FloatProgress(value=0.0, max=176.0), HTML(value='')))"
      ]
     },
     "metadata": {},
     "output_type": "display_data"
    },
    {
     "name": "stdout",
     "output_type": "stream",
     "text": [
      "\n",
      "              precision    recall  f1-score   support\n",
      "\n",
      "           0     0.5478    0.4572    0.4984      2509\n",
      "           1     0.4049    0.4548    0.4284      1128\n",
      "           2     0.9464    0.9816    0.9636     35035\n",
      "           3     0.2185    0.2308    0.2245      1954\n",
      "           4     0.8173    0.5999    0.6919      4274\n",
      "\n",
      "    accuracy                         0.8700     44900\n",
      "   macro avg     0.5870    0.5448    0.5614     44900\n",
      "weighted avg     0.8665    0.8700    0.8662     44900\n",
      "\n",
      "Epoch 30\n"
     ]
    },
    {
     "data": {
      "application/vnd.jupyter.widget-view+json": {
       "model_id": "520a19430ee74836b7109907dbc266b3",
       "version_major": 2,
       "version_minor": 0
      },
      "text/plain": [
       "HBox(children=(FloatProgress(value=0.0, max=698.0), HTML(value='')))"
      ]
     },
     "metadata": {},
     "output_type": "display_data"
    },
    {
     "name": "stdout",
     "output_type": "stream",
     "text": [
      "Train Epoch: 30 [0/178610 (0%)]\tLoss: 0.724252\n",
      "Train Epoch: 30 [89344/178610 (50%)]\tLoss: 0.658669\n",
      "\n",
      "Average loss on epoch 30: 0.6876914841056212\n"
     ]
    },
    {
     "data": {
      "application/vnd.jupyter.widget-view+json": {
       "model_id": "4d6c3d408b27447e88cfedda01ad79ec",
       "version_major": 2,
       "version_minor": 0
      },
      "text/plain": [
       "HBox(children=(FloatProgress(value=0.0, max=176.0), HTML(value='')))"
      ]
     },
     "metadata": {},
     "output_type": "display_data"
    },
    {
     "name": "stdout",
     "output_type": "stream",
     "text": [
      "\n",
      "              precision    recall  f1-score   support\n",
      "\n",
      "           0     0.5325    0.4897    0.5102      2277\n",
      "           1     0.4009    0.4597    0.4283      1105\n",
      "           2     0.9458    0.9828    0.9640     34969\n",
      "           3     0.2597    0.2610    0.2603      2054\n",
      "           4     0.8371    0.5842    0.6882      4495\n",
      "\n",
      "    accuracy                         0.8720     44900\n",
      "   macro avg     0.5952    0.5555    0.5702     44900\n",
      "weighted avg     0.8692    0.8720    0.8680     44900\n",
      "\n",
      "Epoch 31\n"
     ]
    },
    {
     "data": {
      "application/vnd.jupyter.widget-view+json": {
       "model_id": "928da46ddc5f459db4fadb5741dc01b0",
       "version_major": 2,
       "version_minor": 0
      },
      "text/plain": [
       "HBox(children=(FloatProgress(value=0.0, max=698.0), HTML(value='')))"
      ]
     },
     "metadata": {},
     "output_type": "display_data"
    },
    {
     "name": "stdout",
     "output_type": "stream",
     "text": [
      "Train Epoch: 31 [0/178610 (0%)]\tLoss: 0.664047\n",
      "Train Epoch: 31 [89344/178610 (50%)]\tLoss: 0.601246\n",
      "\n",
      "Average loss on epoch 31: 0.6858911359293072\n"
     ]
    },
    {
     "data": {
      "application/vnd.jupyter.widget-view+json": {
       "model_id": "63bdaea7acc143ce8b1e5eb3c3d7b247",
       "version_major": 2,
       "version_minor": 0
      },
      "text/plain": [
       "HBox(children=(FloatProgress(value=0.0, max=176.0), HTML(value='')))"
      ]
     },
     "metadata": {},
     "output_type": "display_data"
    },
    {
     "name": "stdout",
     "output_type": "stream",
     "text": [
      "\n",
      "              precision    recall  f1-score   support\n",
      "\n",
      "           0     0.5554    0.4483    0.4962      2594\n",
      "           1     0.4199    0.4574    0.4379      1163\n",
      "           2     0.9450    0.9837    0.9639     34907\n",
      "           3     0.2171    0.2331    0.2248      1922\n",
      "           4     0.8212    0.5971    0.6915      4314\n",
      "\n",
      "    accuracy                         0.8699     44900\n",
      "   macro avg     0.5917    0.5439    0.5628     44900\n",
      "weighted avg     0.8658    0.8699    0.8655     44900\n",
      "\n",
      "Epoch 32\n"
     ]
    },
    {
     "data": {
      "application/vnd.jupyter.widget-view+json": {
       "model_id": "292bf4f43f7e40c2a268daf705d0791d",
       "version_major": 2,
       "version_minor": 0
      },
      "text/plain": [
       "HBox(children=(FloatProgress(value=0.0, max=698.0), HTML(value='')))"
      ]
     },
     "metadata": {},
     "output_type": "display_data"
    },
    {
     "name": "stdout",
     "output_type": "stream",
     "text": [
      "Train Epoch: 32 [0/178610 (0%)]\tLoss: 0.686781\n",
      "Train Epoch: 32 [89344/178610 (50%)]\tLoss: 0.631392\n",
      "\n",
      "Average loss on epoch 32: 0.6845539778812567\n"
     ]
    },
    {
     "data": {
      "application/vnd.jupyter.widget-view+json": {
       "model_id": "0d191b3f4a524205a353e30820ff3cde",
       "version_major": 2,
       "version_minor": 0
      },
      "text/plain": [
       "HBox(children=(FloatProgress(value=0.0, max=176.0), HTML(value='')))"
      ]
     },
     "metadata": {},
     "output_type": "display_data"
    },
    {
     "name": "stdout",
     "output_type": "stream",
     "text": [
      "\n",
      "              precision    recall  f1-score   support\n",
      "\n",
      "           0     0.5606    0.4450    0.4962      2638\n",
      "           1     0.4388    0.4340    0.4364      1281\n",
      "           2     0.9458    0.9827    0.9639     34974\n",
      "           3     0.1982    0.2286    0.2123      1789\n",
      "           4     0.8142    0.6055    0.6945      4218\n",
      "\n",
      "    accuracy                         0.8700     44900\n",
      "   macro avg     0.5915    0.5392    0.5607     44900\n",
      "weighted avg     0.8665    0.8700    0.8661     44900\n",
      "\n",
      "Epoch 33\n"
     ]
    },
    {
     "data": {
      "application/vnd.jupyter.widget-view+json": {
       "model_id": "cb7c08b33ac04eb8839e2e335555bc3e",
       "version_major": 2,
       "version_minor": 0
      },
      "text/plain": [
       "HBox(children=(FloatProgress(value=0.0, max=698.0), HTML(value='')))"
      ]
     },
     "metadata": {},
     "output_type": "display_data"
    },
    {
     "name": "stdout",
     "output_type": "stream",
     "text": [
      "Train Epoch: 33 [0/178610 (0%)]\tLoss: 0.739364\n",
      "Train Epoch: 33 [89344/178610 (50%)]\tLoss: 0.592920\n",
      "\n",
      "Average loss on epoch 33: 0.6829179730319703\n"
     ]
    },
    {
     "data": {
      "application/vnd.jupyter.widget-view+json": {
       "model_id": "120fc8ef349e4bd6b38608f307e8d472",
       "version_major": 2,
       "version_minor": 0
      },
      "text/plain": [
       "HBox(children=(FloatProgress(value=0.0, max=176.0), HTML(value='')))"
      ]
     },
     "metadata": {},
     "output_type": "display_data"
    },
    {
     "name": "stdout",
     "output_type": "stream",
     "text": [
      "\n",
      "              precision    recall  f1-score   support\n",
      "\n",
      "           0     0.5669    0.4356    0.4926      2725\n",
      "           1     0.4420    0.4328    0.4373      1294\n",
      "           2     0.9453    0.9834    0.9640     34932\n",
      "           3     0.2049    0.2272    0.2155      1862\n",
      "           4     0.7985    0.6129    0.6935      4087\n",
      "\n",
      "    accuracy                         0.8692     44900\n",
      "   macro avg     0.5915    0.5384    0.5606     44900\n",
      "weighted avg     0.8638    0.8692    0.8646     44900\n",
      "\n",
      "Epoch 34\n"
     ]
    },
    {
     "data": {
      "application/vnd.jupyter.widget-view+json": {
       "model_id": "a824f9891dd54398a29474415d12d78e",
       "version_major": 2,
       "version_minor": 0
      },
      "text/plain": [
       "HBox(children=(FloatProgress(value=0.0, max=698.0), HTML(value='')))"
      ]
     },
     "metadata": {},
     "output_type": "display_data"
    },
    {
     "name": "stdout",
     "output_type": "stream",
     "text": [
      "Train Epoch: 34 [0/178610 (0%)]\tLoss: 0.633848\n",
      "Train Epoch: 34 [89344/178610 (50%)]\tLoss: 0.610922\n",
      "\n",
      "Average loss on epoch 34: 0.6810967338119331\n"
     ]
    },
    {
     "data": {
      "application/vnd.jupyter.widget-view+json": {
       "model_id": "6fa0141ee62e4f4da01383282da0e4dc",
       "version_major": 2,
       "version_minor": 0
      },
      "text/plain": [
       "HBox(children=(FloatProgress(value=0.0, max=176.0), HTML(value='')))"
      ]
     },
     "metadata": {},
     "output_type": "display_data"
    },
    {
     "name": "stdout",
     "output_type": "stream",
     "text": [
      "\n",
      "              precision    recall  f1-score   support\n",
      "\n",
      "           0     0.5501    0.4604    0.5013      2502\n",
      "           1     0.4341    0.4432    0.4386      1241\n",
      "           2     0.9459    0.9828    0.9640     34972\n",
      "           3     0.2030    0.2517    0.2247      1665\n",
      "           4     0.8419    0.5843    0.6898      4520\n",
      "\n",
      "    accuracy                         0.8716     44900\n",
      "   macro avg     0.5950    0.5445    0.5637     44900\n",
      "weighted avg     0.8717    0.8716    0.8687     44900\n",
      "\n",
      "Epoch 35\n"
     ]
    },
    {
     "data": {
      "application/vnd.jupyter.widget-view+json": {
       "model_id": "e144b46f88984a919b530de5b26f56a5",
       "version_major": 2,
       "version_minor": 0
      },
      "text/plain": [
       "HBox(children=(FloatProgress(value=0.0, max=698.0), HTML(value='')))"
      ]
     },
     "metadata": {},
     "output_type": "display_data"
    },
    {
     "name": "stdout",
     "output_type": "stream",
     "text": [
      "Train Epoch: 35 [0/178610 (0%)]\tLoss: 0.781496\n",
      "Train Epoch: 35 [89344/178610 (50%)]\tLoss: 0.656417\n",
      "\n",
      "Average loss on epoch 35: 0.6795200198291025\n"
     ]
    },
    {
     "data": {
      "application/vnd.jupyter.widget-view+json": {
       "model_id": "a35206830eed44e088b97426b3e2a785",
       "version_major": 2,
       "version_minor": 0
      },
      "text/plain": [
       "HBox(children=(FloatProgress(value=0.0, max=176.0), HTML(value='')))"
      ]
     },
     "metadata": {},
     "output_type": "display_data"
    },
    {
     "name": "stdout",
     "output_type": "stream",
     "text": [
      "\n",
      "              precision    recall  f1-score   support\n",
      "\n",
      "           0     0.5401    0.4689    0.5020      2412\n",
      "           1     0.4594    0.4187    0.4381      1390\n",
      "           2     0.9446    0.9843    0.9641     34871\n",
      "           3     0.2219    0.2646    0.2414      1731\n",
      "           4     0.8397    0.5859    0.6902      4496\n",
      "\n",
      "    accuracy                         0.8715     44900\n",
      "   macro avg     0.6011    0.5445    0.5671     44900\n",
      "weighted avg     0.8695    0.8715    0.8677     44900\n",
      "\n",
      "Epoch 36\n"
     ]
    },
    {
     "data": {
      "application/vnd.jupyter.widget-view+json": {
       "model_id": "fa339ee4c2934f29ac2ce97b719c7bd7",
       "version_major": 2,
       "version_minor": 0
      },
      "text/plain": [
       "HBox(children=(FloatProgress(value=0.0, max=698.0), HTML(value='')))"
      ]
     },
     "metadata": {},
     "output_type": "display_data"
    },
    {
     "name": "stdout",
     "output_type": "stream",
     "text": [
      "Train Epoch: 36 [0/178610 (0%)]\tLoss: 0.612830\n",
      "Train Epoch: 36 [89344/178610 (50%)]\tLoss: 0.806592\n",
      "\n",
      "Average loss on epoch 36: 0.6779435910177777\n"
     ]
    },
    {
     "data": {
      "application/vnd.jupyter.widget-view+json": {
       "model_id": "1c02c7f3193b4720babc78560ded8d3e",
       "version_major": 2,
       "version_minor": 0
      },
      "text/plain": [
       "HBox(children=(FloatProgress(value=0.0, max=176.0), HTML(value='')))"
      ]
     },
     "metadata": {},
     "output_type": "display_data"
    },
    {
     "name": "stdout",
     "output_type": "stream",
     "text": [
      "\n",
      "              precision    recall  f1-score   support\n",
      "\n",
      "           0     0.5511    0.4576    0.5000      2522\n",
      "           1     0.4428    0.4359    0.4393      1287\n",
      "           2     0.9455    0.9832    0.9640     34946\n",
      "           3     0.2311    0.2590    0.2442      1842\n",
      "           4     0.8244    0.6010    0.6952      4303\n",
      "\n",
      "    accuracy                         0.8716     44900\n",
      "   macro avg     0.5990    0.5473    0.5685     44900\n",
      "weighted avg     0.8680    0.8716    0.8676     44900\n",
      "\n",
      "Epoch 37\n"
     ]
    },
    {
     "data": {
      "application/vnd.jupyter.widget-view+json": {
       "model_id": "59f6f5c9c74249c0b787de3dc350e5ee",
       "version_major": 2,
       "version_minor": 0
      },
      "text/plain": [
       "HBox(children=(FloatProgress(value=0.0, max=698.0), HTML(value='')))"
      ]
     },
     "metadata": {},
     "output_type": "display_data"
    },
    {
     "name": "stdout",
     "output_type": "stream",
     "text": [
      "Train Epoch: 37 [0/178610 (0%)]\tLoss: 0.728786\n",
      "Train Epoch: 37 [89344/178610 (50%)]\tLoss: 0.725343\n",
      "\n",
      "Average loss on epoch 37: 0.6770740899452166\n"
     ]
    },
    {
     "data": {
      "application/vnd.jupyter.widget-view+json": {
       "model_id": "4b2a37d31cad4c34817005bfa9729e51",
       "version_major": 2,
       "version_minor": 0
      },
      "text/plain": [
       "HBox(children=(FloatProgress(value=0.0, max=176.0), HTML(value='')))"
      ]
     },
     "metadata": {},
     "output_type": "display_data"
    },
    {
     "name": "stdout",
     "output_type": "stream",
     "text": [
      "\n",
      "              precision    recall  f1-score   support\n",
      "\n",
      "           0     0.5377    0.4794    0.5069      2349\n",
      "           1     0.4467    0.4367    0.4417      1296\n",
      "           2     0.9438    0.9851    0.9640     34817\n",
      "           3     0.2573    0.2614    0.2593      2031\n",
      "           4     0.8352    0.5945    0.6946      4407\n",
      "\n",
      "    accuracy                         0.8717     44900\n",
      "   macro avg     0.6041    0.5514    0.5733     44900\n",
      "weighted avg     0.8665    0.8717    0.8667     44900\n",
      "\n",
      "Epoch 38\n"
     ]
    },
    {
     "data": {
      "application/vnd.jupyter.widget-view+json": {
       "model_id": "275ff9e7a0ba4b6d9b7bf96f0b61cf82",
       "version_major": 2,
       "version_minor": 0
      },
      "text/plain": [
       "HBox(children=(FloatProgress(value=0.0, max=698.0), HTML(value='')))"
      ]
     },
     "metadata": {},
     "output_type": "display_data"
    },
    {
     "name": "stdout",
     "output_type": "stream",
     "text": [
      "Train Epoch: 38 [0/178610 (0%)]\tLoss: 0.735322\n",
      "Train Epoch: 38 [89344/178610 (50%)]\tLoss: 0.610247\n",
      "\n",
      "Average loss on epoch 38: 0.6757562373548661\n"
     ]
    },
    {
     "data": {
      "application/vnd.jupyter.widget-view+json": {
       "model_id": "abf434ed224b4c66a260d2ec620331c5",
       "version_major": 2,
       "version_minor": 0
      },
      "text/plain": [
       "HBox(children=(FloatProgress(value=0.0, max=176.0), HTML(value='')))"
      ]
     },
     "metadata": {},
     "output_type": "display_data"
    },
    {
     "name": "stdout",
     "output_type": "stream",
     "text": [
      "\n",
      "              precision    recall  f1-score   support\n",
      "\n",
      "           0     0.5401    0.4734    0.5046      2389\n",
      "           1     0.4570    0.4199    0.4376      1379\n",
      "           2     0.9452    0.9836    0.9640     34918\n",
      "           3     0.2418    0.2644    0.2526      1887\n",
      "           4     0.8285    0.6006    0.6964      4327\n",
      "\n",
      "    accuracy                         0.8720     44900\n",
      "   macro avg     0.6025    0.5484    0.5711     44900\n",
      "weighted avg     0.8678    0.8720    0.8677     44900\n",
      "\n",
      "Epoch 39\n"
     ]
    },
    {
     "data": {
      "application/vnd.jupyter.widget-view+json": {
       "model_id": "a52b56d8f1b94a488113c9a6a3d62408",
       "version_major": 2,
       "version_minor": 0
      },
      "text/plain": [
       "HBox(children=(FloatProgress(value=0.0, max=698.0), HTML(value='')))"
      ]
     },
     "metadata": {},
     "output_type": "display_data"
    },
    {
     "name": "stdout",
     "output_type": "stream",
     "text": [
      "Train Epoch: 39 [0/178610 (0%)]\tLoss: 0.669933\n",
      "Train Epoch: 39 [89344/178610 (50%)]\tLoss: 0.666475\n",
      "\n",
      "Average loss on epoch 39: 0.673715257414091\n"
     ]
    },
    {
     "data": {
      "application/vnd.jupyter.widget-view+json": {
       "model_id": "7aad4ca3358f4f4aa68f9a4f13049e0c",
       "version_major": 2,
       "version_minor": 0
      },
      "text/plain": [
       "HBox(children=(FloatProgress(value=0.0, max=176.0), HTML(value='')))"
      ]
     },
     "metadata": {},
     "output_type": "display_data"
    },
    {
     "name": "stdout",
     "output_type": "stream",
     "text": [
      "\n",
      "              precision    recall  f1-score   support\n",
      "\n",
      "           0     0.5392    0.4689    0.5016      2408\n",
      "           1     0.4562    0.4225    0.4387      1368\n",
      "           2     0.9451    0.9838    0.9641     34908\n",
      "           3     0.2200    0.2706    0.2427      1678\n",
      "           4     0.8467    0.5853    0.6921      4538\n",
      "\n",
      "    accuracy                         0.8722     44900\n",
      "   macro avg     0.6014    0.5462    0.5678     44900\n",
      "weighted avg     0.8714    0.8722    0.8688     44900\n",
      "\n",
      "CPU times: user 1min 33s, sys: 26.6 s, total: 2min\n",
      "Wall time: 1min 58s\n"
     ]
    }
   ],
   "source": [
    "%%time\n",
    "max_epochs = 20\n",
    "\n",
    "for epoch in range(len(logs['loss/train']), len(logs['loss/train']) + max_epochs):\n",
    "    \n",
    "    # Training\n",
    "    ffnet.train()\n",
    "    print('Epoch', epoch)\n",
    "    logs['loss/train'][epoch] = []\n",
    "    writer.add_scalar(\"Learning_rate\", optimizer_params['lr'], epoch)\n",
    "\n",
    "    for batch, (batch_X, batch_Y) in enumerate(tqdm(train_loader)):\n",
    "        # tranfer to GPU\n",
    "        batch_X, batch_Y = batch_X.float().to(device), batch_Y.to(device)\n",
    "        optimizer.zero_grad()\n",
    "        l = backprop(batch_X, batch_Y, ffnet, optimizer, loss_fn)\n",
    "        logs['loss/train'][epoch].append(l)\n",
    "        \n",
    "        if batch % log_interval == 0:\n",
    "            print('Train Epoch: {} [{}/{} ({:.0f}%)]\\tLoss: {:.6f}'.format(\n",
    "                epoch, batch * len(batch_X), len(train_loader.dataset),\n",
    "                100. * batch / len(train_loader), l))\n",
    "    \n",
    "    logs['loss/train'][epoch] = np.mean(logs['loss/train'][epoch])\n",
    "    writer.add_scalar(\"Loss/train\", logs['loss/train'][epoch], epoch)\n",
    "    print(f'Average loss on epoch {epoch}: {logs[\"loss/train\"][epoch]}')\n",
    "    \n",
    "    # Validation\n",
    "    ffnet.eval()\n",
    "    with torch.no_grad():\n",
    "        preds = []\n",
    "        gt = []\n",
    "        for batch, (batch_X, batch_Y) in enumerate(tqdm(dev_loader)):\n",
    "            # Transfer to GPU\n",
    "            batch_X = batch_X.float().to(device)\n",
    "            output = nn.Softmax(dim=1)(ffnet(batch_X))\n",
    "            preds.append(output.cpu())\n",
    "            gt.append(batch_Y)\n",
    "\n",
    "        all_out = [np.argmax(l) for batch in preds for l in batch.numpy()]\n",
    "        all_gt  = [l for batch in gt for l in batch.numpy()]\n",
    "\n",
    "        print(classification_report(all_out, all_gt, digits=4))\n",
    "\n",
    "        micro_F1 = metrics.f1_score(all_gt, all_out, average='micro')\n",
    "        macro_F1 = metrics.f1_score(all_gt, all_out, average='macro')\n",
    "        weighted_F1 = metrics.f1_score(all_gt, all_out, average='weighted')\n",
    "        writer.add_scalar(\"micro_F1/dev\", micro_F1, epoch)\n",
    "        writer.add_scalar(\"macro_F1/dev\", macro_F1, epoch)\n",
    "        writer.add_scalar(\"weighted_F1/dev\", weighted_F1, epoch)\n",
    "        logs['dev'][epoch] = (micro_F1, weighted_F1, macro_F1, (all_gt, all_out))"
   ]
  },
  {
   "cell_type": "code",
   "execution_count": 38,
   "metadata": {},
   "outputs": [
    {
     "data": {
      "application/vnd.jupyter.widget-view+json": {
       "model_id": "4f1a843e20844ac39aa6a70c95845aeb",
       "version_major": 2,
       "version_minor": 0
      },
      "text/plain": [
       "HBox(children=(FloatProgress(value=0.0, max=160.0), HTML(value='')))"
      ]
     },
     "metadata": {},
     "output_type": "display_data"
    },
    {
     "name": "stdout",
     "output_type": "stream",
     "text": [
      "\n",
      "              precision    recall  f1-score   support\n",
      "\n",
      "           0     0.5979    0.4368    0.5048      2635\n",
      "           1     0.4488    0.3627    0.4012      1136\n",
      "           2     0.9341    0.9843    0.9585     30986\n",
      "           3     0.2331    0.3384    0.2760      1717\n",
      "           4     0.8431    0.5455    0.6624      4286\n",
      "\n",
      "    accuracy                         0.8582     40760\n",
      "   macro avg     0.6114    0.5335    0.5606     40760\n",
      "weighted avg     0.8597    0.8582    0.8538     40760\n",
      "\n"
     ]
    }
   ],
   "source": [
    "ffnet.eval()\n",
    "with torch.no_grad():\n",
    "    preds = []\n",
    "    gt = []\n",
    "    for batch, (batch_X, batch_Y) in enumerate(tqdm(test_loader)):\n",
    "        # Transfer to GPU\n",
    "        batch_X = batch_X.float().to(device)\n",
    "        output = nn.Softmax(dim=1)(ffnet(batch_X))\n",
    "        preds.append(output.cpu())\n",
    "        gt.append(batch_Y)\n",
    "\n",
    "    all_out = [np.argmax(l) for batch in preds for l in batch.numpy()]\n",
    "    all_gt  = [l for batch in gt for l in batch.numpy()]\n",
    "\n",
    "    print(classification_report(all_out, all_gt, digits=4))"
   ]
  },
  {
   "cell_type": "code",
   "execution_count": null,
   "metadata": {},
   "outputs": [],
   "source": []
  }
 ],
 "metadata": {
  "kernelspec": {
   "display_name": "Python 3",
   "language": "python",
   "name": "python3"
  },
  "language_info": {
   "codemirror_mode": {
    "name": "ipython",
    "version": 3
   },
   "file_extension": ".py",
   "mimetype": "text/x-python",
   "name": "python",
   "nbconvert_exporter": "python",
   "pygments_lexer": "ipython3",
   "version": "3.8.2"
  }
 },
 "nbformat": 4,
 "nbformat_minor": 4
}
