{
 "cells": [
  {
   "cell_type": "markdown",
   "metadata": {},
   "source": [
    "# Setup"
   ]
  },
  {
   "cell_type": "code",
   "execution_count": 1,
   "metadata": {},
   "outputs": [],
   "source": [
    "import os\n",
    "os.environ[\"CUDA_VISIBLE_DEVICES\"]=\"2,3\""
   ]
  },
  {
   "cell_type": "code",
   "execution_count": 2,
   "metadata": {},
   "outputs": [],
   "source": [
    "import torch\n",
    "from torch import nn\n",
    "from torch.nn import functional as F\n",
    "from torch.utils import data\n",
    "from torch.utils.data import DataLoader\n",
    "from torch.utils.tensorboard import SummaryWriter\n",
    "\n",
    "import re\n",
    "import time\n",
    "import pickle\n",
    "\n",
    "import numpy as np\n",
    "import pandas as pd\n",
    "from tqdm.notebook import tqdm\n",
    "from collections import Counter\n",
    "\n",
    "from sklearn import metrics\n",
    "from sklearn.metrics import classification_report, f1_score"
   ]
  },
  {
   "cell_type": "code",
   "execution_count": 3,
   "metadata": {},
   "outputs": [
    {
     "data": {
      "text/plain": [
       "<torch._C.Generator at 0x7f1df41542b0>"
      ]
     },
     "execution_count": 3,
     "metadata": {},
     "output_type": "execute_result"
    }
   ],
   "source": [
    "seed = 42\n",
    "np.random.seed(seed)\n",
    "torch.manual_seed(seed)"
   ]
  },
  {
   "cell_type": "code",
   "execution_count": 4,
   "metadata": {},
   "outputs": [
    {
     "data": {
      "text/plain": [
       "device(type='cuda')"
      ]
     },
     "execution_count": 4,
     "metadata": {},
     "output_type": "execute_result"
    }
   ],
   "source": [
    "device = torch.device(\"cuda\" if torch.cuda.is_available() else \"cpu\")\n",
    "device"
   ]
  },
  {
   "cell_type": "code",
   "execution_count": 5,
   "metadata": {},
   "outputs": [
    {
     "name": "stdout",
     "output_type": "stream",
     "text": [
      "train : 178610, validation : 44900, test : 40760\n"
     ]
    }
   ],
   "source": [
    "dataset = pickle.load(open('conll_graph_all.pickle', 'rb'))\n",
    "print(', '.join([split + f' : {len(dataset[split])}' for split in dataset]))"
   ]
  },
  {
   "cell_type": "code",
   "execution_count": 6,
   "metadata": {},
   "outputs": [
    {
     "data": {
      "text/plain": [
       "{'word': ['german'],\n",
       " 'label': 'MISC',\n",
       " 'gt_label': 'B-MISC',\n",
       " 'surface': 'German',\n",
       " 'pos': ['<JJ>'],\n",
       " 'chunk': ['<NP>'],\n",
       " 'classes': ['<GEOREGION>', '<NAME>', '<GIVEN NAME>', '<FAMILY NAME>'],\n",
       " 'extra': ['<CAPITALIZED>'],\n",
       " 'left_context': ['eu', 'rejects'],\n",
       " 'right_context': ['call', 'to', 'boycott', 'british', 'lamb']}"
      ]
     },
     "execution_count": 6,
     "metadata": {},
     "output_type": "execute_result"
    }
   ],
   "source": [
    "dataset['train'][2]"
   ]
  },
  {
   "cell_type": "code",
   "execution_count": 7,
   "metadata": {},
   "outputs": [
    {
     "name": "stdout",
     "output_type": "stream",
     "text": [
      "word : 18993, chunk : 11, pos : 25, classes : 14, extra : 3\n"
     ]
    }
   ],
   "source": [
    "vocabulary = pickle.load(open('vocabulary_all.pickle', 'rb'))\n",
    "print(', '.join([key + f' : {len(vocabulary[key])}' for key in vocabulary]))"
   ]
  },
  {
   "cell_type": "code",
   "execution_count": 8,
   "metadata": {},
   "outputs": [
    {
     "name": "stdout",
     "output_type": "stream",
     "text": [
      "{'LOC': 0, 'MISC': 1, 'O': 2, 'ORG': 3, 'PER': 4}\n"
     ]
    }
   ],
   "source": [
    "labels = pickle.load(open('labels.pickle', 'rb'))\n",
    "label2id = {l: i for i, l in enumerate(labels)}\n",
    "print(label2id)"
   ]
  },
  {
   "cell_type": "code",
   "execution_count": 9,
   "metadata": {},
   "outputs": [
    {
     "name": "stdout",
     "output_type": "stream",
     "text": [
      "8594 0\n"
     ]
    }
   ],
   "source": [
    "voc2id = {}\n",
    "for key in vocabulary:\n",
    "    voc2id[key] = {l: i for i, l in enumerate(vocabulary[key])}\n",
    "print(voc2id['word']['ismail'], voc2id['extra']['<ACRONYM>'], )"
   ]
  },
  {
   "cell_type": "markdown",
   "metadata": {},
   "source": [
    "# Dataset"
   ]
  },
  {
   "cell_type": "code",
   "execution_count": 10,
   "metadata": {},
   "outputs": [],
   "source": [
    "class Dataset(torch.utils.data.Dataset):\n",
    "    def __init__(self, dataset, split, voc2id=voc2id, label2id=label2id, context='all'):\n",
    "        X = []\n",
    "        Y = []\n",
    "        \n",
    "        for doc in tqdm(dataset[split], desc=split.upper()):\n",
    "            # Create the graph one-hot embedding\n",
    "            onehot = {}\n",
    "            for key in voc2id:\n",
    "                onehot[key] = np.zeros(len(voc2id[key]))\n",
    "                for v in doc[key]:\n",
    "                    onehot[key][voc2id[key][v]] = 1.\n",
    "            \n",
    "            onehot['left'] = np.zeros(len(voc2id['word']))\n",
    "            onehot['right'] = np.zeros(len(voc2id['word']))\n",
    "            \n",
    "            if context == 'all':\n",
    "                context = max(len(doc['left_context']), len(doc['right_context']))\n",
    "            \n",
    "            for w in doc['left_context'][-context:]:\n",
    "                onehot['left'][voc2id['word'][w]] = 1.\n",
    "            for w in doc['right_context'][:context]:\n",
    "                onehot['right'][voc2id['word'][w]] = 1.\n",
    "            \n",
    "            doc_embedding = np.concatenate([onehot['word'], onehot['left'], onehot['right'],\n",
    "                                            onehot['pos'], onehot['chunk'], onehot['classes'], onehot['extra']])\n",
    "            X.append(torch.tensor(doc_embedding))\n",
    "            Y.append(torch.tensor(label2id[doc['label']]))\n",
    "        \n",
    "        self.X = X\n",
    "        self.Y = Y\n",
    "        self.X_len = len(X)\n",
    "        self.labels = sorted(label2id.keys())\n",
    "        self.label2id = label2id\n",
    "        self.voc2id = voc2id\n",
    "\n",
    "    def __len__(self):\n",
    "        return self.X_len\n",
    "\n",
    "    def __getitem__(self, index):\n",
    "        x = self.X[index]\n",
    "        y = self.Y[index]\n",
    "        \n",
    "        return x, y\n",
    "\n",
    "    def labels(self):\n",
    "        return self.labels\n",
    "    \n",
    "    def voc(self, key):\n",
    "        return self.voc2id[key]\n",
    "    \n",
    "    def Y(self):\n",
    "        return self.Y"
   ]
  },
  {
   "cell_type": "code",
   "execution_count": 11,
   "metadata": {},
   "outputs": [
    {
     "data": {
      "application/vnd.jupyter.widget-view+json": {
       "model_id": "d1a601ea39c747bb9687c260f6daf980",
       "version_major": 2,
       "version_minor": 0
      },
      "text/plain": [
       "HBox(children=(FloatProgress(value=0.0, description='TRAIN', max=178610.0, style=ProgressStyle(description_wid…"
      ]
     },
     "metadata": {},
     "output_type": "display_data"
    },
    {
     "name": "stdout",
     "output_type": "stream",
     "text": [
      "\n"
     ]
    },
    {
     "data": {
      "application/vnd.jupyter.widget-view+json": {
       "model_id": "2dd87798e17f4ed3a358883315f54034",
       "version_major": 2,
       "version_minor": 0
      },
      "text/plain": [
       "HBox(children=(FloatProgress(value=0.0, description='VALIDATION', max=44900.0, style=ProgressStyle(description…"
      ]
     },
     "metadata": {},
     "output_type": "display_data"
    },
    {
     "name": "stdout",
     "output_type": "stream",
     "text": [
      "\n"
     ]
    },
    {
     "data": {
      "application/vnd.jupyter.widget-view+json": {
       "model_id": "a3b73936a93c489eb168afc2b099ac6c",
       "version_major": 2,
       "version_minor": 0
      },
      "text/plain": [
       "HBox(children=(FloatProgress(value=0.0, description='TEST', max=40760.0, style=ProgressStyle(description_width…"
      ]
     },
     "metadata": {},
     "output_type": "display_data"
    },
    {
     "name": "stdout",
     "output_type": "stream",
     "text": [
      "\n"
     ]
    }
   ],
   "source": [
    "train_set = Dataset(dataset, 'train', context=3)\n",
    "dev_set = Dataset(dataset, 'validation', context=3)\n",
    "test_set = Dataset(dataset, 'test', context=3)"
   ]
  },
  {
   "cell_type": "code",
   "execution_count": 12,
   "metadata": {},
   "outputs": [],
   "source": [
    "batch_size = 64\n",
    "num_workers = 4\n",
    "\n",
    "train_loader = torch.utils.data.DataLoader(train_set, batch_size=batch_size, num_workers=num_workers, shuffle=True)\n",
    "dev_loader = torch.utils.data.DataLoader(dev_set, batch_size=batch_size, num_workers=num_workers, shuffle=False)\n",
    "test_loader = torch.utils.data.DataLoader(test_set, batch_size=batch_size, num_workers=num_workers, shuffle=False)"
   ]
  },
  {
   "cell_type": "code",
   "execution_count": 13,
   "metadata": {},
   "outputs": [
    {
     "name": "stdout",
     "output_type": "stream",
     "text": [
      "torch.Size([64, 57032])\n",
      "torch.Size([64])\n"
     ]
    }
   ],
   "source": [
    "input_dim = 0\n",
    "for local_features, local_labels in train_loader:\n",
    "    input_dim = local_features.shape[1]\n",
    "    print(local_features.shape)\n",
    "    print(local_labels.shape)\n",
    "    break"
   ]
  },
  {
   "cell_type": "code",
   "execution_count": 14,
   "metadata": {},
   "outputs": [
    {
     "data": {
      "text/plain": [
       "57032"
      ]
     },
     "execution_count": 14,
     "metadata": {},
     "output_type": "execute_result"
    }
   ],
   "source": [
    "input_dim"
   ]
  },
  {
   "cell_type": "code",
   "execution_count": 15,
   "metadata": {},
   "outputs": [
    {
     "name": "stdout",
     "output_type": "stream",
     "text": [
      "Counter({2: 144631, 4: 11124, 3: 9984, 0: 8288, 1: 4583})\n"
     ]
    }
   ],
   "source": [
    "training_counter = Counter([y.item() for y in train_set.Y])\n",
    "print(training_counter)"
   ]
  },
  {
   "cell_type": "code",
   "execution_count": 16,
   "metadata": {},
   "outputs": [
    {
     "data": {
      "text/plain": [
       "['LOC', 'MISC', 'O', 'ORG', 'PER']"
      ]
     },
     "execution_count": 16,
     "metadata": {},
     "output_type": "execute_result"
    }
   ],
   "source": [
    "labels"
   ]
  },
  {
   "cell_type": "markdown",
   "metadata": {},
   "source": [
    "# The Model"
   ]
  },
  {
   "cell_type": "code",
   "execution_count": 19,
   "metadata": {},
   "outputs": [],
   "source": [
    "def backprop(batch_X, batch_Y, model, optimizer, loss_fn):\n",
    "    Y_hat = model(batch_X)\n",
    "    loss = loss_fn(Y_hat, batch_Y)\n",
    "    loss.backward()\n",
    "    optimizer.step()\n",
    "    \n",
    "    return loss.item()\n",
    "\n",
    "class FeedForwardNetwork(nn.Module):\n",
    "    def __init__(self, input_dim=input_dim, hidden_dim=1024, output_dim=5, dropout_rate=0.2):\n",
    "        super().__init__()\n",
    "        self.fc1 = nn.Linear(input_dim, hidden_dim)\n",
    "        self.fch = nn.Linear(hidden_dim, hidden_dim)\n",
    "        self.fc2 = nn.Linear(hidden_dim, output_dim)\n",
    "        self.relu = nn.ReLU()\n",
    "\n",
    "        # extra layers layers\n",
    "        self.dropout = nn.Dropout(p=dropout_rate)\n",
    "        \n",
    "    def forward(self, x):\n",
    "        x = self.fc1(x)\n",
    "        x = self.relu(x)\n",
    "        x = self.dropout(x)\n",
    "        x = self.fch(x)\n",
    "        x = self.relu(x)\n",
    "        x = self.dropout(x)\n",
    "        logits = self.fc2(x)\n",
    "\n",
    "        return logits"
   ]
  },
  {
   "cell_type": "code",
   "execution_count": 20,
   "metadata": {},
   "outputs": [],
   "source": [
    "ffnet = FeedForwardNetwork().to(device)"
   ]
  },
  {
   "cell_type": "code",
   "execution_count": 21,
   "metadata": {},
   "outputs": [],
   "source": [
    "logs = {'loss/train': {}, 'dev': {}}\n",
    "writer = SummaryWriter(comment='xp4-onehot-allfeat-win3-wei2-lr1e3-mom0.9-wd5e4-hd1024-dr0.2-bs64', log_dir=None,)"
   ]
  },
  {
   "cell_type": "code",
   "execution_count": 22,
   "metadata": {},
   "outputs": [
    {
     "name": "stdout",
     "output_type": "stream",
     "text": [
      "tensor([0.7436, 1.0000, 0.1780, 0.6775, 0.6419], device='cuda:0')\n"
     ]
    }
   ],
   "source": [
    "label_counter   = Counter([y.item() for y in train_set.Y])\n",
    "labels_freqs    = [label_counter[label] / sum(label_counter.values()) for label in range(len(labels))]\n",
    "labels_weights1 = [min(label_counter.values()) / label_counter[label] for label in range(len(labels))]\n",
    "labels_weights2 = [np.sqrt(min(label_counter.values())) / np.sqrt(label_counter[label]) for label in range(len(labels))]\n",
    "\n",
    "weights = torch.Tensor(labels_weights2).to(device)\n",
    "print(weights)"
   ]
  },
  {
   "cell_type": "code",
   "execution_count": 23,
   "metadata": {},
   "outputs": [],
   "source": [
    "optimizer_params = {'lr': 1e-3, \n",
    "                    'momentum': 0.9, \n",
    "                    'weight_decay': 5e-4,\n",
    "                   }\n",
    "\n",
    "log_interval = int(len(train_loader) / 5)\n",
    "\n",
    "loss_fn = nn.CrossEntropyLoss(weight=weights)\n",
    "optimizer = torch.optim.SGD(ffnet.parameters(), **optimizer_params)"
   ]
  },
  {
   "cell_type": "code",
   "execution_count": 28,
   "metadata": {
    "scrolled": false
   },
   "outputs": [
    {
     "name": "stdout",
     "output_type": "stream",
     "text": [
      "Epoch 20\n"
     ]
    },
    {
     "data": {
      "application/vnd.jupyter.widget-view+json": {
       "model_id": "8551cd819a0747e99b19c7cef29781f1",
       "version_major": 2,
       "version_minor": 0
      },
      "text/plain": [
       "HBox(children=(FloatProgress(value=0.0, max=2791.0), HTML(value='')))"
      ]
     },
     "metadata": {},
     "output_type": "display_data"
    },
    {
     "name": "stdout",
     "output_type": "stream",
     "text": [
      "Train Epoch: 20 [0/178610 (0%)]\tLoss: 0.045836\n",
      "Train Epoch: 20 [35712/178610 (20%)]\tLoss: 0.020048\n",
      "Train Epoch: 20 [71424/178610 (40%)]\tLoss: 0.035516\n",
      "Train Epoch: 20 [107136/178610 (60%)]\tLoss: 0.070488\n",
      "Train Epoch: 20 [142848/178610 (80%)]\tLoss: 0.076829\n",
      "Train Epoch: 20 [139500/178610 (100%)]\tLoss: 0.090603\n",
      "\n",
      "Average loss on epoch 20: 0.058727922472790475\n"
     ]
    },
    {
     "data": {
      "application/vnd.jupyter.widget-view+json": {
       "model_id": "5a0505a5ddde4881ad4b9ef0eabb806b",
       "version_major": 2,
       "version_minor": 0
      },
      "text/plain": [
       "HBox(children=(FloatProgress(value=0.0, max=702.0), HTML(value='')))"
      ]
     },
     "metadata": {},
     "output_type": "display_data"
    },
    {
     "name": "stdout",
     "output_type": "stream",
     "text": [
      "\n",
      "              precision    recall  f1-score   support\n",
      "\n",
      "           0     0.8897    0.9101    0.8998      2047\n",
      "           1     0.8161    0.8319    0.8239      1243\n",
      "           2     0.9916    0.9906    0.9911     36374\n",
      "           3     0.8198    0.7783    0.7985      2174\n",
      "           4     0.9142    0.9366    0.9253      3062\n",
      "\n",
      "    accuracy                         0.9686     44900\n",
      "   macro avg     0.8863    0.8895    0.8877     44900\n",
      "weighted avg     0.9685    0.9686    0.9685     44900\n",
      "\n",
      "Epoch 21\n"
     ]
    },
    {
     "data": {
      "application/vnd.jupyter.widget-view+json": {
       "model_id": "9cfed761484743339cab87e7583e0f4c",
       "version_major": 2,
       "version_minor": 0
      },
      "text/plain": [
       "HBox(children=(FloatProgress(value=0.0, max=2791.0), HTML(value='')))"
      ]
     },
     "metadata": {},
     "output_type": "display_data"
    },
    {
     "name": "stdout",
     "output_type": "stream",
     "text": [
      "Train Epoch: 21 [0/178610 (0%)]\tLoss: 0.025232\n",
      "Train Epoch: 21 [35712/178610 (20%)]\tLoss: 0.021399\n",
      "Train Epoch: 21 [71424/178610 (40%)]\tLoss: 0.028726\n",
      "Train Epoch: 21 [107136/178610 (60%)]\tLoss: 0.144197\n",
      "Train Epoch: 21 [142848/178610 (80%)]\tLoss: 0.054396\n",
      "Train Epoch: 21 [139500/178610 (100%)]\tLoss: 0.078000\n",
      "\n",
      "Average loss on epoch 21: 0.05417027509734915\n"
     ]
    },
    {
     "data": {
      "application/vnd.jupyter.widget-view+json": {
       "model_id": "3b84999c208d4ca585894532b601e296",
       "version_major": 2,
       "version_minor": 0
      },
      "text/plain": [
       "HBox(children=(FloatProgress(value=0.0, max=702.0), HTML(value='')))"
      ]
     },
     "metadata": {},
     "output_type": "display_data"
    },
    {
     "name": "stdout",
     "output_type": "stream",
     "text": [
      "\n",
      "              precision    recall  f1-score   support\n",
      "\n",
      "           0     0.8601    0.9307    0.8940      1935\n",
      "           1     0.8051    0.8430    0.8236      1210\n",
      "           2     0.9919    0.9904    0.9912     36391\n",
      "           3     0.8275    0.7642    0.7946      2235\n",
      "           4     0.9257    0.9281    0.9269      3129\n",
      "\n",
      "    accuracy                         0.9683     44900\n",
      "   macro avg     0.8821    0.8913    0.8861     44900\n",
      "weighted avg     0.9684    0.9683    0.9682     44900\n",
      "\n",
      "Epoch 22\n"
     ]
    },
    {
     "data": {
      "application/vnd.jupyter.widget-view+json": {
       "model_id": "08a5897ba83c47baaa2fc166b4250853",
       "version_major": 2,
       "version_minor": 0
      },
      "text/plain": [
       "HBox(children=(FloatProgress(value=0.0, max=2791.0), HTML(value='')))"
      ]
     },
     "metadata": {},
     "output_type": "display_data"
    },
    {
     "name": "stdout",
     "output_type": "stream",
     "text": [
      "Train Epoch: 22 [0/178610 (0%)]\tLoss: 0.022707\n",
      "Train Epoch: 22 [35712/178610 (20%)]\tLoss: 0.040008\n",
      "Train Epoch: 22 [71424/178610 (40%)]\tLoss: 0.043775\n",
      "Train Epoch: 22 [107136/178610 (60%)]\tLoss: 0.019049\n",
      "Train Epoch: 22 [142848/178610 (80%)]\tLoss: 0.031705\n",
      "Train Epoch: 22 [139500/178610 (100%)]\tLoss: 0.007313\n",
      "\n",
      "Average loss on epoch 22: 0.05075821866018051\n"
     ]
    },
    {
     "data": {
      "application/vnd.jupyter.widget-view+json": {
       "model_id": "4a80f95aa57d42b1a30b4e9f18945178",
       "version_major": 2,
       "version_minor": 0
      },
      "text/plain": [
       "HBox(children=(FloatProgress(value=0.0, max=702.0), HTML(value='')))"
      ]
     },
     "metadata": {},
     "output_type": "display_data"
    },
    {
     "name": "stdout",
     "output_type": "stream",
     "text": [
      "\n",
      "              precision    recall  f1-score   support\n",
      "\n",
      "           0     0.8663    0.9303    0.8971      1950\n",
      "           1     0.7877    0.8816    0.8320      1132\n",
      "           2     0.9919    0.9910    0.9914     36372\n",
      "           3     0.8217    0.7709    0.7955      2200\n",
      "           4     0.9413    0.9097    0.9253      3246\n",
      "\n",
      "    accuracy                         0.9689     44900\n",
      "   macro avg     0.8818    0.8967    0.8883     44900\n",
      "weighted avg     0.9693    0.9689    0.9689     44900\n",
      "\n",
      "Epoch 23\n"
     ]
    },
    {
     "data": {
      "application/vnd.jupyter.widget-view+json": {
       "model_id": "d44300719740459386cdf52cf7fa8608",
       "version_major": 2,
       "version_minor": 0
      },
      "text/plain": [
       "HBox(children=(FloatProgress(value=0.0, max=2791.0), HTML(value='')))"
      ]
     },
     "metadata": {},
     "output_type": "display_data"
    },
    {
     "name": "stdout",
     "output_type": "stream",
     "text": [
      "Train Epoch: 23 [0/178610 (0%)]\tLoss: 0.044741\n",
      "Train Epoch: 23 [35712/178610 (20%)]\tLoss: 0.072310\n",
      "Train Epoch: 23 [71424/178610 (40%)]\tLoss: 0.063217\n",
      "Train Epoch: 23 [107136/178610 (60%)]\tLoss: 0.029239\n",
      "Train Epoch: 23 [142848/178610 (80%)]\tLoss: 0.276828\n",
      "Train Epoch: 23 [139500/178610 (100%)]\tLoss: 0.027775\n",
      "\n",
      "Average loss on epoch 23: 0.047202978642715464\n"
     ]
    },
    {
     "data": {
      "application/vnd.jupyter.widget-view+json": {
       "model_id": "7c99a2b9c4a74d08ace7bb80747c1a1b",
       "version_major": 2,
       "version_minor": 0
      },
      "text/plain": [
       "HBox(children=(FloatProgress(value=0.0, max=702.0), HTML(value='')))"
      ]
     },
     "metadata": {},
     "output_type": "display_data"
    },
    {
     "name": "stdout",
     "output_type": "stream",
     "text": [
      "\n",
      "              precision    recall  f1-score   support\n",
      "\n",
      "           0     0.8926    0.9064    0.8994      2062\n",
      "           1     0.8074    0.8448    0.8257      1211\n",
      "           2     0.9910    0.9917    0.9914     36314\n",
      "           3     0.8261    0.7725    0.7984      2207\n",
      "           4     0.9232    0.9324    0.9278      3106\n",
      "\n",
      "    accuracy                         0.9689     44900\n",
      "   macro avg     0.8880    0.8896    0.8885     44900\n",
      "weighted avg     0.9688    0.9689    0.9688     44900\n",
      "\n",
      "Epoch 24\n"
     ]
    },
    {
     "data": {
      "application/vnd.jupyter.widget-view+json": {
       "model_id": "3e27b57cda194206ab17191f18cb8b2e",
       "version_major": 2,
       "version_minor": 0
      },
      "text/plain": [
       "HBox(children=(FloatProgress(value=0.0, max=2791.0), HTML(value='')))"
      ]
     },
     "metadata": {},
     "output_type": "display_data"
    },
    {
     "name": "stdout",
     "output_type": "stream",
     "text": [
      "Train Epoch: 24 [0/178610 (0%)]\tLoss: 0.039107\n",
      "Train Epoch: 24 [35712/178610 (20%)]\tLoss: 0.024807\n",
      "Train Epoch: 24 [71424/178610 (40%)]\tLoss: 0.024804\n",
      "Train Epoch: 24 [107136/178610 (60%)]\tLoss: 0.039065\n",
      "Train Epoch: 24 [142848/178610 (80%)]\tLoss: 0.061063\n",
      "Train Epoch: 24 [139500/178610 (100%)]\tLoss: 0.041403\n",
      "\n",
      "Average loss on epoch 24: 0.04478775661299222\n"
     ]
    },
    {
     "data": {
      "application/vnd.jupyter.widget-view+json": {
       "model_id": "9f7c3aeb9ad3433aa1bfb850acdb948f",
       "version_major": 2,
       "version_minor": 0
      },
      "text/plain": [
       "HBox(children=(FloatProgress(value=0.0, max=702.0), HTML(value='')))"
      ]
     },
     "metadata": {},
     "output_type": "display_data"
    },
    {
     "name": "stdout",
     "output_type": "stream",
     "text": [
      "\n",
      "              precision    recall  f1-score   support\n",
      "\n",
      "           0     0.8949    0.9146    0.9047      2049\n",
      "           1     0.8129    0.8408    0.8266      1225\n",
      "           2     0.9923    0.9905    0.9914     36406\n",
      "           3     0.8023    0.8194    0.8108      2021\n",
      "           4     0.9366    0.9184    0.9274      3199\n",
      "\n",
      "    accuracy                         0.9701     44900\n",
      "   macro avg     0.8878    0.8967    0.8922     44900\n",
      "weighted avg     0.9705    0.9701    0.9703     44900\n",
      "\n",
      "Epoch 25\n"
     ]
    },
    {
     "data": {
      "application/vnd.jupyter.widget-view+json": {
       "model_id": "060bdd5da1664797afefe1ce0b5929a8",
       "version_major": 2,
       "version_minor": 0
      },
      "text/plain": [
       "HBox(children=(FloatProgress(value=0.0, max=2791.0), HTML(value='')))"
      ]
     },
     "metadata": {},
     "output_type": "display_data"
    },
    {
     "name": "stdout",
     "output_type": "stream",
     "text": [
      "Train Epoch: 25 [0/178610 (0%)]\tLoss: 0.067761\n",
      "Train Epoch: 25 [35712/178610 (20%)]\tLoss: 0.021975\n",
      "Train Epoch: 25 [71424/178610 (40%)]\tLoss: 0.079655\n",
      "Train Epoch: 25 [107136/178610 (60%)]\tLoss: 0.041458\n",
      "Train Epoch: 25 [142848/178610 (80%)]\tLoss: 0.034293\n",
      "Train Epoch: 25 [139500/178610 (100%)]\tLoss: 0.024189\n",
      "\n",
      "Average loss on epoch 25: 0.04211730366710884\n"
     ]
    },
    {
     "data": {
      "application/vnd.jupyter.widget-view+json": {
       "model_id": "32592e00932b4569945f1f09a01f7624",
       "version_major": 2,
       "version_minor": 0
      },
      "text/plain": [
       "HBox(children=(FloatProgress(value=0.0, max=702.0), HTML(value='')))"
      ]
     },
     "metadata": {},
     "output_type": "display_data"
    },
    {
     "name": "stdout",
     "output_type": "stream",
     "text": [
      "\n",
      "              precision    recall  f1-score   support\n",
      "\n",
      "           0     0.8792    0.9251    0.9016      1990\n",
      "           1     0.7758    0.8896    0.8288      1105\n",
      "           2     0.9936    0.9892    0.9914     36502\n",
      "           3     0.8232    0.7790    0.8005      2181\n",
      "           4     0.9241    0.9286    0.9263      3122\n",
      "\n",
      "    accuracy                         0.9694     44900\n",
      "   macro avg     0.8792    0.9023    0.8897     44900\n",
      "weighted avg     0.9701    0.9694    0.9696     44900\n",
      "\n",
      "Epoch 26\n"
     ]
    },
    {
     "data": {
      "application/vnd.jupyter.widget-view+json": {
       "model_id": "c87377254fa544a099802f06395e0e16",
       "version_major": 2,
       "version_minor": 0
      },
      "text/plain": [
       "HBox(children=(FloatProgress(value=0.0, max=2791.0), HTML(value='')))"
      ]
     },
     "metadata": {},
     "output_type": "display_data"
    },
    {
     "name": "stdout",
     "output_type": "stream",
     "text": [
      "Train Epoch: 26 [0/178610 (0%)]\tLoss: 0.031603\n",
      "Train Epoch: 26 [35712/178610 (20%)]\tLoss: 0.019431\n",
      "Train Epoch: 26 [71424/178610 (40%)]\tLoss: 0.060261\n",
      "Train Epoch: 26 [107136/178610 (60%)]\tLoss: 0.034670\n",
      "Train Epoch: 26 [142848/178610 (80%)]\tLoss: 0.034215\n",
      "Train Epoch: 26 [139500/178610 (100%)]\tLoss: 0.054804\n",
      "\n",
      "Average loss on epoch 26: 0.039916071320948335\n"
     ]
    },
    {
     "data": {
      "application/vnd.jupyter.widget-view+json": {
       "model_id": "12bc4c72b642481382d838c8c5aaf8cd",
       "version_major": 2,
       "version_minor": 0
      },
      "text/plain": [
       "HBox(children=(FloatProgress(value=0.0, max=702.0), HTML(value='')))"
      ]
     },
     "metadata": {},
     "output_type": "display_data"
    },
    {
     "name": "stdout",
     "output_type": "stream",
     "text": [
      "\n",
      "              precision    recall  f1-score   support\n",
      "\n",
      "           0     0.8930    0.9126    0.9027      2049\n",
      "           1     0.7830    0.8756    0.8267      1133\n",
      "           2     0.9927    0.9902    0.9915     36432\n",
      "           3     0.8251    0.7844    0.8043      2171\n",
      "           4     0.9251    0.9316    0.9283      3115\n",
      "\n",
      "    accuracy                         0.9697     44900\n",
      "   macro avg     0.8838    0.8989    0.8907     44900\n",
      "weighted avg     0.9701    0.9697    0.9698     44900\n",
      "\n",
      "Epoch 27\n"
     ]
    },
    {
     "data": {
      "application/vnd.jupyter.widget-view+json": {
       "model_id": "e5a83c99313f4bd990e3555bfad23813",
       "version_major": 2,
       "version_minor": 0
      },
      "text/plain": [
       "HBox(children=(FloatProgress(value=0.0, max=2791.0), HTML(value='')))"
      ]
     },
     "metadata": {},
     "output_type": "display_data"
    },
    {
     "name": "stdout",
     "output_type": "stream",
     "text": [
      "Train Epoch: 27 [0/178610 (0%)]\tLoss: 0.021747\n",
      "Train Epoch: 27 [35712/178610 (20%)]\tLoss: 0.015371\n",
      "Train Epoch: 27 [71424/178610 (40%)]\tLoss: 0.148826\n",
      "Train Epoch: 27 [107136/178610 (60%)]\tLoss: 0.016369\n",
      "Train Epoch: 27 [142848/178610 (80%)]\tLoss: 0.084746\n",
      "Train Epoch: 27 [139500/178610 (100%)]\tLoss: 0.011839\n",
      "\n",
      "Average loss on epoch 27: 0.037937623747820996\n"
     ]
    },
    {
     "data": {
      "application/vnd.jupyter.widget-view+json": {
       "model_id": "262d7323531043e0b102a7064ef7e79c",
       "version_major": 2,
       "version_minor": 0
      },
      "text/plain": [
       "HBox(children=(FloatProgress(value=0.0, max=702.0), HTML(value='')))"
      ]
     },
     "metadata": {},
     "output_type": "display_data"
    },
    {
     "name": "stdout",
     "output_type": "stream",
     "text": [
      "\n",
      "              precision    recall  f1-score   support\n",
      "\n",
      "           0     0.9050    0.9028    0.9039      2099\n",
      "           1     0.8540    0.7829    0.8169      1382\n",
      "           2     0.9922    0.9905    0.9913     36398\n",
      "           3     0.7432    0.8781    0.8050      1747\n",
      "           4     0.9496    0.9099    0.9293      3274\n",
      "\n",
      "    accuracy                         0.9698     44900\n",
      "   macro avg     0.8888    0.8928    0.8893     44900\n",
      "weighted avg     0.9710    0.9698    0.9701     44900\n",
      "\n",
      "Epoch 28\n"
     ]
    },
    {
     "data": {
      "application/vnd.jupyter.widget-view+json": {
       "model_id": "a539f96212fe46e5a16259a756a31072",
       "version_major": 2,
       "version_minor": 0
      },
      "text/plain": [
       "HBox(children=(FloatProgress(value=0.0, max=2791.0), HTML(value='')))"
      ]
     },
     "metadata": {},
     "output_type": "display_data"
    },
    {
     "name": "stdout",
     "output_type": "stream",
     "text": [
      "Train Epoch: 28 [0/178610 (0%)]\tLoss: 0.021742\n",
      "Train Epoch: 28 [35712/178610 (20%)]\tLoss: 0.018106\n",
      "Train Epoch: 28 [71424/178610 (40%)]\tLoss: 0.039425\n",
      "Train Epoch: 28 [107136/178610 (60%)]\tLoss: 0.070427\n",
      "Train Epoch: 28 [142848/178610 (80%)]\tLoss: 0.016423\n",
      "Train Epoch: 28 [139500/178610 (100%)]\tLoss: 0.027182\n",
      "\n",
      "Average loss on epoch 28: 0.036590933250493576\n"
     ]
    },
    {
     "data": {
      "application/vnd.jupyter.widget-view+json": {
       "model_id": "5bc77a5169474920b7d8fb11f17a2f4c",
       "version_major": 2,
       "version_minor": 0
      },
      "text/plain": [
       "HBox(children=(FloatProgress(value=0.0, max=702.0), HTML(value='')))"
      ]
     },
     "metadata": {},
     "output_type": "display_data"
    },
    {
     "name": "stdout",
     "output_type": "stream",
     "text": [
      "\n",
      "              precision    recall  f1-score   support\n",
      "\n",
      "           0     0.8911    0.9076    0.8993      2056\n",
      "           1     0.8224    0.8309    0.8267      1254\n",
      "           2     0.9922    0.9912    0.9917     36375\n",
      "           3     0.7999    0.8149    0.8073      2026\n",
      "           4     0.9343    0.9191    0.9267      3189\n",
      "\n",
      "    accuracy                         0.9698     44900\n",
      "   macro avg     0.8880    0.8928    0.8903     44900\n",
      "weighted avg     0.9701    0.9698    0.9699     44900\n",
      "\n",
      "Epoch 29\n"
     ]
    },
    {
     "data": {
      "application/vnd.jupyter.widget-view+json": {
       "model_id": "9ca62d5e2b2a41dd9b1fe617378f72f6",
       "version_major": 2,
       "version_minor": 0
      },
      "text/plain": [
       "HBox(children=(FloatProgress(value=0.0, max=2791.0), HTML(value='')))"
      ]
     },
     "metadata": {},
     "output_type": "display_data"
    },
    {
     "name": "stdout",
     "output_type": "stream",
     "text": [
      "Train Epoch: 29 [0/178610 (0%)]\tLoss: 0.029345\n",
      "Train Epoch: 29 [35712/178610 (20%)]\tLoss: 0.044297\n",
      "Train Epoch: 29 [71424/178610 (40%)]\tLoss: 0.024619\n",
      "Train Epoch: 29 [107136/178610 (60%)]\tLoss: 0.038950\n",
      "Train Epoch: 29 [142848/178610 (80%)]\tLoss: 0.025360\n",
      "Train Epoch: 29 [139500/178610 (100%)]\tLoss: 0.018272\n",
      "\n",
      "Average loss on epoch 29: 0.03511683914994949\n"
     ]
    },
    {
     "data": {
      "application/vnd.jupyter.widget-view+json": {
       "model_id": "4f579c5c05ff4e8497b564605b848aef",
       "version_major": 2,
       "version_minor": 0
      },
      "text/plain": [
       "HBox(children=(FloatProgress(value=0.0, max=702.0), HTML(value='')))"
      ]
     },
     "metadata": {},
     "output_type": "display_data"
    },
    {
     "name": "stdout",
     "output_type": "stream",
     "text": [
      "\n",
      "              precision    recall  f1-score   support\n",
      "\n",
      "           0     0.9088    0.8938    0.9013      2129\n",
      "           1     0.8548    0.7697    0.8100      1407\n",
      "           2     0.9906    0.9917    0.9912     36298\n",
      "           3     0.7374    0.8727    0.7994      1744\n",
      "           4     0.9512    0.8983    0.9240      3322\n",
      "\n",
      "    accuracy                         0.9686     44900\n",
      "   macro avg     0.8886    0.8852    0.8852     44900\n",
      "weighted avg     0.9697    0.9686    0.9688     44900\n",
      "\n",
      "CPU times: user 1h 9min 30s, sys: 9min 39s, total: 1h 19min 10s\n",
      "Wall time: 30min 50s\n"
     ]
    }
   ],
   "source": [
    "%%time\n",
    "max_epochs = 10\n",
    "\n",
    "for epoch in range(len(logs['loss/train']), len(logs['loss/train']) + max_epochs):\n",
    "    \n",
    "    # Training\n",
    "    ffnet.train()\n",
    "    print('Epoch', epoch)\n",
    "    logs['loss/train'][epoch] = []\n",
    "    writer.add_scalar(\"Learning_rate\", optimizer_params['lr'], epoch)\n",
    "\n",
    "    for batch, (batch_X, batch_Y) in enumerate(tqdm(train_loader)):\n",
    "        # tranfer to GPU\n",
    "        batch_X, batch_Y = batch_X.float().to(device), batch_Y.to(device)\n",
    "        optimizer.zero_grad()\n",
    "        l = backprop(batch_X, batch_Y, ffnet, optimizer, loss_fn)\n",
    "        logs['loss/train'][epoch].append(l)\n",
    "        \n",
    "        if batch % log_interval == 0:\n",
    "            print('Train Epoch: {} [{}/{} ({:.0f}%)]\\tLoss: {:.6f}'.format(\n",
    "                epoch, batch * len(batch_X), len(train_loader.dataset),\n",
    "                100. * batch / len(train_loader), l))\n",
    "    \n",
    "    logs['loss/train'][epoch] = np.mean(logs['loss/train'][epoch])\n",
    "    writer.add_scalar(\"Loss/train\", logs['loss/train'][epoch], epoch)\n",
    "    print(f'Average loss on epoch {epoch}: {logs[\"loss/train\"][epoch]}')\n",
    "    \n",
    "    # Validation\n",
    "    ffnet.eval()\n",
    "    with torch.no_grad():\n",
    "        preds = []\n",
    "        gt = []\n",
    "        for batch, (batch_X, batch_Y) in enumerate(tqdm(dev_loader)):\n",
    "            # Transfer to GPU\n",
    "            batch_X = batch_X.float().to(device)\n",
    "            output = nn.Softmax(dim=1)(ffnet(batch_X))\n",
    "            preds.append(output.cpu())\n",
    "            gt.append(batch_Y)\n",
    "\n",
    "        all_out = [np.argmax(l) for batch in preds for l in batch.numpy()]\n",
    "        all_gt  = [l for batch in gt for l in batch.numpy()]\n",
    "\n",
    "        print(classification_report(all_out, all_gt, digits=4))\n",
    "\n",
    "        micro_F1 = metrics.f1_score(all_gt, all_out, average='micro')\n",
    "        macro_F1 = metrics.f1_score(all_gt, all_out, average='macro')\n",
    "        weighted_F1 = metrics.f1_score(all_gt, all_out, average='weighted')\n",
    "        writer.add_scalar(\"micro_F1/dev\", micro_F1, epoch)\n",
    "        writer.add_scalar(\"macro_F1/dev\", macro_F1, epoch)\n",
    "        writer.add_scalar(\"weighted_F1/dev\", weighted_F1, epoch)\n",
    "        logs['dev'][epoch] = (micro_F1, weighted_F1, macro_F1, (all_gt, all_out))"
   ]
  },
  {
   "cell_type": "code",
   "execution_count": 29,
   "metadata": {},
   "outputs": [
    {
     "data": {
      "application/vnd.jupyter.widget-view+json": {
       "model_id": "a84e2c554f7c4337b9869fc7238d7659",
       "version_major": 2,
       "version_minor": 0
      },
      "text/plain": [
       "HBox(children=(FloatProgress(value=0.0, max=637.0), HTML(value='')))"
      ]
     },
     "metadata": {},
     "output_type": "display_data"
    },
    {
     "name": "stdout",
     "output_type": "stream",
     "text": [
      "\n",
      "              precision    recall  f1-score   support\n",
      "\n",
      "           0     0.8686    0.8085    0.8375      2068\n",
      "           1     0.7854    0.5988    0.6795      1204\n",
      "           2     0.9799    0.9895    0.9847     32337\n",
      "           3     0.6635    0.7975    0.7243      2074\n",
      "           4     0.9268    0.8352    0.8786      3077\n",
      "\n",
      "    accuracy                         0.9473     40760\n",
      "   macro avg     0.8448    0.8059    0.8209     40760\n",
      "weighted avg     0.9484    0.9473    0.9469     40760\n",
      "\n"
     ]
    }
   ],
   "source": [
    "ffnet.eval()\n",
    "with torch.no_grad():\n",
    "    preds = []\n",
    "    gt = []\n",
    "    for batch, (batch_X, batch_Y) in enumerate(tqdm(test_loader)):\n",
    "        # Transfer to GPU\n",
    "        batch_X = batch_X.float().to(device)\n",
    "        output = nn.Softmax(dim=1)(ffnet(batch_X))\n",
    "        preds.append(output.cpu())\n",
    "        gt.append(batch_Y)\n",
    "\n",
    "    all_out = [np.argmax(l) for batch in preds for l in batch.numpy()]\n",
    "    all_gt  = [l for batch in gt for l in batch.numpy()]\n",
    "\n",
    "    print(classification_report(all_out, all_gt, digits=4))"
   ]
  },
  {
   "cell_type": "code",
   "execution_count": null,
   "metadata": {},
   "outputs": [],
   "source": []
  }
 ],
 "metadata": {
  "kernelspec": {
   "display_name": "Python 3",
   "language": "python",
   "name": "python3"
  },
  "language_info": {
   "codemirror_mode": {
    "name": "ipython",
    "version": 3
   },
   "file_extension": ".py",
   "mimetype": "text/x-python",
   "name": "python",
   "nbconvert_exporter": "python",
   "pygments_lexer": "ipython3",
   "version": "3.8.2"
  }
 },
 "nbformat": 4,
 "nbformat_minor": 4
}
