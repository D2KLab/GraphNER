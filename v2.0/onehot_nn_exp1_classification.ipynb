{
 "cells": [
  {
   "cell_type": "markdown",
   "metadata": {},
   "source": [
    "# Setup"
   ]
  },
  {
   "cell_type": "code",
   "execution_count": 1,
   "metadata": {},
   "outputs": [],
   "source": [
    "import os\n",
    "os.environ[\"CUDA_VISIBLE_DEVICES\"]=\"0,1\""
   ]
  },
  {
   "cell_type": "code",
   "execution_count": 2,
   "metadata": {},
   "outputs": [],
   "source": [
    "import torch\n",
    "from torch import nn\n",
    "from torch.nn import functional as F\n",
    "from torch.utils import data\n",
    "from torch.utils.data import DataLoader\n",
    "from torch.utils.tensorboard import SummaryWriter\n",
    "\n",
    "import re\n",
    "import time\n",
    "import pickle\n",
    "\n",
    "import numpy as np\n",
    "import pandas as pd\n",
    "from tqdm.notebook import tqdm\n",
    "from collections import Counter\n",
    "\n",
    "from sklearn import metrics\n",
    "from sklearn.metrics import classification_report, f1_score"
   ]
  },
  {
   "cell_type": "code",
   "execution_count": 18,
   "metadata": {},
   "outputs": [
    {
     "data": {
      "text/plain": [
       "<torch._C.Generator at 0x7f17580572b0>"
      ]
     },
     "execution_count": 18,
     "metadata": {},
     "output_type": "execute_result"
    }
   ],
   "source": [
    "seed = 42\n",
    "np.random.seed(seed)\n",
    "torch.manual_seed(seed)"
   ]
  },
  {
   "cell_type": "code",
   "execution_count": 3,
   "metadata": {},
   "outputs": [
    {
     "data": {
      "text/plain": [
       "device(type='cuda')"
      ]
     },
     "execution_count": 3,
     "metadata": {},
     "output_type": "execute_result"
    }
   ],
   "source": [
    "device = torch.device(\"cuda\" if torch.cuda.is_available() else \"cpu\")\n",
    "device"
   ]
  },
  {
   "cell_type": "code",
   "execution_count": 4,
   "metadata": {},
   "outputs": [
    {
     "name": "stdout",
     "output_type": "stream",
     "text": [
      "train : 178610, validation : 44900, test : 40760\n"
     ]
    }
   ],
   "source": [
    "dataset = pickle.load(open('conll_graph.pickle', 'rb'))\n",
    "print(', '.join([split + f' : {len(dataset[split])}' for split in dataset]))"
   ]
  },
  {
   "cell_type": "code",
   "execution_count": 5,
   "metadata": {},
   "outputs": [
    {
     "data": {
      "text/plain": [
       "{'word': ['german'],\n",
       " 'label': 'MISC',\n",
       " 'gt_label': 'B-MISC',\n",
       " 'surface': 'German',\n",
       " 'pos': ['<JJ>'],\n",
       " 'chunk': ['<NP>'],\n",
       " 'classes': ['<GEOREGION>', '<NAME>', '<GIVEN NAME>', '<FAMILY NAME>'],\n",
       " 'extra': ['<CAPITALIZED>'],\n",
       " 'left_context': ['eu', 'rejects'],\n",
       " 'right_context': ['call', 'to', 'boycott', 'british', 'lamb']}"
      ]
     },
     "execution_count": 5,
     "metadata": {},
     "output_type": "execute_result"
    }
   ],
   "source": [
    "dataset['train'][2]"
   ]
  },
  {
   "cell_type": "code",
   "execution_count": 6,
   "metadata": {},
   "outputs": [
    {
     "name": "stdout",
     "output_type": "stream",
     "text": [
      "word : 18823, chunk : 11, pos : 25, classes : 14, extra : 3\n"
     ]
    }
   ],
   "source": [
    "vocabulary = pickle.load(open('vocabulary.pickle', 'rb'))\n",
    "print(', '.join([key + f' : {len(vocabulary[key])}' for key in vocabulary]))"
   ]
  },
  {
   "cell_type": "code",
   "execution_count": 7,
   "metadata": {},
   "outputs": [
    {
     "name": "stdout",
     "output_type": "stream",
     "text": [
      "{'LOC': 0, 'MISC': 1, 'O': 2, 'ORG': 3, 'PER': 4}\n"
     ]
    }
   ],
   "source": [
    "labels = pickle.load(open('labels.pickle', 'rb'))\n",
    "label2id = {l: i for i, l in enumerate(labels)}\n",
    "print(label2id)"
   ]
  },
  {
   "cell_type": "code",
   "execution_count": 8,
   "metadata": {},
   "outputs": [
    {
     "name": "stdout",
     "output_type": "stream",
     "text": [
      "8532 0\n"
     ]
    }
   ],
   "source": [
    "voc2id = {}\n",
    "for key in vocabulary:\n",
    "    voc2id[key] = {l: i for i, l in enumerate(vocabulary[key])}\n",
    "print(voc2id['word']['ismail'], voc2id['extra']['<ACRONYM>'], )"
   ]
  },
  {
   "cell_type": "markdown",
   "metadata": {},
   "source": [
    "# Dataset"
   ]
  },
  {
   "cell_type": "code",
   "execution_count": 9,
   "metadata": {},
   "outputs": [],
   "source": [
    "class Dataset(torch.utils.data.Dataset):\n",
    "    def __init__(self, dataset, split, voc2id=voc2id, label2id=label2id, context='all'):\n",
    "        X = []\n",
    "        Y = []\n",
    "        \n",
    "        for doc in tqdm(dataset[split], desc=split.upper()):\n",
    "            # Create the graph one-hot embedding\n",
    "            onehot = {}\n",
    "            for key in voc2id:\n",
    "                onehot[key] = np.zeros(len(voc2id[key]))\n",
    "                for v in doc[key]:\n",
    "                    onehot[key][voc2id[key][v]] = 1.\n",
    "            \n",
    "            onehot['left'] = np.zeros(len(voc2id['word']))\n",
    "            onehot['right'] = np.zeros(len(voc2id['word']))\n",
    "            \n",
    "            if context == 'all':\n",
    "                context = max(len(doc['left_context']), len(doc['right_context']))\n",
    "            \n",
    "            for w in doc['left_context'][-context:]:\n",
    "                onehot['left'][voc2id['word'][w]] = 1.\n",
    "            for w in doc['right_context'][:context]:\n",
    "                onehot['right'][voc2id['word'][w]] = 1.\n",
    "            \n",
    "            doc_embedding = np.concatenate([onehot['word'], onehot['left'], onehot['right'],\n",
    "                                            onehot['pos'], onehot['chunk'], onehot['extra'], onehot['classes']])\n",
    "            X.append(doc_embedding)\n",
    "            Y.append(label2id[doc['label']])\n",
    "        \n",
    "        self.X = X\n",
    "        self.Y = Y\n",
    "        self.X_len = len(X)\n",
    "        self.labels = sorted(label2id.keys())\n",
    "        self.label2id = label2id\n",
    "        self.voc2id = voc2id\n",
    "\n",
    "    def __len__(self):\n",
    "        return self.X_len\n",
    "\n",
    "    def __getitem__(self, index):\n",
    "        x = torch.tensor(self.X[index])\n",
    "        y = torch.tensor(self.Y[index])\n",
    "        \n",
    "        return x, y\n",
    "\n",
    "    def labels(self):\n",
    "        return self.labels\n",
    "    \n",
    "    def voc(self, key):\n",
    "        return self.voc2id[key]\n",
    "    \n",
    "    def Y(self):\n",
    "        return self.Y"
   ]
  },
  {
   "cell_type": "code",
   "execution_count": 10,
   "metadata": {},
   "outputs": [
    {
     "data": {
      "application/vnd.jupyter.widget-view+json": {
       "model_id": "b53b0e2b651a49aba4aabdc683b320b2",
       "version_major": 2,
       "version_minor": 0
      },
      "text/plain": [
       "HBox(children=(FloatProgress(value=0.0, description='TRAIN', max=178610.0, style=ProgressStyle(description_wid…"
      ]
     },
     "metadata": {},
     "output_type": "display_data"
    },
    {
     "name": "stdout",
     "output_type": "stream",
     "text": [
      "\n"
     ]
    },
    {
     "data": {
      "application/vnd.jupyter.widget-view+json": {
       "model_id": "1ceb6cdac6f24dd1bb2ede883ca7673f",
       "version_major": 2,
       "version_minor": 0
      },
      "text/plain": [
       "HBox(children=(FloatProgress(value=0.0, description='VALIDATION', max=44900.0, style=ProgressStyle(description…"
      ]
     },
     "metadata": {},
     "output_type": "display_data"
    },
    {
     "name": "stdout",
     "output_type": "stream",
     "text": [
      "\n"
     ]
    },
    {
     "data": {
      "application/vnd.jupyter.widget-view+json": {
       "model_id": "3ca7dff108a341378bf5c6024838d490",
       "version_major": 2,
       "version_minor": 0
      },
      "text/plain": [
       "HBox(children=(FloatProgress(value=0.0, description='TEST', max=40760.0, style=ProgressStyle(description_width…"
      ]
     },
     "metadata": {},
     "output_type": "display_data"
    },
    {
     "name": "stdout",
     "output_type": "stream",
     "text": [
      "\n"
     ]
    }
   ],
   "source": [
    "train_set = Dataset(dataset, 'train', context=3)\n",
    "dev_set = Dataset(dataset, 'validation', context=3)\n",
    "test_set = Dataset(dataset, 'test', context=3)"
   ]
  },
  {
   "cell_type": "code",
   "execution_count": 35,
   "metadata": {},
   "outputs": [],
   "source": [
    "batch_size = 64\n",
    "num_workers = 4\n",
    "\n",
    "train_loader = torch.utils.data.DataLoader(train_set, batch_size=batch_size, num_workers=num_workers, shuffle=True)\n",
    "dev_loader = torch.utils.data.DataLoader(dev_set, batch_size=batch_size, num_workers=num_workers, shuffle=False)\n",
    "test_loader = torch.utils.data.DataLoader(test_set, batch_size=batch_size, num_workers=num_workers, shuffle=False)"
   ]
  },
  {
   "cell_type": "code",
   "execution_count": 36,
   "metadata": {},
   "outputs": [
    {
     "name": "stdout",
     "output_type": "stream",
     "text": [
      "torch.Size([64, 56522])\n",
      "torch.Size([64])\n"
     ]
    }
   ],
   "source": [
    "input_dim = 0\n",
    "for local_features, local_labels in train_loader:\n",
    "    input_dim = local_features.shape[1]\n",
    "    print(local_features.shape)\n",
    "    print(local_labels.shape)\n",
    "    break"
   ]
  },
  {
   "cell_type": "code",
   "execution_count": 37,
   "metadata": {},
   "outputs": [
    {
     "data": {
      "text/plain": [
       "56522"
      ]
     },
     "execution_count": 37,
     "metadata": {},
     "output_type": "execute_result"
    }
   ],
   "source": [
    "input_dim"
   ]
  },
  {
   "cell_type": "code",
   "execution_count": 38,
   "metadata": {},
   "outputs": [
    {
     "name": "stdout",
     "output_type": "stream",
     "text": [
      "Counter({2: 144631, 4: 11124, 3: 9984, 0: 8288, 1: 4583})\n"
     ]
    }
   ],
   "source": [
    "training_counter = Counter(train_set.Y)\n",
    "print(training_counter)"
   ]
  },
  {
   "cell_type": "code",
   "execution_count": 39,
   "metadata": {},
   "outputs": [
    {
     "data": {
      "text/plain": [
       "['LOC', 'MISC', 'O', 'ORG', 'PER']"
      ]
     },
     "execution_count": 39,
     "metadata": {},
     "output_type": "execute_result"
    }
   ],
   "source": [
    "labels"
   ]
  },
  {
   "cell_type": "markdown",
   "metadata": {},
   "source": [
    "# The Model"
   ]
  },
  {
   "cell_type": "code",
   "execution_count": 40,
   "metadata": {},
   "outputs": [],
   "source": [
    "def backprop(batch_X, batch_Y, model, optimizer, loss_fn):\n",
    "    Y_hat = model(batch_X)\n",
    "    loss = loss_fn(Y_hat, batch_Y)\n",
    "    loss.backward()\n",
    "    optimizer.step()\n",
    "    \n",
    "    return loss.item()\n",
    "\n",
    "class FeedForwardNetwork(nn.Module):\n",
    "    def __init__(self, input_dim=input_dim, hidden_dim=256, output_dim=5, dropout_rate=0.2):\n",
    "        super().__init__()\n",
    "        self.fc1 = nn.Linear(input_dim, hidden_dim)\n",
    "        self.fch = nn.Linear(hidden_dim, hidden_dim)\n",
    "        self.fc2 = nn.Linear(hidden_dim, output_dim)\n",
    "        self.relu = nn.ReLU()\n",
    "\n",
    "        # extra layers layers\n",
    "        self.dropout = nn.Dropout(p=dropout_rate)\n",
    "        \n",
    "    def forward(self, x):\n",
    "        x = self.fc1(x)\n",
    "        x = self.relu(x)\n",
    "        x = self.dropout(x)\n",
    "        x = self.fch(x)\n",
    "        x = self.relu(x)\n",
    "        x = self.dropout(x)\n",
    "        logits = self.fc2(x)\n",
    "\n",
    "        return logits"
   ]
  },
  {
   "cell_type": "code",
   "execution_count": 41,
   "metadata": {},
   "outputs": [],
   "source": [
    "ffnet = FeedForwardNetwork(dropout_rate=0.2).to(device)"
   ]
  },
  {
   "cell_type": "code",
   "execution_count": 42,
   "metadata": {},
   "outputs": [],
   "source": [
    "logs = {'loss/train': {}, 'dev': {}}\n",
    "writer = SummaryWriter(comment='xp4-onehot-allfeat-win3-wei2-lr1e3-mom0.9-wd5e4-hd256-dr0.2-bs64', log_dir=None,)"
   ]
  },
  {
   "cell_type": "code",
   "execution_count": 43,
   "metadata": {},
   "outputs": [
    {
     "name": "stdout",
     "output_type": "stream",
     "text": [
      "tensor([0.7436, 1.0000, 0.1780, 0.6775, 0.6419], device='cuda:0')\n"
     ]
    }
   ],
   "source": [
    "label_counter   = Counter(train_set.Y)\n",
    "labels_freqs    = [label_counter[label] / sum(label_counter.values()) for label in range(len(labels))]\n",
    "labels_weights1 = [min(label_counter.values()) / label_counter[label] for label in range(len(labels))]\n",
    "labels_weights2 = [np.sqrt(min(label_counter.values())) / np.sqrt(label_counter[label]) for label in range(len(labels))]\n",
    "\n",
    "weights = torch.Tensor(labels_weights2).to(device)\n",
    "print(weights)"
   ]
  },
  {
   "cell_type": "code",
   "execution_count": 44,
   "metadata": {},
   "outputs": [],
   "source": [
    "optimizer_params = {'lr': 1e-3, \n",
    "                    'momentum': 0.9, \n",
    "                    'weight_decay': 5e-4,\n",
    "                   }\n",
    "\n",
    "log_interval = int(len(train_loader) / 5)\n",
    "\n",
    "loss_fn = nn.CrossEntropyLoss(weight=weights)\n",
    "optimizer = torch.optim.SGD(ffnet.parameters(), **optimizer_params)"
   ]
  },
  {
   "cell_type": "code",
   "execution_count": 45,
   "metadata": {
    "scrolled": false
   },
   "outputs": [
    {
     "name": "stdout",
     "output_type": "stream",
     "text": [
      "Epoch 0\n"
     ]
    },
    {
     "data": {
      "application/vnd.jupyter.widget-view+json": {
       "model_id": "05306869252f47dc8bb5c4e00f55c68c",
       "version_major": 2,
       "version_minor": 0
      },
      "text/plain": [
       "HBox(children=(FloatProgress(value=0.0, max=2791.0), HTML(value='')))"
      ]
     },
     "metadata": {},
     "output_type": "display_data"
    },
    {
     "name": "stdout",
     "output_type": "stream",
     "text": [
      "Train Epoch: 0 [0/178610 (0%)]\tLoss: 1.599002\n",
      "Train Epoch: 0 [35712/178610 (20%)]\tLoss: 1.386837\n",
      "Train Epoch: 0 [71424/178610 (40%)]\tLoss: 0.978038\n",
      "Train Epoch: 0 [107136/178610 (60%)]\tLoss: 0.891928\n",
      "Train Epoch: 0 [142848/178610 (80%)]\tLoss: 1.110513\n",
      "Train Epoch: 0 [139500/178610 (100%)]\tLoss: 0.721754\n",
      "\n",
      "Average loss on epoch 0: 1.0386693600534496\n"
     ]
    },
    {
     "data": {
      "application/vnd.jupyter.widget-view+json": {
       "model_id": "2d3c4c735de0406fa77571fb62db6451",
       "version_major": 2,
       "version_minor": 0
      },
      "text/plain": [
       "HBox(children=(FloatProgress(value=0.0, max=702.0), HTML(value='')))"
      ]
     },
     "metadata": {},
     "output_type": "display_data"
    },
    {
     "name": "stdout",
     "output_type": "stream",
     "text": [
      "\n",
      "              precision    recall  f1-score   support\n",
      "\n",
      "           0     0.1289    0.7105    0.2183       380\n",
      "           1     0.0000    0.0000    0.0000         0\n",
      "           2     0.9572    0.9695    0.9633     35876\n",
      "           3     0.2272    0.2223    0.2247      2110\n",
      "           4     0.8291    0.3981    0.5379      6534\n",
      "\n",
      "    accuracy                         0.8490     44900\n",
      "   macro avg     0.4285    0.4601    0.3888     44900\n",
      "weighted avg     0.8972    0.8490    0.8604     44900\n",
      "\n",
      "Epoch 1\n"
     ]
    },
    {
     "data": {
      "application/vnd.jupyter.widget-view+json": {
       "model_id": "27027df15cdd4237a5f0c4962de5dbf1",
       "version_major": 2,
       "version_minor": 0
      },
      "text/plain": [
       "HBox(children=(FloatProgress(value=0.0, max=2791.0), HTML(value='')))"
      ]
     },
     "metadata": {},
     "output_type": "display_data"
    },
    {
     "name": "stdout",
     "output_type": "stream",
     "text": [
      "Train Epoch: 1 [0/178610 (0%)]\tLoss: 0.695728\n",
      "Train Epoch: 1 [35712/178610 (20%)]\tLoss: 0.778437\n",
      "Train Epoch: 1 [71424/178610 (40%)]\tLoss: 0.974725\n",
      "Train Epoch: 1 [107136/178610 (60%)]\tLoss: 0.760743\n",
      "Train Epoch: 1 [142848/178610 (80%)]\tLoss: 0.744746\n",
      "Train Epoch: 1 [139500/178610 (100%)]\tLoss: 0.767573\n",
      "\n",
      "Average loss on epoch 1: 0.7458715805045083\n"
     ]
    },
    {
     "data": {
      "application/vnd.jupyter.widget-view+json": {
       "model_id": "1d069850b2924370b4fcd1ac3ad2e1a9",
       "version_major": 2,
       "version_minor": 0
      },
      "text/plain": [
       "HBox(children=(FloatProgress(value=0.0, max=702.0), HTML(value='')))"
      ]
     },
     "metadata": {},
     "output_type": "display_data"
    },
    {
     "name": "stdout",
     "output_type": "stream",
     "text": [
      "\n",
      "              precision    recall  f1-score   support\n",
      "\n",
      "           0     0.6686    0.6173    0.6419      2268\n",
      "           1     0.3291    0.5681    0.4168       734\n",
      "           2     0.9582    0.9819    0.9699     35460\n",
      "           3     0.3285    0.3119    0.3200      2174\n",
      "           4     0.8709    0.6407    0.7383      4264\n",
      "\n",
      "    accuracy                         0.8919     44900\n",
      "   macro avg     0.6311    0.6240    0.6174     44900\n",
      "weighted avg     0.8945    0.8919    0.8908     44900\n",
      "\n",
      "Epoch 2\n"
     ]
    },
    {
     "data": {
      "application/vnd.jupyter.widget-view+json": {
       "model_id": "6d324b9ae9544817b2a8485d5f9b5175",
       "version_major": 2,
       "version_minor": 0
      },
      "text/plain": [
       "HBox(children=(FloatProgress(value=0.0, max=2791.0), HTML(value='')))"
      ]
     },
     "metadata": {},
     "output_type": "display_data"
    },
    {
     "name": "stdout",
     "output_type": "stream",
     "text": [
      "Train Epoch: 2 [0/178610 (0%)]\tLoss: 0.458989\n",
      "Train Epoch: 2 [35712/178610 (20%)]\tLoss: 0.641570\n",
      "Train Epoch: 2 [71424/178610 (40%)]\tLoss: 0.499726\n",
      "Train Epoch: 2 [107136/178610 (60%)]\tLoss: 0.631780\n",
      "Train Epoch: 2 [142848/178610 (80%)]\tLoss: 0.570822\n",
      "Train Epoch: 2 [139500/178610 (100%)]\tLoss: 0.862685\n",
      "\n",
      "Average loss on epoch 2: 0.6062210145356706\n"
     ]
    },
    {
     "data": {
      "application/vnd.jupyter.widget-view+json": {
       "model_id": "62edd856969841b1a82c3e4429c96b70",
       "version_major": 2,
       "version_minor": 0
      },
      "text/plain": [
       "HBox(children=(FloatProgress(value=0.0, max=702.0), HTML(value='')))"
      ]
     },
     "metadata": {},
     "output_type": "display_data"
    },
    {
     "name": "stdout",
     "output_type": "stream",
     "text": [
      "\n",
      "              precision    recall  f1-score   support\n",
      "\n",
      "           0     0.6375    0.7721    0.6984      1729\n",
      "           1     0.4680    0.5271    0.4958      1125\n",
      "           2     0.9531    0.9869    0.9697     35094\n",
      "           3     0.5208    0.3618    0.4270      2971\n",
      "           4     0.8734    0.6883    0.7699      3981\n",
      "\n",
      "    accuracy                         0.8993     44900\n",
      "   macro avg     0.6906    0.6673    0.6722     44900\n",
      "weighted avg     0.8932    0.8993    0.8938     44900\n",
      "\n",
      "Epoch 3\n"
     ]
    },
    {
     "data": {
      "application/vnd.jupyter.widget-view+json": {
       "model_id": "c8fdbb4e9efd4d4a846bf4e90de1f8bf",
       "version_major": 2,
       "version_minor": 0
      },
      "text/plain": [
       "HBox(children=(FloatProgress(value=0.0, max=2791.0), HTML(value='')))"
      ]
     },
     "metadata": {},
     "output_type": "display_data"
    },
    {
     "name": "stdout",
     "output_type": "stream",
     "text": [
      "Train Epoch: 3 [0/178610 (0%)]\tLoss: 0.596735\n",
      "Train Epoch: 3 [35712/178610 (20%)]\tLoss: 0.876325\n",
      "Train Epoch: 3 [71424/178610 (40%)]\tLoss: 0.480092\n",
      "Train Epoch: 3 [107136/178610 (60%)]\tLoss: 0.478805\n",
      "Train Epoch: 3 [142848/178610 (80%)]\tLoss: 0.584868\n",
      "Train Epoch: 3 [139500/178610 (100%)]\tLoss: 0.437771\n",
      "\n",
      "Average loss on epoch 3: 0.5250974268692875\n"
     ]
    },
    {
     "data": {
      "application/vnd.jupyter.widget-view+json": {
       "model_id": "a06224b800384505b3c45194e08dcd91",
       "version_major": 2,
       "version_minor": 0
      },
      "text/plain": [
       "HBox(children=(FloatProgress(value=0.0, max=702.0), HTML(value='')))"
      ]
     },
     "metadata": {},
     "output_type": "display_data"
    },
    {
     "name": "stdout",
     "output_type": "stream",
     "text": [
      "\n",
      "              precision    recall  f1-score   support\n",
      "\n",
      "           0     0.6896    0.8464    0.7600      1706\n",
      "           1     0.6006    0.5371    0.5671      1417\n",
      "           2     0.9605    0.9852    0.9727     35428\n",
      "           3     0.5693    0.4426    0.4980      2655\n",
      "           4     0.8680    0.7371    0.7972      3694\n",
      "\n",
      "    accuracy                         0.9133     44900\n",
      "   macro avg     0.7376    0.7097    0.7190     44900\n",
      "weighted avg     0.9081    0.9133    0.9093     44900\n",
      "\n",
      "Epoch 4\n"
     ]
    },
    {
     "data": {
      "application/vnd.jupyter.widget-view+json": {
       "model_id": "7d45fbe2feb34de491f88208910ca82c",
       "version_major": 2,
       "version_minor": 0
      },
      "text/plain": [
       "HBox(children=(FloatProgress(value=0.0, max=2791.0), HTML(value='')))"
      ]
     },
     "metadata": {},
     "output_type": "display_data"
    },
    {
     "name": "stdout",
     "output_type": "stream",
     "text": [
      "Train Epoch: 4 [0/178610 (0%)]\tLoss: 0.488550\n",
      "Train Epoch: 4 [35712/178610 (20%)]\tLoss: 0.561369\n",
      "Train Epoch: 4 [71424/178610 (40%)]\tLoss: 0.368431\n",
      "Train Epoch: 4 [107136/178610 (60%)]\tLoss: 0.381134\n",
      "Train Epoch: 4 [142848/178610 (80%)]\tLoss: 0.363883\n",
      "Train Epoch: 4 [139500/178610 (100%)]\tLoss: 0.316966\n",
      "\n",
      "Average loss on epoch 4: 0.4582222059411799\n"
     ]
    },
    {
     "data": {
      "application/vnd.jupyter.widget-view+json": {
       "model_id": "93e03288e1204b0d9a167ec939b5c32e",
       "version_major": 2,
       "version_minor": 0
      },
      "text/plain": [
       "HBox(children=(FloatProgress(value=0.0, max=702.0), HTML(value='')))"
      ]
     },
     "metadata": {},
     "output_type": "display_data"
    },
    {
     "name": "stdout",
     "output_type": "stream",
     "text": [
      "\n",
      "              precision    recall  f1-score   support\n",
      "\n",
      "           0     0.7574    0.8299    0.7920      1911\n",
      "           1     0.6582    0.5919    0.6233      1409\n",
      "           2     0.9593    0.9895    0.9742     35230\n",
      "           3     0.5891    0.4733    0.5249      2569\n",
      "           4     0.8951    0.7427    0.8118      3781\n",
      "\n",
      "    accuracy                         0.9199     44900\n",
      "   macro avg     0.7718    0.7255    0.7452     44900\n",
      "weighted avg     0.9147    0.9199    0.9160     44900\n",
      "\n",
      "Epoch 5\n"
     ]
    },
    {
     "data": {
      "application/vnd.jupyter.widget-view+json": {
       "model_id": "0af30f0f4e2649589aa0798ef06ffa22",
       "version_major": 2,
       "version_minor": 0
      },
      "text/plain": [
       "HBox(children=(FloatProgress(value=0.0, max=2791.0), HTML(value='')))"
      ]
     },
     "metadata": {},
     "output_type": "display_data"
    },
    {
     "name": "stdout",
     "output_type": "stream",
     "text": [
      "Train Epoch: 5 [0/178610 (0%)]\tLoss: 0.482871\n",
      "Train Epoch: 5 [35712/178610 (20%)]\tLoss: 0.346895\n",
      "Train Epoch: 5 [71424/178610 (40%)]\tLoss: 0.683519\n",
      "Train Epoch: 5 [107136/178610 (60%)]\tLoss: 0.511221\n",
      "Train Epoch: 5 [142848/178610 (80%)]\tLoss: 0.320840\n",
      "Train Epoch: 5 [139500/178610 (100%)]\tLoss: 0.231291\n",
      "\n",
      "Average loss on epoch 5: 0.3990549973660325\n"
     ]
    },
    {
     "data": {
      "application/vnd.jupyter.widget-view+json": {
       "model_id": "c7e04d470e274b3f883090a5f521ffad",
       "version_major": 2,
       "version_minor": 0
      },
      "text/plain": [
       "HBox(children=(FloatProgress(value=0.0, max=702.0), HTML(value='')))"
      ]
     },
     "metadata": {},
     "output_type": "display_data"
    },
    {
     "name": "stdout",
     "output_type": "stream",
     "text": [
      "\n",
      "              precision    recall  f1-score   support\n",
      "\n",
      "           0     0.8075    0.8442    0.8255      2003\n",
      "           1     0.6875    0.6685    0.6778      1303\n",
      "           2     0.9657    0.9903    0.9779     35435\n",
      "           3     0.6294    0.5157    0.5669      2519\n",
      "           4     0.9069    0.7816    0.8396      3640\n",
      "\n",
      "    accuracy                         0.9309     44900\n",
      "   macro avg     0.7994    0.7601    0.7775     44900\n",
      "weighted avg     0.9269    0.9309    0.9281     44900\n",
      "\n",
      "Epoch 6\n"
     ]
    },
    {
     "data": {
      "application/vnd.jupyter.widget-view+json": {
       "model_id": "a9717eb7cc134e3ca3a88bff3b005626",
       "version_major": 2,
       "version_minor": 0
      },
      "text/plain": [
       "HBox(children=(FloatProgress(value=0.0, max=2791.0), HTML(value='')))"
      ]
     },
     "metadata": {},
     "output_type": "display_data"
    },
    {
     "name": "stdout",
     "output_type": "stream",
     "text": [
      "Train Epoch: 6 [0/178610 (0%)]\tLoss: 0.288738\n",
      "Train Epoch: 6 [35712/178610 (20%)]\tLoss: 0.277670\n",
      "Train Epoch: 6 [71424/178610 (40%)]\tLoss: 0.334432\n",
      "Train Epoch: 6 [107136/178610 (60%)]\tLoss: 0.271537\n",
      "Train Epoch: 6 [142848/178610 (80%)]\tLoss: 0.251254\n",
      "Train Epoch: 6 [139500/178610 (100%)]\tLoss: 0.248566\n",
      "\n",
      "Average loss on epoch 6: 0.3488952564732954\n"
     ]
    },
    {
     "data": {
      "application/vnd.jupyter.widget-view+json": {
       "model_id": "919fb5ce25464e409748e4e5d3bab494",
       "version_major": 2,
       "version_minor": 0
      },
      "text/plain": [
       "HBox(children=(FloatProgress(value=0.0, max=702.0), HTML(value='')))"
      ]
     },
     "metadata": {},
     "output_type": "display_data"
    },
    {
     "name": "stdout",
     "output_type": "stream",
     "text": [
      "\n",
      "              precision    recall  f1-score   support\n",
      "\n",
      "           0     0.8133    0.8756    0.8433      1945\n",
      "           1     0.7609    0.6798    0.7181      1418\n",
      "           2     0.9675    0.9916    0.9794     35454\n",
      "           3     0.6797    0.5485    0.6071      2558\n",
      "           4     0.9107    0.8105    0.8577      3525\n",
      "\n",
      "    accuracy                         0.9373     44900\n",
      "   macro avg     0.8264    0.7812    0.8011     44900\n",
      "weighted avg     0.9334    0.9373    0.9345     44900\n",
      "\n",
      "Epoch 7\n"
     ]
    },
    {
     "data": {
      "application/vnd.jupyter.widget-view+json": {
       "model_id": "0b0ecb8910ff46098a9f99ad1d841bde",
       "version_major": 2,
       "version_minor": 0
      },
      "text/plain": [
       "HBox(children=(FloatProgress(value=0.0, max=2791.0), HTML(value='')))"
      ]
     },
     "metadata": {},
     "output_type": "display_data"
    },
    {
     "name": "stdout",
     "output_type": "stream",
     "text": [
      "Train Epoch: 7 [0/178610 (0%)]\tLoss: 0.450881\n",
      "Train Epoch: 7 [35712/178610 (20%)]\tLoss: 0.371782\n",
      "Train Epoch: 7 [71424/178610 (40%)]\tLoss: 0.408492\n",
      "Train Epoch: 7 [107136/178610 (60%)]\tLoss: 0.487736\n",
      "Train Epoch: 7 [142848/178610 (80%)]\tLoss: 0.143589\n",
      "Train Epoch: 7 [139500/178610 (100%)]\tLoss: 0.116840\n",
      "\n",
      "Average loss on epoch 7: 0.30335330899200186\n"
     ]
    },
    {
     "data": {
      "application/vnd.jupyter.widget-view+json": {
       "model_id": "3d9ff08338f74b15b6aab0206c43a81a",
       "version_major": 2,
       "version_minor": 0
      },
      "text/plain": [
       "HBox(children=(FloatProgress(value=0.0, max=702.0), HTML(value='')))"
      ]
     },
     "metadata": {},
     "output_type": "display_data"
    },
    {
     "name": "stdout",
     "output_type": "stream",
     "text": [
      "\n",
      "              precision    recall  f1-score   support\n",
      "\n",
      "           0     0.8438    0.8800    0.8615      2008\n",
      "           1     0.7380    0.7385    0.7383      1266\n",
      "           2     0.9772    0.9907    0.9839     35843\n",
      "           3     0.7137    0.6174    0.6620      2386\n",
      "           4     0.9158    0.8457    0.8794      3397\n",
      "\n",
      "    accuracy                         0.9478     44900\n",
      "   macro avg     0.8377    0.8145    0.8250     44900\n",
      "weighted avg     0.9458    0.9478    0.9465     44900\n",
      "\n",
      "Epoch 8\n"
     ]
    },
    {
     "data": {
      "application/vnd.jupyter.widget-view+json": {
       "model_id": "7dfb815c9da94f8e9a94c7ac60c5678b",
       "version_major": 2,
       "version_minor": 0
      },
      "text/plain": [
       "HBox(children=(FloatProgress(value=0.0, max=2791.0), HTML(value='')))"
      ]
     },
     "metadata": {},
     "output_type": "display_data"
    },
    {
     "name": "stdout",
     "output_type": "stream",
     "text": [
      "Train Epoch: 8 [0/178610 (0%)]\tLoss: 0.324255\n",
      "Train Epoch: 8 [35712/178610 (20%)]\tLoss: 0.296668\n",
      "Train Epoch: 8 [71424/178610 (40%)]\tLoss: 0.237416\n",
      "Train Epoch: 8 [107136/178610 (60%)]\tLoss: 0.180405\n",
      "Train Epoch: 8 [142848/178610 (80%)]\tLoss: 0.224897\n",
      "Train Epoch: 8 [139500/178610 (100%)]\tLoss: 0.178623\n",
      "\n",
      "Average loss on epoch 8: 0.26481594117134755\n"
     ]
    },
    {
     "data": {
      "application/vnd.jupyter.widget-view+json": {
       "model_id": "7383be690dde454d9161ecab0b69558f",
       "version_major": 2,
       "version_minor": 0
      },
      "text/plain": [
       "HBox(children=(FloatProgress(value=0.0, max=702.0), HTML(value='')))"
      ]
     },
     "metadata": {},
     "output_type": "display_data"
    },
    {
     "name": "stdout",
     "output_type": "stream",
     "text": [
      "\n",
      "              precision    recall  f1-score   support\n",
      "\n",
      "           0     0.8634    0.8764    0.8699      2063\n",
      "           1     0.7395    0.7618    0.7505      1230\n",
      "           2     0.9784    0.9923    0.9853     35831\n",
      "           3     0.7558    0.6401    0.6932      2437\n",
      "           4     0.9197    0.8640    0.8910      3339\n",
      "\n",
      "    accuracy                         0.9520     44900\n",
      "   macro avg     0.8514    0.8269    0.8380     44900\n",
      "weighted avg     0.9501    0.9520    0.9507     44900\n",
      "\n",
      "Epoch 9\n"
     ]
    },
    {
     "data": {
      "application/vnd.jupyter.widget-view+json": {
       "model_id": "c97fcbe6268946a4a585a0c65c786d8f",
       "version_major": 2,
       "version_minor": 0
      },
      "text/plain": [
       "HBox(children=(FloatProgress(value=0.0, max=2791.0), HTML(value='')))"
      ]
     },
     "metadata": {},
     "output_type": "display_data"
    },
    {
     "name": "stdout",
     "output_type": "stream",
     "text": [
      "Train Epoch: 9 [0/178610 (0%)]\tLoss: 0.276708\n",
      "Train Epoch: 9 [35712/178610 (20%)]\tLoss: 0.279725\n",
      "Train Epoch: 9 [71424/178610 (40%)]\tLoss: 0.471512\n",
      "Train Epoch: 9 [107136/178610 (60%)]\tLoss: 0.115640\n",
      "Train Epoch: 9 [142848/178610 (80%)]\tLoss: 0.369601\n",
      "Train Epoch: 9 [139500/178610 (100%)]\tLoss: 0.246985\n",
      "\n",
      "Average loss on epoch 9: 0.229757052404784\n"
     ]
    },
    {
     "data": {
      "application/vnd.jupyter.widget-view+json": {
       "model_id": "c2ad231661d645259d7724c9cb2cff50",
       "version_major": 2,
       "version_minor": 0
      },
      "text/plain": [
       "HBox(children=(FloatProgress(value=0.0, max=702.0), HTML(value='')))"
      ]
     },
     "metadata": {},
     "output_type": "display_data"
    },
    {
     "name": "stdout",
     "output_type": "stream",
     "text": [
      "\n",
      "              precision    recall  f1-score   support\n",
      "\n",
      "           0     0.8524    0.9075    0.8791      1967\n",
      "           1     0.7924    0.7595    0.7756      1322\n",
      "           2     0.9826    0.9915    0.9870     36014\n",
      "           3     0.7321    0.7054    0.7185      2142\n",
      "           4     0.9398    0.8533    0.8944      3455\n",
      "\n",
      "    accuracy                         0.9567     44900\n",
      "   macro avg     0.8599    0.8434    0.8509     44900\n",
      "weighted avg     0.9561    0.9567    0.9561     44900\n",
      "\n",
      "Epoch 10\n"
     ]
    },
    {
     "data": {
      "application/vnd.jupyter.widget-view+json": {
       "model_id": "00bcd53f889d4b009b0ba07f7c27fd13",
       "version_major": 2,
       "version_minor": 0
      },
      "text/plain": [
       "HBox(children=(FloatProgress(value=0.0, max=2791.0), HTML(value='')))"
      ]
     },
     "metadata": {},
     "output_type": "display_data"
    },
    {
     "name": "stdout",
     "output_type": "stream",
     "text": [
      "Train Epoch: 10 [0/178610 (0%)]\tLoss: 0.137022\n",
      "Train Epoch: 10 [35712/178610 (20%)]\tLoss: 0.157254\n",
      "Train Epoch: 10 [71424/178610 (40%)]\tLoss: 0.298278\n",
      "Train Epoch: 10 [107136/178610 (60%)]\tLoss: 0.128299\n",
      "Train Epoch: 10 [142848/178610 (80%)]\tLoss: 0.177306\n",
      "Train Epoch: 10 [139500/178610 (100%)]\tLoss: 0.260482\n",
      "\n",
      "Average loss on epoch 10: 0.19933880985901695\n"
     ]
    },
    {
     "data": {
      "application/vnd.jupyter.widget-view+json": {
       "model_id": "09b1385da94447d49d6b6f19ce35df36",
       "version_major": 2,
       "version_minor": 0
      },
      "text/plain": [
       "HBox(children=(FloatProgress(value=0.0, max=702.0), HTML(value='')))"
      ]
     },
     "metadata": {},
     "output_type": "display_data"
    },
    {
     "name": "stdout",
     "output_type": "stream",
     "text": [
      "\n",
      "              precision    recall  f1-score   support\n",
      "\n",
      "           0     0.8615    0.9116    0.8858      1979\n",
      "           1     0.7656    0.7918    0.7785      1225\n",
      "           2     0.9822    0.9920    0.9871     35979\n",
      "           3     0.7796    0.6735    0.7227      2389\n",
      "           4     0.9273    0.8741    0.8999      3328\n",
      "\n",
      "    accuracy                         0.9573     44900\n",
      "   macro avg     0.8632    0.8486    0.8548     44900\n",
      "weighted avg     0.9561    0.9573    0.9564     44900\n",
      "\n",
      "Epoch 11\n"
     ]
    },
    {
     "data": {
      "application/vnd.jupyter.widget-view+json": {
       "model_id": "6ddbec5b8f2e4c48a576366e62250d72",
       "version_major": 2,
       "version_minor": 0
      },
      "text/plain": [
       "HBox(children=(FloatProgress(value=0.0, max=2791.0), HTML(value='')))"
      ]
     },
     "metadata": {},
     "output_type": "display_data"
    },
    {
     "name": "stdout",
     "output_type": "stream",
     "text": [
      "Train Epoch: 11 [0/178610 (0%)]\tLoss: 0.185212\n",
      "Train Epoch: 11 [35712/178610 (20%)]\tLoss: 0.160173\n",
      "Train Epoch: 11 [71424/178610 (40%)]\tLoss: 0.246813\n",
      "Train Epoch: 11 [107136/178610 (60%)]\tLoss: 0.458568\n",
      "Train Epoch: 11 [142848/178610 (80%)]\tLoss: 0.201599\n",
      "Train Epoch: 11 [139500/178610 (100%)]\tLoss: 0.160549\n",
      "\n",
      "Average loss on epoch 11: 0.17351850600521418\n"
     ]
    },
    {
     "data": {
      "application/vnd.jupyter.widget-view+json": {
       "model_id": "ee3e8779aaec4f3dabb87e693a301266",
       "version_major": 2,
       "version_minor": 0
      },
      "text/plain": [
       "HBox(children=(FloatProgress(value=0.0, max=702.0), HTML(value='')))"
      ]
     },
     "metadata": {},
     "output_type": "display_data"
    },
    {
     "name": "stdout",
     "output_type": "stream",
     "text": [
      "\n",
      "              precision    recall  f1-score   support\n",
      "\n",
      "           0     0.8758    0.9034    0.8894      2030\n",
      "           1     0.8098    0.7478    0.7776      1372\n",
      "           2     0.9798    0.9932    0.9865     35845\n",
      "           3     0.7897    0.6803    0.7309      2396\n",
      "           4     0.9260    0.8919    0.9087      3257\n",
      "\n",
      "    accuracy                         0.9576     44900\n",
      "   macro avg     0.8762    0.8433    0.8586     44900\n",
      "weighted avg     0.9558    0.9576    0.9564     44900\n",
      "\n",
      "Epoch 12\n"
     ]
    },
    {
     "data": {
      "application/vnd.jupyter.widget-view+json": {
       "model_id": "a4f85924365749a6b324f0455d157204",
       "version_major": 2,
       "version_minor": 0
      },
      "text/plain": [
       "HBox(children=(FloatProgress(value=0.0, max=2791.0), HTML(value='')))"
      ]
     },
     "metadata": {},
     "output_type": "display_data"
    },
    {
     "name": "stdout",
     "output_type": "stream",
     "text": [
      "Train Epoch: 12 [0/178610 (0%)]\tLoss: 0.098343\n",
      "Train Epoch: 12 [35712/178610 (20%)]\tLoss: 0.156332\n",
      "Train Epoch: 12 [71424/178610 (40%)]\tLoss: 0.198192\n",
      "Train Epoch: 12 [107136/178610 (60%)]\tLoss: 0.192193\n",
      "Train Epoch: 12 [142848/178610 (80%)]\tLoss: 0.111411\n",
      "Train Epoch: 12 [139500/178610 (100%)]\tLoss: 0.077801\n",
      "\n",
      "Average loss on epoch 12: 0.15373003180364006\n"
     ]
    },
    {
     "data": {
      "application/vnd.jupyter.widget-view+json": {
       "model_id": "b99d35ddb5504386b1e634e4abc50af4",
       "version_major": 2,
       "version_minor": 0
      },
      "text/plain": [
       "HBox(children=(FloatProgress(value=0.0, max=702.0), HTML(value='')))"
      ]
     },
     "metadata": {},
     "output_type": "display_data"
    },
    {
     "name": "stdout",
     "output_type": "stream",
     "text": [
      "\n",
      "              precision    recall  f1-score   support\n",
      "\n",
      "           0     0.8543    0.9279    0.8896      1928\n",
      "           1     0.7790    0.8379    0.8074      1178\n",
      "           2     0.9867    0.9914    0.9890     36164\n",
      "           3     0.7922    0.7177    0.7531      2278\n",
      "           4     0.9452    0.8845    0.9139      3352\n",
      "\n",
      "    accuracy                         0.9628     44900\n",
      "   macro avg     0.8715    0.8719    0.8706     44900\n",
      "weighted avg     0.9626    0.9628    0.9624     44900\n",
      "\n",
      "Epoch 13\n"
     ]
    },
    {
     "data": {
      "application/vnd.jupyter.widget-view+json": {
       "model_id": "0470607a06e34e10af2eb61c9f460ca4",
       "version_major": 2,
       "version_minor": 0
      },
      "text/plain": [
       "HBox(children=(FloatProgress(value=0.0, max=2791.0), HTML(value='')))"
      ]
     },
     "metadata": {},
     "output_type": "display_data"
    },
    {
     "name": "stdout",
     "output_type": "stream",
     "text": [
      "Train Epoch: 13 [0/178610 (0%)]\tLoss: 0.034391\n",
      "Train Epoch: 13 [35712/178610 (20%)]\tLoss: 0.188870\n",
      "Train Epoch: 13 [71424/178610 (40%)]\tLoss: 0.178040\n",
      "Train Epoch: 13 [107136/178610 (60%)]\tLoss: 0.090314\n",
      "Train Epoch: 13 [142848/178610 (80%)]\tLoss: 0.159508\n",
      "Train Epoch: 13 [139500/178610 (100%)]\tLoss: 0.118112\n",
      "\n",
      "Average loss on epoch 13: 0.13494139134387353\n"
     ]
    },
    {
     "data": {
      "application/vnd.jupyter.widget-view+json": {
       "model_id": "2a22bf485ee14220a57280afce6cfbef",
       "version_major": 2,
       "version_minor": 0
      },
      "text/plain": [
       "HBox(children=(FloatProgress(value=0.0, max=702.0), HTML(value='')))"
      ]
     },
     "metadata": {},
     "output_type": "display_data"
    },
    {
     "name": "stdout",
     "output_type": "stream",
     "text": [
      "\n",
      "              precision    recall  f1-score   support\n",
      "\n",
      "           0     0.8381    0.9340    0.8835      1879\n",
      "           1     0.7569    0.8766    0.8124      1094\n",
      "           2     0.9874    0.9910    0.9892     36205\n",
      "           3     0.8178    0.6912    0.7492      2442\n",
      "           4     0.9302    0.8896    0.9095      3280\n",
      "\n",
      "    accuracy                         0.9621     44900\n",
      "   macro avg     0.8661    0.8765    0.8687     44900\n",
      "weighted avg     0.9621    0.9621    0.9616     44900\n",
      "\n",
      "Epoch 14\n"
     ]
    },
    {
     "data": {
      "application/vnd.jupyter.widget-view+json": {
       "model_id": "5fafdab544b64cb9bbfc081a800b9ef3",
       "version_major": 2,
       "version_minor": 0
      },
      "text/plain": [
       "HBox(children=(FloatProgress(value=0.0, max=2791.0), HTML(value='')))"
      ]
     },
     "metadata": {},
     "output_type": "display_data"
    },
    {
     "name": "stdout",
     "output_type": "stream",
     "text": [
      "Train Epoch: 14 [0/178610 (0%)]\tLoss: 0.170317\n",
      "Train Epoch: 14 [35712/178610 (20%)]\tLoss: 0.104050\n",
      "Train Epoch: 14 [71424/178610 (40%)]\tLoss: 0.052694\n",
      "Train Epoch: 14 [107136/178610 (60%)]\tLoss: 0.083400\n",
      "Train Epoch: 14 [142848/178610 (80%)]\tLoss: 0.080238\n",
      "Train Epoch: 14 [139500/178610 (100%)]\tLoss: 0.216268\n",
      "\n",
      "Average loss on epoch 14: 0.1188175538080951\n"
     ]
    },
    {
     "data": {
      "application/vnd.jupyter.widget-view+json": {
       "model_id": "fc5c53ba5f394251bb7672ab6a364cc7",
       "version_major": 2,
       "version_minor": 0
      },
      "text/plain": [
       "HBox(children=(FloatProgress(value=0.0, max=702.0), HTML(value='')))"
      ]
     },
     "metadata": {},
     "output_type": "display_data"
    },
    {
     "name": "stdout",
     "output_type": "stream",
     "text": [
      "\n",
      "              precision    recall  f1-score   support\n",
      "\n",
      "           0     0.8854    0.9057    0.8954      2047\n",
      "           1     0.8043    0.8030    0.8036      1269\n",
      "           2     0.9831    0.9934    0.9883     35961\n",
      "           3     0.8309    0.6863    0.7517      2499\n",
      "           4     0.9127    0.9165    0.9146      3124\n",
      "\n",
      "    accuracy                         0.9616     44900\n",
      "   macro avg     0.8833    0.8610    0.8707     44900\n",
      "weighted avg     0.9602    0.9616    0.9605     44900\n",
      "\n",
      "CPU times: user 1h 25min 13s, sys: 13min 45s, total: 1h 38min 58s\n",
      "Wall time: 31min 3s\n"
     ]
    }
   ],
   "source": [
    "%%time\n",
    "max_epochs = 15\n",
    "\n",
    "for epoch in range(len(logs['loss/train']), len(logs['loss/train']) + max_epochs):\n",
    "    \n",
    "    # Training\n",
    "    ffnet.train()\n",
    "    print('Epoch', epoch)\n",
    "    logs['loss/train'][epoch] = []\n",
    "    writer.add_scalar(\"Learning_rate\", optimizer_params['lr'], epoch)\n",
    "\n",
    "    for batch, (batch_X, batch_Y) in enumerate(tqdm(train_loader)):\n",
    "        # tranfer to GPU\n",
    "        batch_X, batch_Y = batch_X.float().to(device), batch_Y.to(device)\n",
    "        optimizer.zero_grad()\n",
    "        l = backprop(batch_X, batch_Y, ffnet, optimizer, loss_fn)\n",
    "        logs['loss/train'][epoch].append(l)\n",
    "        \n",
    "        if batch % log_interval == 0:\n",
    "            print('Train Epoch: {} [{}/{} ({:.0f}%)]\\tLoss: {:.6f}'.format(\n",
    "                epoch, batch * len(batch_X), len(train_loader.dataset),\n",
    "                100. * batch / len(train_loader), l))\n",
    "    \n",
    "    logs['loss/train'][epoch] = np.mean(logs['loss/train'][epoch])\n",
    "    writer.add_scalar(\"Loss/train\", logs['loss/train'][epoch], epoch)\n",
    "    print(f'Average loss on epoch {epoch}: {logs[\"loss/train\"][epoch]}')\n",
    "    \n",
    "    # Validation\n",
    "    ffnet.eval()\n",
    "    with torch.no_grad():\n",
    "        preds = []\n",
    "        gt = []\n",
    "        for batch, (batch_X, batch_Y) in enumerate(tqdm(dev_loader)):\n",
    "            # Transfer to GPU\n",
    "            batch_X = batch_X.float().to(device)\n",
    "            output = nn.Softmax(dim=1)(ffnet(batch_X))\n",
    "            preds.append(output.cpu())\n",
    "            gt.append(batch_Y)\n",
    "\n",
    "        all_out = [np.argmax(l) for batch in preds for l in batch.numpy()]\n",
    "        all_gt  = [l for batch in gt for l in batch.numpy()]\n",
    "\n",
    "        print(classification_report(all_out, all_gt, digits=4))\n",
    "\n",
    "        micro_F1 = metrics.f1_score(all_gt, all_out, average='micro')\n",
    "        macro_F1 = metrics.f1_score(all_gt, all_out, average='macro')\n",
    "        weighted_F1 = metrics.f1_score(all_gt, all_out, average='weighted')\n",
    "        writer.add_scalar(\"micro_F1/dev\", micro_F1, epoch)\n",
    "        writer.add_scalar(\"macro_F1/dev\", macro_F1, epoch)\n",
    "        writer.add_scalar(\"weighted_F1/dev\", weighted_F1, epoch)\n",
    "        logs['dev'][epoch] = (micro_F1, weighted_F1, macro_F1, (all_gt, all_out))"
   ]
  },
  {
   "cell_type": "code",
   "execution_count": 46,
   "metadata": {},
   "outputs": [
    {
     "data": {
      "application/vnd.jupyter.widget-view+json": {
       "model_id": "d25859046fff46acaa9cd92001cfdce8",
       "version_major": 2,
       "version_minor": 0
      },
      "text/plain": [
       "HBox(children=(FloatProgress(value=0.0, max=637.0), HTML(value='')))"
      ]
     },
     "metadata": {},
     "output_type": "display_data"
    },
    {
     "name": "stdout",
     "output_type": "stream",
     "text": [
      "\n",
      "              precision    recall  f1-score   support\n",
      "\n",
      "           0     0.8208    0.8333    0.8270      1896\n",
      "           1     0.7527    0.6544    0.7001      1056\n",
      "           2     0.9708    0.9930    0.9818     31921\n",
      "           3     0.7766    0.6136    0.6856      3155\n",
      "           4     0.8550    0.8679    0.8614      2732\n",
      "\n",
      "    accuracy                         0.9390     40760\n",
      "   macro avg     0.8352    0.7924    0.8112     40760\n",
      "weighted avg     0.9354    0.9390    0.9363     40760\n",
      "\n"
     ]
    }
   ],
   "source": [
    "ffnet.eval()\n",
    "with torch.no_grad():\n",
    "    preds = []\n",
    "    gt = []\n",
    "    for batch, (batch_X, batch_Y) in enumerate(tqdm(test_loader)):\n",
    "        # Transfer to GPU\n",
    "        batch_X = batch_X.float().to(device)\n",
    "        output = nn.Softmax(dim=1)(ffnet(batch_X))\n",
    "        preds.append(output.cpu())\n",
    "        gt.append(batch_Y)\n",
    "\n",
    "    all_out = [np.argmax(l) for batch in preds for l in batch.numpy()]\n",
    "    all_gt  = [l for batch in gt for l in batch.numpy()]\n",
    "\n",
    "    print(classification_report(all_out, all_gt, digits=4))"
   ]
  },
  {
   "cell_type": "code",
   "execution_count": null,
   "metadata": {},
   "outputs": [],
   "source": []
  }
 ],
 "metadata": {
  "kernelspec": {
   "display_name": "Python 3",
   "language": "python",
   "name": "python3"
  },
  "language_info": {
   "codemirror_mode": {
    "name": "ipython",
    "version": 3
   },
   "file_extension": ".py",
   "mimetype": "text/x-python",
   "name": "python",
   "nbconvert_exporter": "python",
   "pygments_lexer": "ipython3",
   "version": "3.8.2"
  }
 },
 "nbformat": 4,
 "nbformat_minor": 4
}
