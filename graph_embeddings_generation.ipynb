{
 "cells": [
  {
   "cell_type": "code",
   "execution_count": 5,
   "metadata": {},
   "outputs": [],
   "source": [
    "# ! pip -q install cogdl\n",
    "# ! pip -q install torch-geometric\n",
    "# ! pip -q install git+https://github.com/palash1992/GEM.git"
   ]
  },
  {
   "cell_type": "code",
   "execution_count": 3,
   "metadata": {},
   "outputs": [],
   "source": [
    "# ! export PATH=/home/semantic/harrando/graphner/snap/snap/examples/Release:$PATH"
   ]
  },
  {
   "cell_type": "code",
   "execution_count": 1,
   "metadata": {},
   "outputs": [
    {
     "name": "stdout",
     "output_type": "stream",
     "text": [
      "/home/semantic/harrando/graphner/snap/snap/examples/Release:/home/semantic/.conda/envs/ismail-transformers/bin:/opt/anaconda3/condabin:/home/semantic/.local/bin:/usr/local/sbin:/usr/local/bin:/usr/sbin:/usr/bin:/sbin:/bin:/home/semantic/.npm-new-global/bin:/usr/local/go/bin:/usr/local/cuda/bin:/usr/local/maven/bin:/home/semantic/go/bin:/usr/local/anaconda3/bin\r\n"
     ]
    }
   ],
   "source": [
    "! echo $PATH"
   ]
  },
  {
   "cell_type": "code",
   "execution_count": 2,
   "metadata": {},
   "outputs": [],
   "source": [
    "# ! pip install  keras==2.0.2 # --upgrade"
   ]
  },
  {
   "cell_type": "code",
   "execution_count": 1,
   "metadata": {},
   "outputs": [],
   "source": [
    "import os\n",
    "os.environ[\"CUDA_VISIBLE_DEVICES\"]=\"0,1,2,3\""
   ]
  },
  {
   "cell_type": "code",
   "execution_count": 2,
   "metadata": {},
   "outputs": [],
   "source": [
    "import pickle\n",
    "vocabulary = pickle.load(open('edges/vocabulary.pickle', 'rb'))\n",
    "word2id = {w:i for i,w in enumerate(vocabulary)}"
   ]
  },
  {
   "cell_type": "code",
   "execution_count": 3,
   "metadata": {},
   "outputs": [
    {
     "data": {
      "text/plain": [
       "17377"
      ]
     },
     "execution_count": 3,
     "metadata": {},
     "output_type": "execute_result"
    }
   ],
   "source": [
    "len(word2id)"
   ]
  },
  {
   "cell_type": "code",
   "execution_count": 4,
   "metadata": {},
   "outputs": [],
   "source": [
    "from sklearn.metrics.pairwise import cosine_similarity as cos\n",
    "\n",
    "import gem\n",
    "from gem.utils import graph_util, plot_util\n",
    "from gem.evaluation import visualize_embedding as viz\n",
    "from gem.evaluation import evaluate_graph_reconstruction as gr\n",
    "from time import time\n",
    "\n",
    "from gem.embedding.gf       import GraphFactorization\n",
    "from gem.embedding.hope     import HOPE\n",
    "from gem.embedding.lap      import LaplacianEigenmaps\n",
    "from gem.embedding.lle      import LocallyLinearEmbedding\n",
    "from gem.embedding.node2vec import node2vec\n",
    "from gem.embedding.sdne     import SDNE"
   ]
  },
  {
   "cell_type": "code",
   "execution_count": null,
   "metadata": {},
   "outputs": [],
   "source": [
    "\n"
   ]
  },
  {
   "cell_type": "code",
   "execution_count": 6,
   "metadata": {},
   "outputs": [
    {
     "name": "stdout",
     "output_type": "stream",
     "text": [
      "CPU times: user 3.78 s, sys: 177 ms, total: 3.96 s\n",
      "Wall time: 3.95 s\n"
     ]
    }
   ],
   "source": [
    "%%time\n",
    "edges_file = 'edges/all_edges.edgelist'\n",
    "G = graph_util.loadGraphFromEdgeListTxt(edges_file, directed=True)\n",
    "G = G.to_directed()"
   ]
  },
  {
   "cell_type": "code",
   "execution_count": 7,
   "metadata": {},
   "outputs": [
    {
     "data": {
      "text/plain": [
       "(433498, 17377)"
      ]
     },
     "execution_count": 7,
     "metadata": {},
     "output_type": "execute_result"
    }
   ],
   "source": [
    "len(G.edges), len(G.nodes)"
   ]
  },
  {
   "cell_type": "code",
   "execution_count": 64,
   "metadata": {},
   "outputs": [],
   "source": [
    "models = []\n",
    "output_embeddings = {}\n",
    "embeddings_dim = 300\n",
    "\n",
    "# models.append(GraphFactorization(d=2, max_iter=100000, eta=1*10**-4, regu=1.0, data_set='karate'))\n",
    "models.append(HOPE(d=embeddings_dim, beta=0.01))\n",
    "# Training time: 99.340407\n",
    "\n",
    "\n",
    "# LE takes embedding dimension (d) as input\n",
    "models.append(LaplacianEigenmaps(d=embeddings_dim))\n",
    "# Training time: 10.422501\n",
    "\n",
    "\n",
    "# LLE takes embedding dimension (d) as input\n",
    "models.append(LocallyLinearEmbedding(d=embeddings_dim))\n",
    "# Training time: 167.512155\n",
    "\n",
    "\n",
    "# node2vec takes embedding dimension (d),  maximum iterations (max_iter), random walk length (walk_len), number of random walks (num_walks), context size (con_size), return weight (ret_p), inout weight (inout_p) as inputs\n",
    "models.append(node2vec(d=embeddings_dim, max_iter=5, walk_len=20, num_walks=10, con_size=2, ret_p=1, inout_p=1))\n",
    "\n",
    "# SDNE takes embedding dimension (d), seen edge reconstruction weight (beta), first order proximity weight (alpha), lasso regularization coefficient (nu1), ridge regreesion coefficient (nu2), number of hidden layers (K), size of each layer (n_units), number of iterations (n_ite), learning rate (xeta), size of batch (n_batch), location of modelfile and weightfile save (modelfile and weightfile) as inputs\n",
    "# models.append(SDNE(d=embeddings_dim, beta=5, alpha=1e-5, nu1=1e-6, nu2=1e-6, K=3, n_units=[50, 15,], n_iter=50, xeta=0.01, n_batch=500,))\n",
    "#                modelfile=['enc_model.json', 'dec_model.json'],\n",
    "#                weightfile=['enc_weights.hdf5', 'dec_weights.hdf5']))"
   ]
  },
  {
   "cell_type": "code",
   "execution_count": 65,
   "metadata": {},
   "outputs": [
    {
     "name": "stdout",
     "output_type": "stream",
     "text": [
      "Num nodes: 17377, num edges: 433498\n",
      "SVD error (low rank): 4.367611\n",
      "hope_gsvd:\n",
      "\tTraining time: 140.965614\n",
      "Num nodes: 17377, num edges: 433498\n",
      "Laplacian matrix recon. error (low rank): 132.831463\n",
      "lap_eigmap_svd:\n",
      "\tTraining time: 59.257024\n",
      "Num nodes: 17377, num edges: 433498\n",
      "lle_svd:\n",
      "\tTraining time: 253.570139\n",
      "Num nodes: 17377, num edges: 433498\n",
      "node2vec_rw:\n",
      "\tTraining time: 47.061241\n"
     ]
    }
   ],
   "source": [
    "for embedding in models:\n",
    "    print ('Num nodes: %d, num edges: %d' % (G.number_of_nodes(), G.number_of_edges()))\n",
    "    t1 = time()\n",
    "    # Learn embedding - accepts a networkx graph or file with edge list\n",
    "    Y, t = embedding.learn_embedding(graph=G, edge_f=None, is_weighted=True, no_python=True)\n",
    "    print (embedding._method_name+':\\n\\tTraining time: %f' % (time() - t1))\n",
    "    # Evaluate on graph reconstruction\n",
    "    # MAP, prec_curv, err, err_baseline = gr.evaluateStaticGraphReconstruction(G, embedding, Y, None)\n",
    "    output_embeddings[embedding._method_name] = (embedding, Y, t)\n",
    "    #---------------------------------------------------------------------------------\n",
    "    # print((\"\\tMAP: {} \\t precision curve: {}\\n\\n\\n\\n\"+'-'*100).format(MAP,prec_curv[:5]))\n",
    "    #---------------------------------------------------------------------------------\n",
    "    # Visualize\n",
    "    # viz.plot_embedding2D(embedding.get_embedding(), di_graph=G, node_colors=None)\n",
    "    # plt.show()"
   ]
  },
  {
   "cell_type": "code",
   "execution_count": 19,
   "metadata": {},
   "outputs": [
    {
     "name": "stdout",
     "output_type": "stream",
     "text": [
      "hope_gsvd\n",
      "lap_eigmap_svd\n",
      "lle_svd\n",
      "node2vec_rw\n"
     ]
    }
   ],
   "source": [
    "for embedding_name in output_embeddings:\n",
    "    # embedding, Y, t = output_embeddings[embedding_name]\n",
    "    # MAP, prec_curv, err, err_baseline = gr.evaluateStaticGraphReconstruction(G, embedding, Y, None)\n",
    "    # print((\"\\tMAP: {} \\t precision curve: {}\\n\\n\\n\\n\"+'-'*100).format(MAP,prec_curv[:5]))\n",
    "    print(embedding_name)"
   ]
  },
  {
   "cell_type": "code",
   "execution_count": 71,
   "metadata": {},
   "outputs": [
    {
     "name": "stdout",
     "output_type": "stream",
     "text": [
      "20M_classifier_all_available_features.ipynb   nodes_classifier.ipynb\r\n",
      "conceptnet_en.csv\t\t\t      onehot_pytorch_lightning.ipynb\r\n",
      "data\t\t\t\t\t      prepare_dataset.ipynb\r\n",
      "edge_list_generation.ipynb\t\t      README.md\r\n",
      "edges\t\t\t\t\t      runs\r\n",
      "graph_embeddings_generation.ipynb\t      snap\r\n",
      "GraphNER_binary_representation_pytorch.ipynb  tempGraph.emb\r\n",
      "hparams.yaml\t\t\t\t      tempGraph.graph\r\n",
      "lightning_logs\r\n"
     ]
    }
   ],
   "source": [
    "! ls"
   ]
  },
  {
   "cell_type": "code",
   "execution_count": null,
   "metadata": {},
   "outputs": [],
   "source": [
    "print(\"\"\"\n",
    "hope_gsvd\n",
    "MAP: 0.0036296006863930073 \t precision curve: [0.0, 0.0, 0.0, 0.0, 0.0]\n",
    "\n",
    "\n",
    "\n",
    "----------------------------------------------------------------------------------------------------\n",
    "lap_eigmap_svd\n",
    "MAP: 0.00243098873025156 \t precision curve: [0.0, 0.0, 0.0, 0.0, 0.0]\n",
    "\n",
    "\n",
    "\n",
    "----------------------------------------------------------------------------------------------------\n",
    "lle_svd\n",
    "MAP: 0.002571021389252031 \t precision curve: [0.0, 0.0, 0.0, 0.0, 0.0]\n",
    "\n",
    "\n",
    "\n",
    "----------------------------------------------------------------------------------------------------\n",
    "node2vec_rw\n",
    "MAP: 0.15163359174500898 \t precision curve: [1.0, 0.5, 0.3333333333333333, 0.25, 0.4]\n",
    "\n",
    "\n",
    "\n",
    "----------------------------------------------------------------------------------------------------\n",
    "\"\"\")"
   ]
  },
  {
   "cell_type": "code",
   "execution_count": 66,
   "metadata": {},
   "outputs": [
    {
     "name": "stdout",
     "output_type": "stream",
     "text": [
      "hope_gsvd =======================\n",
      "paris - london [[0.24793893]]\n",
      "paris - love [[0.29792616]]\n",
      "paris - france [[-0.05031744]]\n",
      "love - hate [[0.1618395]]\n",
      "ismail - <span> [[0.04653347]]\n",
      "ismail - <given_name> [[-0.02472678]]\n",
      "lap_eigmap_svd =======================\n",
      "paris - london [[-0.06605461]]\n",
      "paris - love [[-0.02564922]]\n",
      "paris - france [[-0.05200741]]\n",
      "love - hate [[0.07855971]]\n",
      "ismail - <span> [[-0.15597746]]\n",
      "ismail - <given_name> [[-0.21047482]]\n",
      "lle_svd =======================\n",
      "paris - london [[0.06273263]]\n",
      "paris - love [[0.10852554]]\n",
      "paris - france [[-0.06761545]]\n",
      "love - hate [[-0.04141492]]\n",
      "ismail - <span> [[-0.02893604]]\n",
      "ismail - <given_name> [[-0.00720291]]\n",
      "node2vec_rw =======================\n",
      "paris - london [[0.4962066]]\n",
      "paris - love [[0.22527805]]\n",
      "paris - france [[0.11837857]]\n",
      "love - hate [[0.49896708]]\n",
      "ismail - <span> [[0.39875194]]\n",
      "ismail - <given_name> [[0.53926276]]\n"
     ]
    }
   ],
   "source": [
    "for embedding_name in output_embeddings:\n",
    "    embedding, Y, t = output_embeddings[embedding_name]\n",
    "    print(embedding_name, '=======================')\n",
    "    for w1, w2 in [('paris', 'london'), ('paris', 'love'), ('paris', 'france'), ('love', 'hate'), ('ismail', '<span>'), ('ismail', '<given_name>')]:\n",
    "        print(w1,'-', w2, cos([Y[word2id[w1]]], [Y[word2id[w2]]]))"
   ]
  },
  {
   "cell_type": "code",
   "execution_count": 70,
   "metadata": {},
   "outputs": [],
   "source": [
    "for embedding_name in output_embeddings:\n",
    "    embedding, Y, t = output_embeddings[embedding_name]\n",
    "    embeddings_dict = {w: Y[i] for i, w in enumerate(vocabulary)}\n",
    "    pickle.dump(embeddings_dict, open('edges/'+embedding_name+'_all_embeddings.pickle', 'wb'))"
   ]
  },
  {
   "cell_type": "code",
   "execution_count": 68,
   "metadata": {},
   "outputs": [
    {
     "data": {
      "text/plain": [
       "array([ 1.15255e-01,  8.77112e-02,  1.47464e-01,  2.46221e-01,\n",
       "        1.09573e-01,  3.67702e-02,  1.38165e-01, -2.53024e-02,\n",
       "       -2.54002e-01, -1.54566e-01,  2.79029e-01, -3.98017e-01,\n",
       "        1.80914e-02, -2.81355e-02, -3.79365e-01, -1.74800e-01,\n",
       "        2.86791e-01, -2.32325e-01, -2.32964e-01,  2.56432e-02,\n",
       "        3.27784e-01, -2.37017e-01,  1.79768e-01,  6.11590e-02,\n",
       "       -1.41298e-01,  3.00204e-02,  8.41616e-02, -3.22209e-02,\n",
       "       -3.18940e-01,  5.03982e-01, -3.18677e-02,  2.87777e-02,\n",
       "       -2.32932e-01, -8.80168e-01, -3.59775e-01,  3.80506e-02,\n",
       "        1.55849e-01,  1.15023e-01, -6.20517e-01,  6.62915e-01,\n",
       "       -5.02792e-01,  1.98779e-01, -4.49525e-01,  5.84935e-01,\n",
       "       -5.43423e-01, -2.43011e-01,  4.47865e-01, -9.40753e-01,\n",
       "        1.05947e-01,  7.03076e-01,  1.50620e-01,  1.54158e-01,\n",
       "       -2.29329e-01, -4.76156e-01, -8.02836e-02, -8.08539e-04,\n",
       "       -1.04304e-01, -2.13944e-03, -1.87402e-01, -2.08901e-02,\n",
       "       -1.12400e-01, -1.68778e-01, -2.73255e-01,  1.58721e-01,\n",
       "        2.29692e-01,  1.58852e-03, -3.76881e-02, -3.93577e-01,\n",
       "        8.72247e-02,  1.96341e-01, -2.82644e-01,  6.30220e-02,\n",
       "        1.28519e-01,  2.21558e-01,  1.88444e-01,  1.28218e-01,\n",
       "       -1.80551e-01,  1.15905e-01,  5.06225e-02, -3.12590e-01,\n",
       "       -2.85827e-01,  3.97041e-01,  8.20689e-02,  3.40204e-01,\n",
       "       -1.82031e-02, -3.39519e-01, -2.27830e-01,  4.77510e-01,\n",
       "        1.92823e-01,  2.96279e-01, -8.43447e-02,  1.61352e-01,\n",
       "       -2.75502e-01,  3.61902e-01,  8.54773e-02,  2.81364e-01,\n",
       "       -3.08431e-01,  1.68268e-02,  1.18494e-01,  1.03125e-01,\n",
       "        1.88057e-01, -7.01466e-01, -1.25410e-01, -2.90115e-01,\n",
       "       -4.05904e-01,  4.49962e-01,  2.36785e-01,  1.99653e-03,\n",
       "       -7.64771e-02,  3.15643e-01,  2.25811e-01, -3.65008e-02,\n",
       "       -2.72398e-01, -1.64322e-01, -6.42775e-03,  1.79356e-01,\n",
       "        4.23739e-01,  8.35485e-02,  7.06185e-02, -2.47926e-02,\n",
       "       -8.42542e-02, -6.06614e-01, -3.80825e-01,  2.93108e-01,\n",
       "       -7.66791e-02, -1.90110e-01,  3.75400e-02, -1.54220e-01,\n",
       "       -1.96829e-01, -8.84165e-02, -1.19989e-01, -1.23083e-01,\n",
       "        9.38926e-02,  1.62249e-01, -2.44714e-01,  1.28139e-01,\n",
       "       -6.72877e-02, -1.74330e-01, -1.60795e-02,  1.90921e-02,\n",
       "       -7.50025e-03,  1.58020e-01,  6.15957e-02,  1.52347e-01,\n",
       "        4.44697e-03,  3.49480e-01, -1.33851e-01,  2.52493e-01,\n",
       "        1.31322e-02, -1.29836e-01, -1.43422e-01,  7.20212e-02,\n",
       "       -1.17660e-01,  4.87142e-01, -4.32037e-01,  1.16113e-01,\n",
       "        2.99973e-01,  6.01746e-03,  3.01022e-01,  1.28713e-01,\n",
       "       -5.25538e-02,  3.15176e-02,  5.24120e-01,  1.20584e-01,\n",
       "       -3.30142e-02,  2.39080e-02, -2.91718e-02, -6.56720e-02,\n",
       "       -1.37838e-01,  2.67745e-02, -3.43402e-02, -5.26651e-02,\n",
       "       -1.39274e-01,  1.83419e-02,  7.08470e-02,  1.26971e-01,\n",
       "        9.18928e-02,  1.12488e-01,  1.09234e-01, -1.45336e-01,\n",
       "       -9.51444e-02, -1.44145e-01,  1.83680e-01, -3.94776e-01,\n",
       "       -1.80530e-01,  1.55050e-02, -1.02826e-01,  1.16360e-01,\n",
       "       -1.90659e-01, -9.16779e-02, -8.25324e-02, -7.77439e-02,\n",
       "        2.77396e-01, -5.72994e-02,  1.02352e-02, -1.30341e-01,\n",
       "       -1.25107e-01, -1.14402e-01,  9.24503e-02,  3.86034e-03,\n",
       "       -4.24177e-01, -1.71578e-02, -7.57287e-02, -2.18779e-01,\n",
       "        4.60003e-02,  2.18485e-01, -5.83068e-02,  3.44782e-01,\n",
       "       -3.62724e-01, -3.70626e-02, -1.79452e-01, -2.57140e-01,\n",
       "        9.79925e-02,  1.16585e-02,  7.84061e-02, -3.39549e-02,\n",
       "       -2.28269e-01, -3.21221e-01,  1.89595e-01,  1.00169e-01,\n",
       "       -2.40426e-01,  4.08587e-02, -3.33134e-01,  1.73697e-01,\n",
       "        3.73086e-01,  1.06370e-02,  3.84852e-02, -1.46974e-01,\n",
       "       -2.10665e-01,  1.06138e-01, -2.06591e-01,  1.12044e-01,\n",
       "       -1.55964e-01, -8.44347e-02,  1.89447e-01, -1.21732e-01,\n",
       "       -2.49947e-02, -5.50861e-02, -2.15707e-03, -2.77146e-01,\n",
       "        1.10216e-02,  3.40163e-01,  1.57238e-01, -2.81892e-01,\n",
       "        1.51532e-01,  4.28388e-02,  9.94411e-02,  6.66539e-02,\n",
       "        6.76542e-03,  1.92438e-01, -6.34488e-02, -1.15077e-01,\n",
       "       -3.93087e-02, -1.61322e-01, -2.52302e-01,  1.89704e-01,\n",
       "        9.40091e-02, -3.07321e-01,  7.35170e-02, -9.47127e-02,\n",
       "        1.78070e-01,  1.39065e-01,  1.38005e-01,  4.54171e-02,\n",
       "        2.28616e-02, -3.06211e-01, -2.01073e-01, -1.56722e-01,\n",
       "       -8.48941e-02,  9.35907e-03, -1.59937e-01,  8.66259e-02,\n",
       "       -9.58190e-02,  1.52417e-01, -8.42169e-02, -1.63514e-01,\n",
       "       -2.16118e-01, -8.21124e-02, -2.19651e-01,  1.10426e-01,\n",
       "        3.54880e-01,  1.93198e-01,  1.05356e-01,  1.66362e-01,\n",
       "        9.60686e-02,  9.92600e-02,  3.47264e-01,  2.81900e-01,\n",
       "       -3.58495e-01,  5.34077e-01,  4.07924e-01,  4.62286e-02,\n",
       "        1.98596e-01, -8.61361e-02,  1.29514e-01,  4.43489e-01,\n",
       "       -9.21290e-02, -6.72954e-01,  6.72644e-02,  2.22476e-01])"
      ]
     },
     "execution_count": 68,
     "metadata": {},
     "output_type": "execute_result"
    }
   ],
   "source": [
    "embeddings_dict['<span>']"
   ]
  },
  {
   "cell_type": "code",
   "execution_count": 54,
   "metadata": {},
   "outputs": [
    {
     "data": {
      "text/plain": [
       "array([[0.49309866]])"
      ]
     },
     "execution_count": 54,
     "metadata": {},
     "output_type": "execute_result"
    }
   ],
   "source": []
  },
  {
   "cell_type": "code",
   "execution_count": 31,
   "metadata": {},
   "outputs": [
    {
     "ename": "TypeError",
     "evalue": "get_embedding() takes 1 positional argument but 2 were given",
     "output_type": "error",
     "traceback": [
      "\u001b[0;31m---------------------------------------------------------------------------\u001b[0m",
      "\u001b[0;31mTypeError\u001b[0m                                 Traceback (most recent call last)",
      "\u001b[0;32m<ipython-input-31-5677368fd5d5>\u001b[0m in \u001b[0;36m<module>\u001b[0;34m\u001b[0m\n\u001b[0;32m----> 1\u001b[0;31m \u001b[0membedding\u001b[0m\u001b[0;34m.\u001b[0m\u001b[0mget_embedding\u001b[0m\u001b[0;34m(\u001b[0m\u001b[0;36m0\u001b[0m\u001b[0;34m)\u001b[0m\u001b[0;34m\u001b[0m\u001b[0;34m\u001b[0m\u001b[0m\n\u001b[0m",
      "\u001b[0;31mTypeError\u001b[0m: get_embedding() takes 1 positional argument but 2 were given"
     ]
    }
   ],
   "source": [
    "embedding.get_embedding(0)"
   ]
  },
  {
   "cell_type": "code",
   "execution_count": null,
   "metadata": {},
   "outputs": [],
   "source": []
  }
 ],
 "metadata": {
  "kernelspec": {
   "display_name": "Python 3",
   "language": "python",
   "name": "python3"
  },
  "language_info": {
   "codemirror_mode": {
    "name": "ipython",
    "version": 3
   },
   "file_extension": ".py",
   "mimetype": "text/x-python",
   "name": "python",
   "nbconvert_exporter": "python",
   "pygments_lexer": "ipython3",
   "version": "3.8.2"
  }
 },
 "nbformat": 4,
 "nbformat_minor": 4
}
