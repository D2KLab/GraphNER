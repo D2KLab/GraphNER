{
 "cells": [
  {
   "cell_type": "markdown",
   "metadata": {},
   "source": [
    "<div class=\"alert alert-success\">\n",
    "Jump to the final section for the generation of gazetteers from prefetched Wikidata queries\n",
    "</div>"
   ]
  },
  {
   "cell_type": "code",
   "execution_count": 126,
   "metadata": {},
   "outputs": [],
   "source": [
    "import time\n",
    "import json\n",
    "import pickle \n",
    "\n",
    "import requests\n",
    "import pandas as pd\n",
    "\n",
    "from tqdm.notebook import tqdm\n",
    "from SPARQLWrapper import SPARQLWrapper, JSON"
   ]
  },
  {
   "cell_type": "markdown",
   "metadata": {},
   "source": [
    "# Get all subclasses labels"
   ]
  },
  {
   "cell_type": "code",
   "execution_count": 198,
   "metadata": {},
   "outputs": [],
   "source": [
    "sparql = SPARQLWrapper(\"https://query.wikidata.org/sparql\", agent=\"Chrome/87.0 (Harrando@eurecom.fr) SPARQLWrapper\")\n",
    "\n",
    "classes = {\n",
    "    \"Organization\": \"Q43229\", #includes companies\n",
    "    \"Name\": \"Q82799\",\n",
    "    \"Artist\": \"Q483501\",\n",
    "    \"Geolocation\": \"Q2221906\",\n",
    "    \"City\": \"Q515\",\n",
    "    \"Capital\": \"Q5119\",\n",
    "    \"Town\": \"Q3957\",\n",
    "    \"Demonym\": \"Q217438\",\n",
    "    \"Product\": \"Q2424752\",\n",
    "    \"Brand\": \"Q431289\",\n",
    "    \"Georegion\": \"Q82794\",\n",
    "    \"Country\": \"Q6256\",\n",
    "    \"Given name\": \"Q202444\",\n",
    "    \"Family name\": \"Q101352\"\n",
    "}"
   ]
  },
  {
   "cell_type": "code",
   "execution_count": 192,
   "metadata": {},
   "outputs": [],
   "source": [
    "url = 'https://query.wikidata.org/bigdata/namespace/wdq/sparql'\n",
    "subclasses = {}\n",
    "\n",
    "for label, wikidata_code in tqdm(classes.items()):\n",
    "    try:\n",
    "        print(label, wikidata_code)\n",
    "        query = \"SELECT distinct ?class ?classLabel \" + \\\n",
    "                \"WHERE { ?class wdt:P279|wdt:P279/wdt:P279 wd:\" + wikidata_code + \". \" + \\\n",
    "                \"        SERVICE wikibase:label { bd:serviceParam wikibase:language 'en' } }\"\n",
    "        data = requests.get(url, params={'query': query, 'format': 'json'}).json()\n",
    "        # time.sleep(1)\n",
    "        subclasses[label] = data\n",
    "    except Exception as e:\n",
    "        print(str(e))"
   ]
  },
  {
   "cell_type": "code",
   "execution_count": 199,
   "metadata": {},
   "outputs": [],
   "source": [
    "subclasses = pickle.load(open('subclasses.pickle', 'rb'))"
   ]
  },
  {
   "cell_type": "code",
   "execution_count": 200,
   "metadata": {},
   "outputs": [
    {
     "data": {
      "text/plain": [
       "dict_keys(['Organization', 'Name', 'Artist', 'Geolocation', 'City', 'Capital', 'Town', 'Demonym', 'Product', 'Brand', 'Georegion', 'Country'])"
      ]
     },
     "execution_count": 200,
     "metadata": {},
     "output_type": "execute_result"
    }
   ],
   "source": [
    "subclasses.keys()"
   ]
  },
  {
   "cell_type": "code",
   "execution_count": 202,
   "metadata": {},
   "outputs": [
    {
     "data": {
      "application/vnd.jupyter.widget-view+json": {
       "model_id": "de4055f1a55b4d6a97b916d4609bdfcc",
       "version_major": 2,
       "version_minor": 0
      },
      "text/plain": [
       "HBox(children=(FloatProgress(value=0.0, max=14.0), HTML(value='')))"
      ]
     },
     "metadata": {},
     "output_type": "display_data"
    },
    {
     "name": "stdout",
     "output_type": "stream",
     "text": [
      "Given name Q202444\n",
      "Family name Q101352\n",
      "\n"
     ]
    }
   ],
   "source": [
    "url = 'https://query.wikidata.org/bigdata/namespace/wdq/sparql'\n",
    "\n",
    "for label, wikidata_code in tqdm(classes.items()):\n",
    "    try:\n",
    "        if label not in [\"Family name\", \"Given name\"]:\n",
    "            continue\n",
    "        print(label, wikidata_code)\n",
    "        query = \"SELECT distinct ?class ?classLabel \" + \\\n",
    "                \"WHERE { ?class wdt:P279|wdt:P279/wdt:P279 wd:\" + wikidata_code + \". \" + \\\n",
    "                \"        SERVICE wikibase:label { bd:serviceParam wikibase:language 'en' } }\"\n",
    "        data = requests.get(url, params={'query': query, 'format': 'json'}).json()\n",
    "        # time.sleep(1)\n",
    "        subclasses[label] = data\n",
    "    except Exception as e:\n",
    "        print(str(e))"
   ]
  },
  {
   "cell_type": "code",
   "execution_count": 113,
   "metadata": {},
   "outputs": [],
   "source": [
    "# subclasses = pickle.load(open('subclasses.pickle', 'rb'))"
   ]
  },
  {
   "cell_type": "code",
   "execution_count": 204,
   "metadata": {},
   "outputs": [
    {
     "name": "stdout",
     "output_type": "stream",
     "text": [
      "Organization\n",
      "3528 subclasses\n",
      "Name\n",
      "308 subclasses\n",
      "Artist\n",
      "350 subclasses\n",
      "Geolocation\n",
      "1324 subclasses\n",
      "City\n",
      "190 subclasses\n",
      "Capital\n",
      "15 subclasses\n",
      "Town\n",
      "39 subclasses\n",
      "Demonym\n",
      "6 subclasses\n",
      "Product\n",
      "3838 subclasses\n",
      "Brand\n",
      "42 subclasses\n",
      "Georegion\n",
      "978 subclasses\n",
      "Country\n",
      "51 subclasses\n",
      "Given name\n",
      "56 subclasses\n",
      "Family name\n",
      "122 subclasses\n"
     ]
    }
   ],
   "source": [
    "for label in subclasses:\n",
    "    print(label)\n",
    "    print(len(subclasses[label]['results']['bindings']), 'subclasses')"
   ]
  },
  {
   "cell_type": "code",
   "execution_count": 205,
   "metadata": {},
   "outputs": [
    {
     "name": "stdout",
     "output_type": "stream",
     "text": [
      "{'class': {'type': 'uri', 'value': 'http://www.wikidata.org/entity/Q79751'}, 'classLabel': {'xml:lang': 'en', 'type': 'literal', 'value': 'oligarchy'}}\n"
     ]
    }
   ],
   "source": [
    "print(subclasses['Organization']['results']['bindings'][0])"
   ]
  },
  {
   "cell_type": "code",
   "execution_count": 206,
   "metadata": {},
   "outputs": [
    {
     "data": {
      "text/plain": [
       "1997"
      ]
     },
     "execution_count": 206,
     "metadata": {},
     "output_type": "execute_result"
    }
   ],
   "source": [
    "subclasses_data = []\n",
    "counter = 0\n",
    "for class_label in subclasses:\n",
    "    for result in subclasses[class_label]['results']['bindings']:\n",
    "        subclass, subclass_label = result['class']['value'], result['classLabel']['value']\n",
    "        if subclass_label.split('Q')[-1].isnumeric():\n",
    "            counter += 1\n",
    "            continue\n",
    "        \n",
    "        subclasses_data.append({ # 'class_uri': subclass,\n",
    "                                'class_qid': subclass.split('/')[-1],\n",
    "                                'class_label': class_label,\n",
    "                                'subclass_label': subclass_label.lower()})\n",
    "\n",
    "counter"
   ]
  },
  {
   "cell_type": "code",
   "execution_count": 279,
   "metadata": {},
   "outputs": [],
   "source": []
  },
  {
   "cell_type": "code",
   "execution_count": 211,
   "metadata": {},
   "outputs": [],
   "source": [
    "pickle.dump(subclasses, open('subclasses.pickle', 'wb'))\n",
    "subclasses_df = pd.DataFrame(subclasses_data)\n",
    "subclasses_df.to_csv('csv/subclasses_df.csv', index=False)"
   ]
  },
  {
   "cell_type": "code",
   "execution_count": 212,
   "metadata": {},
   "outputs": [
    {
     "data": {
      "text/html": [
       "<div>\n",
       "<style scoped>\n",
       "    .dataframe tbody tr th:only-of-type {\n",
       "        vertical-align: middle;\n",
       "    }\n",
       "\n",
       "    .dataframe tbody tr th {\n",
       "        vertical-align: top;\n",
       "    }\n",
       "\n",
       "    .dataframe thead th {\n",
       "        text-align: right;\n",
       "    }\n",
       "</style>\n",
       "<table border=\"1\" class=\"dataframe\">\n",
       "  <thead>\n",
       "    <tr style=\"text-align: right;\">\n",
       "      <th></th>\n",
       "      <th>class_qid</th>\n",
       "      <th>class_label</th>\n",
       "      <th>subclass_label</th>\n",
       "    </tr>\n",
       "  </thead>\n",
       "  <tbody>\n",
       "    <tr>\n",
       "      <th>0</th>\n",
       "      <td>Q79751</td>\n",
       "      <td>Organization</td>\n",
       "      <td>oligarchy</td>\n",
       "    </tr>\n",
       "    <tr>\n",
       "      <th>1</th>\n",
       "      <td>Q163740</td>\n",
       "      <td>Organization</td>\n",
       "      <td>nonprofit organization</td>\n",
       "    </tr>\n",
       "    <tr>\n",
       "      <th>2</th>\n",
       "      <td>Q193622</td>\n",
       "      <td>Organization</td>\n",
       "      <td>order</td>\n",
       "    </tr>\n",
       "    <tr>\n",
       "      <th>3</th>\n",
       "      <td>Q194195</td>\n",
       "      <td>Organization</td>\n",
       "      <td>amusement park</td>\n",
       "    </tr>\n",
       "    <tr>\n",
       "      <th>4</th>\n",
       "      <td>Q196776</td>\n",
       "      <td>Organization</td>\n",
       "      <td>certificate authority</td>\n",
       "    </tr>\n",
       "  </tbody>\n",
       "</table>\n",
       "</div>"
      ],
      "text/plain": [
       "  class_qid   class_label          subclass_label\n",
       "0    Q79751  Organization               oligarchy\n",
       "1   Q163740  Organization  nonprofit organization\n",
       "2   Q193622  Organization                   order\n",
       "3   Q194195  Organization          amusement park\n",
       "4   Q196776  Organization   certificate authority"
      ]
     },
     "execution_count": 212,
     "metadata": {},
     "output_type": "execute_result"
    }
   ],
   "source": [
    "subclasses_df.head()"
   ]
  },
  {
   "cell_type": "code",
   "execution_count": 209,
   "metadata": {},
   "outputs": [
    {
     "data": {
      "text/html": [
       "<div>\n",
       "<style scoped>\n",
       "    .dataframe tbody tr th:only-of-type {\n",
       "        vertical-align: middle;\n",
       "    }\n",
       "\n",
       "    .dataframe tbody tr th {\n",
       "        vertical-align: top;\n",
       "    }\n",
       "\n",
       "    .dataframe thead th {\n",
       "        text-align: right;\n",
       "    }\n",
       "</style>\n",
       "<table border=\"1\" class=\"dataframe\">\n",
       "  <thead>\n",
       "    <tr style=\"text-align: right;\">\n",
       "      <th></th>\n",
       "      <th>0</th>\n",
       "    </tr>\n",
       "  </thead>\n",
       "  <tbody>\n",
       "    <tr>\n",
       "      <th>0</th>\n",
       "      <td>Q228353</td>\n",
       "    </tr>\n",
       "    <tr>\n",
       "      <th>1</th>\n",
       "      <td>Q230717</td>\n",
       "    </tr>\n",
       "    <tr>\n",
       "      <th>2</th>\n",
       "      <td>Q396010</td>\n",
       "    </tr>\n",
       "    <tr>\n",
       "      <th>3</th>\n",
       "      <td>Q832115</td>\n",
       "    </tr>\n",
       "    <tr>\n",
       "      <th>4</th>\n",
       "      <td>Q1020406</td>\n",
       "    </tr>\n",
       "  </tbody>\n",
       "</table>\n",
       "</div>"
      ],
      "text/plain": [
       "          0\n",
       "0   Q228353\n",
       "1   Q230717\n",
       "2   Q396010\n",
       "3   Q832115\n",
       "4  Q1020406"
      ]
     },
     "execution_count": 209,
     "metadata": {},
     "output_type": "execute_result"
    }
   ],
   "source": [
    "pd.DataFrame(unused_classes).head()"
   ]
  },
  {
   "cell_type": "code",
   "execution_count": 210,
   "metadata": {},
   "outputs": [],
   "source": [
    "pd.DataFrame(unused_classes).to_csv('csv/unused_subclasses.csv', index=False)"
   ]
  },
  {
   "cell_type": "markdown",
   "metadata": {},
   "source": [
    "# Count the number of instances from every class"
   ]
  },
  {
   "cell_type": "code",
   "execution_count": 14,
   "metadata": {},
   "outputs": [
    {
     "name": "stdout",
     "output_type": "stream",
     "text": [
      "Organization Q43229\n",
      "Name Q82799\n",
      "Artist Q483501\n",
      "Geolocation Q2221906\n",
      "City Q515\n",
      "Capital Q5119\n",
      "Town Q3957\n",
      "Demonym Q217438\n",
      "Product Q2424752\n",
      "Brand Q431289\n",
      "Georegion Q82794\n",
      "Country Q6256\n",
      "\n"
     ]
    }
   ],
   "source": [
    "url = 'https://query.wikidata.org/bigdata/namespace/wdq/sparql'\n",
    "instances = {}\n",
    "\n",
    "for label, wikidata_code in classes.items():\n",
    "    try:\n",
    "        print(label, wikidata_code)\n",
    "        query = \"SELECT ?entity \" + \\\n",
    "                \"WHERE { ?entity wdt:P31/wdt:P279* wd:\" + wikidata_code + \". \" + \\\n",
    "                \"        SERVICE wikibase:label { bd:serviceParam wikibase:language 'en' } }\"\n",
    "        data = requests.get(url, params={'query': query, 'format': 'json'}).json()\n",
    "        instances[label] = data['results']['bindings']\n",
    "        # print(len(results[label]), 'of results returned.')\n",
    "    except Exception as e:\n",
    "        print(str(e))"
   ]
  },
  {
   "cell_type": "code",
   "execution_count": 15,
   "metadata": {},
   "outputs": [
    {
     "name": "stdout",
     "output_type": "stream",
     "text": [
      "Organization\n",
      "2906668 results\n",
      "Name\n",
      "542138 results\n",
      "Artist\n",
      "436 results\n",
      "Geolocation\n",
      "10584664 results\n",
      "City\n",
      "33101 results\n",
      "Capital\n",
      "602 results\n",
      "Town\n",
      "44858 results\n",
      "Demonym\n",
      "620 results\n",
      "Product\n",
      "722076 results\n",
      "Brand\n",
      "8194 results\n",
      "Georegion\n",
      "6164118 results\n",
      "Country\n",
      "699 results\n",
      "\n"
     ]
    }
   ],
   "source": [
    "for label in classes:\n",
    "    print(label)\n",
    "    print(len(instances[label]), 'results')"
   ]
  },
  {
   "cell_type": "markdown",
   "metadata": {},
   "source": [
    "# Get the classes for each entity"
   ]
  },
  {
   "cell_type": "code",
   "execution_count": 213,
   "metadata": {},
   "outputs": [
    {
     "data": {
      "text/plain": [
       "dict_keys(['Organization', 'Name', 'Artist', 'Geolocation', 'City', 'Capital', 'Town', 'Demonym', 'Product', 'Brand', 'Georegion', 'Country', 'Given name'])"
      ]
     },
     "execution_count": 213,
     "metadata": {},
     "output_type": "execute_result"
    }
   ],
   "source": [
    "results_classes.keys()"
   ]
  },
  {
   "cell_type": "code",
   "execution_count": 215,
   "metadata": {},
   "outputs": [
    {
     "data": {
      "application/vnd.jupyter.widget-view+json": {
       "model_id": "f8b795a4370941c58f342c0889f4dc12",
       "version_major": 2,
       "version_minor": 0
      },
      "text/plain": [
       "HBox(children=(FloatProgress(value=0.0, max=14.0), HTML(value='')))"
      ]
     },
     "metadata": {},
     "output_type": "display_data"
    },
    {
     "name": "stdout",
     "output_type": "stream",
     "text": [
      "Family name Q101352\n",
      "\n",
      "                    SELECT distinct  ?entity (GROUP_CONCAT(?class ; SEPARATOR = ';') as ?classes)\n",
      "                    WHERE \n",
      "                    {\n",
      "                         ?entity wdt:P31|wdt:P31/wdt:P279|wdt:P31/wdt:P279/wdt:P279 wd:Q101352;\n",
      "                                 wdt:P31 ?class.\n",
      "                    }\n",
      "                    GROUP BY ?entity\n",
      "                    OFFSET 0\n",
      "                    LIMIT 10000\n",
      "                    \n",
      "10000 of results returned at offset 1\n",
      "10000 of results returned at offset 2\n",
      "10000 of results returned at offset 3\n",
      "10000 of results returned at offset 4\n",
      "10000 of results returned at offset 5\n",
      "10000 of results returned at offset 6\n",
      "10000 of results returned at offset 7\n",
      "10000 of results returned at offset 8\n",
      "10000 of results returned at offset 9\n",
      "10000 of results returned at offset 10\n",
      "10000 of results returned at offset 11\n",
      "10000 of results returned at offset 12\n",
      "10000 of results returned at offset 13\n",
      "10000 of results returned at offset 14\n",
      "10000 of results returned at offset 15\n",
      "10000 of results returned at offset 16\n",
      "10000 of results returned at offset 17\n",
      "10000 of results returned at offset 18\n",
      "10000 of results returned at offset 19\n",
      "10000 of results returned at offset 20\n",
      "10000 of results returned at offset 21\n",
      "10000 of results returned at offset 22\n",
      "10000 of results returned at offset 23\n",
      "10000 of results returned at offset 24\n",
      "10000 of results returned at offset 25\n",
      "10000 of results returned at offset 26\n",
      "10000 of results returned at offset 27\n",
      "10000 of results returned at offset 28\n",
      "10000 of results returned at offset 29\n",
      "10000 of results returned at offset 30\n",
      "10000 of results returned at offset 31\n",
      "10000 of results returned at offset 32\n",
      "10000 of results returned at offset 33\n",
      "10000 of results returned at offset 34\n",
      "10000 of results returned at offset 35\n",
      "10000 of results returned at offset 36\n",
      "10000 of results returned at offset 37\n",
      "5975 of results returned at offset 38\n",
      "No more results returned (offset 39)\n",
      "\n"
     ]
    }
   ],
   "source": [
    "# From https://www.wikidata.org/wiki/Wikidata:SPARQL_query_service/queries/examples#Cats\n",
    "# results_classes = {}\n",
    "limit = 10000\n",
    "\n",
    "for label, wikidata_code in tqdm(classes.items()):\n",
    "    if label != 'Family name':\n",
    "        continuesubclass2class = {}\n",
    "for key in subclasses:\n",
    "    for sc in subclasses[key]:\n",
    "        subclass2class[sc] = key\n",
    "pickle.dump(subclass2class, open('subclass2class.pickle', 'wb'))subclass2class = {}\n",
    "for key in subclasses:\n",
    "    for sc in subclasses[key]:\n",
    "        subclass2class[sc] = key\n",
    "pickle.dump(subclass2class, open('subclass2class.pickle', 'wb'))\n",
    "    print(label, wikidata_code)\n",
    "    results_classes[label] = []\n",
    "    offset = 0\n",
    "    while True:\n",
    "        try:\n",
    "             #  ?entity ?entityLabel ?entityAltLabel ?entityDescription\n",
    "            query = \"\"\"\n",
    "                    SELECT distinct  ?entity (GROUP_CONCAT(?class ; SEPARATOR = ';') as ?classes)\n",
    "                    WHERE \n",
    "                    {{\n",
    "                         ?entity wdt:P31|wdt:P31/wdt:P279|wdt:P31/wdt:P279/wdt:P279 wd:{};\n",
    "                                 wdt:P31 ?class.\n",
    "                    }}\n",
    "                    GROUP BY ?entity\n",
    "                    OFFSET {}\n",
    "                    LIMIT {}\n",
    "                    \"\"\".format(wikidata_code, offset*limit, limit)\n",
    "            if offset == 0:\n",
    "                print(query)\n",
    "            sparql.setQuery(query)\n",
    "            sparql.setReturnFormat(JSON)\n",
    "            offset += 1\n",
    "            if len(sparql.query().convert()['results']['bindings']) > 0:\n",
    "                result = sparql.query().convert()['results']['bindings']\n",
    "                results_classes[label].append(result)\n",
    "                print(f'{len(results_classes[label][-1])} of results returned at offset {offset}')\n",
    "            else:\n",
    "                print(f'No more results returned (offset {offset})')\n",
    "                break\n",
    "        except Exception as e:\n",
    "            if str(e).startswith('EndPointInternalError'):\n",
    "                e = 'Wikidata TimeoutException'\n",
    "                offset -= 1\n",
    "                time.sleep(30)\n",
    "            print(f'Exception at label {label} (offset {offset}) : {e}')\n",
    "            "
   ]
  },
  {
   "cell_type": "code",
   "execution_count": 216,
   "metadata": {},
   "outputs": [
    {
     "name": "stdout",
     "output_type": "stream",
     "text": [
      "{'entity': {'type': 'uri', 'value': 'http://www.wikidata.org/entity/Q80443'}, 'classes': {'type': 'literal', 'value': 'http://www.wikidata.org/entity/Q16521;http://www.wikidata.org/entity/Q1040689'}}\n"
     ]
    }
   ],
   "source": [
    "print(results_classes['Name'][0][1])"
   ]
  },
  {
   "cell_type": "code",
   "execution_count": 217,
   "metadata": {},
   "outputs": [],
   "source": [
    "entity_classes_data = []\n",
    "\n",
    "for class_label in results_classes:\n",
    "    results = [x for l in results_classes[class_label] for x in l]\n",
    "    for result in results:\n",
    "        entity_classes_data.append({\n",
    "            'entity_qid': result['entity']['value'].split('/')[-1],\n",
    "            'entity_label': class_label,\n",
    "            'entity_classes': ';'.join([s.split('/')[-1] for s in result['classes']['value'].split(';')]),\n",
    "        })"
   ]
  },
  {
   "cell_type": "code",
   "execution_count": 218,
   "metadata": {},
   "outputs": [],
   "source": [
    "# pickle.dump(results_classes, open('results_classes.pickle', 'wb'))"
   ]
  },
  {
   "cell_type": "code",
   "execution_count": 219,
   "metadata": {},
   "outputs": [
    {
     "data": {
      "text/html": [
       "<div>\n",
       "<style scoped>\n",
       "    .dataframe tbody tr th:only-of-type {\n",
       "        vertical-align: middle;\n",
       "    }\n",
       "\n",
       "    .dataframe tbody tr th {\n",
       "        vertical-align: top;\n",
       "    }\n",
       "\n",
       "    .dataframe thead th {\n",
       "        text-align: right;\n",
       "    }\n",
       "</style>\n",
       "<table border=\"1\" class=\"dataframe\">\n",
       "  <thead>\n",
       "    <tr style=\"text-align: right;\">\n",
       "      <th></th>\n",
       "      <th>entity_qid</th>\n",
       "      <th>entity_label</th>\n",
       "      <th>entity_classes</th>\n",
       "    </tr>\n",
       "  </thead>\n",
       "  <tbody>\n",
       "    <tr>\n",
       "      <th>0</th>\n",
       "      <td>Q65968</td>\n",
       "      <td>Organization</td>\n",
       "      <td>Q164950</td>\n",
       "    </tr>\n",
       "    <tr>\n",
       "      <th>1</th>\n",
       "      <td>Q68330</td>\n",
       "      <td>Organization</td>\n",
       "      <td>Q11032;Q11032</td>\n",
       "    </tr>\n",
       "    <tr>\n",
       "      <th>2</th>\n",
       "      <td>Q68682</td>\n",
       "      <td>Organization</td>\n",
       "      <td>Q7275;Q465613;Q3024240;Q7275;Q465613;Q3024240;...</td>\n",
       "    </tr>\n",
       "    <tr>\n",
       "      <th>3</th>\n",
       "      <td>Q69119</td>\n",
       "      <td>Organization</td>\n",
       "      <td>Q7278;Q7278</td>\n",
       "    </tr>\n",
       "    <tr>\n",
       "      <th>4</th>\n",
       "      <td>Q70738</td>\n",
       "      <td>Organization</td>\n",
       "      <td>Q7278;Q7278</td>\n",
       "    </tr>\n",
       "    <tr>\n",
       "      <th>...</th>\n",
       "      <td>...</td>\n",
       "      <td>...</td>\n",
       "      <td>...</td>\n",
       "    </tr>\n",
       "    <tr>\n",
       "      <th>3771928</th>\n",
       "      <td>L2876-S1</td>\n",
       "      <td>Family name</td>\n",
       "      <td>Q101352</td>\n",
       "    </tr>\n",
       "    <tr>\n",
       "      <th>3771929</th>\n",
       "      <td>L2873-S1</td>\n",
       "      <td>Family name</td>\n",
       "      <td>Q101352</td>\n",
       "    </tr>\n",
       "    <tr>\n",
       "      <th>3771930</th>\n",
       "      <td>L40218-S2</td>\n",
       "      <td>Family name</td>\n",
       "      <td>Q101352</td>\n",
       "    </tr>\n",
       "    <tr>\n",
       "      <th>3771931</th>\n",
       "      <td>L10906</td>\n",
       "      <td>Family name</td>\n",
       "      <td>Q12145366</td>\n",
       "    </tr>\n",
       "    <tr>\n",
       "      <th>3771932</th>\n",
       "      <td>L43613</td>\n",
       "      <td>Family name</td>\n",
       "      <td>Q101352</td>\n",
       "    </tr>\n",
       "  </tbody>\n",
       "</table>\n",
       "<p>3771933 rows × 3 columns</p>\n",
       "</div>"
      ],
      "text/plain": [
       "        entity_qid  entity_label  \\\n",
       "0           Q65968  Organization   \n",
       "1           Q68330  Organization   \n",
       "2           Q68682  Organization   \n",
       "3           Q69119  Organization   \n",
       "4           Q70738  Organization   \n",
       "...            ...           ...   \n",
       "3771928   L2876-S1   Family name   \n",
       "3771929   L2873-S1   Family name   \n",
       "3771930  L40218-S2   Family name   \n",
       "3771931     L10906   Family name   \n",
       "3771932     L43613   Family name   \n",
       "\n",
       "                                            entity_classes  \n",
       "0                                                  Q164950  \n",
       "1                                            Q11032;Q11032  \n",
       "2        Q7275;Q465613;Q3024240;Q7275;Q465613;Q3024240;...  \n",
       "3                                              Q7278;Q7278  \n",
       "4                                              Q7278;Q7278  \n",
       "...                                                    ...  \n",
       "3771928                                            Q101352  \n",
       "3771929                                            Q101352  \n",
       "3771930                                            Q101352  \n",
       "3771931                                          Q12145366  \n",
       "3771932                                            Q101352  \n",
       "\n",
       "[3771933 rows x 3 columns]"
      ]
     },
     "execution_count": 219,
     "metadata": {},
     "output_type": "execute_result"
    }
   ],
   "source": [
    "df_entity_classes = pd.DataFrame(entity_classes_data)\n",
    "df_entity_classes"
   ]
  },
  {
   "cell_type": "code",
   "execution_count": 220,
   "metadata": {},
   "outputs": [
    {
     "data": {
      "text/plain": [
       "dict_keys(['Organization', 'Name', 'Artist', 'Geolocation', 'City', 'Capital', 'Town', 'Demonym', 'Product', 'Brand', 'Georegion', 'Country', 'Given name', 'Family name'])"
      ]
     },
     "execution_count": 220,
     "metadata": {},
     "output_type": "execute_result"
    }
   ],
   "source": [
    "results_classes.keys()"
   ]
  },
  {
   "cell_type": "code",
   "execution_count": 221,
   "metadata": {},
   "outputs": [],
   "source": [
    "df_entity_classes.to_csv('csv/entity_classes.csv', index=False)"
   ]
  },
  {
   "cell_type": "markdown",
   "metadata": {},
   "source": [
    "# Get the labels for each entity"
   ]
  },
  {
   "cell_type": "code",
   "execution_count": 26,
   "metadata": {},
   "outputs": [],
   "source": [
    "%%time\n",
    "# From https://www.wikidata.org/wiki/Wikidata:SPARQL_query_service/queries/examples#Cats\n",
    "labels_results = {}\n",
    "limit = 20000\n",
    "\n",
    "for label, wikidata_code in tqdm(classes.items()):\n",
    "    print(label, wikidata_code)\n",
    "    labels_results[label] = []\n",
    "    offset = 0\n",
    "    while True:\n",
    "        try:\n",
    "             #  ?entity ?entityLabel ?entityAltLabel ?entityDescription\n",
    "            query = \"\"\"\n",
    "                    SELECT DISTINCT ?entity ?entityLabel ?entityAltLabel ?entityDescription\n",
    "                    WHERE\n",
    "                    {{\n",
    "                      {{\n",
    "                        SELECT DISTINCT ?entity WHERE {{\n",
    "                          ?entity wdt:P31|wdt:P31/wdt:P279|wdt:P31/wdt:P279/wdt:P279 wd:{};\n",
    "                                  wdt:P31 ?class\n",
    "                        }}\n",
    "                        OFFSET {}\n",
    "                        LIMIT {}\n",
    "                      }}\n",
    "                      SERVICE wikibase:label {{ bd:serviceParam wikibase:language 'en' }}\n",
    "                    }}\n",
    "                    \"\"\".format(wikidata_code, offset*limit, limit)\n",
    "            if offset == 0:\n",
    "                print(query)\n",
    "            sparql.setQuery(query)\n",
    "            sparql.setReturnFormat(JSON)\n",
    "            offset += 1\n",
    "            if len(sparql.query().convert()['results']['bindings']) > 0:\n",
    "                result = sparql.query().convert()['results']['bindings']\n",
    "                labels_results[label].append(result)\n",
    "                print(f'{len(labels_results[label][-1])} of results returned at offset {offset}')\n",
    "            else:\n",
    "                print(f'No more results returned (offset {offset})')\n",
    "                break\n",
    "        except Exception as e:\n",
    "            print(f'Exception at label {label} (offset {offset}) : {e}')"
   ]
  },
  {
   "cell_type": "code",
   "execution_count": 223,
   "metadata": {},
   "outputs": [
    {
     "data": {
      "application/vnd.jupyter.widget-view+json": {
       "model_id": "9df8734524494697aa96aa20f976ecdf",
       "version_major": 2,
       "version_minor": 0
      },
      "text/plain": [
       "HBox(children=(FloatProgress(value=0.0, max=14.0), HTML(value='')))"
      ]
     },
     "metadata": {},
     "output_type": "display_data"
    },
    {
     "name": "stdout",
     "output_type": "stream",
     "text": [
      "Family name Q101352\n",
      "\n",
      "                    SELECT DISTINCT ?entity ?entityLabel ?entityAltLabel ?entityDescription\n",
      "                    WHERE\n",
      "                    {\n",
      "                      {\n",
      "                        SELECT DISTINCT ?entity WHERE {\n",
      "                          ?entity wdt:P31|wdt:P31/wdt:P279|wdt:P31/wdt:P279/wdt:P279 wd:Q101352;\n",
      "                                  wdt:P31 ?class\n",
      "                        }\n",
      "                        OFFSET 0\n",
      "                        LIMIT 10000\n",
      "                      }\n",
      "                      SERVICE wikibase:label { bd:serviceParam wikibase:language 'en' }\n",
      "                    }\n",
      "                    \n",
      "10000 of results returned at offset 1\n",
      "10000 of results returned at offset 2\n",
      "10000 of results returned at offset 3\n",
      "10000 of results returned at offset 4\n",
      "10000 of results returned at offset 5\n",
      "10000 of results returned at offset 6\n",
      "10000 of results returned at offset 7\n",
      "10000 of results returned at offset 8\n",
      "10000 of results returned at offset 9\n",
      "10000 of results returned at offset 10\n",
      "Exception at label Family name (offset 11) : Invalid control character at: line 131999 column 49 (char 3194852)\n",
      "10000 of results returned at offset 12\n",
      "10000 of results returned at offset 13\n",
      "10000 of results returned at offset 14\n",
      "10000 of results returned at offset 15\n",
      "10000 of results returned at offset 16\n",
      "10000 of results returned at offset 17\n",
      "10000 of results returned at offset 18\n",
      "10000 of results returned at offset 19\n",
      "10000 of results returned at offset 20\n",
      "10000 of results returned at offset 21\n",
      "10000 of results returned at offset 22\n",
      "10000 of results returned at offset 23\n",
      "10000 of results returned at offset 24\n",
      "10000 of results returned at offset 25\n",
      "10000 of results returned at offset 26\n",
      "10000 of results returned at offset 27\n",
      "10000 of results returned at offset 28\n",
      "10000 of results returned at offset 29\n",
      "10000 of results returned at offset 30\n",
      "10000 of results returned at offset 31\n",
      "10000 of results returned at offset 32\n",
      "10000 of results returned at offset 33\n",
      "10000 of results returned at offset 34\n",
      "10000 of results returned at offset 35\n",
      "10000 of results returned at offset 36\n",
      "10000 of results returned at offset 37\n",
      "5976 of results returned at offset 38\n",
      "No more results returned (offset 39)\n",
      "\n"
     ]
    }
   ],
   "source": [
    "limit = 10000\n",
    "\n",
    "for label, wikidata_code in tqdm(classes.items()):\n",
    "    if label != 'Family name':\n",
    "        continue\n",
    "    print(label, wikidata_code)\n",
    "    labels_results[label] = []\n",
    "    offset = 0\n",
    "    while True:\n",
    "        try:\n",
    "             #  ?entity ?entityLabel ?entityAltLabel ?entityDescription\n",
    "            query = \"\"\"\n",
    "                    SELECT DISTINCT ?entity ?entityLabel ?entityAltLabel ?entityDescription\n",
    "                    WHERE\n",
    "                    {{\n",
    "                      {{\n",
    "                        SELECT DISTINCT ?entity WHERE {{\n",
    "                          ?entity wdt:P31|wdt:P31/wdt:P279|wdt:P31/wdt:P279/wdt:P279 wd:{};\n",
    "                                  wdt:P31 ?class\n",
    "                        }}\n",
    "                        OFFSET {}\n",
    "                        LIMIT {}\n",
    "                      }}\n",
    "                      SERVICE wikibase:label {{ bd:serviceParam wikibase:language 'en' }}\n",
    "                    }}\n",
    "                    \"\"\".format(wikidata_code, offset*limit, limit)\n",
    "            if offset == 0:\n",
    "                print(query)\n",
    "            sparql.setQuery(query)\n",
    "            sparql.setReturnFormat(JSON)\n",
    "            offset += 1\n",
    "            if len(sparql.query().convert()['results']['bindings']) > 0:\n",
    "                result = sparql.query().convert()['results']['bindings']\n",
    "                labels_results[label].append(result)\n",
    "                print(f'{len(labels_results[label][-1])} of results returned at offset {offset}')\n",
    "            else:\n",
    "                print(f'No more results returned (offset {offset})')\n",
    "                break\n",
    "        except Exception as e:\n",
    "            print(f'Exception at label {label} (offset {offset}) : {e}')"
   ]
  },
  {
   "cell_type": "code",
   "execution_count": 225,
   "metadata": {},
   "outputs": [
    {
     "data": {
      "text/plain": [
       "dict_keys(['Organization', 'Name', 'Artist', 'Geolocation', 'City', 'Capital', 'Town', 'Demonym', 'Product', 'Brand', 'Georegion', 'Country', 'Given name', 'Family name'])"
      ]
     },
     "execution_count": 225,
     "metadata": {},
     "output_type": "execute_result"
    }
   ],
   "source": [
    "labels_results.keys()"
   ]
  },
  {
   "cell_type": "code",
   "execution_count": 226,
   "metadata": {},
   "outputs": [
    {
     "name": "stdout",
     "output_type": "stream",
     "text": [
      "Organization 47\n",
      "Name 2\n",
      "Artist 1\n",
      "Geolocation 155\n",
      "City 2\n",
      "Capital 1\n",
      "Town 3\n",
      "Demonym 1\n",
      "Product 4\n",
      "Brand 1\n",
      "Georegion 85\n",
      "Country 1\n",
      "Given name 8\n",
      "Family name 37\n"
     ]
    }
   ],
   "source": [
    "for l in labels_results:\n",
    "    print(l, len(labels_results[l]))"
   ]
  },
  {
   "cell_type": "code",
   "execution_count": 227,
   "metadata": {},
   "outputs": [],
   "source": [
    "pickle.dump(labels_results, open('gazetteers_v1.2_family_names_added_results.pickle', 'wb'))\n",
    "# labels_results = pickle.load(open('gazetteers_v1.0_results.pickle', 'rb'))"
   ]
  },
  {
   "cell_type": "code",
   "execution_count": 228,
   "metadata": {},
   "outputs": [
    {
     "data": {
      "text/plain": [
       "{'entity': {'type': 'uri',\n",
       "  'value': 'http://www.wikidata.org/entity/Q17018131'},\n",
       " 'entityLabel': {'xml:lang': 'en', 'type': 'literal', 'value': 'Dusty'},\n",
       " 'entityDescription': {'xml:lang': 'en',\n",
       "  'type': 'literal',\n",
       "  'value': 'nickname'}}"
      ]
     },
     "execution_count": 228,
     "metadata": {},
     "output_type": "execute_result"
    }
   ],
   "source": [
    "labels_results['Name'][0][1]"
   ]
  },
  {
   "cell_type": "code",
   "execution_count": 229,
   "metadata": {},
   "outputs": [
    {
     "data": {
      "application/vnd.jupyter.widget-view+json": {
       "model_id": "acd1ab483c104d9fb91883f155a07a31",
       "version_major": 2,
       "version_minor": 0
      },
      "text/plain": [
       "HBox(children=(FloatProgress(value=0.0, max=14.0), HTML(value='')))"
      ]
     },
     "metadata": {},
     "output_type": "display_data"
    },
    {
     "name": "stdout",
     "output_type": "stream",
     "text": [
      "\n"
     ]
    }
   ],
   "source": [
    "entity_labels_data = []\n",
    "\n",
    "for class_label in tqdm(labels_results):\n",
    "    results = [x for l in labels_results[class_label] for x in l]\n",
    "    for result in results:\n",
    "        entity_labels_data.append({\n",
    "            'entity_qid': result['entity']['value'].split('/')[-1],\n",
    "            'entity_class': class_label,\n",
    "            'entity_label': '' if 'entityLabel' not in result else result['entityLabel']['value'],\n",
    "            'entity_alt_label': '' if 'entityAltLabel' not in result else result['entityAltLabel']['value'],\n",
    "            'entity_description':  '' if 'entityDescription' not in result else result['entityDescription']['value'],\n",
    "        })"
   ]
  },
  {
   "cell_type": "code",
   "execution_count": 230,
   "metadata": {},
   "outputs": [
    {
     "data": {
      "text/html": [
       "<div>\n",
       "<style scoped>\n",
       "    .dataframe tbody tr th:only-of-type {\n",
       "        vertical-align: middle;\n",
       "    }\n",
       "\n",
       "    .dataframe tbody tr th {\n",
       "        vertical-align: top;\n",
       "    }\n",
       "\n",
       "    .dataframe thead th {\n",
       "        text-align: right;\n",
       "    }\n",
       "</style>\n",
       "<table border=\"1\" class=\"dataframe\">\n",
       "  <thead>\n",
       "    <tr style=\"text-align: right;\">\n",
       "      <th></th>\n",
       "      <th>entity_qid</th>\n",
       "      <th>entity_class</th>\n",
       "      <th>entity_label</th>\n",
       "      <th>entity_alt_label</th>\n",
       "      <th>entity_description</th>\n",
       "    </tr>\n",
       "  </thead>\n",
       "  <tbody>\n",
       "    <tr>\n",
       "      <th>0</th>\n",
       "      <td>Q77573108</td>\n",
       "      <td>Organization</td>\n",
       "      <td>NuGrid</td>\n",
       "      <td>Nucleosynthesis Grid, NuGrid Collaboration</td>\n",
       "      <td>nuclear physics collaboration</td>\n",
       "    </tr>\n",
       "    <tr>\n",
       "      <th>1</th>\n",
       "      <td>Q96905010</td>\n",
       "      <td>Organization</td>\n",
       "      <td>ELAN</td>\n",
       "      <td></td>\n",
       "      <td>research group</td>\n",
       "    </tr>\n",
       "    <tr>\n",
       "      <th>2</th>\n",
       "      <td>Q96893030</td>\n",
       "      <td>Organization</td>\n",
       "      <td>MAMBA</td>\n",
       "      <td>Modelling and Analysis for Medical and Biologi...</td>\n",
       "      <td>research group</td>\n",
       "    </tr>\n",
       "    <tr>\n",
       "      <th>3</th>\n",
       "      <td>Q57313333</td>\n",
       "      <td>Organization</td>\n",
       "      <td>HCC Lab</td>\n",
       "      <td>Human-Centered Computing Lab</td>\n",
       "      <td>research group at the Institute of Computer Sc...</td>\n",
       "    </tr>\n",
       "    <tr>\n",
       "      <th>4</th>\n",
       "      <td>Q61572963</td>\n",
       "      <td>Organization</td>\n",
       "      <td>GAMER group</td>\n",
       "      <td></td>\n",
       "      <td>research group</td>\n",
       "    </tr>\n",
       "    <tr>\n",
       "      <th>...</th>\n",
       "      <td>...</td>\n",
       "      <td>...</td>\n",
       "      <td>...</td>\n",
       "      <td>...</td>\n",
       "      <td>...</td>\n",
       "    </tr>\n",
       "    <tr>\n",
       "      <th>6310779</th>\n",
       "      <td>Q101246725</td>\n",
       "      <td>Family name</td>\n",
       "      <td>Macalik</td>\n",
       "      <td></td>\n",
       "      <td></td>\n",
       "    </tr>\n",
       "    <tr>\n",
       "      <th>6310780</th>\n",
       "      <td>Q101042302</td>\n",
       "      <td>Family name</td>\n",
       "      <td>Roccatagliata</td>\n",
       "      <td></td>\n",
       "      <td>family name</td>\n",
       "    </tr>\n",
       "    <tr>\n",
       "      <th>6310781</th>\n",
       "      <td>Q101246737</td>\n",
       "      <td>Family name</td>\n",
       "      <td>Vukšić</td>\n",
       "      <td></td>\n",
       "      <td>family name</td>\n",
       "    </tr>\n",
       "    <tr>\n",
       "      <th>6310782</th>\n",
       "      <td>Q101042331</td>\n",
       "      <td>Family name</td>\n",
       "      <td>Romitelli</td>\n",
       "      <td></td>\n",
       "      <td>family name</td>\n",
       "    </tr>\n",
       "    <tr>\n",
       "      <th>6310783</th>\n",
       "      <td>Q101042251</td>\n",
       "      <td>Family name</td>\n",
       "      <td>Rigobello</td>\n",
       "      <td></td>\n",
       "      <td>family name</td>\n",
       "    </tr>\n",
       "  </tbody>\n",
       "</table>\n",
       "<p>6310784 rows × 5 columns</p>\n",
       "</div>"
      ],
      "text/plain": [
       "         entity_qid  entity_class   entity_label  \\\n",
       "0         Q77573108  Organization         NuGrid   \n",
       "1         Q96905010  Organization           ELAN   \n",
       "2         Q96893030  Organization          MAMBA   \n",
       "3         Q57313333  Organization        HCC Lab   \n",
       "4         Q61572963  Organization    GAMER group   \n",
       "...             ...           ...            ...   \n",
       "6310779  Q101246725   Family name        Macalik   \n",
       "6310780  Q101042302   Family name  Roccatagliata   \n",
       "6310781  Q101246737   Family name         Vukšić   \n",
       "6310782  Q101042331   Family name      Romitelli   \n",
       "6310783  Q101042251   Family name      Rigobello   \n",
       "\n",
       "                                          entity_alt_label  \\\n",
       "0               Nucleosynthesis Grid, NuGrid Collaboration   \n",
       "1                                                            \n",
       "2        Modelling and Analysis for Medical and Biologi...   \n",
       "3                             Human-Centered Computing Lab   \n",
       "4                                                            \n",
       "...                                                    ...   \n",
       "6310779                                                      \n",
       "6310780                                                      \n",
       "6310781                                                      \n",
       "6310782                                                      \n",
       "6310783                                                      \n",
       "\n",
       "                                        entity_description  \n",
       "0                            nuclear physics collaboration  \n",
       "1                                           research group  \n",
       "2                                           research group  \n",
       "3        research group at the Institute of Computer Sc...  \n",
       "4                                           research group  \n",
       "...                                                    ...  \n",
       "6310779                                                     \n",
       "6310780                                        family name  \n",
       "6310781                                        family name  \n",
       "6310782                                        family name  \n",
       "6310783                                        family name  \n",
       "\n",
       "[6310784 rows x 5 columns]"
      ]
     },
     "execution_count": 230,
     "metadata": {},
     "output_type": "execute_result"
    }
   ],
   "source": [
    "df_entity_labels = pd.DataFrame(entity_labels_data)\n",
    "df_entity_labels"
   ]
  },
  {
   "cell_type": "code",
   "execution_count": 231,
   "metadata": {},
   "outputs": [],
   "source": [
    "df_entity_labels.to_csv('csv/entity_labels.csv', index=False)"
   ]
  },
  {
   "cell_type": "markdown",
   "metadata": {},
   "source": [
    "# Combine Everything Together "
   ]
  },
  {
   "cell_type": "code",
   "execution_count": 73,
   "metadata": {},
   "outputs": [],
   "source": [
    "subclasses_df = pd.read_csv('csv/subclasses_df.csv')\n",
    "df_entity_labels = pd.read_csv('csv/entity_labels.csv')\n",
    "df_entity_classes = pd.read_csv('csv/entity_classes.csv')"
   ]
  },
  {
   "cell_type": "markdown",
   "metadata": {},
   "source": [
    "<div class=\"alert alert-warning\">\n",
    "df_entity_labels contains more entries because the for Geolocation and Georegion it only goes 1 link deeper\n",
    "</div>"
   ]
  },
  {
   "cell_type": "code",
   "execution_count": 232,
   "metadata": {},
   "outputs": [
    {
     "name": "stdout",
     "output_type": "stream",
     "text": [
      "6310784\n"
     ]
    },
    {
     "data": {
      "text/html": [
       "<div>\n",
       "<style scoped>\n",
       "    .dataframe tbody tr th:only-of-type {\n",
       "        vertical-align: middle;\n",
       "    }\n",
       "\n",
       "    .dataframe tbody tr th {\n",
       "        vertical-align: top;\n",
       "    }\n",
       "\n",
       "    .dataframe thead th {\n",
       "        text-align: right;\n",
       "    }\n",
       "</style>\n",
       "<table border=\"1\" class=\"dataframe\">\n",
       "  <thead>\n",
       "    <tr style=\"text-align: right;\">\n",
       "      <th></th>\n",
       "      <th>entity_qid</th>\n",
       "      <th>entity_class</th>\n",
       "      <th>entity_label</th>\n",
       "      <th>entity_alt_label</th>\n",
       "      <th>entity_description</th>\n",
       "    </tr>\n",
       "  </thead>\n",
       "  <tbody>\n",
       "    <tr>\n",
       "      <th>0</th>\n",
       "      <td>Q77573108</td>\n",
       "      <td>Organization</td>\n",
       "      <td>NuGrid</td>\n",
       "      <td>Nucleosynthesis Grid, NuGrid Collaboration</td>\n",
       "      <td>nuclear physics collaboration</td>\n",
       "    </tr>\n",
       "    <tr>\n",
       "      <th>1</th>\n",
       "      <td>Q96905010</td>\n",
       "      <td>Organization</td>\n",
       "      <td>ELAN</td>\n",
       "      <td></td>\n",
       "      <td>research group</td>\n",
       "    </tr>\n",
       "    <tr>\n",
       "      <th>2</th>\n",
       "      <td>Q96893030</td>\n",
       "      <td>Organization</td>\n",
       "      <td>MAMBA</td>\n",
       "      <td>Modelling and Analysis for Medical and Biologi...</td>\n",
       "      <td>research group</td>\n",
       "    </tr>\n",
       "  </tbody>\n",
       "</table>\n",
       "</div>"
      ],
      "text/plain": [
       "  entity_qid  entity_class entity_label  \\\n",
       "0  Q77573108  Organization       NuGrid   \n",
       "1  Q96905010  Organization         ELAN   \n",
       "2  Q96893030  Organization        MAMBA   \n",
       "\n",
       "                                    entity_alt_label  \\\n",
       "0         Nucleosynthesis Grid, NuGrid Collaboration   \n",
       "1                                                      \n",
       "2  Modelling and Analysis for Medical and Biologi...   \n",
       "\n",
       "              entity_description  \n",
       "0  nuclear physics collaboration  \n",
       "1                 research group  \n",
       "2                 research group  "
      ]
     },
     "execution_count": 232,
     "metadata": {},
     "output_type": "execute_result"
    }
   ],
   "source": [
    "print(len(df_entity_labels))\n",
    "df_entity_labels.head(3)"
   ]
  },
  {
   "cell_type": "code",
   "execution_count": 236,
   "metadata": {},
   "outputs": [
    {
     "name": "stdout",
     "output_type": "stream",
     "text": [
      "3771933\n"
     ]
    },
    {
     "data": {
      "text/html": [
       "<div>\n",
       "<style scoped>\n",
       "    .dataframe tbody tr th:only-of-type {\n",
       "        vertical-align: middle;\n",
       "    }\n",
       "\n",
       "    .dataframe tbody tr th {\n",
       "        vertical-align: top;\n",
       "    }\n",
       "\n",
       "    .dataframe thead th {\n",
       "        text-align: right;\n",
       "    }\n",
       "</style>\n",
       "<table border=\"1\" class=\"dataframe\">\n",
       "  <thead>\n",
       "    <tr style=\"text-align: right;\">\n",
       "      <th></th>\n",
       "      <th>entity_qid</th>\n",
       "      <th>entity_label</th>\n",
       "      <th>entity_classes</th>\n",
       "    </tr>\n",
       "  </thead>\n",
       "  <tbody>\n",
       "    <tr>\n",
       "      <th>0</th>\n",
       "      <td>Q65968</td>\n",
       "      <td>Organization</td>\n",
       "      <td>Q164950</td>\n",
       "    </tr>\n",
       "    <tr>\n",
       "      <th>1</th>\n",
       "      <td>Q68330</td>\n",
       "      <td>Organization</td>\n",
       "      <td>Q11032;Q11032</td>\n",
       "    </tr>\n",
       "    <tr>\n",
       "      <th>2</th>\n",
       "      <td>Q68682</td>\n",
       "      <td>Organization</td>\n",
       "      <td>Q7275;Q465613;Q3024240;Q7275;Q465613;Q3024240;...</td>\n",
       "    </tr>\n",
       "  </tbody>\n",
       "</table>\n",
       "</div>"
      ],
      "text/plain": [
       "  entity_qid  entity_label                                     entity_classes\n",
       "0     Q65968  Organization                                            Q164950\n",
       "1     Q68330  Organization                                      Q11032;Q11032\n",
       "2     Q68682  Organization  Q7275;Q465613;Q3024240;Q7275;Q465613;Q3024240;..."
      ]
     },
     "execution_count": 236,
     "metadata": {},
     "output_type": "execute_result"
    }
   ],
   "source": [
    "print(len(df_entity_classes))\n",
    "df_entity_classes.head(3)"
   ]
  },
  {
   "cell_type": "code",
   "execution_count": 237,
   "metadata": {},
   "outputs": [
    {
     "name": "stdout",
     "output_type": "stream",
     "text": [
      "8850\n"
     ]
    },
    {
     "data": {
      "text/html": [
       "<div>\n",
       "<style scoped>\n",
       "    .dataframe tbody tr th:only-of-type {\n",
       "        vertical-align: middle;\n",
       "    }\n",
       "\n",
       "    .dataframe tbody tr th {\n",
       "        vertical-align: top;\n",
       "    }\n",
       "\n",
       "    .dataframe thead th {\n",
       "        text-align: right;\n",
       "    }\n",
       "</style>\n",
       "<table border=\"1\" class=\"dataframe\">\n",
       "  <thead>\n",
       "    <tr style=\"text-align: right;\">\n",
       "      <th></th>\n",
       "      <th>class_qid</th>\n",
       "      <th>class_label</th>\n",
       "      <th>subclass_label</th>\n",
       "    </tr>\n",
       "  </thead>\n",
       "  <tbody>\n",
       "    <tr>\n",
       "      <th>0</th>\n",
       "      <td>Q79751</td>\n",
       "      <td>Organization</td>\n",
       "      <td>oligarchy</td>\n",
       "    </tr>\n",
       "    <tr>\n",
       "      <th>1</th>\n",
       "      <td>Q163740</td>\n",
       "      <td>Organization</td>\n",
       "      <td>nonprofit organization</td>\n",
       "    </tr>\n",
       "    <tr>\n",
       "      <th>2</th>\n",
       "      <td>Q193622</td>\n",
       "      <td>Organization</td>\n",
       "      <td>order</td>\n",
       "    </tr>\n",
       "  </tbody>\n",
       "</table>\n",
       "</div>"
      ],
      "text/plain": [
       "  class_qid   class_label          subclass_label\n",
       "0    Q79751  Organization               oligarchy\n",
       "1   Q163740  Organization  nonprofit organization\n",
       "2   Q193622  Organization                   order"
      ]
     },
     "execution_count": 237,
     "metadata": {},
     "output_type": "execute_result"
    }
   ],
   "source": [
    "print(len(subclasses_df))\n",
    "subclasses_df.head(3)"
   ]
  },
  {
   "cell_type": "code",
   "execution_count": 293,
   "metadata": {},
   "outputs": [],
   "source": [
    "subclass2class = dict(zip(subclasses_df.subclass_label, subclasses_df.class_label.str.lower()))\n",
    "pickle.dump(subclass2class, open('subclass2class.pickle', 'wb'))"
   ]
  },
  {
   "cell_type": "code",
   "execution_count": 234,
   "metadata": {},
   "outputs": [],
   "source": [
    "qid2class = dict(zip(df_entity_labels.entity_qid, df_entity_labels.entity_class))\n",
    "qid2label = dict(zip(df_entity_labels.entity_qid, df_entity_labels.entity_label))\n",
    "qid2altlabel = dict(zip(df_entity_labels.entity_qid, df_entity_labels.entity_alt_label))"
   ]
  },
  {
   "cell_type": "code",
   "execution_count": 286,
   "metadata": {},
   "outputs": [],
   "source": [
    "subclass2class = dict(zip(subclasses_df.class_qid, subclasses_df.class_label))\n",
    "subclass2label = dict(zip(subclasses_df.class_qid, subclasses_df.subclass_label))"
   ]
  },
  {
   "cell_type": "code",
   "execution_count": 239,
   "metadata": {},
   "outputs": [
    {
     "data": {
      "application/vnd.jupyter.widget-view+json": {
       "model_id": "0731e0946e2846599a3ffc695d4c7437",
       "version_major": 2,
       "version_minor": 0
      },
      "text/plain": [
       "HBox(children=(FloatProgress(value=0.0, max=3771933.0), HTML(value='')))"
      ]
     },
     "metadata": {},
     "output_type": "display_data"
    },
    {
     "name": "stdout",
     "output_type": "stream",
     "text": [
      "\n"
     ]
    }
   ],
   "source": [
    "entity_per_class = {}\n",
    "not_found = []\n",
    "\n",
    "for i, entry in tqdm(df_entity_classes.iterrows(), total=len(df_entity_classes)):\n",
    "    classes = entry['entity_classes']\n",
    "    label = entry['entity_label']\n",
    "    qid = entry['entity_qid']\n",
    "    \n",
    "    for cls in classes.split(';'):\n",
    "        if cls not in subclass2label:\n",
    "            not_found.append(cls)\n",
    "            cls_label = label.lower()\n",
    "        else:\n",
    "            cls_label = subclass2label[cls].lower()\n",
    "        \n",
    "        if cls_label not in entity_per_class:\n",
    "            entity_per_class[cls_label] = set()\n",
    "        \n",
    "        entity_per_class[cls_label].add(qid)"
   ]
  },
  {
   "cell_type": "code",
   "execution_count": 240,
   "metadata": {},
   "outputs": [
    {
     "data": {
      "text/plain": [
       "True"
      ]
     },
     "execution_count": 240,
     "metadata": {},
     "output_type": "execute_result"
    }
   ],
   "source": [
    "any(subclasses_df.subclass_label == 'male given name')"
   ]
  },
  {
   "cell_type": "code",
   "execution_count": 241,
   "metadata": {
    "scrolled": false
   },
   "outputs": [
    {
     "data": {
      "text/plain": [
       "['pen name',\n",
       " 'trade name',\n",
       " 'geographic names board',\n",
       " 'brand name',\n",
       " 'legal name',\n",
       " 'nickname',\n",
       " 'family name prefixed with mac or mc',\n",
       " 'family nickname',\n",
       " 'surname prefixed with ó or o',\n",
       " 'double surname',\n",
       " 'toponymic surname',\n",
       " 'noble family name',\n",
       " 'name',\n",
       " 'names of god in judaism',\n",
       " 'name reaction',\n",
       " 'code name',\n",
       " 'name suffix',\n",
       " 'common name',\n",
       " 'byname',\n",
       " 'stage name',\n",
       " 'placeholder name',\n",
       " 'male given name',\n",
       " 'biblical proper name',\n",
       " 'ship name',\n",
       " 'female given name',\n",
       " 'posthumous name',\n",
       " 'art-name',\n",
       " 'unisex given name',\n",
       " 'field name',\n",
       " 'trivial name',\n",
       " 'ring name',\n",
       " 'han surname',\n",
       " 'association football club names',\n",
       " '99 names of allah',\n",
       " 'former name',\n",
       " 'unavailable name',\n",
       " 'fictional spacecraft name',\n",
       " 'personal name',\n",
       " 'street or road name',\n",
       " 'nickname with carnival',\n",
       " 'names of the greeks',\n",
       " 'compound given name',\n",
       " 'commercial name',\n",
       " 'pub name',\n",
       " 'gag name',\n",
       " 'irish name',\n",
       " 'chinese names for the god of abrahamic religions',\n",
       " 'superfluous name',\n",
       " 'toponymic nickname',\n",
       " 'name of passenger trains',\n",
       " 'musical group name',\n",
       " 'balinese name',\n",
       " 'replacement name',\n",
       " 'temple name',\n",
       " 'preoccupied name',\n",
       " 'double name',\n",
       " 'family name from a specific origin',\n",
       " 'patronymic surname',\n",
       " 'month name',\n",
       " 'regnal name',\n",
       " 'religious name',\n",
       " 'chinese given name',\n",
       " 'scientific name',\n",
       " 'ogham name',\n",
       " 'proper name',\n",
       " 'ornamental plant',\n",
       " 'given name',\n",
       " 'usual first name',\n",
       " 'suffix for older or younger used in personal name',\n",
       " 'hyphenated given name',\n",
       " 'belarusian personal name',\n",
       " 'japanese given name',\n",
       " 'italian name',\n",
       " 'hebrew name',\n",
       " 'russian given name',\n",
       " 'initials instead of given names',\n",
       " 'hebrew given name',\n",
       " 'hindi given name',\n",
       " 'basque family name',\n",
       " 'ukrainian given name',\n",
       " 'greek given name',\n",
       " 'first names in germany',\n",
       " 'male given name borne by a female',\n",
       " 'family name',\n",
       " 'family name named after given name',\n",
       " 'occupational surname',\n",
       " 'male family name',\n",
       " 'locational surname',\n",
       " 'affixed family name',\n",
       " 'ukrainian surname',\n",
       " 'royal surname',\n",
       " 'korean surname',\n",
       " 'female family name',\n",
       " 'undifferentiated surname',\n",
       " 'family name in austria',\n",
       " 'vietnamese surname',\n",
       " 'german family name',\n",
       " 'manchu surname',\n",
       " 'portuguese family name',\n",
       " 'family name in romania',\n",
       " 'russian surname',\n",
       " 'hindi family name',\n",
       " 'belarusian surname',\n",
       " 'slavic surname',\n",
       " 'family name ending with -ук',\n",
       " 'manx family name',\n",
       " 'surname prefixed with fitz',\n",
       " 'álavese compound surname',\n",
       " 'lithuanian family name',\n",
       " 'family name in france',\n",
       " 'hungarian family name',\n",
       " 'czech family name',\n",
       " 'belarusian male surname',\n",
       " 'family name in the netherlands',\n",
       " 'family name in spain',\n",
       " 'french family name',\n",
       " 'family name in portugal',\n",
       " 'belarusian female surname',\n",
       " 'japanese family name',\n",
       " 'jewish surname',\n",
       " 'family name in italy',\n",
       " 'polish surname',\n",
       " 'compound surname',\n",
       " 'polish family name',\n",
       " 'greek family name',\n",
       " 'family name in sri lanka',\n",
       " 'maiden name']"
      ]
     },
     "execution_count": 241,
     "metadata": {},
     "output_type": "execute_result"
    }
   ],
   "source": [
    "[l for l in entity_per_class.keys() if 'name' in l.lower()]"
   ]
  },
  {
   "cell_type": "code",
   "execution_count": 242,
   "metadata": {},
   "outputs": [],
   "source": [
    "subclass2labels = {}\n",
    "\n",
    "for subclass in entity_per_class:\n",
    "    subclass2labels[subclass] = set()\n",
    "    for entity in entity_per_class[subclass]:\n",
    "        if entity in qid2label and len(qid2label[entity].split(' ')) == 1:\n",
    "            subclass2labels[subclass].add(qid2label[entity].lower())"
   ]
  },
  {
   "cell_type": "code",
   "execution_count": 254,
   "metadata": {},
   "outputs": [
    {
     "name": "stdout",
     "output_type": "stream",
     "text": [
      "male given name\n",
      "family name\n"
     ]
    }
   ],
   "source": [
    "for l in subclass2labels:\n",
    "    if 'abdul' in subclass2labels[l]:\n",
    "        print(l)"
   ]
  },
  {
   "cell_type": "code",
   "execution_count": 259,
   "metadata": {
    "scrolled": false
   },
   "outputs": [
    {
     "data": {
      "text/plain": [
       "[(462774, 'human settlement'),\n",
       " (313954, 'family name'),\n",
       " (99328, 'hill'),\n",
       " (96785, 'mountain'),\n",
       " (51620, 'business'),\n",
       " (38020, 'valley'),\n",
       " (34978, 'organization'),\n",
       " (32642, 'locality'),\n",
       " (28307, 'male given name'),\n",
       " (24255, 'geolocation'),\n",
       " (18607, 'town in china'),\n",
       " (17975, 'library'),\n",
       " (17358, 'female given name'),\n",
       " (16058, 'enterprise'),\n",
       " (14872, 'given name'),\n",
       " (14862, 'radio station'),\n",
       " (14059, 'georegion'),\n",
       " (11143, 'town'),\n",
       " (10045, 'city'),\n",
       " (9945, 'rural council of ukraine'),\n",
       " (8657, 'park'),\n",
       " (7878, 'magazine'),\n",
       " (7677, 'village'),\n",
       " (7665, 'newspaper'),\n",
       " (7511, 'summit'),\n",
       " (7156, 'software'),\n",
       " (6648, 'settlement in galicia, spain'),\n",
       " (5773, 'monastery'),\n",
       " (5384, 'family'),\n",
       " (5313, 'sports club')]"
      ]
     },
     "execution_count": 259,
     "metadata": {},
     "output_type": "execute_result"
    }
   ],
   "source": [
    "[(len(es), l) for l, es in sorted(subclass2labels.items(), key=lambda x: -len(x[1]))[:30]]"
   ]
  },
  {
   "cell_type": "code",
   "execution_count": 270,
   "metadata": {},
   "outputs": [],
   "source": [
    "label2subclasses = {}\n",
    "\n",
    "for subclass in subclass2labels:\n",
    "    for label in subclass2labels[subclass]:\n",
    "        if label not in label2subclasses:\n",
    "            label2subclasses[label] = []\n",
    "        label2subclasses[label].append(subclass)"
   ]
  },
  {
   "cell_type": "code",
   "execution_count": 276,
   "metadata": {},
   "outputs": [
    {
     "data": {
      "text/plain": [
       "['organization',\n",
       " 'sovereign state',\n",
       " 'town of the united states',\n",
       " 'mediterranean country',\n",
       " 'country',\n",
       " 'family name']"
      ]
     },
     "execution_count": 276,
     "metadata": {},
     "output_type": "execute_result"
    }
   ],
   "source": [
    "label2subclasses['morocco']"
   ]
  },
  {
   "cell_type": "code",
   "execution_count": 274,
   "metadata": {},
   "outputs": [],
   "source": [
    "pickle.dump(subclass2labels, open('subclass2labels.pickle', 'wb'))\n",
    "pickle.dump(label2subclasses, open('label2subclasses.pickle', 'wb'))"
   ]
  },
  {
   "cell_type": "code",
   "execution_count": null,
   "metadata": {},
   "outputs": [],
   "source": []
  },
  {
   "cell_type": "markdown",
   "metadata": {},
   "source": [
    "# Pick the final categories"
   ]
  },
  {
   "cell_type": "code",
   "execution_count": 277,
   "metadata": {
    "scrolled": false
   },
   "outputs": [
    {
     "data": {
      "text/plain": [
       "[(462774, 'human settlement'),\n",
       " (313954, 'family name'),\n",
       " (99328, 'hill'),\n",
       " (96785, 'mountain'),\n",
       " (51620, 'business'),\n",
       " (38020, 'valley'),\n",
       " (34978, 'organization'),\n",
       " (32642, 'locality'),\n",
       " (28307, 'male given name'),\n",
       " (24255, 'geolocation'),\n",
       " (18607, 'town in china'),\n",
       " (17975, 'library'),\n",
       " (17358, 'female given name'),\n",
       " (16058, 'enterprise'),\n",
       " (14872, 'given name'),\n",
       " (14862, 'radio station'),\n",
       " (14059, 'georegion'),\n",
       " (11143, 'town'),\n",
       " (10045, 'city'),\n",
       " (9945, 'rural council of ukraine'),\n",
       " (8657, 'park'),\n",
       " (7878, 'magazine'),\n",
       " (7677, 'village'),\n",
       " (7665, 'newspaper'),\n",
       " (7511, 'summit'),\n",
       " (7156, 'software'),\n",
       " (6648, 'settlement in galicia, spain'),\n",
       " (5773, 'monastery'),\n",
       " (5384, 'family'),\n",
       " (5313, 'sports club'),\n",
       " (5062, 'city of the united states'),\n",
       " (4890, 'television station'),\n",
       " (4747, 'product'),\n",
       " (4650, 'buddhist temple'),\n",
       " (4472, 'voluntary association'),\n",
       " (4436, 'publisher'),\n",
       " (4417, 'census-designated place'),\n",
       " (4164, 'community health center'),\n",
       " (3893, 'name'),\n",
       " (3564, 'protected area'),\n",
       " (3405, 'aerodrome'),\n",
       " (3395, 'town of the united states'),\n",
       " (3191, 'mountain range'),\n",
       " (3132, 'mineral index'),\n",
       " (2702, 'double surname'),\n",
       " (2592, 'big city'),\n",
       " (2542, 'hospital'),\n",
       " (2515, 'nonprofit organization'),\n",
       " (2442, 'municipality seat'),\n",
       " (2370, 'pharmaceutical product'),\n",
       " (2321, 'political party'),\n",
       " (2150, 'polder'),\n",
       " (2011, 'geographic region'),\n",
       " (2003, 'foundation'),\n",
       " (1943, 'noble family'),\n",
       " (1873, 'brand'),\n",
       " (1862, 'trademark'),\n",
       " (1816, 'synagogue'),\n",
       " (1815, 'unisex given name'),\n",
       " (1733, 'urban municipality of germany'),\n",
       " (1728, 'festival'),\n",
       " (1724, 'military unit'),\n",
       " (1707, 'educational institution'),\n",
       " (1617, 'family name prefixed with mac or mc'),\n",
       " (1594, 'freguesia of portugal'),\n",
       " (1575, 'aircraft model'),\n",
       " (1446, 'ortsteil'),\n",
       " (1426, 'musical ensemble'),\n",
       " (1396, 'company'),\n",
       " (1365, 'sports governing body'),\n",
       " (1335, 'patronymic surname'),\n",
       " (1317, 'government agency'),\n",
       " (1308, 'synonym'),\n",
       " (1301, 'religious administrative entity'),\n",
       " (1298, 'noble title'),\n",
       " (1283, 'han surname'),\n",
       " (1267, 'transport company'),\n",
       " (1267, 'commercial organization'),\n",
       " (1238, 'water board in the netherlands'),\n",
       " (1236, 'academic department'),\n",
       " (1235, 'restaurant'),\n",
       " (1197, 'theatrical troupe'),\n",
       " (1182, 'nomen'),\n",
       " (1148, 'record label'),\n",
       " (1147, 'ayuntamiento'),\n",
       " (1083, 'local heritage association in sweden'),\n",
       " (1062, 'association'),\n",
       " (1001, 'memory institution'),\n",
       " (988, 'food'),\n",
       " (974, 'brewery'),\n",
       " (966, 'lectern'),\n",
       " (948, 'non-governmental organization'),\n",
       " (933, 'book publishing company'),\n",
       " (919, 'daily newspaper'),\n",
       " (901, 'court'),\n",
       " (900, 'etching print'),\n",
       " (892, 'hotel'),\n",
       " (880, 'private not-for-profit educational institution'),\n",
       " (875, 'body of water'),\n",
       " (863, 'application'),\n",
       " (844, 'facility'),\n",
       " (838, 'kirch'),\n",
       " (817, 'frazione'),\n",
       " (805, 'populated place in the netherlands'),\n",
       " (805, 'poster'),\n",
       " (802, 'church congregation'),\n",
       " (742, 'archaeological site'),\n",
       " (741, 'double name'),\n",
       " (729, 'polis'),\n",
       " (718, 'military rank'),\n",
       " (714, 'town of japan'),\n",
       " (697, 'city of japan'),\n",
       " (663, 'confraternity'),\n",
       " (657, 'fire department'),\n",
       " (637, 'duo'),\n",
       " (630, 'research institute'),\n",
       " (610, 'aircraft family'),\n",
       " (605, 'revenue service'),\n",
       " (605, 'municipality'),\n",
       " (600, 'theatre troupe'),\n",
       " (574, 'beer brand'),\n",
       " (566, 'occupational surname'),\n",
       " (564, 'mass noun'),\n",
       " (553, 'city with millions of inhabitants'),\n",
       " (545, 'principality'),\n",
       " (543, 'dish'),\n",
       " (534, 'demonym'),\n",
       " (533, 'furniture'),\n",
       " (514, 'former hospital'),\n",
       " (507, 'koaza'),\n",
       " (504, 'federal electoral district of canada'),\n",
       " (493, 'table'),\n",
       " (480, 'prison'),\n",
       " (480, 'dot-com company'),\n",
       " (480, 'printer'),\n",
       " (478, 'broadcaster'),\n",
       " (475, 'sports league'),\n",
       " (473, 'historical region'),\n",
       " (464, 'chinese given name'),\n",
       " (462, 'institute'),\n",
       " (457, 'hypocorism'),\n",
       " (453, 'natural region'),\n",
       " (446, 'toponymic surname'),\n",
       " (445, 'shop'),\n",
       " (444, 'family name named after given name'),\n",
       " (439, 'retail chain'),\n",
       " (439, 'ministry'),\n",
       " (432, 'architectural firm'),\n",
       " (429, 'chair'),\n",
       " (421, 'cognomen'),\n",
       " (412, 'title of honor'),\n",
       " (398, 'village in turkey'),\n",
       " (397, 'capital'),\n",
       " (392, 'indian reserve'),\n",
       " (384, 'town of portugal'),\n",
       " (382, 'new england town'),\n",
       " (380, 'county seat'),\n",
       " (377, 'santa casa da misericórdia'),\n",
       " (373, 'car brand'),\n",
       " (368, 'media company'),\n",
       " (367, 'order'),\n",
       " (355, 'qahal'),\n",
       " (348, 'mural'),\n",
       " (343, 'sports team'),\n",
       " (335, 'basque family name'),\n",
       " (333, 'artist collective'),\n",
       " (333, 'place with town rights and privileges'),\n",
       " (332, 'airport'),\n",
       " (330, 'manorialism'),\n",
       " (330, 'suburb'),\n",
       " (329, 'cultural center'),\n",
       " (329, 'cultivar'),\n",
       " (329, 'municipality of norway'),\n",
       " (328, 'residential area'),\n",
       " (324, 'tool'),\n",
       " (322, 'comic group'),\n",
       " (318, 'town in hungary'),\n",
       " (310, 'liturgical furniture'),\n",
       " (308, 'trade association'),\n",
       " (308, 'engine model'),\n",
       " (302, 'protected area of russia'),\n",
       " (297, 'inhabited area'),\n",
       " (295, 'title'),\n",
       " (294, 'advocacy group'),\n",
       " (293, 'umbrella organization'),\n",
       " (290, 'trade magazine'),\n",
       " (286, 'abbey'),\n",
       " (286, 'commode'),\n",
       " (283, 'herrschaft'),\n",
       " (283, 'building'),\n",
       " (281, 'weekly newspaper'),\n",
       " (275, 'town municipality of turkey'),\n",
       " (273, 'abandonware'),\n",
       " (271, 'administrative centre'),\n",
       " (270, 'prefecture-level city'),\n",
       " (265, 'chest'),\n",
       " (260, 'government organization'),\n",
       " (260, 'belarusian surname'),\n",
       " (253, 'department store'),\n",
       " (251, 'territorial entity'),\n",
       " (245, 'city of district significance'),\n",
       " (242, 'nickname'),\n",
       " (241, 'ukrainian surname'),\n",
       " (238, 'island'),\n",
       " (237, 'registered association'),\n",
       " (234, 'oil field'),\n",
       " (233, 'charitable organization'),\n",
       " (231, 'town in croatia'),\n",
       " (228, 'zoo'),\n",
       " (228, 'ward'),\n",
       " (224, 'congregation'),\n",
       " (224, 'individual copy of a map'),\n",
       " (222, 'city or town'),\n",
       " (220, 'scientific society'),\n",
       " (218, 'public building'),\n",
       " (218, 'rural area'),\n",
       " (217, 'trade union'),\n",
       " (217, 'tractor brand'),\n",
       " (216, 'minor locality in sweden'),\n",
       " (210, 'city/town'),\n",
       " (208, 'shipyard'),\n",
       " (208, 'coffeehouse'),\n",
       " (206, 'archipelago'),\n",
       " (204, 'hanseatic city'),\n",
       " (200, 'municipal council'),\n",
       " (199, 'institution'),\n",
       " (199, 'urban municipality of poland'),\n",
       " (195, 'drainage basin'),\n",
       " (195, 'lamp'),\n",
       " (193, 'content management system'),\n",
       " (192, 'mosaic'),\n",
       " (189, 'heliport'),\n",
       " (189, 'software company'),\n",
       " (187, 'moshav'),\n",
       " (186, 'tabletop role-playing game'),\n",
       " (184, 'priory'),\n",
       " (184, 'city of oregon'),\n",
       " (180, 'subsidiary'),\n",
       " (180, 'seat'),\n",
       " (177, 'church building'),\n",
       " (177, 'viscountcy'),\n",
       " (177, 'town in romania'),\n",
       " (177, 'locational surname'),\n",
       " (175, 'single entity of population'),\n",
       " (170, 'pressure group'),\n",
       " (167, 'military organization'),\n",
       " (166, 'political movement'),\n",
       " (165, 'airbase'),\n",
       " (164, 'female family name'),\n",
       " (163, 'aid agency'),\n",
       " (163, 'affixed family name'),\n",
       " (162, 'pedanía'),\n",
       " (162, 'field name'),\n",
       " (162, 'city of regional significance of ukraine'),\n",
       " (162, 'hyphenated given name'),\n",
       " (158, 'aerospace manufacturer'),\n",
       " (158, 'old town'),\n",
       " (158, 'national demonym'),\n",
       " (156, 'video game publisher'),\n",
       " (154, 'sovereign state'),\n",
       " (154, 'electoral list'),\n",
       " (153, 'medical organization'),\n",
       " (152, 'theater'),\n",
       " (152, 'chōchō'),\n",
       " (152, 'male family name'),\n",
       " (151, 'czech municipality with expanded powers'),\n",
       " (148, 'city of switzerland'),\n",
       " (147, 'volcano'),\n",
       " (146, 'proprietary software'),\n",
       " (144, 'traffic system'),\n",
       " (144, 'country'),\n",
       " (143, '99 names of allah'),\n",
       " (141, 'military decoration'),\n",
       " (140, 'local broadcaster in the netherlands'),\n",
       " (139, 'ceramic'),\n",
       " (139, 'big district town'),\n",
       " (137, 'zveza'),\n",
       " (135, 'transit district'),\n",
       " (135, 'field'),\n",
       " (133, 'brick and mortar'),\n",
       " (133, 'bicycle-sharing system'),\n",
       " (133, 'stock market index'),\n",
       " (132, 'rural township of taiwan'),\n",
       " (130, 'mission complex'),\n",
       " (129, 'textile'),\n",
       " (129, 'device'),\n",
       " (129, 'couch'),\n",
       " (128, 'belgian municipality with city privileges'),\n",
       " (125, 'medium district town'),\n",
       " (124, 'perfume'),\n",
       " (123, 'surname prefixed with ó or o'),\n",
       " (122, 'cooperative'),\n",
       " (122, 'medical facility'),\n",
       " (122, 'community center'),\n",
       " (122, 'association under the french law of 1901'),\n",
       " (122, 'building material'),\n",
       " (122, 'biopharmaceutical'),\n",
       " (118, \"employers' organization\"),\n",
       " (118, 'bookstore'),\n",
       " (118, 'pseudonym')]"
      ]
     },
     "execution_count": 277,
     "metadata": {},
     "output_type": "execute_result"
    }
   ],
   "source": [
    "[(len(es), l) for l, es in sorted(subclass2labels.items(), key=lambda x: -len(x[1]))[:300]]"
   ]
  },
  {
   "cell_type": "code",
   "execution_count": null,
   "metadata": {},
   "outputs": [],
   "source": []
  }
 ],
 "metadata": {
  "kernelspec": {
   "display_name": "Python 3",
   "language": "python",
   "name": "python3"
  },
  "language_info": {
   "codemirror_mode": {
    "name": "ipython",
    "version": 3
   },
   "file_extension": ".py",
   "mimetype": "text/x-python",
   "name": "python",
   "nbconvert_exporter": "python",
   "pygments_lexer": "ipython3",
   "version": "3.8.2"
  }
 },
 "nbformat": 4,
 "nbformat_minor": 4
}
