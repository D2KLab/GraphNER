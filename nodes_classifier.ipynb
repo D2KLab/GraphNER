{
 "cells": [
  {
   "cell_type": "code",
   "execution_count": 1,
   "metadata": {},
   "outputs": [],
   "source": [
    "import os\n",
    "os.environ[\"CUDA_VISIBLE_DEVICES\"]=\"0,1,2,3\""
   ]
  },
  {
   "cell_type": "code",
   "execution_count": 2,
   "metadata": {},
   "outputs": [],
   "source": [
    "import torch\n",
    "from torch import nn\n",
    "from torch.nn import functional as F\n",
    "from torch.utils import data\n",
    "from torch.utils.data import DataLoader\n",
    "from torch.utils.tensorboard import SummaryWriter\n",
    "\n",
    "import re\n",
    "import time\n",
    "import pickle\n",
    "\n",
    "import numpy as np\n",
    "import pandas as pd\n",
    "from tqdm.notebook import tqdm\n",
    "from collections import Counter\n",
    "\n",
    "from sklearn import metrics\n",
    "from sklearn.metrics import classification_report, f1_score"
   ]
  },
  {
   "cell_type": "code",
   "execution_count": 3,
   "metadata": {},
   "outputs": [
    {
     "name": "stdout",
     "output_type": "stream",
     "text": [
      "Wed Nov 18 15:22:56 2020       \n",
      "+-----------------------------------------------------------------------------+\n",
      "| NVIDIA-SMI 455.23.04    Driver Version: 455.23.04    CUDA Version: 11.1     |\n",
      "|-------------------------------+----------------------+----------------------+\n",
      "| GPU  Name        Persistence-M| Bus-Id        Disp.A | Volatile Uncorr. ECC |\n",
      "| Fan  Temp  Perf  Pwr:Usage/Cap|         Memory-Usage | GPU-Util  Compute M. |\n",
      "|                               |                      |               MIG M. |\n",
      "|===============================+======================+======================|\n",
      "|   0  Tesla K80           On   | 00000000:05:00.0 Off |                    0 |\n",
      "| N/A   23C    P8    26W / 149W |      0MiB / 11441MiB |      0%      Default |\n",
      "|                               |                      |                  N/A |\n",
      "+-------------------------------+----------------------+----------------------+\n",
      "|   1  Tesla K80           On   | 00000000:06:00.0 Off |                    0 |\n",
      "| N/A   29C    P8    29W / 149W |      0MiB / 11441MiB |      0%      Default |\n",
      "|                               |                      |                  N/A |\n",
      "+-------------------------------+----------------------+----------------------+\n",
      "|   2  Tesla K80           On   | 00000000:09:00.0 Off |                    0 |\n",
      "| N/A   22C    P8    26W / 149W |      0MiB / 11441MiB |      0%      Default |\n",
      "|                               |                      |                  N/A |\n",
      "+-------------------------------+----------------------+----------------------+\n",
      "|   3  Tesla K80           On   | 00000000:0A:00.0 Off |                    0 |\n",
      "| N/A   29C    P8    30W / 149W |      0MiB / 11441MiB |      0%      Default |\n",
      "|                               |                      |                  N/A |\n",
      "+-------------------------------+----------------------+----------------------+\n",
      "                                                                               \n",
      "+-----------------------------------------------------------------------------+\n",
      "| Processes:                                                                  |\n",
      "|  GPU   GI   CI        PID   Type   Process name                  GPU Memory |\n",
      "|        ID   ID                                                   Usage      |\n",
      "|=============================================================================|\n",
      "|  No running processes found                                                 |\n",
      "+-----------------------------------------------------------------------------+\n"
     ]
    }
   ],
   "source": [
    "! nvidia-smi"
   ]
  },
  {
   "cell_type": "code",
   "execution_count": 4,
   "metadata": {},
   "outputs": [
    {
     "name": "stdout",
     "output_type": "stream",
     "text": [
      "Device: cuda\n"
     ]
    }
   ],
   "source": [
    "torch.manual_seed(42)\n",
    "np.random.seed(42)\n",
    "\n",
    "# CUDA for PyTorch\n",
    "use_cuda = torch.cuda.is_available()\n",
    "device = torch.device(\"cuda\" if use_cuda else \"cpu\")\n",
    "print('Device:', device)\n",
    "torch.backends.cudnn.benchmark = True"
   ]
  },
  {
   "cell_type": "code",
   "execution_count": 5,
   "metadata": {},
   "outputs": [
    {
     "name": "stderr",
     "output_type": "stream",
     "text": [
      "Reusing dataset conll2003 (/opt/tmp/huggingface/datasets/conll2003/conll2003/1.0.0/26b70ce2b0f32cb35a27151dbfa2dbe88c82bcdaf8f29433bcdc612a9b314e83)\n"
     ]
    }
   ],
   "source": [
    "from datasets import load_dataset\n",
    "\n",
    "conll_dataset = load_dataset(\"conll2003\")"
   ]
  },
  {
   "cell_type": "code",
   "execution_count": 6,
   "metadata": {},
   "outputs": [],
   "source": [
    "cn = pd.read_csv('conceptnet_en.csv')\n",
    "cn_isa = pd.read_csv('data/conceptnet_isa.csv')\n",
    "cn_keys = set(cn.subject.values)"
   ]
  },
  {
   "cell_type": "code",
   "execution_count": 7,
   "metadata": {},
   "outputs": [],
   "source": [
    "word2labels = pickle.load(open('edges/word2labels.pickle', 'rb'))"
   ]
  },
  {
   "cell_type": "code",
   "execution_count": 8,
   "metadata": {},
   "outputs": [
    {
     "data": {
      "text/plain": [
       "['given_name']"
      ]
     },
     "execution_count": 8,
     "metadata": {},
     "output_type": "execute_result"
    }
   ],
   "source": [
    "word2labels['jacob']"
   ]
  },
  {
   "cell_type": "code",
   "execution_count": 9,
   "metadata": {},
   "outputs": [
    {
     "data": {
      "text/plain": [
       "(14041, 3250, 3453)"
      ]
     },
     "execution_count": 9,
     "metadata": {},
     "output_type": "execute_result"
    }
   ],
   "source": [
    "len(conll_dataset['train']), len(conll_dataset['validation']), len(conll_dataset['test'])"
   ]
  },
  {
   "cell_type": "code",
   "execution_count": 11,
   "metadata": {},
   "outputs": [],
   "source": [
    "nodes_embeddings = {'hope_gsvd': None,\n",
    "                    'lap_eigmap_svd': None,\n",
    "                    'lle_svd': None,\n",
    "                    'node2vec_rw': None}\n",
    "\n",
    "for embedding_name in nodes_embeddings:\n",
    "    nodes_embeddings[embedding_name] = pickle.load(open('edges/'+embedding_name+'_all_embeddings.pickle', 'rb'))"
   ]
  },
  {
   "cell_type": "code",
   "execution_count": 12,
   "metadata": {},
   "outputs": [],
   "source": [
    "class Dataset(data.Dataset):\n",
    "    def __init__(self, dataset, dataset_split, nodes_embeddings, window_size = 2):\n",
    "        'Initialization'\n",
    "        RAW, X, Y = [], [], []\n",
    "        for doc in tqdm(dataset[dataset_split], desc=f'Loading split {dataset_split}'):\n",
    "            text = [w.lower() for w in doc['words']]\n",
    "            for i, (token, pos, label) in enumerate(zip(doc['words'], doc['pos'], doc['ner'])):\n",
    "                if token == pos:\n",
    "                    continue # this is punctuation\n",
    "\n",
    "                \n",
    "\n",
    "                if token.endswith('='):\n",
    "                    token = token[:-1]\n",
    "\n",
    "                while token and token[0] in \"!$%&'*+,-.:;<=>?@`\":\n",
    "                    token = token[1:]\n",
    "\n",
    "                token = re.sub(r'\\d+', '<NUM>', token)\n",
    "                token = token.replace('`', \"'\")\n",
    "                \n",
    "                if token.lower() not in nodes_embeddings: # new words appearing only in the eval and test\n",
    "                    token = '<span>'\n",
    "                \n",
    "                if not token:\n",
    "                    continue\n",
    "\n",
    "                extra = ['<'+pos.lower()+'>' if pos.lower() in nodes_embeddings else '<span>']\n",
    "                if token.lower() in word2labels:\n",
    "                    extra.extend(['<'+l.lower()+'>' for l in word2labels[token.lower()]])\n",
    "                if token.lower() not in cn_keys:\n",
    "                    extra.append('<not_in_dict>')\n",
    "                if token == token.upper():\n",
    "                    extra.append('<all_caps>')\n",
    "                if token.count('.') > 0 and (token.count('.') + 1) == len(token.split('.')): # C.J or C.J.\n",
    "                    extra.append('<accronym>')\n",
    "                if token[0] == token[0].upper() and token[1:] == token[1:].lower(): \n",
    "                    extra.append('<capitalized>')\n",
    "                \n",
    "                \n",
    "                left_context  = text[max(i-window_size, 0):i] + ([] if i >= window_size else ['<span>'])\n",
    "                left_context  = [w if w in nodes_embeddings else '<span>' for w in left_context]\n",
    "                \n",
    "                right_context = text[i+1:i+1+window_size] + ([] if i + window_size < len(text) else ['<span>'])\n",
    "                right_context = [w if w in nodes_embeddings else '<span>' for w in right_context]\n",
    "                \n",
    "                graph_rep = np.concatenate([nodes_embeddings[token.lower()],\n",
    "                                            np.mean([nodes_embeddings[w] for w in left_context], axis=0),\n",
    "                                            np.mean([nodes_embeddings[w] for w in right_context], axis=0),\n",
    "                                            np.mean([nodes_embeddings[w] for w in extra], axis=0),\n",
    "                                           ])\n",
    "                X.append(graph_rep)\n",
    "                Y.append(label.split('-')[-1])\n",
    "                RAW.append((token, left_context, right_context, extra))\n",
    "                \n",
    "        \n",
    "        self.X = np.array(X)\n",
    "        self.labels = sorted(set(Y))\n",
    "        self.y2index = {l: i for i, l in enumerate(self.labels)}\n",
    "        self.Y = np.array([self.y2index[y] for y in Y])\n",
    "        self.RAW = RAW\n",
    "    \n",
    "    def __len__(self):\n",
    "        'Denotes the total number of samples'\n",
    "        return len(self.X)\n",
    "    \n",
    "    def get_raw_item(self, index):\n",
    "        'Denotes the total number of samples'\n",
    "        return self.RAW[index]\n",
    "    \n",
    "    def get_labels(self):\n",
    "        return self.labels\n",
    "    \n",
    "    def get_Y(self):\n",
    "        return self.Y\n",
    "\n",
    "    def __getitem__(self, index):\n",
    "        'Generates one sample of data'\n",
    "        # Select sample\n",
    "        x = self.X[index] #.to('cuda') # [:voc_size]\n",
    "        y = self.Y[index]\n",
    "        \n",
    "        return x, y"
   ]
  },
  {
   "cell_type": "code",
   "execution_count": 13,
   "metadata": {},
   "outputs": [
    {
     "data": {
      "application/vnd.jupyter.widget-view+json": {
       "model_id": "e8918b8eb2434311b5e628a706283e37",
       "version_major": 2,
       "version_minor": 0
      },
      "text/plain": [
       "HBox(children=(FloatProgress(value=0.0, description='Loading split train', max=14041.0, style=ProgressStyle(de…"
      ]
     },
     "metadata": {},
     "output_type": "display_data"
    },
    {
     "name": "stdout",
     "output_type": "stream",
     "text": [
      "\n"
     ]
    },
    {
     "data": {
      "application/vnd.jupyter.widget-view+json": {
       "model_id": "a64bad1f7d764152b39b2cf90ad40922",
       "version_major": 2,
       "version_minor": 0
      },
      "text/plain": [
       "HBox(children=(FloatProgress(value=0.0, description='Loading split validation', max=3250.0, style=ProgressStyl…"
      ]
     },
     "metadata": {},
     "output_type": "display_data"
    },
    {
     "name": "stdout",
     "output_type": "stream",
     "text": [
      "\n"
     ]
    },
    {
     "data": {
      "application/vnd.jupyter.widget-view+json": {
       "model_id": "8cbe0a18891a433a91616744ff408859",
       "version_major": 2,
       "version_minor": 0
      },
      "text/plain": [
       "HBox(children=(FloatProgress(value=0.0, description='Loading split test', max=3453.0, style=ProgressStyle(desc…"
      ]
     },
     "metadata": {},
     "output_type": "display_data"
    },
    {
     "name": "stdout",
     "output_type": "stream",
     "text": [
      "\n"
     ]
    }
   ],
   "source": [
    "batch_size  = 64\n",
    "num_workers = 4\n",
    "embeddings_to_use = 'lle_svd'\n",
    "\n",
    "train_set = Dataset(conll_dataset, 'train', nodes_embeddings[embeddings_to_use])\n",
    "train_loader = DataLoader(train_set, batch_size=batch_size, num_workers=num_workers, shuffle=True) # , sampler=sampler) #\n",
    "\n",
    "dev_set = Dataset(conll_dataset, 'validation', nodes_embeddings[embeddings_to_use])\n",
    "dev_loader = DataLoader(dev_set, batch_size=batch_size, shuffle=True, num_workers=num_workers)\n",
    "\n",
    "test_set = Dataset(conll_dataset, 'test', nodes_embeddings[embeddings_to_use])\n",
    "test_loader = DataLoader(test_set, batch_size=batch_size, shuffle=False, num_workers=num_workers)"
   ]
  },
  {
   "cell_type": "code",
   "execution_count": 14,
   "metadata": {},
   "outputs": [],
   "source": [
    "labels = train_set.get_labels()\n",
    "label_counter   = Counter([labels[y] for y in train_set.get_Y()])\n",
    "labels_freqs    = [label_counter[label] / sum(label_counter.values()) for label in labels]\n",
    "labels_weights  = [min(label_counter.values()) / label_counter[label] for label in labels]\n",
    "labels_weights2 = [np.sqrt(min(label_counter.values())) / np.sqrt(label_counter[label]) for label in labels]\n",
    "\n",
    "# sampling_probs = [labels_weights2[labels_to_id[l]] for l in Y_train]\n",
    "# sampler = torch.utils.data.sampler.WeightedRandomSampler(sampling_probs, len(Y_train), replacement=True)"
   ]
  },
  {
   "cell_type": "code",
   "execution_count": 15,
   "metadata": {},
   "outputs": [
    {
     "data": {
      "text/plain": [
       "[0.7438616241144019,\n",
       " 1.0,\n",
       " 0.177263548574672,\n",
       " 0.6777425292081322,\n",
       " 0.6420761452814192]"
      ]
     },
     "execution_count": 15,
     "metadata": {},
     "output_type": "execute_result"
    }
   ],
   "source": [
    "labels_weights2"
   ]
  },
  {
   "cell_type": "code",
   "execution_count": 16,
   "metadata": {},
   "outputs": [
    {
     "data": {
      "text/plain": [
       "[0.04606261358647022,\n",
       " 0.025487831311239433,\n",
       " 0.8111366149981382,\n",
       " 0.05548855381845061,\n",
       " 0.06182438628570158]"
      ]
     },
     "execution_count": 16,
     "metadata": {},
     "output_type": "execute_result"
    }
   ],
   "source": [
    "labels_freqs"
   ]
  },
  {
   "cell_type": "code",
   "execution_count": 17,
   "metadata": {},
   "outputs": [
    {
     "data": {
      "text/plain": [
       "['LOC', 'MISC', 'O', 'ORG', 'PER']"
      ]
     },
     "execution_count": 17,
     "metadata": {},
     "output_type": "execute_result"
    }
   ],
   "source": [
    "labels"
   ]
  },
  {
   "cell_type": "code",
   "execution_count": 18,
   "metadata": {},
   "outputs": [
    {
     "name": "stdout",
     "output_type": "stream",
     "text": [
      "2812\n",
      "torch.Size([64, 1200])\n",
      "torch.Size([64])\n",
      "tensor(-0.2693, dtype=torch.float64)\n",
      "Class distribution in this batch: Counter({2: 49, 3: 6, 4: 6, 0: 2, 1: 1})\n",
      "time: 0.509s\n"
     ]
    }
   ],
   "source": [
    "t = time.time()\n",
    "print(len(train_loader))\n",
    "for batch_X, batch_Y in train_loader:\n",
    "    print(batch_X.shape)\n",
    "    print(batch_Y.shape)\n",
    "    print(sum(batch_X[0]))\n",
    "    print('Class distribution in this batch:', Counter(batch_Y.numpy()))\n",
    "    break\n",
    "print(f'time: {time.time() - t:.3}s')"
   ]
  },
  {
   "cell_type": "code",
   "execution_count": 19,
   "metadata": {},
   "outputs": [
    {
     "data": {
      "text/plain": [
       "('German',\n",
       " ['eu', 'rejects'],\n",
       " ['call', 'to'],\n",
       " ['<span>',\n",
       "  '<human>',\n",
       "  '<person>',\n",
       "  '<person_with_nationality>',\n",
       "  '<capitalized>'])"
      ]
     },
     "execution_count": 19,
     "metadata": {},
     "output_type": "execute_result"
    }
   ],
   "source": [
    "train_set.get_raw_item(2)"
   ]
  },
  {
   "cell_type": "markdown",
   "metadata": {},
   "source": [
    "# Training"
   ]
  },
  {
   "cell_type": "code",
   "execution_count": 20,
   "metadata": {},
   "outputs": [],
   "source": [
    "writer = SummaryWriter(log_dir=None,filename_suffix='secondattemptwithn2vembeddings')"
   ]
  },
  {
   "cell_type": "code",
   "execution_count": 21,
   "metadata": {},
   "outputs": [],
   "source": [
    "def backprop(batch_X, batch_Y, model, optimizer, loss_fn):\n",
    "    Y_hat = model(batch_X)\n",
    "    loss = loss_fn(Y_hat, batch_Y)\n",
    "    loss.backward()\n",
    "    optimizer.step()\n",
    "    \n",
    "    return loss.item()"
   ]
  },
  {
   "cell_type": "code",
   "execution_count": 22,
   "metadata": {},
   "outputs": [],
   "source": [
    "input_dim = 1200\n",
    "class FeedForwardNetwork(nn.Module):\n",
    "    def __init__(self, input_dim=input_dim, hidden_dim=512, output_dim=5, dropout_rate=0.2):\n",
    "        super().__init__()\n",
    "        self.fc1 = nn.Linear(input_dim, hidden_dim)\n",
    "        self.fch = nn.Linear(hidden_dim, hidden_dim)\n",
    "        self.fc2 = nn.Linear(hidden_dim, output_dim)\n",
    "        self.relu = nn.ReLU()\n",
    "\n",
    "        # extra layers layers\n",
    "        self.dropout = nn.Dropout(p=dropout_rate)\n",
    "        # self.batchnorm1 = nn.BatchNorm1d(hidden_dim)\n",
    "        # self.batchnorm2 = nn.BatchNorm1d(hidden_dim)\n",
    "\n",
    "        \n",
    "    def forward(self, x):\n",
    "        x = self.fc1(x)\n",
    "        x = self.relu(x)\n",
    "        x = self.dropout(x)\n",
    "        x = self.fch(x)\n",
    "        x = self.relu(x)\n",
    "        x = self.dropout(x)\n",
    "        #x = self.fch2(x)\n",
    "        # x = self.dropout(x)\n",
    "        # x = self.relu(x)\n",
    "        logits = self.fc2(x)\n",
    "\n",
    "        return logits"
   ]
  },
  {
   "cell_type": "code",
   "execution_count": 23,
   "metadata": {},
   "outputs": [],
   "source": [
    "logs = {'loss/train': {}, 'dev': {}}"
   ]
  },
  {
   "cell_type": "code",
   "execution_count": 24,
   "metadata": {},
   "outputs": [],
   "source": [
    "ffnet = FeedForwardNetwork().to('cuda')"
   ]
  },
  {
   "cell_type": "code",
   "execution_count": 25,
   "metadata": {},
   "outputs": [
    {
     "data": {
      "text/plain": [
       "tensor([0.7439, 1.0000, 0.1773, 0.6777, 0.6421], device='cuda:0')"
      ]
     },
     "execution_count": 25,
     "metadata": {},
     "output_type": "execute_result"
    }
   ],
   "source": [
    "log_interval = int(len(train_loader) / 4)\n",
    "weights = torch.Tensor(labels_weights2).to('cuda')\n",
    "weights"
   ]
  },
  {
   "cell_type": "code",
   "execution_count": 26,
   "metadata": {},
   "outputs": [],
   "source": [
    "optimizer_params = {'lr': 1e-4, \n",
    "                    'momentum': 0.9, \n",
    "                    'weight_decay': 5e-4,\n",
    "                   }\n",
    "\n",
    "loss_fn = nn.CrossEntropyLoss(weight=weights)\n",
    "optimizer = torch.optim.SGD(ffnet.parameters(), **optimizer_params)"
   ]
  },
  {
   "cell_type": "code",
   "execution_count": 27,
   "metadata": {
    "scrolled": false
   },
   "outputs": [
    {
     "name": "stdout",
     "output_type": "stream",
     "text": [
      "Epoch 0\n"
     ]
    },
    {
     "data": {
      "application/vnd.jupyter.widget-view+json": {
       "model_id": "85303ab06013402eacd20c4fa8bb2f6a",
       "version_major": 2,
       "version_minor": 0
      },
      "text/plain": [
       "HBox(children=(FloatProgress(value=0.0, max=2812.0), HTML(value='')))"
      ]
     },
     "metadata": {},
     "output_type": "display_data"
    },
    {
     "name": "stdout",
     "output_type": "stream",
     "text": [
      "Train Epoch: 0 [0/179929 (0%)]\tLoss: 1.601018\n",
      "Train Epoch: 0 [44992/179929 (25%)]\tLoss: 1.470692\n",
      "Train Epoch: 0 [89984/179929 (50%)]\tLoss: 1.418622\n",
      "Train Epoch: 0 [134976/179929 (75%)]\tLoss: 1.269523\n",
      "\n",
      "Average loss on epoch 0: 1.4497832432919173\n"
     ]
    },
    {
     "data": {
      "application/vnd.jupyter.widget-view+json": {
       "model_id": "bb2e8de7e02c470084367c6fbe692805",
       "version_major": 2,
       "version_minor": 0
      },
      "text/plain": [
       "HBox(children=(FloatProgress(value=0.0, max=707.0), HTML(value='')))"
      ]
     },
     "metadata": {},
     "output_type": "display_data"
    },
    {
     "name": "stdout",
     "output_type": "stream",
     "text": [
      "\n"
     ]
    },
    {
     "name": "stderr",
     "output_type": "stream",
     "text": [
      "/home/semantic/.conda/envs/ismail-transformers/lib/python3.8/site-packages/sklearn/metrics/_classification.py:1272: UndefinedMetricWarning: Recall and F-score are ill-defined and being set to 0.0 in labels with no true samples. Use `zero_division` parameter to control this behavior.\n",
      "  _warn_prf(average, modifier, msg_start, len(result))\n"
     ]
    },
    {
     "name": "stdout",
     "output_type": "stream",
     "text": [
      "              precision    recall  f1-score   support\n",
      "\n",
      "           0     0.0000    0.0000    0.0000         0\n",
      "           1     0.0000    0.0000    0.0000         0\n",
      "           2     1.0000    0.8107    0.8955     45224\n",
      "           3     0.0000    0.0000    0.0000         0\n",
      "           4     0.0000    0.0000    0.0000         0\n",
      "\n",
      "    accuracy                         0.8107     45224\n",
      "   macro avg     0.2000    0.1621    0.1791     45224\n",
      "weighted avg     1.0000    0.8107    0.8955     45224\n",
      "\n",
      "Epoch 1\n"
     ]
    },
    {
     "data": {
      "application/vnd.jupyter.widget-view+json": {
       "model_id": "2d2fe52bf1a943ac8cdbf46d62279c2b",
       "version_major": 2,
       "version_minor": 0
      },
      "text/plain": [
       "HBox(children=(FloatProgress(value=0.0, max=2812.0), HTML(value='')))"
      ]
     },
     "metadata": {},
     "output_type": "display_data"
    },
    {
     "name": "stdout",
     "output_type": "stream",
     "text": [
      "Train Epoch: 1 [0/179929 (0%)]\tLoss: 1.378404\n",
      "Train Epoch: 1 [44992/179929 (25%)]\tLoss: 1.396066\n",
      "Train Epoch: 1 [89984/179929 (50%)]\tLoss: 1.335525\n",
      "Train Epoch: 1 [134976/179929 (75%)]\tLoss: 1.275741\n",
      "\n",
      "Average loss on epoch 1: 1.3581586841329572\n"
     ]
    },
    {
     "data": {
      "application/vnd.jupyter.widget-view+json": {
       "model_id": "535812c0167d43b6addad68f6f8f20a8",
       "version_major": 2,
       "version_minor": 0
      },
      "text/plain": [
       "HBox(children=(FloatProgress(value=0.0, max=707.0), HTML(value='')))"
      ]
     },
     "metadata": {},
     "output_type": "display_data"
    },
    {
     "name": "stdout",
     "output_type": "stream",
     "text": [
      "\n",
      "              precision    recall  f1-score   support\n",
      "\n",
      "           0     0.0000    0.0000    0.0000         0\n",
      "           1     0.0000    0.0000    0.0000         0\n",
      "           2     1.0000    0.8107    0.8955     45224\n",
      "           3     0.0000    0.0000    0.0000         0\n",
      "           4     0.0000    0.0000    0.0000         0\n",
      "\n",
      "    accuracy                         0.8107     45224\n",
      "   macro avg     0.2000    0.1621    0.1791     45224\n",
      "weighted avg     1.0000    0.8107    0.8955     45224\n",
      "\n",
      "Epoch 2\n"
     ]
    },
    {
     "data": {
      "application/vnd.jupyter.widget-view+json": {
       "model_id": "7ce0d7420a6543b7adc2a49dd4ef1f0a",
       "version_major": 2,
       "version_minor": 0
      },
      "text/plain": [
       "HBox(children=(FloatProgress(value=0.0, max=2812.0), HTML(value='')))"
      ]
     },
     "metadata": {},
     "output_type": "display_data"
    },
    {
     "name": "stdout",
     "output_type": "stream",
     "text": [
      "Train Epoch: 2 [0/179929 (0%)]\tLoss: 1.315575\n",
      "Train Epoch: 2 [44992/179929 (25%)]\tLoss: 1.389145\n",
      "Train Epoch: 2 [89984/179929 (50%)]\tLoss: 1.354072\n",
      "Train Epoch: 2 [134976/179929 (75%)]\tLoss: 1.374197\n",
      "\n",
      "Average loss on epoch 2: 1.3519120421552047\n"
     ]
    },
    {
     "data": {
      "application/vnd.jupyter.widget-view+json": {
       "model_id": "e688b08538594398b11d7237254d510f",
       "version_major": 2,
       "version_minor": 0
      },
      "text/plain": [
       "HBox(children=(FloatProgress(value=0.0, max=707.0), HTML(value='')))"
      ]
     },
     "metadata": {},
     "output_type": "display_data"
    },
    {
     "name": "stdout",
     "output_type": "stream",
     "text": [
      "\n",
      "              precision    recall  f1-score   support\n",
      "\n",
      "           0     0.0000    0.0000    0.0000         0\n",
      "           1     0.0000    0.0000    0.0000         0\n",
      "           2     1.0000    0.8107    0.8955     45224\n",
      "           3     0.0000    0.0000    0.0000         0\n",
      "           4     0.0000    0.0000    0.0000         0\n",
      "\n",
      "    accuracy                         0.8107     45224\n",
      "   macro avg     0.2000    0.1621    0.1791     45224\n",
      "weighted avg     1.0000    0.8107    0.8955     45224\n",
      "\n",
      "Epoch 3\n"
     ]
    },
    {
     "data": {
      "application/vnd.jupyter.widget-view+json": {
       "model_id": "fdcff19a76b442eeafff74c534bd3d5c",
       "version_major": 2,
       "version_minor": 0
      },
      "text/plain": [
       "HBox(children=(FloatProgress(value=0.0, max=2812.0), HTML(value='')))"
      ]
     },
     "metadata": {},
     "output_type": "display_data"
    },
    {
     "name": "stdout",
     "output_type": "stream",
     "text": [
      "Train Epoch: 3 [0/179929 (0%)]\tLoss: 1.348737\n",
      "Train Epoch: 3 [44992/179929 (25%)]\tLoss: 1.483072\n",
      "Train Epoch: 3 [89984/179929 (50%)]\tLoss: 1.435411\n",
      "Train Epoch: 3 [134976/179929 (75%)]\tLoss: 1.146219\n",
      "\n",
      "Average loss on epoch 3: 1.3508673601732146\n"
     ]
    },
    {
     "data": {
      "application/vnd.jupyter.widget-view+json": {
       "model_id": "90d81c7716fc4ddfabd2eb87105a7512",
       "version_major": 2,
       "version_minor": 0
      },
      "text/plain": [
       "HBox(children=(FloatProgress(value=0.0, max=707.0), HTML(value='')))"
      ]
     },
     "metadata": {},
     "output_type": "display_data"
    },
    {
     "name": "stdout",
     "output_type": "stream",
     "text": [
      "\n",
      "              precision    recall  f1-score   support\n",
      "\n",
      "           0     0.0000    0.0000    0.0000         0\n",
      "           1     0.0000    0.0000    0.0000         0\n",
      "           2     1.0000    0.8107    0.8955     45224\n",
      "           3     0.0000    0.0000    0.0000         0\n",
      "           4     0.0000    0.0000    0.0000         0\n",
      "\n",
      "    accuracy                         0.8107     45224\n",
      "   macro avg     0.2000    0.1621    0.1791     45224\n",
      "weighted avg     1.0000    0.8107    0.8955     45224\n",
      "\n",
      "Epoch 4\n"
     ]
    },
    {
     "data": {
      "application/vnd.jupyter.widget-view+json": {
       "model_id": "12fc15ca66694bc38a15cea68ca2511e",
       "version_major": 2,
       "version_minor": 0
      },
      "text/plain": [
       "HBox(children=(FloatProgress(value=0.0, max=2812.0), HTML(value='')))"
      ]
     },
     "metadata": {},
     "output_type": "display_data"
    },
    {
     "name": "stdout",
     "output_type": "stream",
     "text": [
      "Train Epoch: 4 [0/179929 (0%)]\tLoss: 1.262995\n",
      "Train Epoch: 4 [44992/179929 (25%)]\tLoss: 1.428013\n",
      "Train Epoch: 4 [89984/179929 (50%)]\tLoss: 1.408600\n",
      "Train Epoch: 4 [134976/179929 (75%)]\tLoss: 1.245761\n",
      "\n",
      "Average loss on epoch 4: 1.3517795719980006\n"
     ]
    },
    {
     "data": {
      "application/vnd.jupyter.widget-view+json": {
       "model_id": "417ced21ace84339bf8c2798e0ae915b",
       "version_major": 2,
       "version_minor": 0
      },
      "text/plain": [
       "HBox(children=(FloatProgress(value=0.0, max=707.0), HTML(value='')))"
      ]
     },
     "metadata": {},
     "output_type": "display_data"
    },
    {
     "name": "stdout",
     "output_type": "stream",
     "text": [
      "\n",
      "              precision    recall  f1-score   support\n",
      "\n",
      "           0     0.0000    0.0000    0.0000         0\n",
      "           1     0.0000    0.0000    0.0000         0\n",
      "           2     1.0000    0.8107    0.8955     45224\n",
      "           3     0.0000    0.0000    0.0000         0\n",
      "           4     0.0000    0.0000    0.0000         0\n",
      "\n",
      "    accuracy                         0.8107     45224\n",
      "   macro avg     0.2000    0.1621    0.1791     45224\n",
      "weighted avg     1.0000    0.8107    0.8955     45224\n",
      "\n",
      "Epoch 5\n"
     ]
    },
    {
     "data": {
      "application/vnd.jupyter.widget-view+json": {
       "model_id": "57cba3d86fe34267bb0568e98eb343de",
       "version_major": 2,
       "version_minor": 0
      },
      "text/plain": [
       "HBox(children=(FloatProgress(value=0.0, max=2812.0), HTML(value='')))"
      ]
     },
     "metadata": {},
     "output_type": "display_data"
    },
    {
     "name": "stdout",
     "output_type": "stream",
     "text": [
      "Train Epoch: 5 [0/179929 (0%)]\tLoss: 1.264017\n",
      "Train Epoch: 5 [44992/179929 (25%)]\tLoss: 1.287952\n",
      "Train Epoch: 5 [89984/179929 (50%)]\tLoss: 1.466042\n",
      "Train Epoch: 5 [134976/179929 (75%)]\tLoss: 1.419959\n",
      "\n",
      "Average loss on epoch 5: 1.3511112738681552\n"
     ]
    },
    {
     "data": {
      "application/vnd.jupyter.widget-view+json": {
       "model_id": "cfeae9726229435099e2b6549514ef79",
       "version_major": 2,
       "version_minor": 0
      },
      "text/plain": [
       "HBox(children=(FloatProgress(value=0.0, max=707.0), HTML(value='')))"
      ]
     },
     "metadata": {},
     "output_type": "display_data"
    },
    {
     "name": "stdout",
     "output_type": "stream",
     "text": [
      "\n",
      "              precision    recall  f1-score   support\n",
      "\n",
      "           0     0.0000    0.0000    0.0000         0\n",
      "           1     0.0000    0.0000    0.0000         0\n",
      "           2     1.0000    0.8107    0.8955     45224\n",
      "           3     0.0000    0.0000    0.0000         0\n",
      "           4     0.0000    0.0000    0.0000         0\n",
      "\n",
      "    accuracy                         0.8107     45224\n",
      "   macro avg     0.2000    0.1621    0.1791     45224\n",
      "weighted avg     1.0000    0.8107    0.8955     45224\n",
      "\n",
      "Epoch 6\n"
     ]
    },
    {
     "data": {
      "application/vnd.jupyter.widget-view+json": {
       "model_id": "9678368c70e746a9a88a8860f081c415",
       "version_major": 2,
       "version_minor": 0
      },
      "text/plain": [
       "HBox(children=(FloatProgress(value=0.0, max=2812.0), HTML(value='')))"
      ]
     },
     "metadata": {},
     "output_type": "display_data"
    },
    {
     "name": "stdout",
     "output_type": "stream",
     "text": [
      "Train Epoch: 6 [0/179929 (0%)]\tLoss: 1.367157\n",
      "Train Epoch: 6 [44992/179929 (25%)]\tLoss: 1.316074\n",
      "Train Epoch: 6 [89984/179929 (50%)]\tLoss: 1.499252\n",
      "Train Epoch: 6 [134976/179929 (75%)]\tLoss: 1.334335\n",
      "\n",
      "Average loss on epoch 6: 1.3503657317644842\n"
     ]
    },
    {
     "data": {
      "application/vnd.jupyter.widget-view+json": {
       "model_id": "3d5e0bf9574944328f62285eb4214dcd",
       "version_major": 2,
       "version_minor": 0
      },
      "text/plain": [
       "HBox(children=(FloatProgress(value=0.0, max=707.0), HTML(value='')))"
      ]
     },
     "metadata": {},
     "output_type": "display_data"
    },
    {
     "name": "stdout",
     "output_type": "stream",
     "text": [
      "\n",
      "              precision    recall  f1-score   support\n",
      "\n",
      "           0     0.0000    0.0000    0.0000         0\n",
      "           1     0.0000    0.0000    0.0000         0\n",
      "           2     1.0000    0.8107    0.8955     45224\n",
      "           3     0.0000    0.0000    0.0000         0\n",
      "           4     0.0000    0.0000    0.0000         0\n",
      "\n",
      "    accuracy                         0.8107     45224\n",
      "   macro avg     0.2000    0.1621    0.1791     45224\n",
      "weighted avg     1.0000    0.8107    0.8955     45224\n",
      "\n",
      "Epoch 7\n"
     ]
    },
    {
     "data": {
      "application/vnd.jupyter.widget-view+json": {
       "model_id": "cc5144f3c35d4e22a5678fb10f0f0e0e",
       "version_major": 2,
       "version_minor": 0
      },
      "text/plain": [
       "HBox(children=(FloatProgress(value=0.0, max=2812.0), HTML(value='')))"
      ]
     },
     "metadata": {},
     "output_type": "display_data"
    },
    {
     "name": "stdout",
     "output_type": "stream",
     "text": [
      "Train Epoch: 7 [0/179929 (0%)]\tLoss: 1.368148\n",
      "Train Epoch: 7 [44992/179929 (25%)]\tLoss: 1.219861\n",
      "Train Epoch: 7 [89984/179929 (50%)]\tLoss: 1.092647\n",
      "Train Epoch: 7 [134976/179929 (75%)]\tLoss: 1.047494\n",
      "\n",
      "Average loss on epoch 7: 1.3503016230264735\n"
     ]
    },
    {
     "data": {
      "application/vnd.jupyter.widget-view+json": {
       "model_id": "99c54075b354499ebe1caba7b980462c",
       "version_major": 2,
       "version_minor": 0
      },
      "text/plain": [
       "HBox(children=(FloatProgress(value=0.0, max=707.0), HTML(value='')))"
      ]
     },
     "metadata": {},
     "output_type": "display_data"
    },
    {
     "name": "stdout",
     "output_type": "stream",
     "text": [
      "\n",
      "              precision    recall  f1-score   support\n",
      "\n",
      "           0     0.0000    0.0000    0.0000         0\n",
      "           1     0.0000    0.0000    0.0000         0\n",
      "           2     1.0000    0.8107    0.8955     45224\n",
      "           3     0.0000    0.0000    0.0000         0\n",
      "           4     0.0000    0.0000    0.0000         0\n",
      "\n",
      "    accuracy                         0.8107     45224\n",
      "   macro avg     0.2000    0.1621    0.1791     45224\n",
      "weighted avg     1.0000    0.8107    0.8955     45224\n",
      "\n",
      "Epoch 8\n"
     ]
    },
    {
     "data": {
      "application/vnd.jupyter.widget-view+json": {
       "model_id": "9b29037fe5fc44d486527480c8b3a9f1",
       "version_major": 2,
       "version_minor": 0
      },
      "text/plain": [
       "HBox(children=(FloatProgress(value=0.0, max=2812.0), HTML(value='')))"
      ]
     },
     "metadata": {},
     "output_type": "display_data"
    },
    {
     "name": "stdout",
     "output_type": "stream",
     "text": [
      "Train Epoch: 8 [0/179929 (0%)]\tLoss: 1.177763\n",
      "Train Epoch: 8 [44992/179929 (25%)]\tLoss: 1.397200\n",
      "Train Epoch: 8 [89984/179929 (50%)]\tLoss: 1.023710\n",
      "Train Epoch: 8 [134976/179929 (75%)]\tLoss: 1.046440\n",
      "\n",
      "Average loss on epoch 8: 1.3507668593445339\n"
     ]
    },
    {
     "data": {
      "application/vnd.jupyter.widget-view+json": {
       "model_id": "ba239d38d8f948b6818df7df10f3ab8e",
       "version_major": 2,
       "version_minor": 0
      },
      "text/plain": [
       "HBox(children=(FloatProgress(value=0.0, max=707.0), HTML(value='')))"
      ]
     },
     "metadata": {},
     "output_type": "display_data"
    },
    {
     "name": "stdout",
     "output_type": "stream",
     "text": [
      "\n",
      "              precision    recall  f1-score   support\n",
      "\n",
      "           0     0.0000    0.0000    0.0000         0\n",
      "           1     0.0000    0.0000    0.0000         0\n",
      "           2     1.0000    0.8107    0.8955     45224\n",
      "           3     0.0000    0.0000    0.0000         0\n",
      "           4     0.0000    0.0000    0.0000         0\n",
      "\n",
      "    accuracy                         0.8107     45224\n",
      "   macro avg     0.2000    0.1621    0.1791     45224\n",
      "weighted avg     1.0000    0.8107    0.8955     45224\n",
      "\n",
      "Epoch 9\n"
     ]
    },
    {
     "data": {
      "application/vnd.jupyter.widget-view+json": {
       "model_id": "15779f1ad2644d4c9233f44b6ecff926",
       "version_major": 2,
       "version_minor": 0
      },
      "text/plain": [
       "HBox(children=(FloatProgress(value=0.0, max=2812.0), HTML(value='')))"
      ]
     },
     "metadata": {},
     "output_type": "display_data"
    },
    {
     "name": "stdout",
     "output_type": "stream",
     "text": [
      "Train Epoch: 9 [0/179929 (0%)]\tLoss: 1.277160\n",
      "Train Epoch: 9 [44992/179929 (25%)]\tLoss: 1.337129\n",
      "Train Epoch: 9 [89984/179929 (50%)]\tLoss: 1.320876\n",
      "Train Epoch: 9 [134976/179929 (75%)]\tLoss: 1.413767\n",
      "\n",
      "Average loss on epoch 9: 1.3505865182001595\n"
     ]
    },
    {
     "data": {
      "application/vnd.jupyter.widget-view+json": {
       "model_id": "c1984bf28cbe460e9d2428e21203cec5",
       "version_major": 2,
       "version_minor": 0
      },
      "text/plain": [
       "HBox(children=(FloatProgress(value=0.0, max=707.0), HTML(value='')))"
      ]
     },
     "metadata": {},
     "output_type": "display_data"
    },
    {
     "name": "stdout",
     "output_type": "stream",
     "text": [
      "\n",
      "              precision    recall  f1-score   support\n",
      "\n",
      "           0     0.0000    0.0000    0.0000         0\n",
      "           1     0.0000    0.0000    0.0000         0\n",
      "           2     1.0000    0.8107    0.8955     45224\n",
      "           3     0.0000    0.0000    0.0000         0\n",
      "           4     0.0000    0.0000    0.0000         0\n",
      "\n",
      "    accuracy                         0.8107     45224\n",
      "   macro avg     0.2000    0.1621    0.1791     45224\n",
      "weighted avg     1.0000    0.8107    0.8955     45224\n",
      "\n",
      "Epoch 10\n"
     ]
    },
    {
     "data": {
      "application/vnd.jupyter.widget-view+json": {
       "model_id": "3e06b282641b47c69fc307e8685e4cef",
       "version_major": 2,
       "version_minor": 0
      },
      "text/plain": [
       "HBox(children=(FloatProgress(value=0.0, max=2812.0), HTML(value='')))"
      ]
     },
     "metadata": {},
     "output_type": "display_data"
    },
    {
     "name": "stdout",
     "output_type": "stream",
     "text": [
      "Train Epoch: 10 [0/179929 (0%)]\tLoss: 1.533309\n",
      "Train Epoch: 10 [44992/179929 (25%)]\tLoss: 1.471398\n",
      "Train Epoch: 10 [89984/179929 (50%)]\tLoss: 1.146033\n",
      "Train Epoch: 10 [134976/179929 (75%)]\tLoss: 1.414345\n",
      "\n",
      "Average loss on epoch 10: 1.350439735933354\n"
     ]
    },
    {
     "data": {
      "application/vnd.jupyter.widget-view+json": {
       "model_id": "fa81aea4e8eb4a3c8114189b454e737e",
       "version_major": 2,
       "version_minor": 0
      },
      "text/plain": [
       "HBox(children=(FloatProgress(value=0.0, max=707.0), HTML(value='')))"
      ]
     },
     "metadata": {},
     "output_type": "display_data"
    },
    {
     "name": "stdout",
     "output_type": "stream",
     "text": [
      "\n",
      "              precision    recall  f1-score   support\n",
      "\n",
      "           0     0.0000    0.0000    0.0000         0\n",
      "           1     0.0000    0.0000    0.0000         0\n",
      "           2     1.0000    0.8107    0.8955     45224\n",
      "           3     0.0000    0.0000    0.0000         0\n",
      "           4     0.0000    0.0000    0.0000         0\n",
      "\n",
      "    accuracy                         0.8107     45224\n",
      "   macro avg     0.2000    0.1621    0.1791     45224\n",
      "weighted avg     1.0000    0.8107    0.8955     45224\n",
      "\n",
      "Epoch 11\n"
     ]
    },
    {
     "data": {
      "application/vnd.jupyter.widget-view+json": {
       "model_id": "816a624738e640019533f2c620415137",
       "version_major": 2,
       "version_minor": 0
      },
      "text/plain": [
       "HBox(children=(FloatProgress(value=0.0, max=2812.0), HTML(value='')))"
      ]
     },
     "metadata": {},
     "output_type": "display_data"
    },
    {
     "name": "stdout",
     "output_type": "stream",
     "text": [
      "Train Epoch: 11 [0/179929 (0%)]\tLoss: 1.419454\n",
      "Train Epoch: 11 [44992/179929 (25%)]\tLoss: 1.551579\n",
      "Train Epoch: 11 [89984/179929 (50%)]\tLoss: 1.323965\n",
      "Train Epoch: 11 [134976/179929 (75%)]\tLoss: 1.465575\n",
      "\n",
      "Average loss on epoch 11: 1.3503955516375994\n"
     ]
    },
    {
     "data": {
      "application/vnd.jupyter.widget-view+json": {
       "model_id": "7147d608a08245b285b12aa5f7870210",
       "version_major": 2,
       "version_minor": 0
      },
      "text/plain": [
       "HBox(children=(FloatProgress(value=0.0, max=707.0), HTML(value='')))"
      ]
     },
     "metadata": {},
     "output_type": "display_data"
    },
    {
     "name": "stdout",
     "output_type": "stream",
     "text": [
      "\n",
      "              precision    recall  f1-score   support\n",
      "\n",
      "           0     0.0000    0.0000    0.0000         0\n",
      "           1     0.0000    0.0000    0.0000         0\n",
      "           2     1.0000    0.8107    0.8955     45224\n",
      "           3     0.0000    0.0000    0.0000         0\n",
      "           4     0.0000    0.0000    0.0000         0\n",
      "\n",
      "    accuracy                         0.8107     45224\n",
      "   macro avg     0.2000    0.1621    0.1791     45224\n",
      "weighted avg     1.0000    0.8107    0.8955     45224\n",
      "\n",
      "Epoch 12\n"
     ]
    },
    {
     "data": {
      "application/vnd.jupyter.widget-view+json": {
       "model_id": "4b793f95b82d45b6b1b9730639bea5c5",
       "version_major": 2,
       "version_minor": 0
      },
      "text/plain": [
       "HBox(children=(FloatProgress(value=0.0, max=2812.0), HTML(value='')))"
      ]
     },
     "metadata": {},
     "output_type": "display_data"
    },
    {
     "name": "stdout",
     "output_type": "stream",
     "text": [
      "Train Epoch: 12 [0/179929 (0%)]\tLoss: 1.395764\n",
      "Train Epoch: 12 [44992/179929 (25%)]\tLoss: 1.433289\n",
      "Train Epoch: 12 [89984/179929 (50%)]\tLoss: 1.467705\n",
      "Train Epoch: 12 [134976/179929 (75%)]\tLoss: 1.224051\n",
      "\n",
      "Average loss on epoch 12: 1.3504040157515158\n"
     ]
    },
    {
     "data": {
      "application/vnd.jupyter.widget-view+json": {
       "model_id": "497aab79cc554e4e9ba10308344b3fda",
       "version_major": 2,
       "version_minor": 0
      },
      "text/plain": [
       "HBox(children=(FloatProgress(value=0.0, max=707.0), HTML(value='')))"
      ]
     },
     "metadata": {},
     "output_type": "display_data"
    },
    {
     "name": "stdout",
     "output_type": "stream",
     "text": [
      "\n",
      "              precision    recall  f1-score   support\n",
      "\n",
      "           0     0.0000    0.0000    0.0000         0\n",
      "           1     0.0000    0.0000    0.0000         0\n",
      "           2     1.0000    0.8107    0.8955     45224\n",
      "           3     0.0000    0.0000    0.0000         0\n",
      "           4     0.0000    0.0000    0.0000         0\n",
      "\n",
      "    accuracy                         0.8107     45224\n",
      "   macro avg     0.2000    0.1621    0.1791     45224\n",
      "weighted avg     1.0000    0.8107    0.8955     45224\n",
      "\n",
      "Epoch 13\n"
     ]
    },
    {
     "data": {
      "application/vnd.jupyter.widget-view+json": {
       "model_id": "7e40721f9393442babe8d215dcab8fc2",
       "version_major": 2,
       "version_minor": 0
      },
      "text/plain": [
       "HBox(children=(FloatProgress(value=0.0, max=2812.0), HTML(value='')))"
      ]
     },
     "metadata": {},
     "output_type": "display_data"
    },
    {
     "name": "stdout",
     "output_type": "stream",
     "text": [
      "Train Epoch: 13 [0/179929 (0%)]\tLoss: 1.462169\n",
      "Train Epoch: 13 [44992/179929 (25%)]\tLoss: 1.216485\n",
      "Train Epoch: 13 [89984/179929 (50%)]\tLoss: 1.348727\n",
      "Train Epoch: 13 [134976/179929 (75%)]\tLoss: 1.244478\n",
      "\n",
      "Average loss on epoch 13: 1.3503890950047275\n"
     ]
    },
    {
     "data": {
      "application/vnd.jupyter.widget-view+json": {
       "model_id": "cd11983796bf4a29919a2906ae32f31b",
       "version_major": 2,
       "version_minor": 0
      },
      "text/plain": [
       "HBox(children=(FloatProgress(value=0.0, max=707.0), HTML(value='')))"
      ]
     },
     "metadata": {},
     "output_type": "display_data"
    },
    {
     "name": "stdout",
     "output_type": "stream",
     "text": [
      "\n",
      "              precision    recall  f1-score   support\n",
      "\n",
      "           0     0.0000    0.0000    0.0000         0\n",
      "           1     0.0000    0.0000    0.0000         0\n",
      "           2     1.0000    0.8107    0.8955     45224\n",
      "           3     0.0000    0.0000    0.0000         0\n",
      "           4     0.0000    0.0000    0.0000         0\n",
      "\n",
      "    accuracy                         0.8107     45224\n",
      "   macro avg     0.2000    0.1621    0.1791     45224\n",
      "weighted avg     1.0000    0.8107    0.8955     45224\n",
      "\n",
      "Epoch 14\n"
     ]
    },
    {
     "data": {
      "application/vnd.jupyter.widget-view+json": {
       "model_id": "d4f8ec8d7bef496fb6810ae26124beeb",
       "version_major": 2,
       "version_minor": 0
      },
      "text/plain": [
       "HBox(children=(FloatProgress(value=0.0, max=2812.0), HTML(value='')))"
      ]
     },
     "metadata": {},
     "output_type": "display_data"
    },
    {
     "name": "stdout",
     "output_type": "stream",
     "text": [
      "Train Epoch: 14 [0/179929 (0%)]\tLoss: 1.248250\n",
      "Train Epoch: 14 [44992/179929 (25%)]\tLoss: 1.382174\n",
      "Train Epoch: 14 [89984/179929 (50%)]\tLoss: 1.116131\n",
      "Train Epoch: 14 [134976/179929 (75%)]\tLoss: 1.461494\n",
      "\n",
      "Average loss on epoch 14: 1.3506880231720964\n"
     ]
    },
    {
     "data": {
      "application/vnd.jupyter.widget-view+json": {
       "model_id": "6ed4082e5c794bbcace811058ffa0528",
       "version_major": 2,
       "version_minor": 0
      },
      "text/plain": [
       "HBox(children=(FloatProgress(value=0.0, max=707.0), HTML(value='')))"
      ]
     },
     "metadata": {},
     "output_type": "display_data"
    },
    {
     "name": "stdout",
     "output_type": "stream",
     "text": [
      "\n",
      "              precision    recall  f1-score   support\n",
      "\n",
      "           0     0.0000    0.0000    0.0000         0\n",
      "           1     0.0000    0.0000    0.0000         0\n",
      "           2     1.0000    0.8107    0.8955     45224\n",
      "           3     0.0000    0.0000    0.0000         0\n",
      "           4     0.0000    0.0000    0.0000         0\n",
      "\n",
      "    accuracy                         0.8107     45224\n",
      "   macro avg     0.2000    0.1621    0.1791     45224\n",
      "weighted avg     1.0000    0.8107    0.8955     45224\n",
      "\n",
      "Epoch 15\n"
     ]
    },
    {
     "data": {
      "application/vnd.jupyter.widget-view+json": {
       "model_id": "d566c3b57cc546aba8fb5a0ecb2581fe",
       "version_major": 2,
       "version_minor": 0
      },
      "text/plain": [
       "HBox(children=(FloatProgress(value=0.0, max=2812.0), HTML(value='')))"
      ]
     },
     "metadata": {},
     "output_type": "display_data"
    },
    {
     "name": "stdout",
     "output_type": "stream",
     "text": [
      "Train Epoch: 15 [0/179929 (0%)]\tLoss: 1.244531\n",
      "Train Epoch: 15 [44992/179929 (25%)]\tLoss: 1.396393\n",
      "Train Epoch: 15 [89984/179929 (50%)]\tLoss: 1.352481\n",
      "Train Epoch: 15 [134976/179929 (75%)]\tLoss: 1.180339\n",
      "\n",
      "Average loss on epoch 15: 1.3503088406571961\n"
     ]
    },
    {
     "data": {
      "application/vnd.jupyter.widget-view+json": {
       "model_id": "db9139e39fa14b0aae11ce501266fa0d",
       "version_major": 2,
       "version_minor": 0
      },
      "text/plain": [
       "HBox(children=(FloatProgress(value=0.0, max=707.0), HTML(value='')))"
      ]
     },
     "metadata": {},
     "output_type": "display_data"
    },
    {
     "name": "stdout",
     "output_type": "stream",
     "text": [
      "\n",
      "              precision    recall  f1-score   support\n",
      "\n",
      "           0     0.0000    0.0000    0.0000         0\n",
      "           1     0.0000    0.0000    0.0000         0\n",
      "           2     1.0000    0.8107    0.8955     45224\n",
      "           3     0.0000    0.0000    0.0000         0\n",
      "           4     0.0000    0.0000    0.0000         0\n",
      "\n",
      "    accuracy                         0.8107     45224\n",
      "   macro avg     0.2000    0.1621    0.1791     45224\n",
      "weighted avg     1.0000    0.8107    0.8955     45224\n",
      "\n",
      "Epoch 16\n"
     ]
    },
    {
     "data": {
      "application/vnd.jupyter.widget-view+json": {
       "model_id": "4b52281a96454c3a817df3573f474867",
       "version_major": 2,
       "version_minor": 0
      },
      "text/plain": [
       "HBox(children=(FloatProgress(value=0.0, max=2812.0), HTML(value='')))"
      ]
     },
     "metadata": {},
     "output_type": "display_data"
    },
    {
     "name": "stdout",
     "output_type": "stream",
     "text": [
      "Train Epoch: 16 [0/179929 (0%)]\tLoss: 1.281844\n",
      "Train Epoch: 16 [44992/179929 (25%)]\tLoss: 1.319911\n",
      "Train Epoch: 16 [89984/179929 (50%)]\tLoss: 1.247517\n",
      "Train Epoch: 16 [134976/179929 (75%)]\tLoss: 1.241802\n",
      "\n",
      "Average loss on epoch 16: 1.349661894873908\n"
     ]
    },
    {
     "data": {
      "application/vnd.jupyter.widget-view+json": {
       "model_id": "696280d949a949468269db8f5bdd805c",
       "version_major": 2,
       "version_minor": 0
      },
      "text/plain": [
       "HBox(children=(FloatProgress(value=0.0, max=707.0), HTML(value='')))"
      ]
     },
     "metadata": {},
     "output_type": "display_data"
    },
    {
     "name": "stdout",
     "output_type": "stream",
     "text": [
      "\n",
      "              precision    recall  f1-score   support\n",
      "\n",
      "           0     0.0000    0.0000    0.0000         0\n",
      "           1     0.0000    0.0000    0.0000         0\n",
      "           2     1.0000    0.8107    0.8955     45224\n",
      "           3     0.0000    0.0000    0.0000         0\n",
      "           4     0.0000    0.0000    0.0000         0\n",
      "\n",
      "    accuracy                         0.8107     45224\n",
      "   macro avg     0.2000    0.1621    0.1791     45224\n",
      "weighted avg     1.0000    0.8107    0.8955     45224\n",
      "\n",
      "Epoch 17\n"
     ]
    },
    {
     "data": {
      "application/vnd.jupyter.widget-view+json": {
       "model_id": "a8e2d1ee45b64787b5b4b51eb8af3eb0",
       "version_major": 2,
       "version_minor": 0
      },
      "text/plain": [
       "HBox(children=(FloatProgress(value=0.0, max=2812.0), HTML(value='')))"
      ]
     },
     "metadata": {},
     "output_type": "display_data"
    },
    {
     "name": "stdout",
     "output_type": "stream",
     "text": [
      "Train Epoch: 17 [0/179929 (0%)]\tLoss: 1.450841\n",
      "Train Epoch: 17 [44992/179929 (25%)]\tLoss: 1.507104\n",
      "Train Epoch: 17 [89984/179929 (50%)]\tLoss: 1.372134\n",
      "Train Epoch: 17 [134976/179929 (75%)]\tLoss: 1.451664\n",
      "\n",
      "Average loss on epoch 17: 1.3499271386166556\n"
     ]
    },
    {
     "data": {
      "application/vnd.jupyter.widget-view+json": {
       "model_id": "ff01b532286b44e3bad2115190a192e9",
       "version_major": 2,
       "version_minor": 0
      },
      "text/plain": [
       "HBox(children=(FloatProgress(value=0.0, max=707.0), HTML(value='')))"
      ]
     },
     "metadata": {},
     "output_type": "display_data"
    },
    {
     "name": "stdout",
     "output_type": "stream",
     "text": [
      "\n",
      "              precision    recall  f1-score   support\n",
      "\n",
      "           0     0.0000    0.0000    0.0000         0\n",
      "           1     0.0000    0.0000    0.0000         0\n",
      "           2     1.0000    0.8107    0.8955     45224\n",
      "           3     0.0000    0.0000    0.0000         0\n",
      "           4     0.0000    0.0000    0.0000         0\n",
      "\n",
      "    accuracy                         0.8107     45224\n",
      "   macro avg     0.2000    0.1621    0.1791     45224\n",
      "weighted avg     1.0000    0.8107    0.8955     45224\n",
      "\n",
      "Epoch 18\n"
     ]
    },
    {
     "data": {
      "application/vnd.jupyter.widget-view+json": {
       "model_id": "b27dbdc09f474612bcbbbb317f2db7fc",
       "version_major": 2,
       "version_minor": 0
      },
      "text/plain": [
       "HBox(children=(FloatProgress(value=0.0, max=2812.0), HTML(value='')))"
      ]
     },
     "metadata": {},
     "output_type": "display_data"
    },
    {
     "name": "stdout",
     "output_type": "stream",
     "text": [
      "Train Epoch: 18 [0/179929 (0%)]\tLoss: 1.132789\n",
      "Train Epoch: 18 [44992/179929 (25%)]\tLoss: 1.125836\n",
      "Train Epoch: 18 [89984/179929 (50%)]\tLoss: 1.413834\n",
      "Train Epoch: 18 [134976/179929 (75%)]\tLoss: 1.365419\n",
      "\n",
      "Average loss on epoch 18: 1.3492229531491295\n"
     ]
    },
    {
     "data": {
      "application/vnd.jupyter.widget-view+json": {
       "model_id": "0f91f9de1555464daeb81d8bfdddca42",
       "version_major": 2,
       "version_minor": 0
      },
      "text/plain": [
       "HBox(children=(FloatProgress(value=0.0, max=707.0), HTML(value='')))"
      ]
     },
     "metadata": {},
     "output_type": "display_data"
    },
    {
     "name": "stdout",
     "output_type": "stream",
     "text": [
      "\n",
      "              precision    recall  f1-score   support\n",
      "\n",
      "           0     0.0000    0.0000    0.0000         0\n",
      "           1     0.0000    0.0000    0.0000         0\n",
      "           2     1.0000    0.8107    0.8955     45224\n",
      "           3     0.0000    0.0000    0.0000         0\n",
      "           4     0.0000    0.0000    0.0000         0\n",
      "\n",
      "    accuracy                         0.8107     45224\n",
      "   macro avg     0.2000    0.1621    0.1791     45224\n",
      "weighted avg     1.0000    0.8107    0.8955     45224\n",
      "\n",
      "Epoch 19\n"
     ]
    },
    {
     "data": {
      "application/vnd.jupyter.widget-view+json": {
       "model_id": "fa2090e5bda34cde874f4ef70fd71bb8",
       "version_major": 2,
       "version_minor": 0
      },
      "text/plain": [
       "HBox(children=(FloatProgress(value=0.0, max=2812.0), HTML(value='')))"
      ]
     },
     "metadata": {},
     "output_type": "display_data"
    },
    {
     "name": "stdout",
     "output_type": "stream",
     "text": [
      "Train Epoch: 19 [0/179929 (0%)]\tLoss: 1.161893\n",
      "Train Epoch: 19 [44992/179929 (25%)]\tLoss: 1.201112\n",
      "Train Epoch: 19 [89984/179929 (50%)]\tLoss: 1.305168\n",
      "Train Epoch: 19 [134976/179929 (75%)]\tLoss: 1.314938\n",
      "\n",
      "Average loss on epoch 19: 1.349678888705004\n"
     ]
    },
    {
     "data": {
      "application/vnd.jupyter.widget-view+json": {
       "model_id": "47c29de3d8524887a48f170c9b85cd89",
       "version_major": 2,
       "version_minor": 0
      },
      "text/plain": [
       "HBox(children=(FloatProgress(value=0.0, max=707.0), HTML(value='')))"
      ]
     },
     "metadata": {},
     "output_type": "display_data"
    },
    {
     "name": "stdout",
     "output_type": "stream",
     "text": [
      "\n",
      "              precision    recall  f1-score   support\n",
      "\n",
      "           0     0.0000    0.0000    0.0000         0\n",
      "           1     0.0000    0.0000    0.0000         0\n",
      "           2     1.0000    0.8107    0.8955     45224\n",
      "           3     0.0000    0.0000    0.0000         0\n",
      "           4     0.0000    0.0000    0.0000         0\n",
      "\n",
      "    accuracy                         0.8107     45224\n",
      "   macro avg     0.2000    0.1621    0.1791     45224\n",
      "weighted avg     1.0000    0.8107    0.8955     45224\n",
      "\n",
      "CPU times: user 49min 9s, sys: 53.7 s, total: 50min 2s\n",
      "Wall time: 4min 50s\n"
     ]
    }
   ],
   "source": [
    "%%time\n",
    "max_epochs = 20\n",
    "\n",
    "for epoch in range(len(logs['loss/train']), len(logs['loss/train']) + max_epochs):\n",
    "    \n",
    "    # Training\n",
    "    ffnet.train()\n",
    "    print('Epoch', epoch)\n",
    "    logs['loss/train'][epoch] = []\n",
    "    writer.add_scalar(\"Learning_rate\", optimizer_params['lr'], epoch)\n",
    "\n",
    "    for batch, (batch_X, batch_Y) in enumerate(tqdm(train_loader)):\n",
    "        # tranfer to GPU\n",
    "        batch_X, batch_Y = batch_X.float().to(device), batch_Y.to(device)\n",
    "        optimizer.zero_grad()\n",
    "        l = backprop(batch_X, batch_Y, ffnet, optimizer, loss_fn)\n",
    "        logs['loss/train'][epoch].append(l)\n",
    "        \n",
    "        if batch % log_interval == 0:\n",
    "            print('Train Epoch: {} [{}/{} ({:.0f}%)]\\tLoss: {:.6f}'.format(\n",
    "                epoch, batch * len(batch_X), len(train_loader.dataset),\n",
    "                100. * batch / len(train_loader), l))\n",
    "    \n",
    "    logs['loss/train'][epoch] = np.mean(logs['loss/train'][epoch])\n",
    "    writer.add_scalar(\"Loss/train\", logs['loss/train'][epoch], epoch)\n",
    "    print(f'Average loss on epoch {epoch}: {logs[\"loss/train\"][epoch]}')\n",
    "    \n",
    "    # Validation\n",
    "    ffnet.eval()\n",
    "    with torch.no_grad():\n",
    "        preds = []\n",
    "        gt = []\n",
    "        for batch, (batch_X, batch_Y) in enumerate(tqdm(dev_loader)):\n",
    "            # Transfer to GPU\n",
    "            batch_X = batch_X.float().to(device)\n",
    "            output = nn.Softmax(dim=1)(ffnet(batch_X))\n",
    "            preds.append(output.cpu())\n",
    "            gt.append(batch_Y)\n",
    "    \n",
    "        all_out = [np.argmax(l) for batch in preds for l in batch.numpy()]\n",
    "        all_gt  = [l for batch in gt for l in batch.numpy()]\n",
    "        \n",
    "        print(classification_report(all_out, all_gt, digits=4))\n",
    "        micro_F1 = metrics.f1_score(all_gt, all_out, average='micro')\n",
    "        macro_F1 = metrics.f1_score(all_gt, all_out, average='macro')\n",
    "        weighted_F1 = metrics.f1_score(all_gt, all_out, average='weighted')\n",
    "        writer.add_scalar(\"micro_F1/dev\", micro_F1, epoch)\n",
    "        writer.add_scalar(\"macro_F1/dev\", macro_F1, epoch)\n",
    "        writer.add_scalar(\"weighted_F1/dev\", weighted_F1, epoch)\n",
    "        logs['dev'][epoch] = (micro_F1, weighted_F1, macro_F1, (all_gt, all_out))"
   ]
  },
  {
   "cell_type": "code",
   "execution_count": 28,
   "metadata": {},
   "outputs": [
    {
     "data": {
      "application/vnd.jupyter.widget-view+json": {
       "model_id": "1e939e770264476c82637b8e11e20e9d",
       "version_major": 2,
       "version_minor": 0
      },
      "text/plain": [
       "HBox(children=(FloatProgress(value=0.0, max=643.0), HTML(value='')))"
      ]
     },
     "metadata": {},
     "output_type": "display_data"
    },
    {
     "name": "stdout",
     "output_type": "stream",
     "text": [
      "\n",
      "              precision    recall  f1-score   support\n",
      "\n",
      "           0     0.0000    0.0000    0.0000         0\n",
      "           1     0.0000    0.0000    0.0000         0\n",
      "           2     1.0000    0.8027    0.8905     41090\n",
      "           3     0.0000    0.0000    0.0000         0\n",
      "           4     0.0000    0.0000    0.0000         0\n",
      "\n",
      "    accuracy                         0.8027     41090\n",
      "   macro avg     0.2000    0.1605    0.1781     41090\n",
      "weighted avg     1.0000    0.8027    0.8905     41090\n",
      "\n"
     ]
    }
   ],
   "source": [
    "ffnet.eval()\n",
    "with torch.no_grad():\n",
    "    preds = []\n",
    "    gt = []\n",
    "    for batch, (batch_X, batch_Y) in enumerate(tqdm(test_loader)):\n",
    "        # Transfer to GPU\n",
    "        batch_X = batch_X.float().to(device)\n",
    "        output = nn.Softmax(dim=1)(ffnet(batch_X))\n",
    "        preds.append(output.cpu())\n",
    "        gt.append(batch_Y)\n",
    "\n",
    "    all_out = [np.argmax(l) for batch in preds for l in batch.numpy()]\n",
    "    all_gt  = [l for batch in gt for l in batch.numpy()]\n",
    "\n",
    "    print(classification_report(all_out, all_gt, digits=4))"
   ]
  },
  {
   "cell_type": "code",
   "execution_count": null,
   "metadata": {},
   "outputs": [],
   "source": []
  }
 ],
 "metadata": {
  "kernelspec": {
   "display_name": "Python 3",
   "language": "python",
   "name": "python3"
  },
  "language_info": {
   "codemirror_mode": {
    "name": "ipython",
    "version": 3
   },
   "file_extension": ".py",
   "mimetype": "text/x-python",
   "name": "python",
   "nbconvert_exporter": "python",
   "pygments_lexer": "ipython3",
   "version": "3.8.2"
  }
 },
 "nbformat": 4,
 "nbformat_minor": 4
}
